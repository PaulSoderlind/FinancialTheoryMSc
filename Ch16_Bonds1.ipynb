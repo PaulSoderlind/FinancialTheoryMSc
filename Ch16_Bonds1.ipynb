{
 "cells": [
  {
   "cell_type": "markdown",
   "metadata": {},
   "source": [
    "# Bonds 1 \n",
    "\n",
    "This notebook discusses bond price, interest rates, forward rates, yield to maturity and (as extra material) estimates the yield curve."
   ]
  },
  {
   "cell_type": "markdown",
   "metadata": {},
   "source": [
    "## Load Packages and Extra Functions"
   ]
  },
  {
   "cell_type": "code",
   "execution_count": 1,
   "metadata": {},
   "outputs": [
    {
     "data": {
      "text/plain": [
       "printyellow (generic function with 1 method)"
      ]
     },
     "execution_count": 1,
     "metadata": {},
     "output_type": "execute_result"
    }
   ],
   "source": [
    "using Printf, Roots\n",
    "\n",
    "include(\"jlFiles/printmat.jl\")"
   ]
  },
  {
   "cell_type": "code",
   "execution_count": 2,
   "metadata": {},
   "outputs": [],
   "source": [
    "using Plots\n",
    "\n",
    "#pyplot(size=(600,400))\n",
    "gr(size=(480,320))\n",
    "default(fmt = :png)"
   ]
  },
  {
   "cell_type": "markdown",
   "metadata": {},
   "source": [
    "# Interest Rate vs (Zero Coupon) Bond Price\n",
    "\n",
    "Zero coupon bonds (also called bills) have very simple cash flows: buy the bond now and get the face value (here normalised to 1) at maturity.\n",
    "\n",
    "The bond price (for maturity $m$) is a function of the effective interest rate\n",
    "\n",
    "$B = (1+Y)^{-m}$\n",
    "\n",
    "and the inverse is $Y = B^{-1/m} - 1$.\n",
    "\n",
    "Instead, with a continuously compounded interest rate we have \n",
    "\n",
    "$B = e^{-m y}$\n",
    "\n",
    "and $y = -(\\ln B)/m$.\n",
    "\n",
    "These expressions are coded up as short functions in the next cell."
   ]
  },
  {
   "cell_type": "code",
   "execution_count": 3,
   "metadata": {},
   "outputs": [
    {
     "data": {
      "text/plain": [
       "ContCompRate"
      ]
     },
     "execution_count": 3,
     "metadata": {},
     "output_type": "execute_result"
    }
   ],
   "source": [
    "\"\"\"\n",
    "Zero coupon bond/bill price B as a function of Y and m\n",
    "\"\"\"\n",
    "BillPrice(Y,m) = (1+Y)^(-m)\n",
    "\n",
    "\"\"\"\n",
    "Effective interest rate Y as a function of B and m\n",
    "\"\"\"\n",
    "EffRate(B,m)   = B^(-1/m) - 1\n",
    "\n",
    "\"\"\"\n",
    "Zero coupon bond/bill price B as a function of y and m\n",
    "\"\"\"\n",
    "BillPrice2(y,m)   = exp(-m*y)\n",
    "\n",
    "\"\"\"\n",
    "Continuously compounded interest rate y as a function of B and m\n",
    "\"\"\"\n",
    "ContCompRate(B,m) = -log(B)/m"
   ]
  },
  {
   "cell_type": "markdown",
   "metadata": {},
   "source": [
    "Long-maturity bonds are more sensitive to interest rate changes than short-maturity bonds, as illustrated by the plot below."
   ]
  },
  {
   "cell_type": "code",
   "execution_count": 4,
   "metadata": {},
   "outputs": [
    {
     "data": {
      "image/png": "[encoded data removed]"
     },
     "metadata": {},
     "output_type": "display_data"
    }
   ],
   "source": [
    "Y_range = 0:0.01:0.07              #different interest rates\n",
    "B1      = BillPrice.(Y_range,1)    #prices at different interest rates, 1-year zero coupon bond \n",
    "B10     = BillPrice.(Y_range,10)   #10-year bond\n",
    "\n",
    "p1 = plot( Y_range,[B1 B10],\n",
    "           linecolor = [:red :green],\n",
    "           linestyle = [:solid :dash],\n",
    "           linewidth = 2,\n",
    "           label = [\"1y\" \"10y\"],\n",
    "           legend = :right,\n",
    "           title = \"Bond prices and rates\",\n",
    "           xlabel = \"Interest rate\",\n",
    "           ylabel = \"Bond price\" )\n",
    "display(p1)"
   ]
  },
  {
   "cell_type": "markdown",
   "metadata": {},
   "source": [
    "Effective and continuously compounded interest rates are fairly similar, but start to diverge at high rates."
   ]
  },
  {
   "cell_type": "code",
   "execution_count": 5,
   "metadata": {},
   "outputs": [
    {
     "name": "stdout",
     "output_type": "stream",
     "text": [
      "\u001b[34m\u001b[1mInterest rates (0.5-year bond with a price of 0.95):\u001b[22m\u001b[39m\n",
      "Effective                   0.108\n",
      "Continuously compounded     0.103\n",
      "\n"
     ]
    }
   ],
   "source": [
    "m  = 0.5                              #maturity\n",
    "B  = 0.95                             #bond price\n",
    "\n",
    "Y = EffRate(B,m)                      #effective interest rate\n",
    "y = ContCompRate(B,m)                 #continuously compounded interest rate\n",
    "\n",
    "printblue(\"Interest rates ($m-year bond with a price of $B):\")\n",
    "printmat([Y,y],rowNames= [\"Effective\",\"Continuously compounded\"])"
   ]
  },
  {
   "cell_type": "markdown",
   "metadata": {},
   "source": [
    "# Bond Returns (Zero Coupon Bonds)"
   ]
  },
  {
   "cell_type": "markdown",
   "metadata": {},
   "source": [
    "Let $B_0$ be the bond price in period $0$ and $B_s$ the price of the same bond $s$ periods later.\n",
    "The *log* return of holding this bond is $\\ln (B_s/B_0)$.\n",
    "\n",
    "In the computations below, the time to maturity is assumed to be the same in $t=0$ and $t=s$. This is a reasonable approximation if $s$ are a few days or perhaps weeks, while time to maturity is much longer. Also, we let $B_0$ and $B_s$ be vectors with prices for different maturities."
   ]
  },
  {
   "cell_type": "code",
   "execution_count": 6,
   "metadata": {},
   "outputs": [
    {
     "name": "stdout",
     "output_type": "stream",
     "text": [
      "\u001b[34m\u001b[1mAnalysis of two bonds: 1y and 10y maturities\u001b[22m\u001b[39m\n",
      "                        1-year        10-year\n",
      "Rate, t=0                0.005          0.005\n",
      "Bond price, t=0          0.995          0.951\n",
      "Rate, t=1                0.015          0.015\n",
      "Bond price, t=1          0.985          0.861\n",
      "Return                  -0.010         -0.100\n",
      "\n",
      "\u001b[31m\u001b[1mNotice that the return is -m*Δy\u001b[22m\u001b[39m\n"
     ]
    }
   ],
   "source": [
    "y₀ = 0.005                      #(continuously compounded) interest rate before\n",
    "yₛ = 0.015                       #interest rate after  \n",
    "\n",
    "B₀ = BillPrice2.([y₀ y₀],[1 10])  #bond prices (1-year and 10 year) before, same interest rates\n",
    "Bₛ = BillPrice2.([yₛ yₛ],[1 10])    #bond prices (1-year and 10 year) after\n",
    "\n",
    "Rₛ = log.(Bₛ./B₀)                 #returns\n",
    "\n",
    "\n",
    "xy       = vcat([y₀ y₀],B₀,[yₛ yₛ],Bₛ,Rₛ)               #to table\n",
    "rowNames = [\"Rate, t=0\";\"Bond price, t=0\";\"Rate, t=1\";\"Bond price, t=1\";\"Return\"]\n",
    "printblue(\"Analysis of two bonds: 1y and 10y maturities\")\n",
    "printmat(xy,colNames=[\"1-year\";\"10-year\"],rowNames=rowNames,width=15)\n",
    "\n",
    "printred(\"Notice that the return is -m*Δy\")"
   ]
  },
  {
   "cell_type": "markdown",
   "metadata": {},
   "source": [
    "# Forward Rates"
   ]
  },
  {
   "cell_type": "markdown",
   "metadata": {},
   "source": [
    "From the forward-spot parity, the forward price of a bond (delivered in $m$ and maturing in $n$) is\n",
    "\n",
    "$F=\\left[  1+Y(m)\\right]  ^{m}B(n)=B(n)/B(m)$.\n",
    "\n",
    "A forward interest rate can then be defined as \n",
    "\n",
    "$\\Gamma(m,n) = F^{-1/(n-m)} - 1$.\n",
    "\n",
    "This is a way to lock in the rate for a loan between two future periods ($m$ and $n$)."
   ]
  },
  {
   "cell_type": "code",
   "execution_count": 7,
   "metadata": {},
   "outputs": [
    {
     "data": {
      "text/plain": [
       "ForwardRate"
      ]
     },
     "execution_count": 7,
     "metadata": {},
     "output_type": "execute_result"
    }
   ],
   "source": [
    "\"\"\"\n",
    "    ForwardRate(Ym,m,Yn,n)\n",
    "\n",
    "Calculate late forward rate for the investment period m to n (where m<n).\n",
    "\n",
    "# Input\n",
    "- Ym: interest rate for maturity m\n",
    "- m: maturity m\n",
    "- Yn: interest rate for maturity n \n",
    "- n: maturity n\n",
    "\n",
    "\"\"\"\n",
    "function ForwardRate(Ym,m,Yn,n)           #forward rate\n",
    "    (m>=n) && error(\"m<n is required\")\n",
    "    Bm = (1+Ym)^(-m)\n",
    "    Bn = (1+Yn)^(-n)\n",
    "    F  = Bn/Bm\n",
    "    Γ  = F^(-1/(n-m)) - 1\n",
    "    return Γ\n",
    "end"
   ]
  },
  {
   "cell_type": "code",
   "execution_count": 8,
   "metadata": {},
   "outputs": [
    {
     "name": "stdout",
     "output_type": "stream",
     "text": [
      "\n",
      "Implied forward rate (0.5-year -> 0.75-year):      0.070\n"
     ]
    }
   ],
   "source": [
    "(m,n,Ym,Yn) = (0.5,0.75,0.04,0.05)\n",
    "\n",
    "Γ = ForwardRate(Ym,m,Yn,n)\n",
    "printlnPs(\"\\nImplied forward rate ($m-year -> $n-year): \",Γ)"
   ]
  },
  {
   "cell_type": "markdown",
   "metadata": {},
   "source": [
    "# Coupon Bond Prices"
   ]
  },
  {
   "cell_type": "markdown",
   "metadata": {},
   "source": [
    "Recall that a coupon bond price $P$ is the portfolio value\n",
    "\n",
    "$P = \\sum_{k=1}^{K} B(m_k)cf_k$,\n",
    "\n",
    "where $cf_k$ is the cash flow in period $m_k$ and $B(m_k)$ is the price of a zero-coupon bond maturing in the same period. Often, the last cash flow includes also the payment of the face value."
   ]
  },
  {
   "cell_type": "code",
   "execution_count": 9,
   "metadata": {},
   "outputs": [
    {
     "name": "stdout",
     "output_type": "stream",
     "text": [
      "\n",
      "\u001b[34m\u001b[1m2-year bond with 0.06 coupon:\u001b[22m\u001b[39m\n",
      "1-year zero coupon bond price     0.950\n",
      "2-year zero coupon bond price     0.900\n",
      "coupon bond price                 1.011\n",
      "\n"
     ]
    }
   ],
   "source": [
    "B  = [0.95,0.9]             #B(1),B(2)\n",
    "c  = 0.06\n",
    "cf = [c,1+c]                #cash flows in m=1 and 2\n",
    "\n",
    "P = sum(B.*cf)\n",
    "\n",
    "printblue(\"\\n2-year bond with $c coupon:\")\n",
    "rowNames = [\"1-year zero coupon bond price\",\"2-year zero coupon bond price\",\"coupon bond price\"]\n",
    "printmat([B;P];rowNames)        #;rowNames is the same as ,rowNames=rowNames"
   ]
  },
  {
   "cell_type": "markdown",
   "metadata": {},
   "source": [
    "The bond price can also be written\n",
    "\n",
    "$P = \\sum_{k=1}^{K} \\frac{cf_{k}}{\\left[  1+Y(m_{k})\\right]  ^{m_{k}}}$.\n",
    "\n",
    "The ```BondPrice3()``` function below can handle both the case when $Y$ is a vector with different values for different maturities and when Y is a scalar (same interest rate for all maturities)."
   ]
  },
  {
   "cell_type": "code",
   "execution_count": 10,
   "metadata": {},
   "outputs": [
    {
     "data": {
      "text/plain": [
       "BondPrice3"
      ]
     },
     "execution_count": 10,
     "metadata": {},
     "output_type": "execute_result"
    }
   ],
   "source": [
    "\"\"\"\n",
    "    BondPrice3(Y,cf,m)\n",
    "\n",
    "Calculate bond price as sum of discounted cash flows.\n",
    "\n",
    "# Input: \n",
    "- Y:  scalar or K vector of interest rates\n",
    "- cf: K vector of cash flows\n",
    "- m:  K vector of times for the cash flows\n",
    "\"\"\"\n",
    "function BondPrice3(Y,cf,m)              #cf is a vector of all cash flows at times m\n",
    "    (length(cf) != length(m)) && error(\"BondPrice3: cf and m must have the same lengths\") \n",
    "    cdisc = cf./((1.0.+Y).^m)            #cf1/(1+Y1)^m1, cf2/(1+Y2)^m2 + ...\n",
    "    P     = sum(cdisc)                   #price\n",
    "    return P\n",
    "end"
   ]
  },
  {
   "cell_type": "code",
   "execution_count": 11,
   "metadata": {},
   "outputs": [
    {
     "name": "stdout",
     "output_type": "stream",
     "text": [
      "\n",
      "\u001b[34m\u001b[1m2-year bond with 0.06 coupon:\u001b[22m\u001b[39m\n",
      "1-year spot rate      0.053\n",
      "2-year spot rate      0.054\n",
      "coupon bond price     1.011\n",
      "\n",
      "\n",
      "\u001b[34m\u001b[1m2-year bond with 0.09 coupon (in a case with different spot rates):\u001b[22m\u001b[39m\n",
      "1-year spot rate      0.060\n",
      "2-year spot rate      0.091\n",
      "coupon bond price     1.001\n",
      "\n"
     ]
    }
   ],
   "source": [
    "Y = [0.053,0.054]\n",
    "c = 0.06\n",
    "P =  BondPrice3(Y,[c,c+1],[1,2])\n",
    "printblue(\"\\n2-year bond with $c coupon:\")\n",
    "rowNames = [\"1-year spot rate\",\"2-year spot rate\",\"coupon bond price\"]\n",
    "printmat([Y;P];rowNames)\n",
    "\n",
    "Y = [0.06,0.091]\n",
    "c = 0.09\n",
    "P =  BondPrice3(Y,[c,c+1],[1,2])\n",
    "printblue(\"\\n2-year bond with $c coupon (in a case with different spot rates):\")\n",
    "printmat([Y;P];rowNames)"
   ]
  },
  {
   "cell_type": "markdown",
   "metadata": {},
   "source": [
    "# Yield to Maturity"
   ]
  },
  {
   "cell_type": "markdown",
   "metadata": {},
   "source": [
    "The yield to maturity (ytm) is the $\\theta$ that solves\n",
    "\n",
    "$P = \\sum_{k=1}^{K} \\frac{cf_{k}}{(1+\\theta)  ^{m_{k}}}$.\n",
    "\n",
    "We typically have to find $\\theta$ by a numerical method.\n",
    "\n",
    "### A Remark on the Code\n",
    "- The [Roots.jl](https://github.com/JuliaMath/Roots.jl) package is used to find the ytm.\n",
    "- The `find_zero(fn,(lower,upper))` finds a root of the function `fn` in the interval `(lower,upper)`.\n",
    "- The function is here `θ->BondPrice3(θ,cf,m)-P`. This expression creates an anonymous function that takes `θ` as the only argument, and calculates the difference between the price according to `BondPrice3(θ,cf,m)` and `P`. The ytm `θ` makes this zero."
   ]
  },
  {
   "cell_type": "code",
   "execution_count": 12,
   "metadata": {},
   "outputs": [
    {
     "name": "stdout",
     "output_type": "stream",
     "text": [
      "\u001b[34m\u001b[1mPrice and ytm of 2-year 0.04 coupon bond when all spot rates are 0.03:\u001b[22m\u001b[39m\n",
      "price     1.019\n",
      "ytm       0.030\n",
      "\n"
     ]
    }
   ],
   "source": [
    "c  = 0.04                  #simple case\n",
    "Y  = 0.03                  #all spot rates are 3%\n",
    "m  = [1,2]                 #time of cash flows\n",
    "cf = [c,c+1]               #cash flows\n",
    "\n",
    "P = BondPrice3(Y,cf,m)\n",
    "ytm = find_zero(θ->BondPrice3(θ,cf,m)-P,(-0.1,0.1))   #solving for ytm\n",
    "\n",
    "printblue(\"Price and ytm of 2-year $c coupon bond when all spot rates are $Y:\")\n",
    "printmat([P,ytm],rowNames=[\"price\",\"ytm\"])"
   ]
  },
  {
   "cell_type": "code",
   "execution_count": 13,
   "metadata": {},
   "outputs": [
    {
     "name": "stdout",
     "output_type": "stream",
     "text": [
      "\u001b[34m\u001b[1m \"bond\" paying 1 in both t=1 and in t=3\u001b[22m\u001b[39m\n",
      "1-year spot rate     0.070\n",
      "3-year spot rate     0.100\n",
      "ytm                  0.091\n",
      "\n"
     ]
    }
   ],
   "source": [
    "m  = [1,3]                #cash flow in year 1 and 3\n",
    "cf = [1,1]                #cash flows\n",
    "Y  = [0.07,0.10]          #spot interest rates differ across maturities\n",
    "\n",
    "P  = BondPrice3(Y,cf,m)\n",
    "ytm = find_zero(y->BondPrice3(y,cf,m)-P,(-0.2,0.2))\n",
    "\n",
    "printblue(\"\"\" \"bond\" paying 1 in both t=1 and in t=3\"\"\")\n",
    "printmat([Y;ytm],rowNames=[\"1-year spot rate\",\"3-year spot rate\",\"ytm\"])"
   ]
  },
  {
   "cell_type": "markdown",
   "metadata": {},
   "source": [
    "# Bootstrapping (extra)"
   ]
  },
  {
   "cell_type": "markdown",
   "metadata": {},
   "source": [
    "With information about coupons $c(m)$ and coupon bond price $P(m)$, we solve for the implied zero coupon bond prices $B(s)$ from a system like (here with just 2 maturities)\n",
    "\n",
    "$$\n",
    "\\begin{bmatrix}\n",
    "P(1)\\\\\n",
    "P(2)\n",
    "\\end{bmatrix} =\n",
    "\\begin{bmatrix}\n",
    "c(1)+1 & 0 \\\\\n",
    "c(2) & c(2)+1\n",
    "\\end{bmatrix}\n",
    "\\begin{bmatrix}\n",
    "B(1)\\\\\n",
    "B(2)\n",
    "\\end{bmatrix}\n",
    "$$"
   ]
  },
  {
   "cell_type": "code",
   "execution_count": 14,
   "metadata": {},
   "outputs": [
    {
     "name": "stdout",
     "output_type": "stream",
     "text": [
      "The cash flow matrix\n",
      "          time 1    time 2\n",
      "Bond 1     1.000     0.000\n",
      "Bond 2     0.060     1.060\n",
      "\n",
      "B from solving P = cfMat*B (implied zero-coupon bond prices):\n",
      "     0.950\n",
      "     0.899\n",
      "\n",
      "Implied spot interest rates:\n",
      "     0.053\n",
      "     0.055\n",
      "\n"
     ]
    }
   ],
   "source": [
    "c     = [0,0.06]\n",
    "P     = [0.95,1.01]                 #coupon bond prices\n",
    "m     = [1,2]                       #time of coupon payments\n",
    "cfMat = [1    0     ;               #cash flow matrix\n",
    "         c[2] 1+c[2]]\n",
    "\n",
    "println(\"The cash flow matrix\")\n",
    "printmat(cfMat,colNames=[\"time 1\";\"time 2\"],rowNames=[\"Bond 1\";\"Bond 2\"])\n",
    "\n",
    "println(\"B from solving P = cfMat*B (implied zero-coupon bond prices):\")\n",
    "B = cfMat\\P\n",
    "printmat(B)\n",
    "\n",
    "Y = EffRate.(B,m)            #solve for the implied spot rates\n",
    "println(\"Implied spot interest rates:\")\n",
    "printmat(Y)"
   ]
  },
  {
   "cell_type": "markdown",
   "metadata": {},
   "source": [
    "# Estimating Yield Curve with Regression Analysis (extra)"
   ]
  },
  {
   "cell_type": "markdown",
   "metadata": {},
   "source": [
    "Recall: with a quadratic discount function\n",
    "\n",
    "$B(m)=a_{0}+a_{1}m+a_{2}m^{2}$,\n",
    "\n",
    "we can write the coupon bond price \n",
    "\n",
    "$P(m_{K})   =\\sum_{k=1}^{K}B(m_{k})c+B(m_{K})$\n",
    "as \n",
    "\n",
    "$P(m_{K})   =\\sum_{k=1}^{K}(a_{0}+a_{1}m_{k}+a_{2}m_{k}^{2})c + \n",
    "(a_{0}+a_{1}m_{K}+a_{2}m_{K}^{2})$\n",
    "\n",
    "Collect terms as \n",
    "\n",
    "$\n",
    "P(m_{K})  =a_{0} (Kc+1) +\n",
    "a_{1}(c \\sum_{k=1}^{K} m_{k}+m_{K}) +\n",
    "a_{2}(c \\sum_{k=1}^{K} m_{k}^{2}+m_{K}^{2})$\n",
    "\n",
    "We estimate $(a_0,a_1,a_2)$ by using the terms (within parentheses) as regressors."
   ]
  },
  {
   "cell_type": "code",
   "execution_count": 15,
   "metadata": {},
   "outputs": [
    {
     "name": "stdout",
     "output_type": "stream",
     "text": [
      "regressors:\n",
      "          term 0    term 1    term 2\n",
      "Bond 1     1.000     1.000     1.000\n",
      "Bond 2     1.120     2.180     4.300\n",
      "\n",
      "regression coefficients\n",
      "     0.693\n",
      "     0.411\n",
      "    -0.154\n",
      "\n",
      "maturities  fitted B\n",
      "     1         0.950\n",
      "     2         0.899\n",
      "     3         0.540\n",
      "     4        -0.126\n",
      "     5        -1.101\n",
      "\n",
      "\u001b[31m\u001b[1mBtw. do B[4:5] make sense? If not, what does that teach us?\u001b[22m\u001b[39m\n",
      "\n",
      "maturities  fitted Y\n",
      "     1         0.053\n",
      "     2         0.055\n",
      "\n"
     ]
    }
   ],
   "source": [
    "n = length(P)\n",
    "x = zeros(n,3)                      #create regressors for quadratic model: 3 columns\n",
    "for i = 1:n                         #x[i,j] is for bond i, regressor j\n",
    "    x[i,1] = m[i]*c[i] + 1\n",
    "    x[i,2] = c[i]*sum(m[1]:m[i]) + m[i]\n",
    "    x[i,3] = c[i]*sum(abs2,m[1]:m[i]) + m[i]^2    #sum(abs2,x) is the same as sum(x.^2)\n",
    "end\n",
    "\n",
    "println(\"regressors:\")\n",
    "printmat(x,colNames=[\"term 0\";\"term 1\";\"term 2\"],rowNames=[\"Bond 1\";\"Bond 2\"])\n",
    "\n",
    "a = x\\P                             #regress P on x\n",
    "println(\"regression coefficients\")\n",
    "printmat(a)\n",
    "\n",
    "m = 1:5\n",
    "B = [ones(length(m)) m m.^2]*a      #fitted discount function\n",
    "\n",
    "printmat(m,B,colNames=[\"maturities\",\"fitted B\"])\n",
    "printred(\"Btw. do B[4:5] make sense? If not, what does that teach us?\\n\")\n",
    "\n",
    "Y = EffRate.(B[1:2],m[1:2])         #solve for the implied spot rates \n",
    "printmat(m[1:2],Y,colNames=[\"maturities\",\"fitted Y\"])"
   ]
  },
  {
   "cell_type": "code",
   "execution_count": null,
   "metadata": {},
   "outputs": [],
   "source": []
  }
 ],
 "metadata": {
  "@webio": {
   "lastCommId": null,
   "lastKernelId": null
  },
  "anaconda-cloud": {},
  "kernelspec": {
   "display_name": "Julia 1.8.0",
   "language": "julia",
   "name": "julia-1.8"
  },
  "language_info": {
   "file_extension": ".jl",
   "mimetype": "application/julia",
   "name": "julia",
   "version": "1.8.0"
  }
 },
 "nbformat": 4,
 "nbformat_minor": 4
}
