{
 "cells": [
  {
   "cell_type": "markdown",
   "metadata": {},
   "source": [
    "# Mean Variance Frontier with Short Sales Constraints"
   ]
  },
  {
   "cell_type": "markdown",
   "metadata": {},
   "source": [
    "This notebook alculates mean variances frontiers for two cases *(1)* when there are no restrictions on the portfolio weights and *(2)* when we impose the restriction that no weights can be negative.\n",
    "\n",
    "The latter case requires a numerical minimization routine which comes from the packages [Convex.jl](https://github.com/jump-dev/Convex.jl) (for the interface) and [SCS.jl](https://github.com/jump-dev/SCS.jl) (for the optimization algorithm)."
   ]
  },
  {
   "cell_type": "markdown",
   "metadata": {},
   "source": [
    "## Load Packages and Utility Functions"
   ]
  },
  {
   "cell_type": "code",
   "execution_count": 1,
   "metadata": {},
   "outputs": [
    {
     "data": {
      "text/plain": [
       "printyellow (generic function with 1 method)"
      ]
     },
     "execution_count": 1,
     "metadata": {},
     "output_type": "execute_result"
    }
   ],
   "source": [
    "using Printf, LinearAlgebra, Convex, SCS\n",
    "\n",
    "include(\"jlFiles/printmat.jl\")"
   ]
  },
  {
   "cell_type": "code",
   "execution_count": 2,
   "metadata": {},
   "outputs": [],
   "source": [
    "using Plots\n",
    "\n",
    "#pyplot(size=(600,400))       #use pyplot or gr\n",
    "gr(size=(480,320))\n",
    "default(fmt = :png)"
   ]
  },
  {
   "cell_type": "markdown",
   "metadata": {},
   "source": [
    "# Traditional MV Calculations \n",
    "\n",
    "(no constraints)"
   ]
  },
  {
   "cell_type": "code",
   "execution_count": 3,
   "metadata": {},
   "outputs": [
    {
     "name": "stdout",
     "output_type": "stream",
     "text": [
      "\u001b[34m\u001b[1mμ:\u001b[22m\u001b[39m\n",
      "A     0.115\n",
      "B     0.095\n",
      "C     0.060\n",
      "\n",
      "\u001b[34m\u001b[1mΣ:\u001b[22m\u001b[39m\n",
      "          A         B         C\n",
      "A     0.017     0.003     0.006\n",
      "B     0.003     0.006     0.000\n",
      "C     0.006     0.000     0.010\n",
      "\n",
      "\u001b[34m\u001b[1mRf:\u001b[22m\u001b[39m\n",
      "     0.030\n"
     ]
    }
   ],
   "source": [
    "μ = [11.5, 9.5, 6]/100      #expected returns\n",
    "Σ = [166  34  58;           #covariance matrix\n",
    "      34  64   4;\n",
    "      58   4 100]/100^2\n",
    "Rf = 0.03\n",
    "\n",
    "assetNames = [\"A\",\"B\",\"C\"]\n",
    "printblue(\"μ:\")\n",
    "printmat(μ,rowNames=assetNames)\n",
    "\n",
    "printblue(\"Σ:\")\n",
    "printmat(Σ,rowNames=assetNames,colNames=assetNames)\n",
    "\n",
    "printblue(\"Rf:\")\n",
    "printlnPs(Rf)"
   ]
  },
  {
   "cell_type": "markdown",
   "metadata": {},
   "source": [
    "## From Chapter on MV Analysis\n",
    "\n",
    "The file included below contains the function `MVCalc()` from the chapter on MV analysis."
   ]
  },
  {
   "cell_type": "code",
   "execution_count": 4,
   "metadata": {},
   "outputs": [
    {
     "data": {
      "text/plain": [
       "MVTangencyP"
      ]
     },
     "execution_count": 4,
     "metadata": {},
     "output_type": "execute_result"
    }
   ],
   "source": [
    "include(\"jlFiles/MvCalculations.jl\")"
   ]
  },
  {
   "cell_type": "code",
   "execution_count": 5,
   "metadata": {},
   "outputs": [
    {
     "data": {
      "image/png": "[encoded data removed]"
     },
     "metadata": {},
     "output_type": "display_data"
    }
   ],
   "source": [
    "μstar_range = range(0.04,0.15,length=201)\n",
    "L           = length(μstar_range)\n",
    "\n",
    "StdRₚ  = fill(NaN,L)\n",
    "for i = 1:L\n",
    "    StdRₚ[i] = MVCalc(μstar_range[i],μ,Σ)[1]\n",
    "end\n",
    "\n",
    "p1 = plot( StdRₚ*100,μstar_range*100,\n",
    "           linecolor = :red,\n",
    "           linewidth = 2,\n",
    "           label = \"MVF\",\n",
    "           legend = :topleft,\n",
    "           xlim = (0,15),\n",
    "           ylim = (0,15),\n",
    "           title = \"MVF (no portfolio constraints)\",\n",
    "           xlabel = \"Std(Rₚ), %\",\n",
    "           ylabel = \"ERₚ, %\" )\n",
    "scatter!(sqrt.(diag(Σ))*100,μ*100,color=:red,label=\"assets\")\n",
    "display(p1)"
   ]
  },
  {
   "cell_type": "markdown",
   "metadata": {},
   "source": [
    "# MV Frontier when Short Sales are Not Allowed\n",
    "\n",
    "The code below solves the following minimization problem \n",
    "\n",
    "$\\min \\text{Var}(R_p) \\: \\text{ s.t. } \\: \\text{E}R_p = \\mu^*$,\n",
    " \n",
    "and where we also require $w_i\\ge 0$ and $\\sum_{i=1}^{n}w_{i}=1$. The function takes a vector `μstar_range` as input and loops over the $\\mu^* = $ `μstar_range[i]` values.\n",
    "\n",
    "It is straightforward to add other constraints, for instance, that all weights are between 0 and 0.5."
   ]
  },
  {
   "cell_type": "code",
   "execution_count": 6,
   "metadata": {},
   "outputs": [
    {
     "data": {
      "text/plain": [
       "MeanVarNoSSPs"
      ]
     },
     "execution_count": 6,
     "metadata": {},
     "output_type": "execute_result"
    }
   ],
   "source": [
    "\"\"\"\n",
    "    MeanVarNoSSPs(μ,Σ,μstar_range)\n",
    "\n",
    "Calculate mean variance frontier when short sales are not allowed, using Convex and SCS\n",
    "\n",
    "\n",
    "# Input\n",
    "- `μ::Vector`:           n vector, mean returns\n",
    "- `Σ::Matrix`:           nxn, covariance matrix of returns, can contain riskfree assets\n",
    "- `μstar_range::Vector`: K vector, mean returns to calculate results for\n",
    "\n",
    "# Output\n",
    "- `StdRp::Vector`:    K vector, standard deviation of mean-variance portfolio (risky only) with mean μstar_range\n",
    "- `w_p::Matrix`:      Kxn, portfolio weights of       \"\"\n",
    "\n",
    "# Requires\n",
    "- Convex and SCS\n",
    "\n",
    "\"\"\"\n",
    "function MeanVarNoSSPs(μ,Σ,μstar_range)   #MV with no short-sales, numerical minimization\n",
    "\n",
    "    (K,n) = (length(μstar_range),length(μ))\n",
    "\n",
    "    n    = length(μ)\n",
    "    vv   = findall( minimum(μ) .<= μstar_range .<= maximum(μ) )  #solve only if feasible\n",
    "\n",
    "    w    = Variable(n)\n",
    "    Varp = quadform(w,Σ)\n",
    "    c1   = sum(w) == 1\n",
    "    c3   = 0 <= w                    #replace 0 and 1 to get other restrictions\n",
    "    c4   = w <= 1\n",
    "\n",
    "    (w_p,StdRp) = (fill(NaN,K,n),fill(NaN,K))\n",
    "    for i in vv         #loop over (feasible) μstar_range elements\n",
    "        c2      = dot(w,μ) == μstar_range[i]\n",
    "        problem = minimize(Varp,c1,c2,c3,c4)\n",
    "        solve!(problem,SCS.Optimizer;silent_solver = true)\n",
    "        if problem.status == Convex.MOI.OPTIMAL    #check if solution has been found\n",
    "            w_p[i,:] = evaluate(w)\n",
    "            StdRp[i] = sqrt(evaluate(Varp))\n",
    "        end\n",
    "    end\n",
    "\n",
    "    return StdRp, w_p\n",
    "\n",
    "end"
   ]
  },
  {
   "cell_type": "code",
   "execution_count": 7,
   "metadata": {},
   "outputs": [
    {
     "data": {
      "text/plain": [
       "([0.07659985917822355], [0.2881468959612921 0.6900548416514493 0.02179826598000346])"
      ]
     },
     "execution_count": 7,
     "metadata": {},
     "output_type": "execute_result"
    }
   ],
   "source": [
    "MeanVarNoSSPs(μ,Σ,0.10)    #testing the function, the first run is slow"
   ]
  },
  {
   "cell_type": "code",
   "execution_count": 8,
   "metadata": {},
   "outputs": [],
   "source": [
    "StdRₚ_no_ss = MeanVarNoSSPs(μ,Σ,μstar_range)[1];"
   ]
  },
  {
   "cell_type": "code",
   "execution_count": 9,
   "metadata": {},
   "outputs": [
    {
     "data": {
      "image/png": "[encoded data removed]"
     },
     "metadata": {},
     "output_type": "display_data"
    }
   ],
   "source": [
    "p1 = plot( [StdRₚ StdRₚ_no_ss]*100,μstar_range*100,\n",
    "           linecolor = [:red :green],\n",
    "           linestyle = [:solid :dash],\n",
    "           linewidth = 2,\n",
    "           label = [\"no constraints\" \"no short sales\"],\n",
    "           xlim = (0,15),\n",
    "           ylim = (0,15),\n",
    "           legend = :topleft,\n",
    "           title  = \"MVF (with/without constraints)\",\n",
    "           xlabel = \"Std(Rₚ), %\",\n",
    "           ylabel = \"ERₚ, %\" )\n",
    "scatter!(sqrt.(diag(Σ))*100,μ*100,color=:red,label=\"assets\")\n",
    "display(p1)"
   ]
  },
  {
   "cell_type": "code",
   "execution_count": null,
   "metadata": {},
   "outputs": [],
   "source": []
  }
 ],
 "metadata": {
  "@webio": {
   "lastCommId": null,
   "lastKernelId": null
  },
  "anaconda-cloud": {},
  "kernelspec": {
   "display_name": "Julia 1.7.2",
   "language": "julia",
   "name": "julia-1.7"
  },
  "language_info": {
   "file_extension": ".jl",
   "mimetype": "application/julia",
   "name": "julia",
   "version": "1.7.2"
  }
 },
 "nbformat": 4,
 "nbformat_minor": 4
}
