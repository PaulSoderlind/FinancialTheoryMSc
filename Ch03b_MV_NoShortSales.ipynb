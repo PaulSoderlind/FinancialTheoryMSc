{
 "cells": [
  {
   "cell_type": "markdown",
   "metadata": {},
   "source": [
    "# Mean Variance Frontier with Short Sales Constraints"
   ]
  },
  {
   "cell_type": "markdown",
   "metadata": {},
   "source": [
    "This notebook alculates mean variances frontiers for two cases *(1)* when there are no restrictions on the portfolio weights and *(2)* when we impose the restriction that no weights can be negative.\n",
    "\n",
    "We use the package [OSQP.jl](https://github.com/osqp/OSQP.jl) which solves problems of the type:\n",
    "\n",
    "$\\min 0.5\\theta' P \\theta + q' \\theta$ subject to $l \\leq A \\theta \\leq u$."
   ]
  },
  {
   "cell_type": "markdown",
   "metadata": {},
   "source": [
    "## Load Packages and Utility Functions"
   ]
  },
  {
   "cell_type": "code",
   "execution_count": 1,
   "metadata": {},
   "outputs": [
    {
     "data": {
      "text/plain": [
       "printyellow (generic function with 1 method)"
      ]
     },
     "execution_count": 1,
     "metadata": {},
     "output_type": "execute_result"
    }
   ],
   "source": [
    "using Printf, LinearAlgebra, SparseArrays, OSQP\n",
    "\n",
    "include(\"jlFiles/printmat.jl\")"
   ]
  },
  {
   "cell_type": "code",
   "execution_count": 2,
   "metadata": {},
   "outputs": [],
   "source": [
    "using Plots\n",
    "\n",
    "#pyplot(size=(600,400))       #use pyplot or gr\n",
    "gr(size=(480,320))\n",
    "default(fmt = :png)"
   ]
  },
  {
   "cell_type": "markdown",
   "metadata": {},
   "source": [
    "# Traditional MV Calculations \n",
    "\n",
    "(no constraints)"
   ]
  },
  {
   "cell_type": "code",
   "execution_count": 3,
   "metadata": {},
   "outputs": [
    {
     "name": "stdout",
     "output_type": "stream",
     "text": [
      "\u001b[34m\u001b[1mμ:\u001b[22m\u001b[39m\n",
      "A     0.115\n",
      "B     0.095\n",
      "C     0.060\n",
      "\n",
      "\u001b[34m\u001b[1mΣ:\u001b[22m\u001b[39m\n",
      "          A         B         C\n",
      "A     0.017     0.003     0.006\n",
      "B     0.003     0.006     0.000\n",
      "C     0.006     0.000     0.010\n",
      "\n",
      "\u001b[34m\u001b[1mRf:\u001b[22m\u001b[39m\n",
      "     0.030\n"
     ]
    }
   ],
   "source": [
    "μ = [11.5, 9.5, 6]/100      #expected returns\n",
    "Σ = [166  34  58;           #covariance matrix\n",
    "      34  64   4;\n",
    "      58   4 100]/100^2\n",
    "Rf = 0.03\n",
    "\n",
    "assetNames = [\"A\",\"B\",\"C\"]\n",
    "printblue(\"μ:\")\n",
    "printmat(μ,rowNames=assetNames)\n",
    "\n",
    "printblue(\"Σ:\")\n",
    "printmat(Σ,rowNames=assetNames,colNames=assetNames)\n",
    "\n",
    "printblue(\"Rf:\")\n",
    "printlnPs(Rf)"
   ]
  },
  {
   "cell_type": "markdown",
   "metadata": {},
   "source": [
    "## From Chapter on MV Analysis\n",
    "\n",
    "The file included below contains the function `MVCalc()` from the chapter on MV analysis."
   ]
  },
  {
   "cell_type": "code",
   "execution_count": 4,
   "metadata": {},
   "outputs": [
    {
     "data": {
      "text/plain": [
       "MVTangencyP"
      ]
     },
     "execution_count": 4,
     "metadata": {},
     "output_type": "execute_result"
    }
   ],
   "source": [
    "include(\"jlFiles/MvCalculations.jl\")"
   ]
  },
  {
   "cell_type": "code",
   "execution_count": 5,
   "metadata": {},
   "outputs": [
    {
     "data": {
      "image/png": "[encoded data removed]"
     },
     "metadata": {},
     "output_type": "display_data"
    }
   ],
   "source": [
    "μstar_range = range(0.04,0.15,length=201)\n",
    "L           = length(μstar_range)\n",
    "\n",
    "StdRₚ  = fill(NaN,L)\n",
    "for i = 1:L\n",
    "    StdRₚ[i] = MVCalc(μstar_range[i],μ,Σ)[1]\n",
    "end\n",
    "\n",
    "p1 = plot( StdRₚ*100,μstar_range*100,\n",
    "           linecolor = :red,\n",
    "           linewidth = 2,\n",
    "           label = \"MVF\",\n",
    "           legend = :topleft,\n",
    "           xlim = (0,15),\n",
    "           ylim = (0,15),\n",
    "           title = \"MVF (no portfolio constraints)\",\n",
    "           xlabel = \"Std(Rₚ), %\",\n",
    "           ylabel = \"ERₚ, %\" )\n",
    "scatter!(sqrt.(diag(Σ))*100,μ*100,color=:red,label=\"assets\")\n",
    "display(p1)"
   ]
  },
  {
   "cell_type": "markdown",
   "metadata": {},
   "source": [
    "# MV Frontier when Short Sales are Not Allowed\n",
    "\n",
    "The code below solves the following minimization problem \n",
    "\n",
    "$\\min \\text{Var}(R_p) \\: \\text{ s.t. } \\: \\text{E}R_p = \\mu^*$,\n",
    " \n",
    "and where we also require $w_i\\ge 0$ and $\\sum_{i=1}^{n}w_{i}=1$. The function takes a vector `μstar_range` as input and loops over the $\\mu^* = $ `μstar_range[i]` values.\n",
    "\n",
    "It is straightforward to add other constraints, for instance, that all weights are between 0 and 0.5."
   ]
  },
  {
   "cell_type": "code",
   "execution_count": 6,
   "metadata": {},
   "outputs": [
    {
     "data": {
      "text/plain": [
       "MeanVarNoSS (generic function with 1 method)"
      ]
     },
     "execution_count": 6,
     "metadata": {},
     "output_type": "execute_result"
    }
   ],
   "source": [
    "\"\"\"\n",
    "    MeanVarNoSS(μ,Σ,μstar)\n",
    "\n",
    "Calculate mean variance frontier when short sales are not allowed.\n",
    "\n",
    "\n",
    "# Input\n",
    "- `μ::Vector`:        n vector, mean returns\n",
    "- `Σ::Matrix`:        nxn, covariance matrix of returns, can contain riskfree assets\n",
    "- `μstar::Vector`:    K vector, mean returns to calculate results for\n",
    "\n",
    "# Output\n",
    "- `StdRp::Vector`:    K vector, standard deviation of mean-variance portfolio (risky only) with mean μstar\n",
    "- `w_p::Matrix`:      Kxn, portfolio weights of       \"\"\n",
    "\n",
    "# Requires\n",
    "- LinearAlgebra, SparseArrays, OSQP\n",
    "\n",
    "\"\"\"\n",
    "\n",
    "function MeanVarNoSS(μ,Σ,μstar)   #MV with no short-sales, numerical minimization\n",
    "\n",
    "    (K,n) = (length(μstar),length(μ))\n",
    "    vv    = findall( minimum(μ) .<= μstar .<= maximum(μ) )  #solve only if feasible\n",
    "\n",
    "    P = sparse(2*Σ)                  #P and A must be sparse\n",
    "    q = zeros(n)\n",
    "    A = sparse([μ';ones(1,n);I])\n",
    "    l = [NaN;1;zeros(n)]\n",
    "    u = [NaN;1;ones(n)]\n",
    "\n",
    "    prob = OSQP.Model()              #initial set up of problem\n",
    "    settings = Dict(:verbose => false)\n",
    "    OSQP.setup!(prob;P=P,q=q,A=A,l=l,u=u,settings...)\n",
    "\n",
    "    (w_p,StdRp) = (fill(NaN,K,n),fill(NaN,K))\n",
    "    for i in vv         #loop over (feasible) μstar elements\n",
    "        (l[1],u[1]) = (μstar[i],μstar[i])\n",
    "        OSQP.update!(prob;l=l,u=u)   #update problem\n",
    "        result = OSQP.solve!(prob)\n",
    "        w = result.info.status == :Solved ? result.x : NaN\n",
    "        if !any(isnan,w)\n",
    "            w_p[i,:] = w\n",
    "            StdRp[i] = sqrt(w'Σ*w)\n",
    "        end\n",
    "    end\n",
    "\n",
    "    return StdRp, w_p\n",
    "\n",
    "end"
   ]
  },
  {
   "cell_type": "code",
   "execution_count": 7,
   "metadata": {},
   "outputs": [
    {
     "name": "stdout",
     "output_type": "stream",
     "text": [
      "\n"
     ]
    }
   ],
   "source": [
    "StdRₚ_no_ss = MeanVarNoSS(μ,Σ,μstar_range)[1]\n",
    "println()"
   ]
  },
  {
   "cell_type": "code",
   "execution_count": 8,
   "metadata": {},
   "outputs": [
    {
     "data": {
      "image/png": "[encoded data removed]"
     },
     "metadata": {},
     "output_type": "display_data"
    }
   ],
   "source": [
    "p1 = plot( [StdRₚ StdRₚ_no_ss]*100,μstar_range*100,\n",
    "           linecolor = [:red :green],\n",
    "           linestyle = [:solid :dash],\n",
    "           linewidth = 2,\n",
    "           label = [\"no constraints\" \"no short sales\"],\n",
    "           xlim = (0,15),\n",
    "           ylim = (0,15),\n",
    "           legend = :topleft,\n",
    "           title  = \"MVF (with/without constraints)\",\n",
    "           xlabel = \"Std(Rₚ), %\",\n",
    "           ylabel = \"ERₚ, %\" )\n",
    "scatter!(sqrt.(diag(Σ))*100,μ*100,color=:red,label=\"assets\")\n",
    "display(p1)"
   ]
  },
  {
   "cell_type": "code",
   "execution_count": null,
   "metadata": {},
   "outputs": [],
   "source": []
  }
 ],
 "metadata": {
  "@webio": {
   "lastCommId": null,
   "lastKernelId": null
  },
  "anaconda-cloud": {},
  "kernelspec": {
   "display_name": "Julia 1.8.2",
   "language": "julia",
   "name": "julia-1.8"
  },
  "language_info": {
   "file_extension": ".jl",
   "mimetype": "application/julia",
   "name": "julia",
   "version": "1.8.2"
  }
 },
 "nbformat": 4,
 "nbformat_minor": 4
}
