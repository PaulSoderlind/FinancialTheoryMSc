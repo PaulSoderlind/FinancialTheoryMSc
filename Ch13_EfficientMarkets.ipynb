{
 "cells": [
  {
   "cell_type": "markdown",
   "metadata": {},
   "source": [
    "# Efficient Markets\n",
    "\n",
    "This notebook describes and tests the predictability of asset returns (autocorrelations, autoregressions, out-of-sample R2, Mariano-Diebold test) and implements a simple trading strategy."
   ]
  },
  {
   "cell_type": "markdown",
   "metadata": {},
   "source": [
    "## Load Packages and Extra Functions"
   ]
  },
  {
   "cell_type": "code",
   "execution_count": 1,
   "metadata": {},
   "outputs": [],
   "source": [
    "using Printf, Dates, DelimitedFiles, Statistics, LinearAlgebra, StatsBase\n",
    "\n",
    "include(\"jlFiles/printmat.jl\")\n",
    "include(\"jlFiles/OlsGMFn.jl\");"
   ]
  },
  {
   "cell_type": "code",
   "execution_count": 2,
   "metadata": {},
   "outputs": [],
   "source": [
    "using Plots\n",
    "\n",
    "#pyplot(size=(600,400))\n",
    "gr(size=(480,320))\n",
    "default(fmt = :png)"
   ]
  },
  {
   "cell_type": "markdown",
   "metadata": {},
   "source": [
    "# Load Data\n",
    "\n",
    "The data set contains daily data for \"dates\", the equity market return, riskfree rate and the returns of the 25 Fama-French portfolios. All returns are in percent."
   ]
  },
  {
   "cell_type": "code",
   "execution_count": 3,
   "metadata": {},
   "outputs": [
    {
     "name": "stdout",
     "output_type": "stream",
     "text": [
      "\n",
      "The first few rows of data\n",
      "        dN        Rm        Rf         R\n",
      "1979-01-02     0.615     0.035     1.420\n",
      "1979-01-03     1.155     0.035     1.750\n",
      "1979-01-04     0.975     0.035     1.560\n",
      "1979-01-05     0.685     0.035     1.430\n",
      "\n",
      "size of dN, Rm, Rf, R\n",
      "(9837,)\n",
      "(9837,)\n",
      "(9837,)\n",
      "(9837,)\n"
     ]
    }
   ],
   "source": [
    "x   = readdlm(\"Data/MomentumSR.csv\",',')\n",
    "dN  = Date.(x[:,1],\"yyyy-mm-dd\")                  #Julia dates \n",
    "y   = convert.(Float64,x[:,2:end])\n",
    "\n",
    "(Rm,Rf,R25) = (y[:,1],y[:,2],y[:,3:end])         \n",
    "R           = R25[:,end]                         #R are returns of 'large value' firms     \n",
    "                                                 #R25 will be used later\n",
    "println(\"\\nThe first few rows of data\")\n",
    "printmat(dN[1:4],Rm[1:4],Rf[1:4],R[1:4];colNames=[\"dN\",\"Rm\",\"Rf\",\"R\"])\n",
    "\n",
    "println(\"size of dN, Rm, Rf, R\")\n",
    "println(size(dN),\"\\n\",size(Rm),\"\\n\",size(Rf),\"\\n\",size(R))\n",
    "\n",
    "T = length(R);                      #number of periods"
   ]
  },
  {
   "cell_type": "markdown",
   "metadata": {},
   "source": [
    "# Autocorrelations\n",
    "\n",
    "The $s$th autocorrelation is \n",
    "\n",
    "$\\rho_s = \\text{Corr}(R_t,R_{t-s})$\n",
    "\n",
    "In large samples, $\\sqrt{T}\\hat{\\rho}_{s}\\sim N(0,1)$ if the true value is $\\rho_s=0$ for all $s$.\n",
    "\n",
    "### A Remark on the Code\n",
    "\n",
    "The [StatsBase.jl](https://github.com/JuliaStats/StatsBase.jl) package contains methods for estimating, for instance, autocorrelations (see `autocor()` below)."
   ]
  },
  {
   "cell_type": "code",
   "execution_count": 4,
   "metadata": {},
   "outputs": [
    {
     "name": "stdout",
     "output_type": "stream",
     "text": [
      "\u001b[34m\u001b[1mautocorrelations and their t-stats:\u001b[22m\u001b[39m\n",
      "\n",
      "          ρ    t-stat\n",
      "1    -0.027    -2.697\n",
      "2    -0.028    -2.747\n",
      "3    -0.024    -2.343\n",
      "4    -0.014    -1.350\n",
      "5    -0.020    -2.015\n",
      "\n"
     ]
    }
   ],
   "source": [
    "plags = 1:5\n",
    "ρ     = autocor(R,plags)\n",
    "\n",
    "printblue(\"autocorrelations and their t-stats:\\n\")\n",
    "printmat([ρ sqrt(T)*ρ],colNames=[\"ρ\",\"t-stat\"],rowNames=plags)"
   ]
  },
  {
   "cell_type": "markdown",
   "metadata": {},
   "source": [
    "# Autoregressions\n",
    "\n",
    "An AR(1) is \n",
    "\n",
    "$$\n",
    "R_{t}=c+a_{1}R_{t-1}+\\varepsilon_{t}.\n",
    "$$\n",
    "\n",
    "We also consider an asymmetric AR(1) \n",
    "\n",
    "$$\n",
    "R_{t} =\\alpha+\\beta Q_{t-1}R_{t-1}+\\gamma(1-Q_{t-1})R_{t-1}+\\varepsilon\n",
    "_{t},\n",
    "$$\n",
    "\n",
    "where $Q_{t-1}=1 \\ \\text{ if } \\ R_{t-1}<0$ and zero otherwise.\n",
    "\n",
    "Both models can be estimated by OLS."
   ]
  },
  {
   "cell_type": "code",
   "execution_count": 5,
   "metadata": {},
   "outputs": [
    {
     "name": "stdout",
     "output_type": "stream",
     "text": [
      "\u001b[34m\u001b[1mResults from an AR(1):\u001b[22m\u001b[39m\n",
      "\n",
      "              coef    t-stat\n",
      "constant     0.061     4.314\n",
      "slope       -0.027    -2.698\n",
      "\n"
     ]
    }
   ],
   "source": [
    "x  = [ones(T-1) R[1:end-1]]            #R(t) is regressed on (1,R(t-1))\n",
    "(b,_,_,Covb,) = OlsGMFn(R[2:end],x)\n",
    "Stdb  = sqrt.(diag(Covb))\n",
    "tstat = b./Stdb\n",
    "\n",
    "printblue(\"Results from an AR(1):\\n\")\n",
    "printmat([b tstat],colNames=[\"coef\",\"t-stat\"],rowNames=[\"constant\",\"slope\"])"
   ]
  },
  {
   "cell_type": "code",
   "execution_count": 6,
   "metadata": {},
   "outputs": [
    {
     "name": "stdout",
     "output_type": "stream",
     "text": [
      "\u001b[34m\u001b[1mResults from an AR(1) with dummies:\u001b[22m\u001b[39m\n",
      "\n",
      "                  coef    t-stat\n",
      "constant        -0.007    -0.385\n",
      "slope (down)    -0.102    -6.134\n",
      "slope (up)       0.048     2.872\n",
      "\n"
     ]
    }
   ],
   "source": [
    "Q = R[1:end-1] .< 0        #dummy: 1 if R(t-1) < 0\n",
    "\n",
    "x = [ones(T-1) Q.*R[1:end-1] (1.0.-Q).*R[1:end-1]]   #R(t) is regressed on (1,Q(t-1)R(t-1),[1-Q(t-1)]R(t-1))\n",
    "\n",
    "(b,_,_,Covb,) = OlsGMFn(R[2:end],x)\n",
    "Stdb  = sqrt.(diag(Covb))\n",
    "tstat = b./Stdb\n",
    "\n",
    "printblue(\"Results from an AR(1) with dummies:\\n\")\n",
    "printmat([b tstat],colNames=[\"coef\",\"t-stat\"],rowNames=[\"constant\",\"slope (down)\",\"slope (up)\"])"
   ]
  },
  {
   "cell_type": "markdown",
   "metadata": {},
   "source": [
    "## Recursive Estimation and Out-of-Sample R2"
   ]
  },
  {
   "cell_type": "markdown",
   "metadata": {},
   "source": [
    "The next cell does recursive estimation (longer and longer sample) and predicts one period ahead (outside of the sample). The performance of this prediction model is measured by an \"out-of-sample\" $R_{OOS}^2$ defined as \n",
    "\n",
    "$\n",
    "R_{OOS}^2 = 1- \\frac{\\text{MSE(forecasting model)}}{\\text{MSE(benchmark forecast)}}\n",
    "$\n",
    "\n",
    "The code loops over `t=100:Tb` where `Tb` is the effective length of the sample. This means that the first estimation uses 100 observations, the second estimation 101 observations and so forth. After the loop, we discard the first 100 observations from the output since they are just `NaN`."
   ]
  },
  {
   "cell_type": "code",
   "execution_count": 7,
   "metadata": {},
   "outputs": [
    {
     "name": "stdout",
     "output_type": "stream",
     "text": [
      "\u001b[34m\u001b[1mPerformance of out-of-sample forecasting:\u001b[22m\u001b[39m\n",
      "\n",
      "MSE of AR(1)        2.014\n",
      "MSE of hist avg     2.008\n",
      "R2_oos             -0.003\n",
      "\n"
     ]
    }
   ],
   "source": [
    "y   = R[2:end]      #traditional symbol for the LHS variable\n",
    "dNb = dN[2:end]     #corresponding dates, used for plotting \n",
    "Tb  = length(y)     #length of the effective sample\n",
    "\n",
    "x   = [ones(Tb) Q.*R[1:end-1] (1.0.-Q).*R[1:end-1]]     #predictors\n",
    "\n",
    "(ϵ,e) = (fill(NaN,Tb),fill(NaN,Tb))\n",
    "for t = 100:Tb                          \n",
    "    local b                             \n",
    "    b,   = OlsGMFn(y[1:t-1],x[1:t-1,:]) #estimate on sample 1:t-1\n",
    "    ϵ[t] = y[t] - x[t,:]'b         #forecast error for t, model\n",
    "    e[t] = y[t] - mean(y[1:t-1])   #forecast error for t, historical average\n",
    "end\n",
    "(ϵ,e,dNb) = (ϵ[100:end],e[100:end],dNb[100:end])    #drop periods without forecasts\n",
    "\n",
    "MSE_Model = mean(abs2,ϵ)    #MSE for out-of-sample forecasts, same as mean(ϵ.^2) but quicker\n",
    "MSE_Bench = mean(abs2,e)\n",
    "R2oos     = 1 - MSE_Model/MSE_Bench\n",
    "\n",
    "printblue(\"Performance of out-of-sample forecasting:\\n\")\n",
    "xut = [MSE_Model;MSE_Bench;R2oos]\n",
    "printmat(xut,rowNames=[\"MSE of AR(1)\",\"MSE of hist avg\",\"R2_oos\"])"
   ]
  },
  {
   "cell_type": "code",
   "execution_count": 8,
   "metadata": {},
   "outputs": [
    {
     "data": {
      "image/png": "[encoded data removed]"
     },
     "execution_count": 8,
     "metadata": {},
     "output_type": "execute_result"
    }
   ],
   "source": [
    "xTicksLoc = [Date(1980);Date(1990);Date(2000);Date(2010)]  \n",
    "xTicksLab = Dates.format.(xTicksLoc,\"Y\")     #nice formatting of date axes\n",
    "\n",
    "plot( dNb,[cumsum(ϵ.^2) cumsum(e.^2)],\n",
    "      linecolor = [:blue :red],\n",
    "      linestyle = [:solid :dash],\n",
    "      label = [\"AR(1) model\" \"historical mean\"],\n",
    "      legend = :topleft,\n",
    "      xticks = (xTicksLoc,xTicksLab),\n",
    "      title = \"Cumulated squared forecast errors\" )"
   ]
  },
  {
   "cell_type": "markdown",
   "metadata": {},
   "source": [
    "## Mariano-Diebold and Clark-West Tests (extra)\n",
    "\n",
    "The Mariano-Diebold and Clark-West tests compare the prediction errors of two models ($e$: benchmark; $\\epsilon$: your model). Notice that the Mariano-Diebold test is not well suited for nested model (your model is an augmented version of the baseline model). Use the Clark-West in that case.\n",
    "\n",
    "If $g_1 = e^2$ and $g_2=\\epsilon^2$ are not autocorrelated, then the standard deviation of the sample average is Std$(g_i)/\\sqrt{T}$. This assumption is used below."
   ]
  },
  {
   "cell_type": "code",
   "execution_count": 9,
   "metadata": {},
   "outputs": [
    {
     "data": {
      "text/plain": [
       "MDCW (generic function with 1 method)"
      ]
     },
     "execution_count": 9,
     "metadata": {},
     "output_type": "execute_result"
    }
   ],
   "source": [
    "function MDCW(e,ϵ)\n",
    "      g = hcat(e.^2 - ϵ.^2,       #Mariano-Diebold\n",
    "               2*e.*(e - ϵ))      #Clark&West\n",
    "  return g\n",
    "end"
   ]
  },
  {
   "cell_type": "code",
   "execution_count": 10,
   "metadata": {},
   "outputs": [
    {
     "name": "stdout",
     "output_type": "stream",
     "text": [
      "\u001b[34m\u001b[1mt-stats of tests of difference in performance\u001b[22m\u001b[39m\n",
      "\n",
      "Mariano-Diebold    -0.430\n",
      "Clark_West          0.814\n",
      "\n"
     ]
    }
   ],
   "source": [
    "g  = MDCW(e,ϵ)          #e,ϵ are from the recursive estimation (above)\n",
    "Tg = size(g,1)\n",
    "\n",
    "μ      = mean(g,dims=1)\n",
    "Stdμ   = std(g,dims=1)/sqrt(Tg)\n",
    "tstats = μ./Stdμ\n",
    "\n",
    "printblue(\"t-stats of tests of difference in performance\\n\")\n",
    "printmat(tstats';rowNames=[\"Mariano-Diebold\",\"Clark_West\"])"
   ]
  },
  {
   "cell_type": "markdown",
   "metadata": {},
   "source": [
    "# A Trading Strategy\n",
    "\n",
    "This section implements a momentum strategy (buy past winners, short sell past losers), and rebalance daily. For simplicity, we disregard trading costs.\n",
    "\n",
    "## Implementing the Strategy\n",
    "\n",
    "1. Sort the 25 assets according to the lagged return, $R_{t-1}$.\n",
    "2. (In the evening of) period  $t-1$  buy 1/5 of each of the 5 best assets based on the sort in point 1. Similarly, buy -1/5 (short-sell) each of the 5 worst assets. Collect these portfolio weights in a vector $w_{t}$.\n",
    "3. In period  $t$ , the return on the portfolio is $R_{p,t}=w_{t}'R_{t}$.\n",
    "4. Repeat for all periods\n",
    "\n",
    "## A Remark on the Code\n",
    "\n",
    "`s = sortperm(R[t-1,:])` creates a vector of indices, where `s[1]` is the index of the asset with the lowest return in $t-1$, `s[2]` of the second lowest. Similarly, `s[end]` is the index of the asset with the highest return, while `s[end-1]` is for the second highest."
   ]
  },
  {
   "cell_type": "code",
   "execution_count": 11,
   "metadata": {},
   "outputs": [
    {
     "name": "stdout",
     "output_type": "stream",
     "text": [
      "\n"
     ]
    }
   ],
   "source": [
    "R = copy(R25)      #we recycly the `R` notation: it is now a Tx25 matrix\n",
    "(T,n) = size(R)\n",
    "\n",
    "Rₚ = fill(NaN,T)\n",
    "for t = 2:T         #loop over periods, save portfolio returns\n",
    "    #local s,w            #local/global is needed in script\n",
    "    s                = sortperm(R[t-1,:])  #s[1] is the index of the worst asset\n",
    "    w                = zeros(n)\n",
    "    w[s[1:5]]       .= -1/5                #negative weights the worst 5\n",
    "    w[s[end-4:end]] .= 1/5                 #positive weights for the best 5\n",
    "    Rₚ[t]            = w'R[t,:]            #same as dot(w,[t,:])\n",
    "end\n",
    "\n",
    "Rₚ = Rₚ[2:end];                   #cut out t=1\n",
    "println()"
   ]
  },
  {
   "cell_type": "markdown",
   "metadata": {},
   "source": [
    "We calculate the mean (excess) return, its standard deviation and the Sharpe ratio. Annualising is done by assuming 250 trading days per year (means are multiplied by 250 and standard deviation by $\\sqrt{250}$). Compare with the excess return on passively holding an equity market index."
   ]
  },
  {
   "cell_type": "code",
   "execution_count": 12,
   "metadata": {},
   "outputs": [
    {
     "name": "stdout",
     "output_type": "stream",
     "text": [
      "\u001b[34m\u001b[1mAnnualised results:\u001b[22m\u001b[39m\n",
      "\n",
      "      Strategy    market\n",
      "mean    16.134     8.307\n",
      "std      9.871    16.770\n",
      "SR       1.634     0.495\n",
      "\n"
     ]
    }
   ],
   "source": [
    "μ = mean(Rₚ)                 #strategy\n",
    "σ = std(Rₚ)\n",
    "\n",
    "Rme = Rm - Rf                #market\n",
    "μₘ  = mean(Rme[2:end])\n",
    "σₘ  = std(Rme[2:end])\n",
    "\n",
    "printblue(\"Annualised results:\\n\")\n",
    "result  = [μ*250;σ*sqrt(250);μ/σ*sqrt(250)]\n",
    "resultm = [μₘ*250;σₘ*sqrt(250);μₘ/σₘ*sqrt(250)]\n",
    "printmat([result resultm],colNames=[\"Strategy\",\"market\"],rowNames=[\"mean\",\"std\",\"SR\"])"
   ]
  },
  {
   "cell_type": "markdown",
   "metadata": {},
   "source": [
    "To cumulate the returns to a return index, use $(1+R_1)$, $(1+R_1)(1+R_2)$, etc. However, this does not work for excess returns, so convert them to net returns by adding the riskfree rate.\n",
    "\n",
    "It is often more useful to show the logarithm of the return index. The slope can then be interpreted as a return."
   ]
  },
  {
   "cell_type": "code",
   "execution_count": 13,
   "metadata": {},
   "outputs": [],
   "source": [
    "Rbₚ = Rₚ + Rf[2:end]         #add Rf to make it a net return\n",
    "\n",
    "Vₚ = cumprod(1 .+ Rbₚ/100)          #cumulate to return index (\"value\")\n",
    "Vₘ = cumprod(1 .+ Rm[2:end]/100);  #notice /100 since percentage returns"
   ]
  },
  {
   "cell_type": "code",
   "execution_count": 14,
   "metadata": {},
   "outputs": [
    {
     "data": {
      "image/png": "[encoded data removed]"
     },
     "execution_count": 14,
     "metadata": {},
     "output_type": "execute_result"
    }
   ],
   "source": [
    "xTicksLoc = [Date(1980);Date(1990);Date(2000);Date(2010)]\n",
    "xTicksLab = Dates.format.(xTicksLoc,\"Y\")\n",
    "\n",
    "plot( dN[2:end],log.([Vₚ Vₘ]),\n",
    "      linecolor = [:blue :red],\n",
    "      linestyle = [:solid :dash],\n",
    "      label = [\"strategy\" \"market\"],\n",
    "      legend = :topleft,\n",
    "      xticks = (xTicksLoc,xTicksLab),\n",
    "      title = \"log return indices\" )"
   ]
  },
  {
   "cell_type": "code",
   "execution_count": null,
   "metadata": {},
   "outputs": [],
   "source": []
  }
 ],
 "metadata": {
  "@webio": {
   "lastCommId": null,
   "lastKernelId": null
  },
  "anaconda-cloud": {},
  "kernelspec": {
   "display_name": "Julia 1.8.4",
   "language": "julia",
   "name": "julia-1.8"
  },
  "language_info": {
   "file_extension": ".jl",
   "mimetype": "application/julia",
   "name": "julia",
   "version": "1.8.4"
  }
 },
 "nbformat": 4,
 "nbformat_minor": 4
}
