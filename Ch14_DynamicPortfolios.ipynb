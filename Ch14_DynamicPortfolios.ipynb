{
 "cells": [
  {
   "cell_type": "markdown",
   "metadata": {},
   "source": [
    "# Dynamic Portfolios\n",
    "\n",
    "and intertemporal hedging in a simple discrete time model."
   ]
  },
  {
   "cell_type": "markdown",
   "metadata": {},
   "source": [
    "## Load Packages and Extra Functions"
   ]
  },
  {
   "cell_type": "code",
   "execution_count": 1,
   "metadata": {},
   "outputs": [
    {
     "data": {
      "text/plain": [
       "printyellow (generic function with 1 method)"
      ]
     },
     "execution_count": 1,
     "metadata": {},
     "output_type": "execute_result"
    }
   ],
   "source": [
    "using Printf, LinearAlgebra, Distributions\n",
    "\n",
    "include(\"jlFiles/printmat.jl\")"
   ]
  },
  {
   "cell_type": "markdown",
   "metadata": {},
   "source": [
    "# Log Utility\n",
    "\n",
    "We first find the *myopic* (period by period) optimal portfolio when the investor has log utility,\n",
    "\n",
    "$\n",
    "U(W) = \\ln (1+R_p),\n",
    "$\n",
    "\n",
    "where $R_p$ is the portfolio return."
   ]
  },
  {
   "cell_type": "code",
   "execution_count": 2,
   "metadata": {},
   "outputs": [
    {
     "name": "stdout",
     "output_type": "stream",
     "text": [
      "\u001b[34m\u001b[1mPortfolio weights in the two states (the case of a single risky asset):\u001b[22m\u001b[39m\n",
      "              state A   state B\n",
      "risky asset     1.500     1.000\n",
      "riskfree       -0.500     0.000\n",
      "\n"
     ]
    }
   ],
   "source": [
    "rf   = 0.03          #riskfree rate\n",
    "σ²   = 100/10000     #variance of risky asset\n",
    "μe1A = 1/100         #mean excess return of single risky asset, state A\n",
    "μe1B = 0.5/100       #state B\n",
    "\n",
    "vA = (μe1A + σ²/2)/σ²\n",
    "vB = (μe1B + σ²/2)/σ²\n",
    "\n",
    "rowNames1 = [\"risky asset\",\"riskfree\"]\n",
    "printblue(\"Portfolio weights in the two states (the case of a single risky asset):\")\n",
    "printmat([vA vB;1-sum(vA) 1-sum(vB)],colNames=[\"state A\",\"state B\"],rowNames=rowNames1)"
   ]
  },
  {
   "cell_type": "code",
   "execution_count": 3,
   "metadata": {},
   "outputs": [
    {
     "data": {
      "text/plain": [
       "OptPortLogUtil"
      ]
     },
     "execution_count": 3,
     "metadata": {},
     "output_type": "execute_result"
    }
   ],
   "source": [
    "\"\"\"\n",
    "Calculate optimal portfolio for log utility case, when the log returns are N(μe+rf,Σ),\n",
    "Campbell&Viceira. \n",
    "\"\"\"\n",
    "function OptPortLogUtil(Σ,μe,rf)\n",
    "  v     = inv(Σ)*(μe+diag(Σ)/2)\n",
    "  Erp   = rf + v'μe + v'diag(Σ)/2 - v'Σ*v/2\n",
    "  Varrp = v'Σ*v\n",
    "  return v, Erp, Varrp\n",
    "end"
   ]
  },
  {
   "cell_type": "code",
   "execution_count": 4,
   "metadata": {},
   "outputs": [
    {
     "name": "stdout",
     "output_type": "stream",
     "text": [
      "\u001b[34m\u001b[1mPortfolio weights in the two states (several risky assets):\u001b[22m\u001b[39m\n",
      "           state A   state B\n",
      "asset 1      1.384     1.810\n",
      "asset 2      1.318    -0.460\n",
      "asset 3      0.144    -0.031\n",
      "riskfree    -1.847    -0.319\n",
      "\n"
     ]
    }
   ],
   "source": [
    "Σ  = [166  34  58;              #3 risky assets\n",
    "       34  64   4;\n",
    "       58   4 100]/10000\n",
    "μeA = [2.0, 1.0, 0.5]/100       #state A\n",
    "μeB = [2.0, 0.0, 0.5]/100       #state B\n",
    "\n",
    "vA, = OptPortLogUtil(Σ,μeA,rf)  #myopic portfolio choice in each state\n",
    "vB, = OptPortLogUtil(Σ,μeB,rf)\n",
    "\n",
    "printblue(\"Portfolio weights in the two states (several risky assets):\")\n",
    "rowNames3 = [\"asset 1\",\"asset 2\",\"asset 3\",\"riskfree\"]\n",
    "printmat([vA vB;1-sum(vA) 1-sum(vB)],colNames=[\"state A\",\"state B\"],rowNames=rowNames3)"
   ]
  },
  {
   "cell_type": "markdown",
   "metadata": {},
   "source": [
    "# CRRA Utility\n",
    "\n",
    "We now turn to the *myopic* (period by period) optimal portfolio when the investor has CRRA utility\n",
    "\n",
    "$\n",
    "U(W) = (1+R_p)^{1-\\gamma}/(1-\\gamma),\n",
    "$\n",
    "\n",
    "where $R_p$ is the portfolio return. As $\\gamma \\rightarrow 1$, this becomes the same as log utility (need to take the limit to prove that)."
   ]
  },
  {
   "cell_type": "code",
   "execution_count": 5,
   "metadata": {},
   "outputs": [
    {
     "name": "stdout",
     "output_type": "stream",
     "text": [
      "\u001b[34m\u001b[1mPortfolio weights in the two states (the case of a single risky asset):\u001b[22m\u001b[39m\n",
      "              state A   state B\n",
      "risky asset     0.500     0.333\n",
      "riskfree        0.500     0.667\n",
      "\n"
     ]
    }
   ],
   "source": [
    "γ = 3                               #risk aversion \n",
    "\n",
    "vA = (μe1A + σ²/2)/(σ²*γ)           #with a single risky asset\n",
    "vB = (μe1B + σ²/2)/(σ²*γ)\n",
    "\n",
    "printblue(\"Portfolio weights in the two states (the case of a single risky asset):\")\n",
    "printmat([vA vB;1-sum(vA) 1-sum(vB)],colNames=[\"state A\",\"state B\"],rowNames=rowNames1)"
   ]
  },
  {
   "cell_type": "code",
   "execution_count": 6,
   "metadata": {},
   "outputs": [
    {
     "data": {
      "text/plain": [
       "OptPortCRRA"
      ]
     },
     "execution_count": 6,
     "metadata": {},
     "output_type": "execute_result"
    }
   ],
   "source": [
    "\"\"\"\n",
    "Calculate optimal portfolio for CRRA utility case, when the log returns are N(μe+rf,Σ),\n",
    "Campbell&Viceira. \n",
    "\"\"\"\n",
    "function OptPortCRRA(Σ,μe,rf,γ)\n",
    "  v     = inv(Σ)*(μe+diag(Σ)/2)/γ\n",
    "  Erp   = rf + v'μe + v'diag(Σ)/2 - v'Σ*v/2\n",
    "  Varrp = v'Σ*v\n",
    "  return v, Erp, Varrp\n",
    "end"
   ]
  },
  {
   "cell_type": "code",
   "execution_count": 7,
   "metadata": {},
   "outputs": [
    {
     "name": "stdout",
     "output_type": "stream",
     "text": [
      "\u001b[34m\u001b[1mPortfolio weights in the two states (several risky assets):\u001b[22m\u001b[39m\n",
      "           state A   state B\n",
      "asset 1      0.461     0.603\n",
      "asset 2      0.439    -0.153\n",
      "asset 3      0.048    -0.010\n",
      "riskfree     0.051     0.560\n",
      "\n"
     ]
    }
   ],
   "source": [
    "γ = 3\n",
    "\n",
    "vA, = OptPortCRRA(Σ,μeA,rf,γ)\n",
    "vB, = OptPortCRRA(Σ,μeB,rf,γ)\n",
    "\n",
    "printblue(\"Portfolio weights in the two states (several risky assets):\")\n",
    "printmat([vA vB;1-sum(vA) 1-sum(vB)],colNames=[\"state A\",\"state B\"],rowNames=rowNames3)"
   ]
  },
  {
   "cell_type": "markdown",
   "metadata": {},
   "source": [
    "# Intertemporal Hedging\n",
    "\n",
    "We now consider the more difficult case when the CRRA investor considers several periods. \n",
    "\n",
    "In the case of log utility ($\\gamma=1$), this actually gives a myopic solution: in each period, $\\ln(1+R_p$) is maximized, where $R_p$ is the one period portfolio return.\n",
    "\n",
    "With CRRA this may no longer hold. In particular, if there are some predictable (non-iid) features of the asset returns, then today's investment may be influenced by how the return over the next period is correlated with the investment opportunities in the subsequent periods.\n",
    "\n",
    "The optimal solution used in the next few cells (see lecture notes for details) is for the case when the vector ($n$ assets) of excess returns follow\n",
    "\n",
    "$\n",
    "r_{t+1}^{e}=a+z_{t}+u_{t+1},\n",
    "$\n",
    "\n",
    "where the vector $z_t$ follows the VAR(1)\n",
    "\n",
    "$\n",
    "z_{t+1}=\\phi z_{t}+\\eta_{t+1},\n",
    "$\n",
    "with $\\eta_{t+1}$ being $N(\\mathbf{0},\\Sigma_{\\eta})$.\n",
    "\n",
    "The covariance matrix of $u_{t+1}$ and $\\eta_{t+1}$, which plays a key role of the analysis, is denoted by $\\Sigma_{u\\eta}$."
   ]
  },
  {
   "cell_type": "markdown",
   "metadata": {},
   "source": [
    "## A Single Risky Asset \n",
    "\n",
    "and a riskfree"
   ]
  },
  {
   "cell_type": "code",
   "execution_count": 8,
   "metadata": {},
   "outputs": [
    {
     "data": {
      "text/plain": [
       "CRRAPortOpt1"
      ]
     },
     "execution_count": 8,
     "metadata": {},
     "output_type": "execute_result"
    }
   ],
   "source": [
    "\"\"\"\n",
    "Optimal dynamic portfolio choice when there is a single risky asset.\n",
    "\"\"\"\n",
    "function CRRAPortOpt1(Σ_u,Σ_η,Σ_uη,a,ϕ,γ,z)\n",
    "  v_myop  = inv(Σ_u)*(a + z + Σ_u/2)/γ\n",
    "  Σ       = 2*Σ_u + Σ_η + 2*Σ_uη\n",
    "  v_noreb = inv(Σ)*(2*a + (I+ϕ)*z + Σ/2)/γ\n",
    "  Ev1     = inv(Σ_u)*(a + ϕ*z + Σ_u/2)/γ\n",
    "  v_rebal = inv(Σ_u)*(a + z + Σ_u/2 + (1-γ)*Σ_uη*Ev1)/γ\n",
    "  return v_myop, v_noreb, v_rebal\n",
    "end"
   ]
  },
  {
   "cell_type": "code",
   "execution_count": 9,
   "metadata": {},
   "outputs": [
    {
     "name": "stdout",
     "output_type": "stream",
     "text": [
      "\u001b[34m\u001b[1mPortfolio weights: myopic and 2-period investor (who can rebalance), corr(u,η)=-0.5\u001b[22m\u001b[39m\n",
      "                         myopic   2-period investor\n",
      "risky asset               0.417               0.537\n",
      "riskfree                  0.583               0.463\n",
      "\n"
     ]
    }
   ],
   "source": [
    "(γ,Σ_u,Σ_η,a,ϕ) = (3,100/10000,75/10000,0.75/100,0.9)     #parameters in example with 1 risky asset\n",
    "\n",
    "Σ_uηL  = -0.5*sqrt(Σ_u*Σ_η)     #corr(u,η)=-0.5\n",
    "(v_myopL,v_norebL,v_rebalL) = CRRAPortOpt1(Σ_u,Σ_η,Σ_uηL,a,ϕ,γ,0)\n",
    "\n",
    "printblue(\"Portfolio weights: myopic and 2-period investor (who can rebalance), corr(u,η)=-0.5\")\n",
    "xx = [v_myopL   v_rebalL;\n",
    "      1-sum(v_myopL) 1-sum(v_rebalL)]\n",
    "printmat(xx,colNames=[\"myopic\",\"2-period investor\"],rowNames=rowNames1,width=20)"
   ]
  },
  {
   "cell_type": "code",
   "execution_count": 10,
   "metadata": {},
   "outputs": [
    {
     "name": "stdout",
     "output_type": "stream",
     "text": [
      "\u001b[34m\u001b[1mPortfolio weights: myopic and 2-period investor (who can rebalance), corr(u,η)=0.5\u001b[22m\u001b[39m\n",
      "                         myopic   2-period investor\n",
      "risky asset               0.417               0.296\n",
      "riskfree                  0.583               0.704\n",
      "\n"
     ]
    }
   ],
   "source": [
    "Σ_uηH  =  0.5*sqrt(Σ_u*Σ_η)     #corr(u,η)=0.5\n",
    "(v_myopH,v_norebH,v_rebalH) = CRRAPortOpt1(Σ_u,Σ_η,Σ_uηH,a,ϕ,γ,0)\n",
    "\n",
    "printblue(\"Portfolio weights: myopic and 2-period investor (who can rebalance), corr(u,η)=0.5\")\n",
    "xx = [v_myopH   v_rebalH;\n",
    "      1-sum(v_myopH) 1-sum(v_rebalH)]\n",
    "printmat(xx,colNames=[\"myopic\",\"2-period investor\"],rowNames=rowNames1,width=20)"
   ]
  },
  {
   "cell_type": "markdown",
   "metadata": {},
   "source": [
    "## Three Risky Assets\n",
    "\n",
    "and a riskfree"
   ]
  },
  {
   "cell_type": "code",
   "execution_count": 11,
   "metadata": {},
   "outputs": [
    {
     "data": {
      "text/plain": [
       "CRRAPortOpt"
      ]
     },
     "execution_count": 11,
     "metadata": {},
     "output_type": "execute_result"
    }
   ],
   "source": [
    "\"\"\"\n",
    "Optimal dynamic portfolio choice when there are several risky assets\n",
    "\"\"\"\n",
    "function CRRAPortOpt(Σ_u,Σ_η,Σ_uη,a,ϕ,γ,z)\n",
    "  v_myop  = inv(Σ_u)*(a + z + diag(Σ_u)/2)/γ\n",
    "  Σ       = 2*Σ_u + Σ_η + 2*Σ_uη\n",
    "  v_noreb = inv(Σ)*(2*a + (I+ϕ)*z + diag(Σ)/2)/γ\n",
    "  Ev1     = inv(Σ_u)*(a + ϕ*z + diag(Σ_u)/2)/γ\n",
    "  v_rebal = inv(Σ_u)*(a + z + diag(Σ_u)/2 + (1-γ)*Σ_uη*Ev1)/γ\n",
    "  return v_myop, v_noreb, v_rebal\n",
    "end"
   ]
  },
  {
   "cell_type": "code",
   "execution_count": 12,
   "metadata": {},
   "outputs": [
    {
     "name": "stdout",
     "output_type": "stream",
     "text": [
      "\u001b[34m\u001b[1mThe model parameters:\u001b[22m\u001b[39m\n",
      "\n",
      "Σ_u*10000\n",
      "   166.000    34.000    58.000\n",
      "    34.000    64.000     4.000\n",
      "    58.000     4.000   100.000\n",
      "\n",
      "Σ_η*10000\n",
      "     0.000     0.000     0.000\n",
      "     0.000   100.000     0.000\n",
      "     0.000     0.000     0.000\n",
      "\n",
      "a*100\n",
      "     2.000\n",
      "     0.500\n",
      "     0.500\n",
      "\n",
      "\n",
      "Two cases: negative and positive Cov(u,η) for asset 2\n",
      "     0.000     0.000     0.000\n",
      "     0.000   -40.000     0.000\n",
      "     0.000     0.000     0.000\n",
      "\n",
      "     0.000     0.000     0.000\n",
      "     0.000    40.000     0.000\n",
      "     0.000     0.000     0.000\n",
      "\n"
     ]
    }
   ],
   "source": [
    "γ = 3\n",
    "\n",
    "Σ_u    = [166  34  58;\n",
    "           34  64   4;\n",
    "           58   4 100]/10000\n",
    "Σ_η    = [0  0   0;\n",
    "          0  100 0;\n",
    "          0  0   0]/10000       #only asset 2 has dynamics in expected returns\n",
    "a      = [2,0.5,0.5]/100\n",
    "ϕ      = [0  0   0;             #doesn't matter for 2-period problem when z_t=0\n",
    "          0  0.9 0;\n",
    "          0  0   0]\n",
    "\n",
    "Σ_uηL =  [0  0   0;            #Cov(u,η)<0 for asset 2\n",
    "          0  -40  0;\n",
    "          0  0    0]/10000\n",
    "Σ_uηH =  [0  0   0;            #Cov(u,η)>0 for asset 2\n",
    "          0  40   0;\n",
    "          0  0    0]/10000\n",
    "\n",
    "printblue(\"The model parameters:\\n\")\n",
    "\n",
    "println(\"Σ_u*10000\")\n",
    "printmat(Σ_u*10000)\n",
    "\n",
    "println(\"Σ_η*10000\")\n",
    "printmat(Σ_η*10000)\n",
    "\n",
    "println(\"a*100\")\n",
    "printmat(a*100)\n",
    "\n",
    "println(\"\\nTwo cases: negative and positive Cov(u,η) for asset 2\")\n",
    "printmat(Σ_uηL*10000)\n",
    "printmat(Σ_uηH*10000)"
   ]
  },
  {
   "cell_type": "code",
   "execution_count": 13,
   "metadata": {},
   "outputs": [
    {
     "name": "stdout",
     "output_type": "stream",
     "text": [
      "\u001b[34m\u001b[1mPortfolio weights: myopic and 2-period investor (who can rebalance), corr(u,η) < 0\u001b[22m\u001b[39m\n",
      "                      myopic   2-period investor\n",
      "asset 1                0.532               0.516\n",
      "asset 2                0.143               0.211\n",
      "asset 3                0.019               0.026\n",
      "riskfree               0.306               0.247\n",
      "\n",
      "\u001b[34m\u001b[1mPortfolio weights: myopic and 2-period investor (who can rebalance), corr(u,η) > 0\u001b[22m\u001b[39m\n",
      "                      myopic   2-period investor\n",
      "asset 1                0.532               0.549\n",
      "asset 2                0.143               0.075\n",
      "asset 3                0.019               0.012\n",
      "riskfree               0.306               0.364\n",
      "\n"
     ]
    }
   ],
   "source": [
    "(v_myopL,v_norebL,v_rebalL) = CRRAPortOpt(Σ_u,Σ_η,Σ_uηL,a,ϕ,γ,zeros(3))     #different Cov(u,η)\n",
    "(v_myopH,v_norebH,v_rebalH) = CRRAPortOpt(Σ_u,Σ_η,Σ_uηH,a,ϕ,γ,zeros(3))\n",
    "\n",
    "\n",
    "printblue(\"Portfolio weights: myopic and 2-period investor (who can rebalance), corr(u,η) < 0\")\n",
    "xx = [v_myopL   v_rebalL;\n",
    "      1-sum(v_myopL) 1-sum(v_rebalL)]\n",
    "printmat(xx,colNames=[\"myopic\",\"2-period investor\"],rowNames=rowNames3,width=20)\n",
    "\n",
    "printblue(\"Portfolio weights: myopic and 2-period investor (who can rebalance), corr(u,η) > 0\")\n",
    "xx = [v_myopH   v_rebalH;\n",
    "      1-sum(v_myopH) 1-sum(v_rebalH)]\n",
    "printmat(xx,colNames=[\"myopic\",\"2-period investor\"],rowNames=rowNames3,width=20)"
   ]
  },
  {
   "cell_type": "code",
   "execution_count": null,
   "metadata": {},
   "outputs": [],
   "source": []
  }
 ],
 "metadata": {
  "@webio": {
   "lastCommId": null,
   "lastKernelId": null
  },
  "anaconda-cloud": {},
  "kernelspec": {
   "display_name": "Julia 1.6.0",
   "language": "julia",
   "name": "julia-1.6"
  },
  "language_info": {
   "file_extension": ".jl",
   "mimetype": "application/julia",
   "name": "julia",
   "version": "1.6.0"
  }
 },
 "nbformat": 4,
 "nbformat_minor": 1
}
