{
 "cells": [
  {
   "cell_type": "markdown",
   "metadata": {},
   "source": [
    "# Basics\n",
    "\n",
    "Calculations of returns, as well as average returns and volatility of portfolios."
   ]
  },
  {
   "cell_type": "markdown",
   "metadata": {},
   "source": [
    "## Load Packages and Extra Functions\n",
    "\n",
    "The notebook uses the functions `printmat()` and `printlnPs()` for formatted printing of matrices and numbers."
   ]
  },
  {
   "cell_type": "code",
   "execution_count": 1,
   "metadata": {},
   "outputs": [
    {
     "data": {
      "text/plain": [
       "printyellow (generic function with 1 method)"
      ]
     },
     "execution_count": 1,
     "metadata": {},
     "output_type": "execute_result"
    }
   ],
   "source": [
    "using Printf\n",
    "\n",
    "include(\"jlFiles/printmat.jl\")"
   ]
  },
  {
   "cell_type": "markdown",
   "metadata": {},
   "source": [
    "# Return Calculations\n",
    "\n",
    "The return of holding the asset between $t-1$ and $t$ is\n",
    "\n",
    "$\n",
    "R_t = (P_t+D_t)/P_{t-1} - 1\n",
    "$,\n",
    "\n",
    "where $P_t$ is the price (measured after dividends) and $D_t$ is the dividend.\n",
    "\n",
    "We can calculate the returns by a loop or by a more compact notation, see below."
   ]
  },
  {
   "cell_type": "code",
   "execution_count": 2,
   "metadata": {},
   "outputs": [
    {
     "name": "stdout",
     "output_type": "stream",
     "text": [
      "    period    return    return (alt), %\n",
      "     1.000    10.000    10.000\n",
      "     2.000     0.926     0.926\n",
      "\n"
     ]
    }
   ],
   "source": [
    "P = [100;108;109]                     #price series, after dividends\n",
    "D = [0;2;0]                           #dividends\n",
    "\n",
    "R = zeros(length(P))                  #where to store the results\n",
    "for t = 2:length(P)                   #P[2] is the 2nd element of P  \n",
    "    R[t] = (P[t] + D[t])/P[t-1] - 1\n",
    "end\n",
    "R = R[2:end]\n",
    "                                                #compact notation\n",
    "R_alt = (P[2:end] + D[2:end])./P[1:end-1] .- 1  #notice the ./ and .-\n",
    "\n",
    "println(\"    period    return    return (alt), %\")\n",
    "printmat([1:2 R*100 R_alt*100])"
   ]
  },
  {
   "cell_type": "markdown",
   "metadata": {},
   "source": [
    "# Cumulating Returns\n",
    "\n",
    "Net returns can be cumulated into a portfolio value as \n",
    "\n",
    "$\n",
    "V_t = V_{t-1}(1+R_t)\n",
    "$\n",
    "\n",
    "where we need a starting value (initial investment) for the portfolio (a common choice is to normalise to $V_0=1$).\n",
    "\n",
    "With log returns, $r_t=\\log(1+R_t)$, we instead do \n",
    "\n",
    "$\n",
    "\\ln V_t = \\ln V_{t-1} + r_t\n",
    "$\n",
    "\n",
    "If the return series is an excess return, add the riskfree rate to convert it to get net returns - and then cumulate as described above."
   ]
  },
  {
   "cell_type": "code",
   "execution_count": 3,
   "metadata": {},
   "outputs": [
    {
     "name": "stdout",
     "output_type": "stream",
     "text": [
      "   period    return       V        logV\n",
      "     1.000     0.200     1.200     0.182\n",
      "     2.000    -0.350     0.780    -0.248\n",
      "     3.000     0.250     0.975    -0.025\n",
      "\n",
      "Check that logV really equals log.(V). Also, try a loop instead\n"
     ]
    }
   ],
   "source": [
    "R   = [20;-35;25]/100                #returns for t=1,2,3\n",
    "V   = cumprod(1 .+ R)                #V(t) = V(t-1)*(1+R(t)), starting at 1 in t=0\n",
    "lnV = cumsum(log.(1 .+ R))           #lnV(t) = lnV(t-1) + r(t) \n",
    "\n",
    "println(\"   period    return       V        logV\")\n",
    "printmat([1:3 R V lnV])\n",
    "\n",
    "println(\"Check that logV really equals log.(V). Also, try a loop instead\")"
   ]
  },
  {
   "cell_type": "markdown",
   "metadata": {},
   "source": [
    "# Portfolio Return: Definition, Expected Value and Variance"
   ]
  },
  {
   "cell_type": "markdown",
   "metadata": {},
   "source": [
    "With portfolio weights in the vector $w$, the portfolio return, the expected portfolio return and the portfolio variance can be computed as\n",
    "\n",
    "$R_p = w'R$, \n",
    "\n",
    "$\\text{E}R_p = w'\\mu$ and \n",
    "\n",
    "$\\text{Var}(R_p) = w'\\Sigma w$"
   ]
  },
  {
   "cell_type": "code",
   "execution_count": 4,
   "metadata": {},
   "outputs": [
    {
     "name": "stdout",
     "output_type": "stream",
     "text": [
      "portfolio weights (for the two assets): \n",
      "     0.800\n",
      "     0.200\n",
      "\n",
      "Returns of assets: \n",
      "     0.100\n",
      "     0.050\n",
      "\n",
      "Portfolio return:      0.090\n"
     ]
    }
   ],
   "source": [
    "w = [0.8;0.2]\n",
    "R = [10;5]/100          #returns of asset 1 and 2\n",
    "Rp = w'R\n",
    "\n",
    "println(\"portfolio weights (for the two assets): \")\n",
    "printmat(w)\n",
    "println(\"Returns of assets: \")\n",
    "printmat(R)\n",
    "printlnPs(\"Portfolio return: \",Rp)"
   ]
  },
  {
   "cell_type": "code",
   "execution_count": 5,
   "metadata": {},
   "outputs": [
    {
     "name": "stdout",
     "output_type": "stream",
     "text": [
      "expected returns of the assets *100: \n",
      "     9.000\n",
      "     6.000\n",
      "\n",
      "covariance matrix*100^2:\n",
      "   256.000    96.000\n",
      "    96.000   144.000\n",
      "\n"
     ]
    }
   ],
   "source": [
    "μ = [9;6]/100                    #\\mu and tab to get this\n",
    "Σ = [256 96;\n",
    "     96 144]/100^2\n",
    "\n",
    "println(\"expected returns of the assets *100: \")\n",
    "printmat(μ*100)\n",
    "\n",
    "println(\"covariance matrix*100^2:\")\n",
    "printmat(Σ*100^2)"
   ]
  },
  {
   "cell_type": "code",
   "execution_count": 6,
   "metadata": {},
   "outputs": [
    {
     "name": "stdout",
     "output_type": "stream",
     "text": [
      "Expected portfolio return:      0.084\n",
      "Portfolio variance and std:     0.020     0.142\n"
     ]
    }
   ],
   "source": [
    "ERp   = w'μ\n",
    "VarRp = w'Σ*w\n",
    "\n",
    "printlnPs(\"Expected portfolio return: \",ERp)\n",
    "printlnPs(\"Portfolio variance and std:\",VarRp,sqrt(VarRp))"
   ]
  },
  {
   "cell_type": "code",
   "execution_count": 7,
   "metadata": {},
   "outputs": [
    {
     "name": "stdout",
     "output_type": "stream",
     "text": [
      "Portfolio std if the assets were negatively correlated:      0.118\n"
     ]
    }
   ],
   "source": [
    "Σb = [256 -96;\n",
    "      -96 144]/100^2\n",
    "\n",
    "printlnPs(\"Portfolio std if the assets were negatively correlated: \",sqrt(w'Σb*w))"
   ]
  },
  {
   "cell_type": "code",
   "execution_count": null,
   "metadata": {},
   "outputs": [],
   "source": []
  }
 ],
 "metadata": {
  "@webio": {
   "lastCommId": null,
   "lastKernelId": null
  },
  "anaconda-cloud": {},
  "kernelspec": {
   "display_name": "Julia 1.6.0",
   "language": "julia",
   "name": "julia-1.6"
  },
  "language_info": {
   "file_extension": ".jl",
   "mimetype": "application/julia",
   "name": "julia",
   "version": "1.6.0"
  }
 },
 "nbformat": 4,
 "nbformat_minor": 1
}
