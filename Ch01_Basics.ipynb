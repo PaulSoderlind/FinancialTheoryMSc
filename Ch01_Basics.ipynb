{
 "cells": [
  {
   "cell_type": "markdown",
   "metadata": {},
   "source": [
    "# Basics\n",
    "\n",
    "of return calculations: returns, average returns and volatilities of portfolios."
   ]
  },
  {
   "cell_type": "markdown",
   "metadata": {},
   "source": [
    "## Load Packages and Extra Functions\n",
    "\n",
    "The notebook uses the functions `printmat()` and `printlnPs()` for formatted printing of matrices and numbers. These functions call on the `Printf` package."
   ]
  },
  {
   "cell_type": "code",
   "execution_count": 1,
   "metadata": {},
   "outputs": [
    {
     "data": {
      "text/plain": [
       "printyellow (generic function with 1 method)"
      ]
     },
     "execution_count": 1,
     "metadata": {},
     "output_type": "execute_result"
    }
   ],
   "source": [
    "using Printf\n",
    "\n",
    "include(\"jlFiles/printmat.jl\")"
   ]
  },
  {
   "cell_type": "markdown",
   "metadata": {},
   "source": [
    "# Return Calculations\n",
    "\n",
    "The return of holding the asset between $t-1$ and $t$ is\n",
    "\n",
    "$\n",
    "R_t = (P_t+D_t)/P_{t-1} - 1,\n",
    "$\n",
    "\n",
    "where $P_t$ is the price (measured after dividends) and $D_t$ is the dividend.\n",
    "\n",
    "We can calculate the returns by a loop or by a more compact notation, see below."
   ]
  },
  {
   "cell_type": "code",
   "execution_count": 2,
   "metadata": {},
   "outputs": [
    {
     "name": "stdout",
     "output_type": "stream",
     "text": [
      "period      return, %\n",
      "2              10.000\n",
      "3               0.926\n",
      "\n"
     ]
    }
   ],
   "source": [
    "P = [100,108,109]                     #prices (after dividends) for t=1,2,3\n",
    "D = [0,2,0]                           #dividends, could also use [0;2;0]\n",
    "\n",
    "R = zeros(length(P))                  #where to store the results\n",
    "for t = 2:length(P)                   #P[2] is the 2nd element of P  \n",
    "    R[t] = (P[t] + D[t])/P[t-1] - 1\n",
    "end\n",
    "R = R[2:end]                          #get rid of R[1] since we have no return there\n",
    "\n",
    "printmat(R*100,colNames=[\"return, %\"],rowNames=2:3,cell00=\"period\",width=15)\n",
    "\n",
    "#R_alt = (P[2:end] + D[2:end])./P[1:end-1] .- 1  #vectorized alternative, notice the ./ and .-"
   ]
  },
  {
   "cell_type": "markdown",
   "metadata": {},
   "source": [
    "# Cumulating Returns\n",
    "\n",
    "Net returns can be cumulated into a portfolio value as \n",
    "\n",
    "$\n",
    "V_t = V_{t-1}(1+R_t)\n",
    "$\n",
    "\n",
    "where we need a starting value (initial investment) for the portfolio (a common choice is to normalise to $V_0=1$).\n",
    "\n",
    "With log returns, $r_t=\\log(1+R_t)$, we instead do \n",
    "\n",
    "$\n",
    "\\ln V_t = \\ln V_{t-1} + r_t\n",
    "$\n",
    "\n",
    "If the return series is an excess return, add the riskfree rate to convert it to get net returns - and then cumulate as described above.\n",
    "\n",
    "### A Remark on the Code\n",
    "Use `cumprod([a,b]` to calculate `[a,a*b]` and `cumsum([a,b]` to calculate `[a,a+b]`."
   ]
  },
  {
   "cell_type": "code",
   "execution_count": 3,
   "metadata": {},
   "outputs": [
    {
     "name": "stdout",
     "output_type": "stream",
     "text": [
      "period         R         V       lnV\n",
      "1          0.200     1.200     0.182\n",
      "2         -0.350     0.780    -0.248\n",
      "3          0.250     0.975    -0.025\n",
      "\n",
      "\u001b[31m\u001b[1mCheck that lnV really equals log.(V). Also, try a loop instead\u001b[22m\u001b[39m\n"
     ]
    }
   ],
   "source": [
    "R   = [20,-35,25]/100                #returns for t=1,2,3\n",
    "V   = cumprod(1.0 .+ R)              #V(t) = V(t-1)*(1+R(t)), starting at 1 in t=0\n",
    "r   = log.(1.0 .+ R)                 #log returns\n",
    "lnV = cumsum(r)                      #lnV(t) = lnV(t-1) + r(t) \n",
    "\n",
    "printmat(R,V,lnV,colNames=[\"R\",\"V\",\"lnV\"],rowNames=1:3,cell00=\"period\")\n",
    "\n",
    "printred(\"Check that lnV really equals log.(V). Also, try a loop instead\")"
   ]
  },
  {
   "cell_type": "markdown",
   "metadata": {},
   "source": [
    "# Portfolio Return: Definition, Expected Value and Variance"
   ]
  },
  {
   "cell_type": "markdown",
   "metadata": {},
   "source": [
    "We form a portfolio by combining $n$ assets: $w$ is the vector of $n$ portfolio weights, $R$ is a vector of returns, $\\mu$ a vector of expected expected (average) returns and $\\Sigma$ the $n \\times n$ covariance matrix.\n",
    "\n",
    "The portfolio return, the expected portfolio return and the portfolio variance can be computed as:\n",
    "\n",
    "$R_p = w'R,$\n",
    "\n",
    "$\\text{E}R_p = w'\\mu$ and\n",
    "\n",
    "$\\text{Var}(R_p) = w'\\Sigma w$\n",
    "\n",
    "The covariance of two portfolios (with weights $v$ and $w$, respectively) can be computed as \n",
    "\n",
    "$\\text{Cov}(R_q,R_p) = v'\\Sigma w$."
   ]
  },
  {
   "cell_type": "code",
   "execution_count": 4,
   "metadata": {},
   "outputs": [
    {
     "name": "stdout",
     "output_type": "stream",
     "text": [
      "\u001b[34m\u001b[1mPortfolio weights:\u001b[22m\u001b[39m\n",
      "asset 1     0.800\n",
      "asset 2     0.200\n",
      "\n",
      "\u001b[34m\u001b[1mReturns:\u001b[22m\u001b[39m\n",
      "asset 1     0.100\n",
      "asset 2     0.050\n",
      "\n",
      "\u001b[34m\u001b[1mPortfolio return: \u001b[22m\u001b[39m\n",
      "     0.090\n"
     ]
    }
   ],
   "source": [
    "w = [0.8,0.2]\n",
    "R = [10,5]/100          #returns of asset 1 and 2\n",
    "Rₚ = w'R                #R\\_p[TAB] to get Rₚ\n",
    "\n",
    "printblue(\"Portfolio weights:\")\n",
    "printmat(w,rowNames=[\"asset 1\",\"asset 2\"])\n",
    "\n",
    "printblue(\"Returns:\")\n",
    "printmat(R,rowNames=[\"asset 1\",\"asset 2\"])\n",
    "\n",
    "printblue(\"Portfolio return: \")\n",
    "printlnPs(Rₚ)"
   ]
  },
  {
   "cell_type": "code",
   "execution_count": 5,
   "metadata": {},
   "outputs": [
    {
     "name": "stdout",
     "output_type": "stream",
     "text": [
      "\u001b[34m\u001b[1mexpected returns*100: \u001b[22m\u001b[39m\n",
      "asset 1     9.000\n",
      "asset 2     6.000\n",
      "\n",
      "\u001b[34m\u001b[1mcovariance matrix*100^2:\u001b[22m\u001b[39m\n",
      "          asset 1   asset 2\n",
      "asset 1   256.000    96.000\n",
      "asset 2    96.000   144.000\n",
      "\n"
     ]
    }
   ],
   "source": [
    "μ = [9,6]/100                    #\\mu[TAB] to get μ\n",
    "Σ = [256 96;                     #\\Sigma[TAB]\n",
    "     96 144]/100^2\n",
    "\n",
    "printblue(\"expected returns*100: \")\n",
    "printmat(μ*100,rowNames=[\"asset 1\",\"asset 2\"])\n",
    "\n",
    "printblue(\"covariance matrix*100^2:\")\n",
    "printmat(Σ*100^2,rowNames=[\"asset 1\",\"asset 2\"],colNames=[\"asset 1\",\"asset 2\"])"
   ]
  },
  {
   "cell_type": "code",
   "execution_count": 6,
   "metadata": {
    "scrolled": true
   },
   "outputs": [
    {
     "name": "stdout",
     "output_type": "stream",
     "text": [
      "Expected portfolio return:      0.084\n",
      "Portfolio variance and std:     0.020     0.142\n"
     ]
    }
   ],
   "source": [
    "ERₚ   = w'μ\n",
    "VarRₚ = w'Σ*w\n",
    "\n",
    "printlnPs(\"Expected portfolio return: \",ERₚ)\n",
    "printlnPs(\"Portfolio variance and std:\",VarRₚ,sqrt(VarRₚ))"
   ]
  },
  {
   "cell_type": "code",
   "execution_count": 7,
   "metadata": {},
   "outputs": [
    {
     "name": "stdout",
     "output_type": "stream",
     "text": [
      "Covariance of q and p:      0.014\n"
     ]
    }
   ],
   "source": [
    "v = [0.3,0.7]              #weights in portfolio q\n",
    "\n",
    "printlnPs(\"Covariance of q and p: \",v'Σ*w)"
   ]
  },
  {
   "cell_type": "code",
   "execution_count": null,
   "metadata": {},
   "outputs": [],
   "source": []
  }
 ],
 "metadata": {
  "@webio": {
   "lastCommId": null,
   "lastKernelId": null
  },
  "anaconda-cloud": {},
  "kernelspec": {
   "display_name": "Julia 1.7.2",
   "language": "julia",
   "name": "julia-1.7"
  },
  "language_info": {
   "file_extension": ".jl",
   "mimetype": "application/julia",
   "name": "julia",
   "version": "1.7.2"
  }
 },
 "nbformat": 4,
 "nbformat_minor": 4
}
