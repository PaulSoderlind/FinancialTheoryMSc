{
 "cells": [
  {
   "cell_type": "markdown",
   "metadata": {},
   "source": [
    "# Betas and Covariance Matrices\n",
    "\n",
    "This notebook estimates (single and multi-) index models. It uses those to construct (alternative) estimates of the covariance matrix of the asset returns."
   ]
  },
  {
   "cell_type": "markdown",
   "metadata": {},
   "source": [
    "## Load Packages and Extra Functions"
   ]
  },
  {
   "cell_type": "code",
   "execution_count": 1,
   "metadata": {},
   "outputs": [],
   "source": [
    "using Printf, LinearAlgebra, Statistics, DelimitedFiles\n",
    "\n",
    "include(\"jlFiles/printmat.jl\")\n",
    "include(\"jlFiles/OlsM.jl\");"
   ]
  },
  {
   "cell_type": "markdown",
   "metadata": {},
   "source": [
    "## Loading Data\n",
    "\n",
    "We load data from two data files: for the returns on Fama-French equity factors and then also for the 25 Fama-French portfolios. To keep the output simple (easy to display...), we use only 5 of those portfolios."
   ]
  },
  {
   "cell_type": "code",
   "execution_count": 2,
   "metadata": {
    "tags": []
   },
   "outputs": [
    {
     "data": {
      "text/plain": [
       "(388, 5)"
      ]
     },
     "execution_count": 2,
     "metadata": {},
     "output_type": "execute_result"
    }
   ],
   "source": [
    "x    = readdlm(\"Data/FFmFactorsPs.csv\",',',skipstart=1)\n",
    "Rme  = x[:,2]                #market excess return\n",
    "RSMB = x[:,3]                #small minus big firms\n",
    "RHML = x[:,4]                #high minus low book-to-market ratio\n",
    "Rf   = x[:,5]                #interest rate\n",
    "\n",
    "x  = readdlm(\"Data/FF25Ps.csv\",',') #no header line: x is matrix\n",
    "R  = x[:,2:end]                     #returns for 25 FF portfolios\n",
    "Re = R .- Rf                        #excess returns for the 25 FF portfolios\n",
    "Re = Re[:,[1,7,13,19,25]]           #use just 5 assets to make the printing easier\n",
    "\n",
    "(T,n) = size(Re)                    #no. obs and  no. test assets"
   ]
  },
  {
   "cell_type": "markdown",
   "metadata": {},
   "source": [
    "# Covariance Matrix with Average Correlations\n",
    "\n",
    "The next cell contains to two functions that will help us construct a covariance matrix from *(a)* estimated standard deviations and *(b)* a common (average) number for all correlations."
   ]
  },
  {
   "cell_type": "code",
   "execution_count": 3,
   "metadata": {},
   "outputs": [
    {
     "data": {
      "text/plain": [
       "Cov_withSameCorr"
      ]
     },
     "execution_count": 3,
     "metadata": {},
     "output_type": "execute_result"
    }
   ],
   "source": [
    "\"\"\"\n",
    "    vech(x,k=0)\n",
    "\n",
    "Stack the matrix elements on and below the principal diagonal into a vector (k=0). \n",
    "With k=-1, instead stacks just the elements below the diagonal.\n",
    "\"\"\"\n",
    "function vech(x,k=0)\n",
    "    vv = tril(trues(size(x)),k)\n",
    "    y  = x[vv]\n",
    "    return y\n",
    "end\n",
    "\n",
    "\n",
    "\"\"\"\n",
    "Cov_withSameCorr(σ,ρ)    \n",
    "\n",
    "Compute covariance matrix from vector of standard deviations (σ) \n",
    "and a single correlation (assumed to be the same across all pairs).\n",
    "\"\"\"\n",
    "function Cov_withSameCorr(σ,ρ)\n",
    "    σ = vec(σ)                         #to make sure it is a vector\n",
    "    n = length(σ)\n",
    "    CorrMat = ones(n,n)*ρ + (1-ρ)*I    #corr matrix, correlation = ρ\n",
    "    CovMat  = (σ*σ').*CorrMat\n",
    "    return CovMat\n",
    "end"
   ]
  },
  {
   "cell_type": "code",
   "execution_count": 4,
   "metadata": {},
   "outputs": [
    {
     "name": "stdout",
     "output_type": "stream",
     "text": [
      "\u001b[34m\u001b[1mCorrelation matrix:\u001b[22m\u001b[39m\n",
      "     1.000     0.821     0.664     0.581     0.468\n",
      "     0.821     1.000     0.919     0.819     0.696\n",
      "     0.664     0.919     1.000     0.909     0.805\n",
      "     0.581     0.819     0.909     1.000     0.852\n",
      "     0.468     0.696     0.805     0.852     1.000\n",
      "\n",
      "\u001b[34m\u001b[1mAverage correlation:\u001b[22m\u001b[39m\n",
      "     0.753\n"
     ]
    }
   ],
   "source": [
    "S = cov(Re)  #Covariance matrix calculated from data (to compare with)         \n",
    "#printblue(\"Covariance matrix calculated from data (to compare with):\")\n",
    "#printmat(S)\n",
    "\n",
    "C = cor(Re)              #nxn correlation matrix\n",
    "printblue(\"Correlation matrix:\")\n",
    "printmat(C)\n",
    "\n",
    "ρ_avg = mean(vech(C,-1))\n",
    "printblue(\"Average correlation:\")\n",
    "printlnPs(ρ_avg)"
   ]
  },
  {
   "cell_type": "code",
   "execution_count": 5,
   "metadata": {},
   "outputs": [
    {
     "name": "stdout",
     "output_type": "stream",
     "text": [
      "\u001b[34m\u001b[1mCovariance matrix assuming same correlation:\u001b[22m\u001b[39m\n",
      "    73.475    39.483    33.433    32.422    32.509\n",
      "    39.483    37.371    23.844    23.123    23.185\n",
      "    33.433    23.844    26.796    19.580    19.632\n",
      "    32.422    23.123    19.580    25.200    19.039\n",
      "    32.509    23.185    19.632    19.039    25.335\n",
      "\n",
      "\u001b[34m\u001b[1mDifference to data:\u001b[22m\u001b[39m\n",
      "     0.000    -3.540     3.962     7.410    12.321\n",
      "    -3.540    -0.000    -5.229    -2.013     1.778\n",
      "     3.962    -5.229    -0.000    -4.052    -1.349\n",
      "     7.410    -2.013    -4.052    -0.000    -2.494\n",
      "    12.321     1.778    -1.349    -2.494    -0.000\n",
      "\n"
     ]
    }
   ],
   "source": [
    "Σ₁ = Cov_withSameCorr(std(Re,dims=1),ρ_avg)\n",
    "\n",
    "printblue(\"Covariance matrix assuming same correlation:\")\n",
    "printmat(Σ₁)\n",
    "\n",
    "printblue(\"Difference to data:\")\n",
    "printmat(Σ₁-S)"
   ]
  },
  {
   "attachments": {},
   "cell_type": "markdown",
   "metadata": {},
   "source": [
    "# Covariance Matrix from a Single-Index Model\n",
    "\n",
    "## Step 1: Do Regressions\n",
    "\n",
    "### A Remark on the Code\n",
    "- The function `OlsM` is included in the file `OlsM.jl` (see the first cell of the notebook). It does OLS estimation and reports the point estimates and standard deviations of the residuals.\n",
    "- The functions reports for several dependent variables (different columns in the first function input)."
   ]
  },
  {
   "cell_type": "code",
   "execution_count": 6,
   "metadata": {},
   "outputs": [
    {
     "name": "stdout",
     "output_type": "stream",
     "text": [
      "\u001b[34m\u001b[1mβ for 5 assets, from OLS of Re on constant and Rme:\u001b[22m\u001b[39m\n",
      "           asset 1   asset 2   asset 3   asset 4   asset 5\n",
      "β on Rme     1.341     1.169     0.994     0.943     0.849\n",
      "\n"
     ]
    }
   ],
   "source": [
    "x          = [ones(T) Rme]                   #regressors\n",
    "\n",
    "(b,σ)      = OlsM(Re,x)                      \n",
    "(β,VarRes) = (b[2:2,:],vec(σ).^2)\n",
    "\n",
    "colNames = [string(\"asset \",i) for i=1:n]\n",
    "printblue(\"β for $n assets, from OLS of Re on constant and Rme:\")\n",
    "printmat(β,colNames=colNames,rowNames=[\"β on Rme\"])"
   ]
  },
  {
   "cell_type": "markdown",
   "metadata": {},
   "source": [
    "## Step 2: Use OLS Estimates to Calculate the Covariance Matrix\n",
    "\n",
    "The single index model implies that the covariance of assets $i$ and $j$ is\n",
    "\n",
    "$\\sigma_{ij} = \\beta_i \\beta_j \\text{Var}(R_{mt}) + \\text{Cov}(\\varepsilon_{it},\\varepsilon_{jt}),$\n",
    "\n",
    "but where we *assume* that $\\text{Cov}(\\varepsilon_{it},\\varepsilon_{jt}) = 0 \\ \\text{ if } \\ i \\neq j$\n",
    "\n",
    "The betas are typically estimated by a linear regression (OLS), as above.\n",
    "\n",
    "### A Remark on the Code\n",
    "- The `CovFromIndexModel()` function can handle both the case with one factor (as used here) and with several factors (a multi-index model, as will be used further down). In the code $\\beta$ is a $K \\times n$ matrix, where $K$ is the number of factors ($K=1$ for the single index model) and $n$ is the number of assets."
   ]
  },
  {
   "cell_type": "code",
   "execution_count": 7,
   "metadata": {},
   "outputs": [
    {
     "data": {
      "text/plain": [
       "CovFromIndexModel"
      ]
     },
     "execution_count": 7,
     "metadata": {},
     "output_type": "execute_result"
    }
   ],
   "source": [
    "\"\"\"\n",
    "    CovFromIndexModel(b,VarRes,Ω)\n",
    "\n",
    "Calculate covariance matrix from a multi-factor model.\n",
    "\n",
    "b is Kxn where K is the number of factors and n is the number of assets.\n",
    "\n",
    "Cov(Ri,Rj) = bᵢ'*Ω*bⱼ, where Ω is the Cov(indices) and bᵢ is the vector of regression\n",
    "coefficients when regressing Ri on a constant and the indices (and bⱼ is for asset j).\n",
    "\"\"\"\n",
    "function CovFromIndexModel(b,VarRes,Ω)    #coefs for regression i is in b[:,i]\n",
    "    n    = length(VarRes)\n",
    "    CovR = fill(NaN,n,n)\n",
    "    for i = 1:n, j = 1:n         #loop over both i and j\n",
    "        CovR[i,j] = i == j ? b[:,i]'Ω*b[:,i] + VarRes[i] : b[:,i]'Ω*b[:,j]\n",
    "    end\n",
    "    return CovR\n",
    "end"
   ]
  },
  {
   "cell_type": "code",
   "execution_count": 8,
   "metadata": {},
   "outputs": [
    {
     "name": "stdout",
     "output_type": "stream",
     "text": [
      "\u001b[34m\u001b[1mCovariance matrix calculated from betas:\u001b[22m\u001b[39m\n",
      "    73.475    33.232    28.269    26.797    24.146\n",
      "    33.232    37.371    24.644    23.361    21.049\n",
      "    28.269    24.644    26.796    19.872    17.906\n",
      "    26.797    23.361    19.872    25.200    16.973\n",
      "    24.146    21.049    17.906    16.973    25.335\n",
      "\n",
      "\u001b[34m\u001b[1mDifference to data:\u001b[22m\u001b[39m\n",
      "    -0.000    -9.791    -1.202     1.784     3.958\n",
      "    -9.791    -0.000    -4.428    -1.775    -0.357\n",
      "    -1.202    -4.428    -0.000    -3.760    -3.075\n",
      "     1.784    -1.775    -3.760    -0.000    -4.560\n",
      "     3.958    -0.357    -3.075    -4.560     0.000\n",
      "\n"
     ]
    }
   ],
   "source": [
    "σₘₘ = var(Rme)\n",
    "Σ₂ = CovFromIndexModel(β,VarRes,σₘₘ)\n",
    "\n",
    "printblue(\"Covariance matrix calculated from betas:\")\n",
    "printmat(Σ₂)\n",
    "\n",
    "printblue(\"Difference to data:\")\n",
    "printmat(Σ₂-S)"
   ]
  },
  {
   "cell_type": "markdown",
   "metadata": {},
   "source": [
    "# Covariance Matrix from a Multi-Index Model\n",
    "\n",
    "A multi-index model is based on \n",
    "\n",
    "$R_{it} =a_{i}+b_{i}^{\\prime}I_{t}+\\varepsilon_{it}$,\n",
    "\n",
    "where $b_{i}$ is a $K$-vector of slope coefficients.\n",
    "\n",
    "If $\\Omega$ is the covariance matrix of the indices $I_t$, then the covariance of\n",
    "assets $i$ and $j$ is\n",
    "\n",
    "$\\sigma_{ij}=b_{i}^{\\prime}\\Omega b_{j}  + \\text{Cov}(\\varepsilon_{it},\\varepsilon_{jt}),$\n",
    "\n",
    "but where we assume that $\\text{Cov}(\\varepsilon_{it},\\varepsilon_{jt}) = 0 \\ \\text{ if } \\ i \\neq j$"
   ]
  },
  {
   "cell_type": "code",
   "execution_count": 9,
   "metadata": {},
   "outputs": [
    {
     "name": "stdout",
     "output_type": "stream",
     "text": [
      "\u001b[34m\u001b[1mOLS slope coefficients:\u001b[22m\u001b[39m\n",
      "            asset 1   asset 2   asset 3   asset 4   asset 5\n",
      "β on Rme      1.070     1.080     1.035     1.056     1.041\n",
      "β on RSMB     1.264     0.768     0.437     0.153    -0.088\n",
      "β on RHML    -0.278     0.160     0.487     0.603     0.770\n",
      "\n"
     ]
    }
   ],
   "source": [
    "x          = [ones(T) Rme RSMB RHML]               #regressors\n",
    "\n",
    "(b,σ)      = OlsM(Re,x)                      \n",
    "(β,VarRes) = (b[2:end,:],vec(σ).^2)\n",
    "\n",
    "printblue(\"OLS slope coefficients:\")\n",
    "printmat(β,colNames=colNames,rowNames=[\"β on Rme\", \"β on RSMB\", \"β on RHML\"])"
   ]
  },
  {
   "cell_type": "code",
   "execution_count": 10,
   "metadata": {},
   "outputs": [
    {
     "name": "stdout",
     "output_type": "stream",
     "text": [
      "\u001b[34m\u001b[1mCovariance matrix calculated from betas:\u001b[22m\u001b[39m\n",
      "    73.475    41.847    31.050    25.449    18.940\n",
      "    41.847    37.371    27.384    24.141    20.145\n",
      "    31.050    27.384    26.796    22.239    20.109\n",
      "    25.449    24.141    22.239    25.200    20.717\n",
      "    18.940    20.145    20.109    20.717    25.335\n",
      "\n",
      "\u001b[34m\u001b[1mDifference to data:\u001b[22m\u001b[39m\n",
      "    -0.000    -1.176     1.578     0.436    -1.248\n",
      "    -1.176    -0.000    -1.688    -0.995    -1.261\n",
      "     1.578    -1.688    -0.000    -1.393    -0.873\n",
      "     0.436    -0.995    -1.393    -0.000    -0.816\n",
      "    -1.248    -1.261    -0.873    -0.816    -0.000\n",
      "\n"
     ]
    }
   ],
   "source": [
    "Ω = cov(x[:,2:end])      #covariance matrix of the (non-constant) factors\n",
    "\n",
    "Σ₃ = CovFromIndexModel(β,VarRes,Ω)\n",
    "\n",
    "printblue(\"Covariance matrix calculated from betas:\")\n",
    "printmat(Σ₃)\n",
    "\n",
    "printblue(\"Difference to data:\")\n",
    "printmat(Σ₃-S)"
   ]
  },
  {
   "cell_type": "markdown",
   "metadata": {},
   "source": [
    "# A Shrinkage Estimator\n",
    "\n",
    "is \n",
    "\n",
    "$\n",
    "\\Sigma = \\delta F + (1-\\delta)S\n",
    "$,\n",
    "\n",
    "where $0 < \\delta < 1$, $F$ is the \"target covariance matrix\" (for instance, from the constant correlation approach or one of the index models) and $S$ is the sample variance-covariance matrix. \n",
    "\n",
    "This approach will (by definition) be worse in-sample, but may well be better out-of-sample (a forecast for the coming period)."
   ]
  },
  {
   "cell_type": "code",
   "execution_count": 11,
   "metadata": {},
   "outputs": [
    {
     "name": "stdout",
     "output_type": "stream",
     "text": [
      "    73.475    40.899    31.849    29.458    27.581\n",
      "    40.899    37.371    25.935    23.928    22.473\n",
      "    31.849    25.935    26.796    21.201    20.172\n",
      "    29.458    23.928    21.201    25.200    20.036\n",
      "    27.581    22.473    20.172    20.036    25.335\n",
      "\n"
     ]
    }
   ],
   "source": [
    "δ = 0.6\n",
    "Σ₄ = δ*Σ₁ + (1-δ)*S\n",
    "\n",
    "printmat(Σ₄)"
   ]
  },
  {
   "cell_type": "code",
   "execution_count": null,
   "metadata": {},
   "outputs": [],
   "source": []
  }
 ],
 "metadata": {
  "@webio": {
   "lastCommId": null,
   "lastKernelId": null
  },
  "anaconda-cloud": {},
  "kernelspec": {
   "display_name": "Julia 1.10.4",
   "language": "julia",
   "name": "julia-1.10"
  },
  "language_info": {
   "file_extension": ".jl",
   "mimetype": "application/julia",
   "name": "julia",
   "version": "1.10.4"
  }
 },
 "nbformat": 4,
 "nbformat_minor": 4
}
