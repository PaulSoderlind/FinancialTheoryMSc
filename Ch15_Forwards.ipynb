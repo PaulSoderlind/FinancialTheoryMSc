{
 "cells": [
  {
   "cell_type": "markdown",
   "metadata": {},
   "source": [
    "# Forward Contracts\n",
    "\n",
    "This notebook introduces forward contracts and applies the forward-spot parity to different assets."
   ]
  },
  {
   "cell_type": "markdown",
   "metadata": {},
   "source": [
    "## Load Packages and Extra Functions"
   ]
  },
  {
   "cell_type": "code",
   "execution_count": 1,
   "metadata": {},
   "outputs": [],
   "source": [
    "using Printf\n",
    "\n",
    "include(\"jlFiles/printmat.jl\");"
   ]
  },
  {
   "cell_type": "code",
   "execution_count": 2,
   "metadata": {},
   "outputs": [],
   "source": [
    "using Plots\n",
    "\n",
    "#pyplot(size=(600,400))\n",
    "gr(size=(480,320))\n",
    "default(fmt = :png)"
   ]
  },
  {
   "cell_type": "markdown",
   "metadata": {},
   "source": [
    "# Present Value\n",
    "\n",
    "With a continuously compounded interest rate $y$, the present value of receiving $Z$ in $m$ years is \n",
    "\n",
    "$e^{-my}Z$."
   ]
  },
  {
   "cell_type": "code",
   "execution_count": 3,
   "metadata": {},
   "outputs": [
    {
     "name": "stdout",
     "output_type": "stream",
     "text": [
      "PV of 100 when m=0.75 and y=0.05:     96.319\n"
     ]
    }
   ],
   "source": [
    "y  = 0.05\n",
    "m  = 3/4\n",
    "Z  = 100\n",
    "PV = exp(-m*y)*Z\n",
    "\n",
    "printlnPs(\"PV of $Z when m=$m and y=$y: \",PV)"
   ]
  },
  {
   "cell_type": "markdown",
   "metadata": {},
   "source": [
    "# Payoff of Forward Contract\n",
    "\n",
    "The payoff of a forward contract (at expiration, $m$ periods ahead) is $S_{m}-F$, where $S_m$ is the values of the underlying (at expiration) and $F$ is the forward price (agreed upon at inception of the contract)."
   ]
  },
  {
   "cell_type": "code",
   "execution_count": 4,
   "metadata": {},
   "outputs": [
    {
     "data": {
      "image/png": "[encoded data removed]"
     },
     "metadata": {},
     "output_type": "display_data"
    }
   ],
   "source": [
    "Sₘ = range(0,15,length=16)   #possible values of the underlying price at expiration\n",
    "F  = 5\n",
    "ForwardPayoff = Sₘ .- F\n",
    "\n",
    "p1 = plot( Sₘ,ForwardPayoff,\n",
    "           linecolor = :red,\n",
    "           linewidth = 2,\n",
    "           legend = false,\n",
    "           title = \"Payoff of forward contract (F = $F)\",\n",
    "           xlabel = \"Asset price at expiration\" )\n",
    "hline!([0],linecolor=:black,line=(:dash,1,0.5))\n",
    "vline!([F],linecolor=:black,line=(:dash,1,0.5))\n",
    "display(p1)"
   ]
  },
  {
   "cell_type": "markdown",
   "metadata": {},
   "source": [
    "# Forward-Spot Parity\n",
    "\n",
    "For an asset without dividends (at least until expiration of the forward contract), \n",
    "\n",
    "$F=e^{my}S,$ \n",
    "\n",
    "where $F$ is the forward proce, $S$ the *current* spot price, $m$ the time to expiration of the forward contract and $y$ the interest rate.\n",
    "\n",
    "In contrast, for an asset with continuous dividends at the rate $\\delta$, \n",
    "\n",
    "$F=e^{m(y-\\delta)}S$."
   ]
  },
  {
   "cell_type": "code",
   "execution_count": 5,
   "metadata": {},
   "outputs": [
    {
     "name": "stdout",
     "output_type": "stream",
     "text": [
      "\u001b[34m\u001b[1mForward prices:\u001b[22m\u001b[39m\n",
      "    no dividends  with dividends\n",
      "         103.821         103.045\n",
      "\n"
     ]
    }
   ],
   "source": [
    "y   = 0.05         #interest rate\n",
    "m   = 3/4          #time to expiration (in years)\n",
    "S   = 100          #spot price now, assumed to be the same across δ values\n",
    "F_A = exp(m*y)*S   #forward price\n",
    "\n",
    "δ   = 0.01             #dividend rate \n",
    "F_B = exp(m*(y-δ))*S   #forward price when there are dividends\n",
    "\n",
    "printblue(\"Forward prices:\")\n",
    "printmat([F_A F_B],colNames=[\"no dividends\";\"with dividends\"],width=16)"
   ]
  },
  {
   "cell_type": "markdown",
   "metadata": {},
   "source": [
    "### Forward Price of a Bond\n",
    "\n",
    "The forward price (in a forward contract with expiration in $m$) of a bond that matures in $n \\geq m$ is \n",
    "\n",
    "$F=e^{my(m)}B(n),$ \n",
    "\n",
    "where $y(m)$ denotes the interest for an $m$-period loan.\n",
    "\n",
    "By definition, $1/B(m)= e^{my(m)}$. Combine to get \n",
    "\n",
    "$F=B(n)/B(m)$."
   ]
  },
  {
   "cell_type": "code",
   "execution_count": 6,
   "metadata": {},
   "outputs": [
    {
     "name": "stdout",
     "output_type": "stream",
     "text": [
      "\u001b[34m\u001b[1mBond and forward prices, assuming a face value of 1:\u001b[22m\u001b[39m\n",
      "                   price\n",
      "5y-bond            0.779\n",
      "7y-bond            0.657\n",
      "5y->7y forward     0.844\n",
      "\n"
     ]
    }
   ],
   "source": [
    "m  = 5              #time to expiration of forward\n",
    "n  = 7              #time to maturity of bond \n",
    "ym = 0.05           #interest rates \n",
    "yn = 0.06\n",
    "Bm = exp(-m*ym)     #bond price now, maturity m\n",
    "Bn = exp(-n*yn)     #bond price, maturity n\n",
    "F  = Bn/Bm          #forward price a bond maturing in n, delivered in m\n",
    "\n",
    "printblue(\"Bond and forward prices, assuming a face value of 1:\")\n",
    "xx = [Bm,Bn,F]\n",
    "printmat(xx,colNames=[\"price\"],rowNames=[\"$(m)y-bond\",\"$(n)y-bond\",\"$(m)y->$(n)y forward\"])"
   ]
  },
  {
   "cell_type": "markdown",
   "metadata": {},
   "source": [
    "### Covered Interest Rate Parity\n",
    "\n",
    "The \"dividend rate\" on foreign currency is the foreign interest rate $y^*$ (since you can keep the foreign currency on a foreign bank/money market account). The forward-spot parity then gives\n",
    "\n",
    "$F=e^{m(y-y^*)}S$.\n",
    "\n",
    "We also calculate the return on a \"covered\" strategy: *(a)* buy foreign currency (in $t=0$); *(b)* lend it abroad (in $t=0$); *(c)* enter a forward on the domestic currency (in $t=0$); *(d)* pay the forward price and get domestic currency (in $t=m$). The return should be the same as the domestic interest rate."
   ]
  },
  {
   "cell_type": "code",
   "execution_count": 7,
   "metadata": {},
   "outputs": [
    {
     "name": "stdout",
     "output_type": "stream",
     "text": [
      "Forward price of foreign currency:      1.220\n",
      "\n",
      "\u001b[34m\u001b[1mReturn/rate:\u001b[22m\u001b[39m\n",
      "covered FX strategy       0.0665\n",
      "domestic interest rate    0.0665\n",
      "\n",
      "\u001b[31m\u001b[1mthe two returns should be the same\u001b[22m\u001b[39m\n"
     ]
    }
   ],
   "source": [
    "m     = 1            #time to expiration\n",
    "y     = 0.0665       #domestic interest rate\n",
    "ystar = 0.05         #foreign interest rate \n",
    "S     = 1.2          #exchange rate now\n",
    "\n",
    "F = exp(m*(y-ystar))*S\n",
    "\n",
    "printlnPs(\"Forward price of foreign currency: \",F)\n",
    "\n",
    "R    = exp(ystar)*F/S - 1             #return on the covered strategy\n",
    "logR = log(1+R)                       #log return\n",
    "\n",
    "printblue(\"\\nReturn/rate:\")\n",
    "printmat([logR,y],rowNames=[\"covered FX strategy\",\"domestic interest rate\"],prec=4)\n",
    "\n",
    "printred(\"the two returns should be the same\")"
   ]
  },
  {
   "cell_type": "code",
   "execution_count": null,
   "metadata": {},
   "outputs": [],
   "source": []
  }
 ],
 "metadata": {
  "@webio": {
   "lastCommId": null,
   "lastKernelId": null
  },
  "anaconda-cloud": {},
  "kernelspec": {
   "display_name": "Julia 1.8.4",
   "language": "julia",
   "name": "julia-1.8"
  },
  "language_info": {
   "file_extension": ".jl",
   "mimetype": "application/julia",
   "name": "julia",
   "version": "1.8.4"
  }
 },
 "nbformat": 4,
 "nbformat_minor": 4
}
