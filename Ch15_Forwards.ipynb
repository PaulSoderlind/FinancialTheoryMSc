{
 "cells": [
  {
   "cell_type": "markdown",
   "metadata": {},
   "source": [
    "# Forward Contracts\n",
    "\n",
    "This notebook introduces forward contracts and applies the forward-spot parity to different assets."
   ]
  },
  {
   "cell_type": "markdown",
   "metadata": {},
   "source": [
    "## Load Packages and Extra Functions"
   ]
  },
  {
   "cell_type": "code",
   "execution_count": null,
   "metadata": {},
   "outputs": [],
   "source": [
    "using Printf\n",
    "\n",
    "include(\"jlFiles/printmat.jl\")"
   ]
  },
  {
   "cell_type": "code",
   "execution_count": null,
   "metadata": {},
   "outputs": [],
   "source": [
    "using Plots\n",
    "\n",
    "#pyplot(size=(600,400))\n",
    "gr(size=(480,320))\n",
    "default(fmt = :png)"
   ]
  },
  {
   "cell_type": "markdown",
   "metadata": {},
   "source": [
    "# Present Value\n",
    "\n",
    "With a continuously compounded interest rate of $y$, the present value of receiving $Z$ in $m$ years is $e^{-my}Z$."
   ]
  },
  {
   "cell_type": "code",
   "execution_count": null,
   "metadata": {},
   "outputs": [],
   "source": [
    "y  = 0.05\n",
    "m  = 3/4\n",
    "Z  = 100\n",
    "PV = exp(-m*y)*Z\n",
    "\n",
    "printlnPs(\"PV of $Z when m=$m and y=$y: \",PV)"
   ]
  },
  {
   "cell_type": "markdown",
   "metadata": {},
   "source": [
    "# Payoff of Forward Contract"
   ]
  },
  {
   "cell_type": "markdown",
   "metadata": {},
   "source": [
    "The payoff of a forward contract (at expiration, $m$ periods ahead) is $S_{m}-F$, where $S_m$ is the values of the underlying (at expiration) and $F$ is the forward price (agreed upon at inception of the contract)."
   ]
  },
  {
   "cell_type": "code",
   "execution_count": null,
   "metadata": {},
   "outputs": [],
   "source": [
    "Sₘ = range(0,15,length=16)   #possible values of the underlying price at expiration\n",
    "F  = 5\n",
    "ForwardPayoff = Sₘ .- F\n",
    "\n",
    "p1 = plot( Sₘ,ForwardPayoff,\n",
    "           linecolor = :red,\n",
    "           linewidth = 2,\n",
    "           legend = false,\n",
    "           title = \"Payoff of forward contract (F = $F)\",\n",
    "           xlabel = \"Asset price at expiration\" )\n",
    "hline!([0],linecolor=:black,line=(:dash,1,0.5))\n",
    "vline!([F],linecolor=:black,line=(:dash,1,0.5))\n",
    "display(p1)"
   ]
  },
  {
   "cell_type": "markdown",
   "metadata": {},
   "source": [
    "# Forward-Spot Parity"
   ]
  },
  {
   "cell_type": "markdown",
   "metadata": {},
   "source": [
    "For an asset without dividends (at least until expiration of the forward contract), $F=e^{my}S$\n",
    "\n",
    "In contrast, for an asset with continuous dividends at the rate $\\delta$, $F=e^{m(y-\\delta)}S$"
   ]
  },
  {
   "cell_type": "code",
   "execution_count": null,
   "metadata": {},
   "outputs": [],
   "source": [
    "y   = 0.05         #interest rate\n",
    "m   = 3/4          #time to expiration (in years)\n",
    "S   = 100          #spot price now\n",
    "F_A = exp(m*y)*S   #forward price\n",
    "\n",
    "δ   = 0.01             #dividend rate \n",
    "F_B = exp(m*(y-δ))*S   #forward price\n",
    "\n",
    "printblue(\"Forward prices:\")\n",
    "printmat([F_A F_B],colNames=[\"no dividends\";\"with dividends\"],width=16)"
   ]
  },
  {
   "cell_type": "markdown",
   "metadata": {},
   "source": [
    "### Forward Price of a Bond"
   ]
  },
  {
   "cell_type": "markdown",
   "metadata": {},
   "source": [
    "The forward price (in a forward contract with expiration in $m$) of a bond that matures in $n \\geq m$ is $F=e^{my(m)}B(n)$, where $y(m)$ denotes the interest for an $m$-period loan.\n",
    "\n",
    "By definition, $1/B(m)= e^{my(m)}$. Combine to get $F=B(n)/B(m)$."
   ]
  },
  {
   "cell_type": "code",
   "execution_count": null,
   "metadata": {},
   "outputs": [],
   "source": [
    "m  = 5              #time to expiration of forward\n",
    "n  = 7              #time to maturity of bond \n",
    "ym = 0.05           #interest rates \n",
    "yn = 0.06\n",
    "Bm = exp(-m*ym)     #bond price now\n",
    "Bn = exp(-n*yn)\n",
    "F  = Bn/Bm          #forward price a bond maturing in n, delivered in m\n",
    "\n",
    "printblue(\"Bond and forward prices:\")\n",
    "xx = [Bm,Bn,F]\n",
    "printmat(xx,colNames=[\"price\"],rowNames=[\"$(m)y-bond\",\"$(n)y-bond\",\"$(m)y->$(n)y forward\"])"
   ]
  },
  {
   "cell_type": "markdown",
   "metadata": {},
   "source": [
    "### Covered Interest Rate Parity"
   ]
  },
  {
   "cell_type": "markdown",
   "metadata": {},
   "source": [
    "The \"dividend rate\" on foreign currency is the foreign interest rate $y^*$ (since you can keep the foreign currency on a foreign bank account). The forward-spot parity then gives\n",
    "$F=e^{m(y-y^*)}S$.\n",
    "\n",
    "We also calculate the return on a \"covered\" strategy: (a) buy foreign currency (in $t=0$); (b) lend it abroad (in $t=0$); (c) enter a forward on the domestic currency (in $t=0$); (d) pay the forward price and get domestic currency (in $t=m$)."
   ]
  },
  {
   "cell_type": "code",
   "execution_count": null,
   "metadata": {},
   "outputs": [],
   "source": [
    "m     = 1            #time to expiration\n",
    "y     = 0.0665       #domestic interest rate\n",
    "ystar = 0.05         #foreign interest rate \n",
    "S     = 1.2          #exchange rate now\n",
    "\n",
    "F = S*exp(m*(y-ystar))\n",
    "\n",
    "printlnPs(\"Forward price of foreign currency: \",F)\n",
    "\n",
    "R    = exp(ystar)*F/S - 1             #return on the covered strategy\n",
    "logR = log(1+R)                       #log return\n",
    "\n",
    "printblue(\"\\nReturn/rate:\")\n",
    "printmat([logR,y]*100,rowNames=[\"covered FX strategy\",\"domestic interest rate\"])\n",
    "\n",
    "printred(\"the two returns should be the same\")"
   ]
  },
  {
   "cell_type": "code",
   "execution_count": null,
   "metadata": {},
   "outputs": [],
   "source": []
  }
 ],
 "metadata": {
  "@webio": {
   "lastCommId": null,
   "lastKernelId": null
  },
  "anaconda-cloud": {},
  "kernelspec": {
   "display_name": "Julia 1.7.0",
   "language": "julia",
   "name": "julia-1.7"
  },
  "language_info": {
   "file_extension": ".jl",
   "mimetype": "application/julia",
   "name": "julia",
   "version": "1.7.0"
  }
 },
 "nbformat": 4,
 "nbformat_minor": 4
}
