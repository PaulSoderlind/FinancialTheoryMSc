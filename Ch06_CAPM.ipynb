{
 "cells": [
  {
   "cell_type": "markdown",
   "metadata": {},
   "source": [
    "# CAPM\n",
    "\n",
    "This notebook summarizes the implications of CAPM and then tests them by OLS."
   ]
  },
  {
   "cell_type": "markdown",
   "metadata": {},
   "source": [
    "## Load Packages and Extra Functions"
   ]
  },
  {
   "cell_type": "code",
   "execution_count": 1,
   "metadata": {},
   "outputs": [],
   "source": [
    "using Printf, DelimitedFiles, Statistics\n",
    "\n",
    "include(\"src/printmat.jl\")\n",
    "include(\"src/OlsGMFn.jl\");            #contains a function for OLS"
   ]
  },
  {
   "cell_type": "code",
   "execution_count": 2,
   "metadata": {},
   "outputs": [],
   "source": [
    "using Plots, LaTeXStrings\n",
    "default(size = (480,320),fmt = :png)"
   ]
  },
  {
   "cell_type": "markdown",
   "metadata": {},
   "source": [
    "# The Theoretical Predictions of CAPM\n",
    "\n",
    "The following section illustrates the theoretical predictions of CAPM by taking the following steps: \n",
    "\n",
    "1. define a set of investable assets\n",
    "2. find the tangency portfolio\n",
    "3. calculate the betas of each asset against the tangency portfolio\n",
    "4. check whether the average returns are in accordance with CAPM:  $\\text{E}R_{i}  = R_f + \\beta_{i}(\\mu_{T}-R_f)$ or equivalently $\\text{E}R_i^e  = \\beta_i \\mu_T^e$, where superscript $^e$ indicates an excess return."
   ]
  },
  {
   "cell_type": "markdown",
   "metadata": {},
   "source": [
    "## Characteristics of Three Assets: Means, Variances and Covariances"
   ]
  },
  {
   "cell_type": "code",
   "execution_count": 3,
   "metadata": {},
   "outputs": [
    {
     "name": "stdout",
     "output_type": "stream",
     "text": [
      "\u001b[34m\u001b[1mexpected returns, in %:\u001b[22m\u001b[39m\n",
      "A    11.500\n",
      "B     9.500\n",
      "C     6.000\n",
      "\n",
      "\u001b[34m\u001b[1mcovariance matrix, in bp:\u001b[22m\u001b[39m\n",
      "          A         B         C\n",
      "A   166.000    34.000    58.000\n",
      "B    34.000    64.000     4.000\n",
      "C    58.000     4.000   100.000\n",
      "\n"
     ]
    }
   ],
   "source": [
    "μ = [0.115, 0.095, 0.06]    #expected returns\n",
    "Σ = [166  34  58;           #covariance matrix\n",
    "      34  64   4;\n",
    "      58   4 100]/100^2\n",
    "Rf = 0.03\n",
    "\n",
    "assetNames = [\"A\",\"B\",\"C\"]\n",
    "\n",
    "printblue(\"expected returns, in %:\")\n",
    "printmat(μ*100;rowNames=assetNames)\n",
    "\n",
    "printblue(\"covariance matrix, in bp:\")\n",
    "printmat(Σ*10_000;colNames=assetNames,rowNames=assetNames)"
   ]
  },
  {
   "cell_type": "markdown",
   "metadata": {},
   "source": [
    "## The Tangency Portfolio\n",
    "\n",
    "The file included below contains, among other things, the function `MVTangencyP()` from the chapter on MV analysis. It calcuates the tangency portfolio."
   ]
  },
  {
   "cell_type": "code",
   "execution_count": 4,
   "metadata": {},
   "outputs": [],
   "source": [
    "include(\"src/MvCalculations.jl\");"
   ]
  },
  {
   "cell_type": "code",
   "execution_count": 5,
   "metadata": {},
   "outputs": [
    {
     "name": "stdout",
     "output_type": "stream",
     "text": [
      "\u001b[34m\u001b[1mTangency portfolio weights:\u001b[22m\u001b[39m\n",
      "A     0.248\n",
      "B     0.682\n",
      "C     0.070\n",
      "\n",
      "\u001b[34m\u001b[1mmean and std of tangency portfolio:\u001b[22m\u001b[39m\n",
      "μT     0.097\n",
      "σT     0.074\n",
      "\n"
     ]
    }
   ],
   "source": [
    "(wT,μT,σT) = MVTangencyP(μ,Σ,Rf)          #tangency portfolio weights and implied mean return and standard deviation\n",
    "printblue(\"Tangency portfolio weights:\")\n",
    "printmat(wT;rowNames=assetNames)\n",
    "\n",
    "printblue(\"mean and std of tangency portfolio:\")\n",
    "printmat([μT,σT];rowNames=[\"μT\",\"σT\"])"
   ]
  },
  {
   "cell_type": "markdown",
   "metadata": {},
   "source": [
    "## (Theoretical) β of the Assets\n",
    "\n",
    "The tangency portfolio is a portfolio of the investable assets ($R_T=w_T'R$). It is therefore straightforward to calculate the covariance of each of the assets with $R_T$. The $\\beta$ values are then obtained by dividing the covariances with the variance of $R_T$. \n",
    "\n",
    "Details: \n",
    "The covariance of $R_i$ and $R_T$ is $\\sigma_{iT} = w_i'\\Sigma w_T$ where $w_i$ is the vector of portfolio weights that creates return $R_i$. Then, calculate $\\beta_i = \\sigma_{iT}/\\sigma_{T}^2$.\n",
    "\n",
    "Since $w_i$ is a trivial vector (1 in position $i$ and zeros elsewhere), we could (here) equally well calculate the vector of all betas by $\\Sigma w_T/\\sigma_{T}^2$. (Alternatively, in a loop do `w=zeros(n); w[i]=1; β[i] = w'*Σ*wT/σT^2`.)"
   ]
  },
  {
   "cell_type": "code",
   "execution_count": 6,
   "metadata": {},
   "outputs": [
    {
     "name": "stdout",
     "output_type": "stream",
     "text": [
      "\u001b[34m\u001b[1mβ of the assets:\u001b[22m\u001b[39m\n",
      "A     1.259\n",
      "B     0.963\n",
      "C     0.444\n",
      "\n"
     ]
    }
   ],
   "source": [
    "β = Σ*wT/σT^2\n",
    "\n",
    "printblue(\"β of the assets:\")\n",
    "printmat(β,rowNames=assetNames)"
   ]
  },
  {
   "attachments": {},
   "cell_type": "markdown",
   "metadata": {},
   "source": [
    "## Trying CAPM on the Assets\n",
    "\n",
    "CAPMS says that\n",
    "\n",
    "$\\text{E}R_i  = R_f + \\beta_i(\\mu_T-R_f)$ or equivalently $\\text{E}R_i^e  = \\beta_i \\mu_T^e$, where superscript $^e$ indicates an excess return.\n",
    "\n",
    "Notice that there is no intercept in the second expression.\n",
    " \n",
    "This can be compared with the actual average returns (or average excess returns for the second expression). \n",
    "\n",
    "If we have done the previous calculations correctly, then CAPM should hold for assets $A$,$B$ and $C$)."
   ]
  },
  {
   "cell_type": "code",
   "execution_count": 7,
   "metadata": {},
   "outputs": [
    {
     "name": "stdout",
     "output_type": "stream",
     "text": [
      "\u001b[34m\u001b[1mμ and ER as suggested by CAPM: \u001b[22m\u001b[39m\n",
      "     actual from CAPM\n",
      "A     0.115     0.115\n",
      "B     0.095     0.095\n",
      "C     0.060     0.060\n",
      "\n",
      "\u001b[34m\u001b[1mμᵉ and ERᵉ as suggested by CAPM (subtract Rf=0.03 from the previous results): \u001b[22m\u001b[39m\n",
      "     actual from CAPM\n",
      "A     0.085     0.085\n",
      "B     0.065     0.065\n",
      "C     0.030     0.030\n",
      "\n"
     ]
    }
   ],
   "source": [
    "ER_CAPM = Rf .+ β*(μT-Rf)      #ER_CAPM is a vector since β is a vector\n",
    "\n",
    "printblue(\"μ and ER as suggested by CAPM: \")\n",
    "printmat([μ ER_CAPM];rowNames=assetNames,colNames=[\"actual\",\"from CAPM\"])\n",
    "\n",
    "printblue(\"μᵉ and ERᵉ as suggested by CAPM (subtract Rf=$Rf from the previous results): \")\n",
    "printmat([(μ.-Rf) (ER_CAPM.-Rf)];rowNames=assetNames,colNames=[\"actual\",\"from CAPM\"])"
   ]
  },
  {
   "cell_type": "code",
   "execution_count": 8,
   "metadata": {},
   "outputs": [
    {
     "data": {
      "image/png": "[encoded data removed]",
      "image/svg+xml": [
       "<?xml version=\"1.0\" encoding=\"utf-8\"?>\n",
       "<svg xmlns=\"http://www.w3.org/2000/svg\" xmlns:xlink=\"http://www.w3.org/1999/xlink\" width=\"480\" height=\"320\" viewBox=\"0 0 1920 1280\">\n",
       "<defs>\n",
       "  <clipPath id=\"clip430\">\n",
       "    <rect x=\"0\" y=\"0\" width=\"1920\" height=\"1280\"/>\n",
       "  </clipPath>\n",
       "</defs>\n",
       "<path clip-path=\"url(#clip430)\" d=\"M0 1280 L1920 1280 L1920 0 L0 0  Z\" fill=\"#ffffff\" fill-rule=\"evenodd\" fill-opacity=\"1\"/>\n",
       "<defs>\n",
       "  <clipPath id=\"clip431\">\n",
       "    <rect x=\"384\" y=\"0\" width=\"1345\" height=\"1280\"/>\n",
       "  </clipPath>\n",
       "</defs>\n",
       "<path clip-path=\"url(#clip430)\" d=\"M197.427 1106.38 L1872.76 1106.38 L1872.76 123.472 L197.427 123.472  Z\" fill=\"#ffffff\" fill-rule=\"evenodd\" fill-opacity=\"1\"/>\n",
       "<defs>\n",
       "  <clipPath id=\"clip432\">\n",
       "    <rect x=\"197\" y=\"123\" width=\"1676\" height=\"984\"/>\n",
       "  </clipPath>\n",
       "</defs>\n",
       "<polyline clip-path=\"url(#clip432)\" style=\"stroke:#000000; stroke-linecap:round; stroke-linejoin:round; stroke-width:2; stroke-opacity:0.1; fill:none\" points=\"197.427,1106.38 197.427,123.472 \"/>\n",
       "<polyline clip-path=\"url(#clip432)\" style=\"stroke:#000000; stroke-linecap:round; stroke-linejoin:round; stroke-width:2; stroke-opacity:0.1; fill:none\" points=\"616.26,1106.38 616.26,123.472 \"/>\n",
       "<polyline clip-path=\"url(#clip432)\" style=\"stroke:#000000; stroke-linecap:round; stroke-linejoin:round; stroke-width:2; stroke-opacity:0.1; fill:none\" points=\"1035.09,1106.38 1035.09,123.472 \"/>\n",
       "<polyline clip-path=\"url(#clip432)\" style=\"stroke:#000000; stroke-linecap:round; stroke-linejoin:round; stroke-width:2; stroke-opacity:0.1; fill:none\" points=\"1453.92,1106.38 1453.92,123.472 \"/>\n",
       "<polyline clip-path=\"url(#clip432)\" style=\"stroke:#000000; stroke-linecap:round; stroke-linejoin:round; stroke-width:2; stroke-opacity:0.1; fill:none\" points=\"1872.76,1106.38 1872.76,123.472 \"/>\n",
       "<polyline clip-path=\"url(#clip432)\" style=\"stroke:#000000; stroke-linecap:round; stroke-linejoin:round; stroke-width:2; stroke-opacity:0.1; fill:none\" points=\"197.427,1106.38 1872.76,1106.38 \"/>\n",
       "<polyline clip-path=\"url(#clip432)\" style=\"stroke:#000000; stroke-linecap:round; stroke-linejoin:round; stroke-width:2; stroke-opacity:0.1; fill:none\" points=\"197.427,778.744 1872.76,778.744 \"/>\n",
       "<polyline clip-path=\"url(#clip432)\" style=\"stroke:#000000; stroke-linecap:round; stroke-linejoin:round; stroke-width:2; stroke-opacity:0.1; fill:none\" points=\"197.427,451.108 1872.76,451.108 \"/>\n",
       "<polyline clip-path=\"url(#clip432)\" style=\"stroke:#000000; stroke-linecap:round; stroke-linejoin:round; stroke-width:2; stroke-opacity:0.1; fill:none\" points=\"197.427,123.472 1872.76,123.472 \"/>\n",
       "<polyline clip-path=\"url(#clip430)\" style=\"stroke:#000000; stroke-linecap:round; stroke-linejoin:round; stroke-width:4; stroke-opacity:1; fill:none\" points=\"197.427,1106.38 1872.76,1106.38 \"/>\n",
       "<polyline clip-path=\"url(#clip430)\" style=\"stroke:#000000; stroke-linecap:round; stroke-linejoin:round; stroke-width:4; stroke-opacity:1; fill:none\" points=\"197.427,1106.38 197.427,1087.48 \"/>\n",
       "<polyline clip-path=\"url(#clip430)\" style=\"stroke:#000000; stroke-linecap:round; stroke-linejoin:round; stroke-width:4; stroke-opacity:1; fill:none\" points=\"616.26,1106.38 616.26,1087.48 \"/>\n",
       "<polyline clip-path=\"url(#clip430)\" style=\"stroke:#000000; stroke-linecap:round; stroke-linejoin:round; stroke-width:4; stroke-opacity:1; fill:none\" points=\"1035.09,1106.38 1035.09,1087.48 \"/>\n",
       "<polyline clip-path=\"url(#clip430)\" style=\"stroke:#000000; stroke-linecap:round; stroke-linejoin:round; stroke-width:4; stroke-opacity:1; fill:none\" points=\"1453.92,1106.38 1453.92,1087.48 \"/>\n",
       "<polyline clip-path=\"url(#clip430)\" style=\"stroke:#000000; stroke-linecap:round; stroke-linejoin:round; stroke-width:4; stroke-opacity:1; fill:none\" points=\"1872.76,1106.38 1872.76,1087.48 \"/>\n",
       "<path clip-path=\"url(#clip430)\" d=\"M174.812 1133.46 Q171.201 1133.46 169.372 1137.02 Q167.567 1140.56 167.567 1147.69 Q167.567 1154.8 169.372 1158.37 Q171.201 1161.91 174.812 1161.91 Q178.446 1161.91 180.252 1158.37 Q182.08 1154.8 182.08 1147.69 Q182.08 1140.56 180.252 1137.02 Q178.446 1133.46 174.812 1133.46 M174.812 1129.75 Q180.622 1129.75 183.678 1134.36 Q186.756 1138.94 186.756 1147.69 Q186.756 1156.42 183.678 1161.03 Q180.622 1165.61 174.812 1165.61 Q169.002 1165.61 165.923 1161.03 Q162.867 1156.42 162.867 1147.69 Q162.867 1138.94 165.923 1134.36 Q169.002 1129.75 174.812 1129.75 Z\" fill=\"#000000\" fill-rule=\"nonzero\" fill-opacity=\"1\" /><path clip-path=\"url(#clip430)\" d=\"M194.974 1159.06 L199.858 1159.06 L199.858 1164.94 L194.974 1164.94 L194.974 1159.06 Z\" fill=\"#000000\" fill-rule=\"nonzero\" fill-opacity=\"1\" /><path clip-path=\"url(#clip430)\" d=\"M220.043 1133.46 Q216.432 1133.46 214.603 1137.02 Q212.798 1140.56 212.798 1147.69 Q212.798 1154.8 214.603 1158.37 Q216.432 1161.91 220.043 1161.91 Q223.677 1161.91 225.483 1158.37 Q227.312 1154.8 227.312 1147.69 Q227.312 1140.56 225.483 1137.02 Q223.677 1133.46 220.043 1133.46 M220.043 1129.75 Q225.853 1129.75 228.909 1134.36 Q231.987 1138.94 231.987 1147.69 Q231.987 1156.42 228.909 1161.03 Q225.853 1165.61 220.043 1165.61 Q214.233 1165.61 211.154 1161.03 Q208.099 1156.42 208.099 1147.69 Q208.099 1138.94 211.154 1134.36 Q214.233 1129.75 220.043 1129.75 Z\" fill=\"#000000\" fill-rule=\"nonzero\" fill-opacity=\"1\" /><path clip-path=\"url(#clip430)\" d=\"M594.142 1133.46 Q590.531 1133.46 588.702 1137.02 Q586.896 1140.56 586.896 1147.69 Q586.896 1154.8 588.702 1158.37 Q590.531 1161.91 594.142 1161.91 Q597.776 1161.91 599.581 1158.37 Q601.41 1154.8 601.41 1147.69 Q601.41 1140.56 599.581 1137.02 Q597.776 1133.46 594.142 1133.46 M594.142 1129.75 Q599.952 1129.75 603.007 1134.36 Q606.086 1138.94 606.086 1147.69 Q606.086 1156.42 603.007 1161.03 Q599.952 1165.61 594.142 1165.61 Q588.331 1165.61 585.253 1161.03 Q582.197 1156.42 582.197 1147.69 Q582.197 1138.94 585.253 1134.36 Q588.331 1129.75 594.142 1129.75 Z\" fill=\"#000000\" fill-rule=\"nonzero\" fill-opacity=\"1\" /><path clip-path=\"url(#clip430)\" d=\"M614.304 1159.06 L619.188 1159.06 L619.188 1164.94 L614.304 1164.94 L614.304 1159.06 Z\" fill=\"#000000\" fill-rule=\"nonzero\" fill-opacity=\"1\" /><path clip-path=\"url(#clip430)\" d=\"M629.419 1130.38 L647.776 1130.38 L647.776 1134.32 L633.702 1134.32 L633.702 1142.79 Q634.72 1142.44 635.739 1142.28 Q636.757 1142.09 637.776 1142.09 Q643.563 1142.09 646.942 1145.26 Q650.322 1148.44 650.322 1153.85 Q650.322 1159.43 646.85 1162.53 Q643.377 1165.61 637.058 1165.61 Q634.882 1165.61 632.614 1165.24 Q630.368 1164.87 627.961 1164.13 L627.961 1159.43 Q630.044 1160.56 632.266 1161.12 Q634.489 1161.68 636.965 1161.68 Q640.97 1161.68 643.308 1159.57 Q645.646 1157.46 645.646 1153.85 Q645.646 1150.24 643.308 1148.13 Q640.97 1146.03 636.965 1146.03 Q635.09 1146.03 633.216 1146.44 Q631.364 1146.86 629.419 1147.74 L629.419 1130.38 Z\" fill=\"#000000\" fill-rule=\"nonzero\" fill-opacity=\"1\" /><path clip-path=\"url(#clip430)\" d=\"M1002.24 1161 L1009.88 1161 L1009.88 1134.64 L1001.57 1136.31 L1001.57 1132.05 L1009.84 1130.38 L1014.51 1130.38 L1014.51 1161 L1022.15 1161 L1022.15 1164.94 L1002.24 1164.94 L1002.24 1161 Z\" fill=\"#000000\" fill-rule=\"nonzero\" fill-opacity=\"1\" /><path clip-path=\"url(#clip430)\" d=\"M1031.6 1159.06 L1036.48 1159.06 L1036.48 1164.94 L1031.6 1164.94 L1031.6 1159.06 Z\" fill=\"#000000\" fill-rule=\"nonzero\" fill-opacity=\"1\" /><path clip-path=\"url(#clip430)\" d=\"M1056.67 1133.46 Q1053.05 1133.46 1051.23 1137.02 Q1049.42 1140.56 1049.42 1147.69 Q1049.42 1154.8 1051.23 1158.37 Q1053.05 1161.91 1056.67 1161.91 Q1060.3 1161.91 1062.11 1158.37 Q1063.93 1154.8 1063.93 1147.69 Q1063.93 1140.56 1062.11 1137.02 Q1060.3 1133.46 1056.67 1133.46 M1056.67 1129.75 Q1062.48 1129.75 1065.53 1134.36 Q1068.61 1138.94 1068.61 1147.69 Q1068.61 1156.42 1065.53 1161.03 Q1062.48 1165.61 1056.67 1165.61 Q1050.86 1165.61 1047.78 1161.03 Q1044.72 1156.42 1044.72 1147.69 Q1044.72 1138.94 1047.78 1134.36 Q1050.86 1129.75 1056.67 1129.75 Z\" fill=\"#000000\" fill-rule=\"nonzero\" fill-opacity=\"1\" /><path clip-path=\"url(#clip430)\" d=\"M1421.57 1161 L1429.21 1161 L1429.21 1134.64 L1420.9 1136.31 L1420.9 1132.05 L1429.17 1130.38 L1433.84 1130.38 L1433.84 1161 L1441.48 1161 L1441.48 1164.94 L1421.57 1164.94 L1421.57 1161 Z\" fill=\"#000000\" fill-rule=\"nonzero\" fill-opacity=\"1\" /><path clip-path=\"url(#clip430)\" d=\"M1450.93 1159.06 L1455.81 1159.06 L1455.81 1164.94 L1450.93 1164.94 L1450.93 1159.06 Z\" fill=\"#000000\" fill-rule=\"nonzero\" fill-opacity=\"1\" /><path clip-path=\"url(#clip430)\" d=\"M1466.04 1130.38 L1484.4 1130.38 L1484.4 1134.32 L1470.32 1134.32 L1470.32 1142.79 Q1471.34 1142.44 1472.36 1142.28 Q1473.38 1142.09 1474.4 1142.09 Q1480.19 1142.09 1483.56 1145.26 Q1486.94 1148.44 1486.94 1153.85 Q1486.94 1159.43 1483.47 1162.53 Q1480 1165.61 1473.68 1165.61 Q1471.5 1165.61 1469.24 1165.24 Q1466.99 1164.87 1464.58 1164.13 L1464.58 1159.43 Q1466.67 1160.56 1468.89 1161.12 Q1471.11 1161.68 1473.59 1161.68 Q1477.59 1161.68 1479.93 1159.57 Q1482.27 1157.46 1482.27 1153.85 Q1482.27 1150.24 1479.93 1148.13 Q1477.59 1146.03 1473.59 1146.03 Q1471.71 1146.03 1469.84 1146.44 Q1467.99 1146.86 1466.04 1147.74 L1466.04 1130.38 Z\" fill=\"#000000\" fill-rule=\"nonzero\" fill-opacity=\"1\" /><path clip-path=\"url(#clip430)\" d=\"M1843.99 1161 L1860.31 1161 L1860.31 1164.94 L1838.37 1164.94 L1838.37 1161 Q1841.03 1158.25 1845.61 1153.62 Q1850.22 1148.97 1851.4 1147.63 Q1853.65 1145.1 1854.53 1143.37 Q1855.43 1141.61 1855.43 1139.92 Q1855.43 1137.16 1853.49 1135.43 Q1851.56 1133.69 1848.46 1133.69 Q1846.26 1133.69 1843.81 1134.45 Q1841.38 1135.22 1838.6 1136.77 L1838.6 1132.05 Q1841.43 1130.91 1843.88 1130.33 Q1846.33 1129.75 1848.37 1129.75 Q1853.74 1129.75 1856.93 1132.44 Q1860.13 1135.13 1860.13 1139.62 Q1860.13 1141.75 1859.32 1143.67 Q1858.53 1145.56 1856.42 1148.16 Q1855.85 1148.83 1852.74 1152.05 Q1849.64 1155.24 1843.99 1161 Z\" fill=\"#000000\" fill-rule=\"nonzero\" fill-opacity=\"1\" /><path clip-path=\"url(#clip430)\" d=\"M1870.13 1159.06 L1875.01 1159.06 L1875.01 1164.94 L1870.13 1164.94 L1870.13 1159.06 Z\" fill=\"#000000\" fill-rule=\"nonzero\" fill-opacity=\"1\" /><path clip-path=\"url(#clip430)\" d=\"M1895.2 1133.46 Q1891.59 1133.46 1889.76 1137.02 Q1887.95 1140.56 1887.95 1147.69 Q1887.95 1154.8 1889.76 1158.37 Q1891.59 1161.91 1895.2 1161.91 Q1898.83 1161.91 1900.64 1158.37 Q1902.47 1154.8 1902.47 1147.69 Q1902.47 1140.56 1900.64 1137.02 Q1898.83 1133.46 1895.2 1133.46 M1895.2 1129.75 Q1901.01 1129.75 1904.06 1134.36 Q1907.14 1138.94 1907.14 1147.69 Q1907.14 1156.42 1904.06 1161.03 Q1901.01 1165.61 1895.2 1165.61 Q1889.39 1165.61 1886.31 1161.03 Q1883.25 1156.42 1883.25 1147.69 Q1883.25 1138.94 1886.31 1134.36 Q1889.39 1129.75 1895.2 1129.75 Z\" fill=\"#000000\" fill-rule=\"nonzero\" fill-opacity=\"1\" /><path clip-path=\"url(#clip430)\" d=\"M1052.52 1194.39 Q1052.52 1195.23 1052.16 1196.84 Q1051.04 1201.38 1046.82 1204.5 Q1046.11 1205.08 1044.85 1205.82 Q1046.37 1206.82 1047.69 1208.66 Q1049.65 1211.68 1049.65 1215.77 Q1049.65 1217.67 1049.14 1219.99 Q1047.69 1225.37 1042.6 1229.24 Q1037.48 1233 1031.39 1233 Q1028.1 1233 1025.85 1231.26 Q1023.63 1229.49 1022.76 1226.53 L1018.28 1244.6 Q1018.19 1245.05 1017.61 1245.05 L1017.28 1245.05 Q1016.61 1245.05 1016.61 1244.28 L1026.78 1203.7 Q1027.46 1200.96 1028.56 1198.38 Q1029.65 1195.81 1031.16 1193.49 Q1032.71 1191.17 1034.48 1189.46 Q1036.25 1187.72 1038.44 1186.72 Q1040.63 1185.69 1042.95 1185.69 Q1047.81 1185.69 1050.58 1189.01 Q1052.52 1191.36 1052.52 1194.39 M1048.81 1193.23 Q1048.81 1191.23 1048.01 1189.85 Q1046.37 1187.21 1042.89 1187.21 Q1040.79 1187.21 1038.8 1188.17 Q1036.83 1189.11 1035.25 1190.72 Q1033.68 1192.33 1032.32 1194.52 Q1030.97 1196.71 1029.97 1199.09 Q1029.01 1201.44 1028.36 1204.02 L1024.4 1219.99 Q1024.01 1221.7 1024.01 1223.21 Q1024.01 1226.82 1026.01 1229.17 Q1028.01 1231.52 1031.45 1231.52 Q1036.03 1231.52 1039.96 1228.11 Q1043.37 1225.05 1044.79 1219.67 Q1045.59 1216.29 1045.59 1213.94 Q1045.59 1211.36 1044.66 1209.36 Q1043.98 1207.75 1042.66 1206.79 Q1040.21 1207.66 1037.73 1207.66 Q1036.54 1207.66 1035.9 1207.63 Q1035.29 1207.59 1034.39 1207.46 Q1033.52 1207.34 1033.1 1206.98 Q1032.71 1206.63 1032.71 1206.08 Q1032.71 1205.76 1032.77 1205.63 Q1032.9 1205.11 1033.32 1204.76 Q1033.74 1204.41 1034.22 1204.24 Q1034.71 1204.05 1035.51 1203.95 Q1036.35 1203.86 1036.9 1203.86 Q1037.44 1203.83 1038.38 1203.83 Q1040.57 1203.83 1042.79 1204.69 Q1043.63 1204.24 1044.53 1203.44 Q1047.4 1200.77 1048.36 1196.51 Q1048.81 1194.94 1048.81 1193.23 M1040.7 1205.69 Q1039.34 1205.34 1038.31 1205.34 Q1034.55 1205.34 1034.35 1205.95 Q1034.35 1206.02 1034.48 1206.08 Q1034.61 1206.11 1034.9 1206.14 Q1035.22 1206.14 1035.48 1206.18 Q1035.77 1206.21 1036.25 1206.21 Q1036.74 1206.21 1036.99 1206.21 Q1037.28 1206.21 1037.8 1206.21 Q1039.09 1206.21 1040.7 1205.69 Z\" fill=\"#000000\" fill-rule=\"nonzero\" fill-opacity=\"1\" /><polyline clip-path=\"url(#clip430)\" style=\"stroke:#000000; stroke-linecap:round; stroke-linejoin:round; stroke-width:4; stroke-opacity:1; fill:none\" points=\"197.427,1106.38 197.427,123.472 \"/>\n",
       "<polyline clip-path=\"url(#clip430)\" style=\"stroke:#000000; stroke-linecap:round; stroke-linejoin:round; stroke-width:4; stroke-opacity:1; fill:none\" points=\"197.427,1106.38 216.325,1106.38 \"/>\n",
       "<polyline clip-path=\"url(#clip430)\" style=\"stroke:#000000; stroke-linecap:round; stroke-linejoin:round; stroke-width:4; stroke-opacity:1; fill:none\" points=\"197.427,778.744 216.325,778.744 \"/>\n",
       "<polyline clip-path=\"url(#clip430)\" style=\"stroke:#000000; stroke-linecap:round; stroke-linejoin:round; stroke-width:4; stroke-opacity:1; fill:none\" points=\"197.427,451.108 216.325,451.108 \"/>\n",
       "<polyline clip-path=\"url(#clip430)\" style=\"stroke:#000000; stroke-linecap:round; stroke-linejoin:round; stroke-width:4; stroke-opacity:1; fill:none\" points=\"197.427,123.472 216.325,123.472 \"/>\n",
       "<path clip-path=\"url(#clip430)\" d=\"M156.683 1092.18 Q153.072 1092.18 151.243 1095.74 Q149.438 1099.28 149.438 1106.41 Q149.438 1113.52 151.243 1117.09 Q153.072 1120.63 156.683 1120.63 Q160.317 1120.63 162.123 1117.09 Q163.952 1113.52 163.952 1106.41 Q163.952 1099.28 162.123 1095.74 Q160.317 1092.18 156.683 1092.18 M156.683 1088.47 Q162.493 1088.47 165.549 1093.08 Q168.627 1097.66 168.627 1106.41 Q168.627 1115.14 165.549 1119.75 Q162.493 1124.33 156.683 1124.33 Q150.873 1124.33 147.794 1119.75 Q144.739 1115.14 144.739 1106.41 Q144.739 1097.66 147.794 1093.08 Q150.873 1088.47 156.683 1088.47 Z\" fill=\"#000000\" fill-rule=\"nonzero\" fill-opacity=\"1\" /><path clip-path=\"url(#clip430)\" d=\"M147.725 761.464 L166.081 761.464 L166.081 765.399 L152.007 765.399 L152.007 773.871 Q153.026 773.524 154.044 773.362 Q155.063 773.177 156.081 773.177 Q161.868 773.177 165.248 776.348 Q168.627 779.519 168.627 784.936 Q168.627 790.515 165.155 793.617 Q161.683 796.695 155.364 796.695 Q153.188 796.695 150.919 796.325 Q148.674 795.954 146.266 795.214 L146.266 790.515 Q148.35 791.649 150.572 792.205 Q152.794 792.76 155.271 792.76 Q159.276 792.76 161.614 790.654 Q163.952 788.547 163.952 784.936 Q163.952 781.325 161.614 779.218 Q159.276 777.112 155.271 777.112 Q153.396 777.112 151.521 777.529 Q149.669 777.945 147.725 778.825 L147.725 761.464 Z\" fill=\"#000000\" fill-rule=\"nonzero\" fill-opacity=\"1\" /><path clip-path=\"url(#clip430)\" d=\"M117.331 464.453 L124.97 464.453 L124.97 438.087 L116.66 439.754 L116.66 435.495 L124.924 433.828 L129.6 433.828 L129.6 464.453 L137.239 464.453 L137.239 468.388 L117.331 468.388 L117.331 464.453 Z\" fill=\"#000000\" fill-rule=\"nonzero\" fill-opacity=\"1\" /><path clip-path=\"url(#clip430)\" d=\"M156.683 436.907 Q153.072 436.907 151.243 440.472 Q149.438 444.013 149.438 451.143 Q149.438 458.249 151.243 461.814 Q153.072 465.356 156.683 465.356 Q160.317 465.356 162.123 461.814 Q163.952 458.249 163.952 451.143 Q163.952 444.013 162.123 440.472 Q160.317 436.907 156.683 436.907 M156.683 433.203 Q162.493 433.203 165.549 437.809 Q168.627 442.393 168.627 451.143 Q168.627 459.87 165.549 464.476 Q162.493 469.059 156.683 469.059 Q150.873 469.059 147.794 464.476 Q144.739 459.87 144.739 451.143 Q144.739 442.393 147.794 437.809 Q150.873 433.203 156.683 433.203 Z\" fill=\"#000000\" fill-rule=\"nonzero\" fill-opacity=\"1\" /><path clip-path=\"url(#clip430)\" d=\"M118.327 136.817 L125.966 136.817 L125.966 110.451 L117.656 112.118 L117.656 107.859 L125.919 106.192 L130.595 106.192 L130.595 136.817 L138.234 136.817 L138.234 140.752 L118.327 140.752 L118.327 136.817 Z\" fill=\"#000000\" fill-rule=\"nonzero\" fill-opacity=\"1\" /><path clip-path=\"url(#clip430)\" d=\"M147.725 106.192 L166.081 106.192 L166.081 110.127 L152.007 110.127 L152.007 118.599 Q153.026 118.252 154.044 118.09 Q155.063 117.905 156.081 117.905 Q161.868 117.905 165.248 121.076 Q168.627 124.248 168.627 129.664 Q168.627 135.243 165.155 138.345 Q161.683 141.423 155.364 141.423 Q153.188 141.423 150.919 141.053 Q148.674 140.683 146.266 139.942 L146.266 135.243 Q148.35 136.377 150.572 136.933 Q152.794 137.488 155.271 137.488 Q159.276 137.488 161.614 135.382 Q163.952 133.275 163.952 129.664 Q163.952 126.053 161.614 123.947 Q159.276 121.84 155.271 121.84 Q153.396 121.84 151.521 122.257 Q149.669 122.674 147.725 123.553 L147.725 106.192 Z\" fill=\"#000000\" fill-rule=\"nonzero\" fill-opacity=\"1\" /><path clip-path=\"url(#clip430)\" d=\"M80.9419 709.287 L78.9129 709.287 L78.9129 707.709 Q78.9129 704.134 78.3332 703.329 Q77.7213 702.492 75.789 702.492 L41.2321 702.492 Q39.3319 702.492 38.7522 703.329 Q38.1403 704.166 38.1403 707.709 L38.1403 709.287 L36.0791 709.287 L36.0791 672.154 L50.926 670.318 L50.926 671.96 Q47.158 672.411 45.0002 673.023 Q42.8102 673.603 41.1355 675.052 Q39.4608 676.469 38.8166 678.82 Q38.1403 681.139 38.1403 684.907 L38.1403 693.41 Q38.1403 695.664 38.6234 696.147 Q39.0743 696.63 40.7812 696.63 L56.5943 696.63 L56.5943 690.704 Q56.5943 686.163 55.0162 684.875 Q53.4381 683.587 48.8971 683.587 L48.8971 681.912 L66.3527 681.912 L66.3527 683.587 Q61.876 683.587 60.2657 684.875 Q58.6555 686.163 58.6555 690.704 L58.6555 696.63 L76.2721 696.63 Q77.979 696.63 78.4621 696.147 Q78.9129 695.632 78.9129 693.41 L78.9129 684.617 Q78.9129 681.783 78.5587 679.722 Q78.1722 677.629 77.2704 676.179 Q76.3365 674.73 75.2737 673.764 Q74.2109 672.766 72.3107 672.089 Q70.3784 671.381 68.6071 670.994 Q66.8357 670.576 63.9372 670.125 L63.9372 668.482 L80.9419 671.252 L80.9419 709.287 Z\" fill=\"#000000\" fill-rule=\"nonzero\" fill-opacity=\"1\" /><path clip-path=\"url(#clip430)\" d=\"M44.4527 624.983 Q43.3899 624.983 42.5203 625.273 Q41.6186 625.531 41.0066 625.95 Q40.3625 626.336 39.8794 627.077 Q39.3641 627.817 39.0421 628.429 Q38.72 629.041 38.5268 630.072 Q38.3013 631.102 38.2047 631.779 Q38.0759 632.455 38.0115 633.615 Q37.9471 634.774 37.9471 635.354 Q37.9471 635.901 37.9471 636.996 Q37.9471 640.442 38.0115 641.022 Q38.1403 641.891 38.6556 642.213 Q39.1387 642.536 40.4591 642.858 L57.6571 647.141 L57.6571 639.766 Q57.6571 635.74 56.5299 632.97 Q55.4027 630.201 53.8246 628.623 Q52.0855 626.883 49.2835 625.95 Q46.4816 624.983 44.4527 624.983 M74.8228 617.801 Q75.1771 617.801 75.9822 618.091 Q76.7874 618.349 77.9146 618.993 Q79.0096 619.637 80.0079 620.507 Q81.0063 621.376 81.6826 622.761 Q82.3912 624.146 82.3912 625.724 Q82.3912 626.111 82.359 626.497 Q82.359 626.883 82.1979 627.85 Q82.0691 628.784 81.8115 629.557 Q81.586 630.33 81.0385 631.296 Q80.5232 632.262 79.8147 632.938 Q79.074 633.582 77.9146 634.033 Q76.7229 634.484 75.2737 634.484 Q73.9854 634.484 69.6699 633.421 Q65.9984 632.487 65.0966 632.487 Q64.0982 632.487 63.1643 632.809 Q62.2303 633.099 61.2641 633.84 Q60.298 634.548 59.7182 636.062 Q59.1063 637.576 59.1063 639.701 L59.1063 647.527 L76.5941 651.907 Q76.6263 651.907 77.0772 652.004 Q77.4959 652.101 77.7213 652.101 Q78.14 652.101 78.3976 651.843 Q78.6553 651.553 78.7841 650.845 Q78.8807 650.136 78.9129 649.589 Q78.9129 649.009 78.9129 647.817 Q78.9129 646.336 79.1706 646.078 Q79.3316 645.949 79.6215 645.949 Q80.0723 645.949 80.3944 646.078 Q80.6843 646.175 80.7809 646.432 Q80.8775 646.658 80.9097 646.819 Q80.9419 646.98 80.9419 647.27 L80.7487 655.643 L80.9419 663.952 Q80.9419 664.886 80.2012 664.886 Q79.5571 664.886 79.2994 664.661 Q79.0096 664.436 78.9773 664.146 Q78.9129 663.856 78.9129 663.115 Q78.9129 661.505 78.8163 660.539 Q78.7197 659.572 78.5909 658.961 Q78.4299 658.316 77.979 657.994 Q77.5281 657.64 77.1416 657.479 Q76.7229 657.318 75.789 657.093 L40.3625 648.268 Q39.2997 648.011 39.1387 648.011 Q38.5268 648.011 38.3658 648.397 Q38.1725 648.751 38.0759 649.782 L37.9471 652.294 Q37.9471 653.067 37.9149 653.389 Q37.8827 653.679 37.7216 653.904 Q37.5606 654.13 37.2063 654.13 Q36.3046 654.13 36.1113 653.743 Q35.8859 653.357 35.8859 652.23 L35.8859 633.421 Q35.8859 627.012 38.6878 622.954 Q41.4897 618.864 45.7731 618.864 Q47.7055 618.864 49.509 619.734 Q51.3125 620.603 52.7296 622.053 Q54.1466 623.47 55.3382 625.37 Q56.4977 627.27 57.3028 629.299 Q58.0757 631.296 58.5266 633.357 Q58.8487 632.455 59.3318 631.618 Q59.8149 630.748 60.7166 629.653 Q61.6184 628.526 63.0677 627.85 Q64.5169 627.173 66.2882 627.173 Q67.5443 627.173 69.4122 627.431 Q74.7262 628.075 76.9162 628.075 Q79.0096 628.075 79.9757 627.528 Q80.9419 626.98 80.9419 625.434 Q80.9419 623.921 79.5893 622.246 Q78.2044 620.539 74.9516 619.444 Q74.0176 619.186 74.0176 618.574 Q74.0176 618.542 74.0176 618.51 Q74.0176 618.446 74.0821 618.317 Q74.1143 618.188 74.2109 618.091 Q74.2753 617.962 74.4363 617.898 Q74.5974 617.801 74.8228 617.801 Z\" fill=\"#000000\" fill-rule=\"nonzero\" fill-opacity=\"1\" /><path clip-path=\"url(#clip430)\" d=\"M72.8575 612.709 L72.8575 605.993 L78.332 605.993 L88.5171 611.213 L88.5171 615.319 L78.332 612.709 L72.8575 612.709 Z\" fill=\"#000000\" fill-rule=\"nonzero\" fill-opacity=\"1\" /><path clip-path=\"url(#clip430)\" d=\"M60.0306 531.514 Q60.0306 534.283 62.3859 535.874 Q64.7412 537.434 68.9426 537.434 Q73.0803 537.434 75.4674 535.874 Q77.8227 534.283 77.8227 531.514 Q77.8227 528.809 75.4674 527.249 Q73.0803 525.658 68.9426 525.658 Q64.773 525.658 62.4177 527.249 Q60.0306 528.809 60.0306 531.514 M55.9883 531.514 Q55.9883 526.485 59.4895 523.525 Q62.9906 520.565 68.9426 520.565 Q74.8945 520.565 78.3956 523.557 Q81.8649 526.517 81.8649 531.514 Q81.8649 536.607 78.3956 539.567 Q74.8945 542.527 68.9426 542.527 Q62.9588 542.527 59.4895 539.567 Q55.9883 536.575 55.9883 531.514 M36.6048 564.361 Q36.6048 567.098 38.9919 568.69 Q41.3472 570.249 45.4849 570.249 Q49.6863 570.249 52.0416 568.69 Q54.3969 567.13 54.3969 564.361 Q54.3969 561.592 52.0416 560.032 Q49.6863 558.441 45.4849 558.441 Q41.379 558.441 38.9919 560.032 Q36.6048 561.624 36.6048 564.361 M32.5625 535.62 L32.5625 530.527 L81.8649 560.255 L81.8649 565.348 L32.5625 535.62 M32.5625 564.361 Q32.5625 559.332 36.0637 556.34 Q39.533 553.348 45.4849 553.348 Q51.5005 553.348 54.9698 556.34 Q58.4391 559.3 58.4391 564.361 Q58.4391 569.422 54.9698 572.382 Q51.4687 575.31 45.4849 575.31 Q39.5648 575.31 36.0637 572.35 Q32.5625 569.39 32.5625 564.361 Z\" fill=\"#000000\" fill-rule=\"nonzero\" fill-opacity=\"1\" /><path clip-path=\"url(#clip430)\" d=\"M934.657 27.5224 Q934.657 28.5881 934.206 30.6375 Q932.771 36.417 927.402 40.393 Q926.5 41.1308 924.901 42.0736 Q926.828 43.3442 928.509 45.6806 Q931.009 49.5336 931.009 54.7392 Q931.009 57.1576 930.353 60.1088 Q928.509 66.954 922.032 71.8728 Q915.515 76.6685 907.768 76.6685 Q903.587 76.6685 900.718 74.4551 Q897.89 72.2007 896.783 68.4297 L891.085 91.4246 Q890.962 91.9985 890.225 91.9985 L889.815 91.9985 Q888.954 91.9985 888.954 91.0148 L901.906 39.3683 Q902.767 35.8842 904.161 32.605 Q905.555 29.3259 907.481 26.3747 Q909.449 23.4234 911.703 21.251 Q913.957 19.0376 916.745 17.7669 Q919.532 16.4553 922.483 16.4553 Q928.672 16.4553 932.198 20.6771 Q934.657 23.6694 934.657 27.5224 M929.943 26.0467 Q929.943 23.5054 928.918 21.7429 Q926.828 18.3818 922.401 18.3818 Q919.737 18.3818 917.195 19.6114 Q914.695 20.8001 912.687 22.8496 Q910.678 24.899 908.957 27.6863 Q907.235 30.4736 905.964 33.5068 Q904.735 36.499 903.915 39.7782 L898.873 60.1088 Q898.381 62.2813 898.381 64.2078 Q898.381 68.7986 900.923 71.7908 Q903.464 74.783 907.85 74.783 Q913.67 74.783 918.671 70.4381 Q923.016 66.5442 924.82 59.6989 Q925.844 55.3951 925.844 52.4029 Q925.844 49.1237 924.656 46.5824 Q923.795 44.5329 922.114 43.3032 Q918.999 44.4099 915.843 44.4099 Q914.326 44.4099 913.506 44.369 Q912.728 44.328 911.58 44.164 Q910.473 44 909.94 43.5492 Q909.449 43.0983 909.449 42.4015 Q909.449 41.9916 909.531 41.8276 Q909.694 41.1718 910.227 40.7209 Q910.76 40.27 911.375 40.0651 Q911.99 39.8191 913.015 39.6962 Q914.08 39.5732 914.777 39.5732 Q915.474 39.5322 916.663 39.5322 Q919.45 39.5322 922.278 40.6389 Q923.344 40.0651 924.492 39.0403 Q928.14 35.6382 929.369 30.2277 Q929.943 28.2192 929.943 26.0467 M919.614 41.9096 Q917.892 41.4587 916.581 41.4587 Q911.785 41.4587 911.539 42.2375 Q911.539 42.3195 911.703 42.4015 Q911.867 42.4425 912.236 42.4834 Q912.646 42.4834 912.974 42.5244 Q913.343 42.5654 913.957 42.5654 Q914.572 42.5654 914.9 42.5654 Q915.269 42.5654 915.925 42.5654 Q917.564 42.5654 919.614 41.9096 Z\" fill=\"#000000\" fill-rule=\"nonzero\" fill-opacity=\"1\" /><path clip-path=\"url(#clip430)\" d=\"M958.182 42.1555 L958.182 39.5322 Q961.953 39.7782 966.339 39.7782 Q967.938 39.7782 975.48 39.5322 L975.48 42.1555 Q970.684 42.1555 970.684 44.328 Q970.684 44.6559 971.176 45.7626 L980.603 69.1675 L989.17 47.7711 Q989.662 46.3364 989.662 45.7626 Q989.662 44.328 988.678 43.3032 Q987.735 42.2375 985.645 42.1555 L985.645 39.5322 Q989.908 39.7782 992.941 39.7782 Q996.384 39.7782 999.212 39.5322 L999.212 42.1555 Q996.712 42.1555 994.95 43.3032 Q993.187 44.4099 992.613 45.3937 Q992.08 46.3364 991.506 47.7711 L980.521 75.0699 Q979.866 76.6685 978.759 76.6685 Q978.021 76.6685 977.693 76.3406 Q977.406 76.0537 976.996 75.0699 L964.904 45.2707 Q964.085 43.1803 963.019 42.6884 Q961.953 42.1555 958.182 42.1555 Z\" fill=\"#000000\" fill-rule=\"nonzero\" fill-opacity=\"1\" /><path clip-path=\"url(#clip430)\" d=\"M1003.94 74.619 L1003.94 63.5519 Q1003.94 62.6092 1003.98 62.2813 Q1004.03 61.9534 1004.27 61.7074 Q1004.52 61.4615 1005.01 61.4615 Q1005.58 61.4615 1005.79 61.7074 Q1006.03 61.9534 1006.2 62.8961 Q1007.47 68.6756 1010.17 71.7498 Q1012.92 74.783 1017.88 74.783 Q1022.59 74.783 1024.97 72.6925 Q1027.35 70.6021 1027.35 67.159 Q1027.35 61.0106 1018.62 59.453 Q1013.58 58.4283 1011.49 57.7724 Q1009.4 57.0756 1007.55 55.559 Q1003.94 52.6078 1003.94 48.4269 Q1003.94 44.246 1007.1 41.1718 Q1010.3 38.0976 1017.35 38.0976 Q1022.06 38.0976 1025.26 40.475 Q1026.2 39.7372 1026.69 39.1223 Q1027.8 38.0976 1028.37 38.0976 Q1029.03 38.0976 1029.15 38.5485 Q1029.28 38.9584 1029.28 40.1471 L1029.28 48.5908 Q1029.28 49.5336 1029.23 49.8615 Q1029.19 50.1894 1028.95 50.4354 Q1028.7 50.6403 1028.17 50.6403 Q1027.23 50.6403 1027.18 49.8615 Q1026.53 39.6962 1017.35 39.6962 Q1012.39 39.6962 1010.17 41.6227 Q1007.96 43.5082 1007.96 46.0905 Q1007.96 47.5251 1008.62 48.6318 Q1009.31 49.6976 1010.17 50.3534 Q1011.08 50.9682 1012.72 51.5831 Q1014.35 52.1569 1015.34 52.3619 Q1016.36 52.5668 1018.29 52.9767 Q1025.01 54.2474 1027.84 56.9936 Q1031.37 60.5187 1031.37 64.9866 Q1031.37 69.9463 1028 73.3074 Q1024.64 76.6685 1017.88 76.6685 Q1012.43 76.6685 1008.62 73.0205 Q1008.12 73.5123 1007.76 73.9632 Q1007.39 74.3731 1007.22 74.5371 Q1007.1 74.701 1007.06 74.824 Q1007.02 74.906 1006.94 74.9879 Q1005.26 76.6685 1004.85 76.6685 Q1004.19 76.6685 1004.07 76.2176 Q1003.94 75.8077 1003.94 74.619 Z\" fill=\"#000000\" fill-rule=\"nonzero\" fill-opacity=\"1\" /><path clip-path=\"url(#clip430)\" d=\"M1058.84 75.7258 L1058.84 73.1434 L1060.85 73.1434 Q1065.4 73.1434 1066.43 72.4056 Q1067.49 71.6268 1067.49 69.1675 L1067.49 25.186 Q1067.49 22.7676 1066.43 22.0298 Q1065.36 21.251 1060.85 21.251 L1058.84 21.251 L1058.84 18.6277 L1106.1 18.6277 L1108.44 37.5237 L1106.35 37.5237 Q1105.77 32.728 1105 29.9817 Q1104.26 27.1944 1102.41 25.063 Q1100.61 22.9316 1097.62 22.1118 Q1094.67 21.251 1089.87 21.251 L1079.05 21.251 Q1076.18 21.251 1075.57 21.8658 Q1074.95 22.4397 1074.95 24.6121 L1074.95 44.7379 L1082.49 44.7379 Q1088.27 44.7379 1089.91 42.7294 Q1091.55 40.7209 1091.55 34.9414 L1093.68 34.9414 L1093.68 57.1576 L1091.55 57.1576 Q1091.55 51.4601 1089.91 49.4106 Q1088.27 47.3612 1082.49 47.3612 L1074.95 47.3612 L1074.95 69.7823 Q1074.95 71.9547 1075.57 72.5696 Q1076.22 73.1434 1079.05 73.1434 L1090.24 73.1434 Q1093.85 73.1434 1096.47 72.6925 Q1099.13 72.2007 1100.98 71.053 Q1102.82 69.8643 1104.05 68.5116 Q1105.32 67.159 1106.18 64.7406 Q1107.09 62.2813 1107.58 60.0269 Q1108.11 57.7724 1108.69 54.0834 L1110.78 54.0834 L1107.25 75.7258 L1058.84 75.7258 Z\" fill=\"#000000\" fill-rule=\"nonzero\" fill-opacity=\"1\" /><path clip-path=\"url(#clip430)\" d=\"M1120.05 75.7258 L1120.05 73.1434 L1122.06 73.1434 Q1126.61 73.1434 1127.64 72.4056 Q1128.7 71.6268 1128.7 69.1675 L1128.7 24.94 Q1128.7 22.5217 1127.64 21.7839 Q1126.57 21.0051 1122.06 21.0051 L1120.05 21.0051 L1120.05 18.3818 L1146.41 18.3818 Q1155.55 18.3818 1161.9 22.8906 Q1168.3 27.3584 1168.3 33.5068 Q1168.3 38.2206 1164.16 41.9096 Q1160.02 45.5986 1153.62 47.1972 Q1161.94 50.0665 1163.87 56.9117 L1164.94 63.6339 Q1165.26 66.0523 1165.47 67.282 Q1165.72 68.5116 1166.08 70.1922 Q1166.45 71.8728 1166.82 72.6925 Q1167.23 73.4713 1167.81 74.3321 Q1168.38 75.1519 1169.12 75.4388 Q1169.9 75.7258 1170.92 75.7258 Q1172.85 75.7258 1174.49 74.0042 Q1176.13 72.2827 1176.45 68.2657 Q1176.62 66.9131 1177.48 66.9131 Q1178.55 66.9131 1178.55 68.2657 Q1178.55 69.4544 1178.22 70.848 Q1177.89 72.2007 1177.07 73.7993 Q1176.29 75.3978 1174.57 76.4636 Q1172.85 77.5703 1170.59 77.5703 Q1164.04 77.5703 1160.02 74.0452 Q1158.34 72.5286 1157.56 70.5611 Q1156.82 68.5936 1156.7 67.036 Q1156.58 65.4784 1156.58 62.0353 Q1156.58 57.1576 1156.04 55.0262 Q1155.55 52.8947 1153.38 50.8043 Q1150.43 47.935 1145.55 47.935 L1135.92 47.935 L1135.92 69.1675 Q1135.92 71.5858 1136.94 72.3646 Q1138.01 73.1434 1142.56 73.1434 L1144.57 73.1434 L1144.57 75.7258 Q1141.53 75.4798 1132.31 75.4798 Q1123.09 75.4798 1120.05 75.7258 M1135.92 46.0905 L1145.22 46.0905 Q1149.69 46.0905 1152.68 45.0248 Q1155.71 43.9181 1157.15 41.9506 Q1158.58 39.9831 1159.12 38.0156 Q1159.65 36.0071 1159.65 33.5068 Q1159.65 30.5556 1158.99 28.3421 Q1158.34 26.1287 1156.9 24.8171 Q1155.47 23.5054 1154.03 22.6856 Q1152.6 21.8248 1150.39 21.4969 Q1148.17 21.169 1146.66 21.087 Q1145.14 21.0051 1142.72 21.0051 Q1138.62 21.0051 1137.76 21.169 Q1136.82 21.251 1136.45 21.7019 Q1136.08 22.1528 1136 22.6856 Q1135.92 23.1775 1135.92 24.3662 L1135.92 46.0905 Z\" fill=\"#000000\" fill-rule=\"nonzero\" fill-opacity=\"1\" /><circle clip-path=\"url(#clip432)\" cx=\"1252.29\" cy=\"352.817\" r=\"14.4\" fill=\"#009af9\" fill-rule=\"evenodd\" fill-opacity=\"1\" stroke=\"#000000\" stroke-opacity=\"1\" stroke-width=\"2.56\"/>\n",
       "<circle clip-path=\"url(#clip432)\" cx=\"1004.09\" cy=\"483.872\" r=\"14.4\" fill=\"#009af9\" fill-rule=\"evenodd\" fill-opacity=\"1\" stroke=\"#000000\" stroke-opacity=\"1\" stroke-width=\"2.56\"/>\n",
       "<circle clip-path=\"url(#clip432)\" cx=\"569.733\" cy=\"713.217\" r=\"14.4\" fill=\"#009af9\" fill-rule=\"evenodd\" fill-opacity=\"1\" stroke=\"#000000\" stroke-opacity=\"1\" stroke-width=\"2.56\"/>\n",
       "</svg>\n"
      ],
      "text/html": [
       "<img src=\"data:image/png;base64,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\" />"
      ]
     },
     "metadata": {},
     "output_type": "display_data"
    }
   ],
   "source": [
    "p1 = scatter( β,ER_CAPM*100,      #points on the security market line\n",
    "              xlim = (0,2),\n",
    "              ylim = (0,15),\n",
    "              legend = false,\n",
    "              title = L\"\\beta \\mathrm{\\ vs \\ ER}\",\n",
    "              xlabel = L\"\\beta\",\n",
    "              ylabel = L\"$\\mathrm{E}R$, %\" )\n",
    "display(p1)"
   ]
  },
  {
   "cell_type": "markdown",
   "metadata": {},
   "source": [
    "# An Empirical Test of CAPM \n",
    "\n",
    "The next section performs an empirical test of CAPM. First, we load data. Then, we run linear regressions and test whether the intercepts are zero (the CAPM prediction) or not. (We test each asset separately.)"
   ]
  },
  {
   "cell_type": "markdown",
   "metadata": {},
   "source": [
    "## Loading Data\n",
    "\n",
    "We load data from two data files: for the returns on Fama-French equity factors and then also for the 25 Fama-French portfolios. To keep the output simple, we use only 5 of those return series."
   ]
  },
  {
   "cell_type": "code",
   "execution_count": 9,
   "metadata": {},
   "outputs": [
    {
     "data": {
      "text/plain": [
       "(388, 5)"
      ]
     },
     "execution_count": 9,
     "metadata": {},
     "output_type": "execute_result"
    }
   ],
   "source": [
    "x    = readdlm(\"Data/FFmFactorsPs.csv\",',',skipstart=1)\n",
    "Rme  = x[:,2]                #market excess return\n",
    "RSMB = x[:,3]                #small minus big firms\n",
    "RHML = x[:,4]                #high minus low book-to-market ratio\n",
    "Rf   = x[:,5]                #interest rate\n",
    "\n",
    "\n",
    "x  = readdlm(\"Data/FF25Ps.csv\",',') #no header line: x is matrix\n",
    "R  = x[:,2:end]                     #returns for 25 FF portfolios\n",
    "Re = R .- Rf                        #excess returns for the 25 FF portfolios\n",
    "Re = Re[:,[1;7;13;19;25]]           #use just 5 assets to make the printing easier\n",
    "\n",
    "(T,n) = size(Re)                    #no. obs and  no. test assets"
   ]
  },
  {
   "cell_type": "markdown",
   "metadata": {},
   "source": [
    "## OLS Estimation and Testing α = 0"
   ]
  },
  {
   "cell_type": "markdown",
   "metadata": {},
   "source": [
    "We now use the market return as a proxy for the tangency portfolio - and test if CAPM holds for the test assets.\n",
    "\n",
    "To do that, we estimate $(\\alpha_{i},b_{i})$ in the CAPM regression\n",
    "\n",
    "$R_{it}^{e}  =\\alpha_{i}+\\beta_{i}R_{mt}^{e}+\\varepsilon_{it}$,\n",
    "\n",
    "where $R_{it}^{e}$ and $R_{mt}^{e}$ are excess return, and then test if $\\alpha_{i}=0$. This corresponds to the CAPM prediction that $\\text{E}R_i^e  = \\beta_i \\mu_m^e$. Compared with the theoretical expression above, we use the market excess return as a measure of the excess return of the tangency portfolio.\n",
    "\n",
    "\n",
    "### A Remark on the Code\n",
    "\n",
    "- The function `OlsGMFn` is included in the file `OlsGMFn.jl` (see the first cell of the notebook). It does OLS estimation and reports the point estimates, residuals and more. The variance-covariance matrix of the coefficients is based on the Gauss-Markov assumptions.\n",
    "- In the call on `printmat()`, `;colNames` (notice: semicolon) is the same as `,colNames=colNames`."
   ]
  },
  {
   "cell_type": "code",
   "execution_count": 10,
   "metadata": {},
   "outputs": [
    {
     "name": "stdout",
     "output_type": "stream",
     "text": [
      "\u001b[34m\u001b[1mOLS intercepts and t-stats:\u001b[22m\u001b[39m\n",
      "         asset 1   asset 2   asset 3   asset 4   asset 5\n",
      "α         -0.504     0.153     0.305     0.279     0.336\n",
      "t-stat    -1.656     1.031     2.471     2.163     2.073\n",
      "\n"
     ]
    }
   ],
   "source": [
    "x = [ones(T) Rme]                   #regressors\n",
    "\n",
    "(α,tstat) = (fill(NaN,n),fill(NaN,n))\n",
    "for i in 1:n                              #loop over the different test assets\n",
    "    #local b_i, residual, Covb           #local/global is needed in script\n",
    "    (b_i,_,_,Covb,) = OlsGMFn(Re[:,i],x)\n",
    "    α[i]            = b_i[1]                      #estimated α\n",
    "    tstat[i]        = (α[i]-0)/sqrt(Covb[1,1])    #t-stat of H₀: true α=0\n",
    "end\n",
    "\n",
    "printblue(\"OLS intercepts and t-stats:\")\n",
    "colNames = [string(\"asset \",i) for i=1:n]\n",
    "rowNames = [\"α\",\"t-stat\"]\n",
    "printmat([α';tstat'];colNames,rowNames)"
   ]
  },
  {
   "cell_type": "code",
   "execution_count": null,
   "metadata": {},
   "outputs": [],
   "source": []
  }
 ],
 "metadata": {
  "@webio": {
   "lastCommId": null,
   "lastKernelId": null
  },
  "anaconda-cloud": {},
  "kernelspec": {
   "display_name": "Julia 1.11.1",
   "language": "julia",
   "name": "julia-1.11"
  },
  "language_info": {
   "file_extension": ".jl",
   "mimetype": "application/julia",
   "name": "julia",
   "version": "1.11.1"
  }
 },
 "nbformat": 4,
 "nbformat_minor": 4
}
