{
 "cells": [
  {
   "cell_type": "markdown",
   "metadata": {},
   "source": [
    "# CAPM\n",
    "\n",
    "This notebook summarizes the implications of CAPM and then tests them by OLS."
   ]
  },
  {
   "cell_type": "markdown",
   "metadata": {},
   "source": [
    "## Load Packages and Extra Functions"
   ]
  },
  {
   "cell_type": "code",
   "execution_count": 1,
   "metadata": {},
   "outputs": [
    {
     "data": {
      "text/plain": [
       "OlsGMFn"
      ]
     },
     "execution_count": 1,
     "metadata": {},
     "output_type": "execute_result"
    }
   ],
   "source": [
    "using Printf, DelimitedFiles, Statistics\n",
    "\n",
    "include(\"jlFiles/printmat.jl\")\n",
    "include(\"jlFiles/OlsGMFn.jl\")            #contains a function for OLS"
   ]
  },
  {
   "cell_type": "code",
   "execution_count": 2,
   "metadata": {},
   "outputs": [],
   "source": [
    "using Plots, LaTeXStrings\n",
    "\n",
    "#pyplot(size=(600,400))\n",
    "gr(size=(480,320))\n",
    "default(fmt = :png)"
   ]
  },
  {
   "cell_type": "markdown",
   "metadata": {},
   "source": [
    "# The Theoretical Predictions of CAPM\n",
    "\n",
    "The following section illustrates the theoretical predictions of CAPM by taking the following steps: \n",
    "\n",
    "1. define a set of investable assets\n",
    "2. find the tangency portfolio\n",
    "3. calculate the betas of each asset against the tangency portfolio\n",
    "4. check whether the average returns are in accordance with CAPM ($\\text{E}R_{i}  = R_f + \\beta_{i}(\\mu_{T}-R_f)$)."
   ]
  },
  {
   "cell_type": "markdown",
   "metadata": {},
   "source": [
    "## Characteristics of Three Assets: Means, Variances and Covariances"
   ]
  },
  {
   "cell_type": "code",
   "execution_count": 3,
   "metadata": {},
   "outputs": [
    {
     "name": "stdout",
     "output_type": "stream",
     "text": [
      "\u001b[34m\u001b[1mexpected returns:\u001b[22m\u001b[39m\n",
      "A     0.115\n",
      "B     0.095\n",
      "C     0.060\n",
      "\n",
      "\u001b[34m\u001b[1mcovariance matrix:\u001b[22m\u001b[39m\n",
      "          A         B         C\n",
      "A     0.017     0.003     0.006\n",
      "B     0.003     0.006     0.000\n",
      "C     0.006     0.000     0.010\n",
      "\n"
     ]
    }
   ],
   "source": [
    "μ = [0.115, 0.095, 0.06]    #expected returns\n",
    "Σ = [166  34  58;           #covariance matrix\n",
    "      34  64   4;\n",
    "      58   4 100]/100^2\n",
    "Rf = 0.03\n",
    "\n",
    "assetNames = [\"A\",\"B\",\"C\"]\n",
    "\n",
    "printblue(\"expected returns:\")\n",
    "printmat(μ,rowNames=assetNames)\n",
    "\n",
    "printblue(\"covariance matrix:\")\n",
    "printmat(Σ,colNames=assetNames,rowNames=assetNames)"
   ]
  },
  {
   "cell_type": "markdown",
   "metadata": {},
   "source": [
    "## The Tangency Portfolio\n",
    "\n",
    "The file included below contains, among other things, the function `MVTangencyP()` from the chapter on MV analysis. It calcuates the tangency portfolio."
   ]
  },
  {
   "cell_type": "code",
   "execution_count": 4,
   "metadata": {},
   "outputs": [
    {
     "data": {
      "text/plain": [
       "MVTangencyP"
      ]
     },
     "execution_count": 4,
     "metadata": {},
     "output_type": "execute_result"
    }
   ],
   "source": [
    "include(\"jlFiles/MvCalculations.jl\")"
   ]
  },
  {
   "cell_type": "code",
   "execution_count": 5,
   "metadata": {},
   "outputs": [
    {
     "name": "stdout",
     "output_type": "stream",
     "text": [
      "\u001b[34m\u001b[1mTangency portfolio weights:\u001b[22m\u001b[39m\n",
      "A     0.248\n",
      "B     0.682\n",
      "C     0.070\n",
      "\n"
     ]
    }
   ],
   "source": [
    "(wT,μT,σT) = MVTangencyP(μ,Σ,Rf)\n",
    "printblue(\"Tangency portfolio weights:\")\n",
    "printmat(wT,rowNames=assetNames)"
   ]
  },
  {
   "cell_type": "markdown",
   "metadata": {},
   "source": [
    "## (Theoretical) β of the Assets\n",
    "\n",
    "The tangency portfolio is a portfolio of the investable assets ($R_T=w_T'R$). It is therefore straightforward to calculate the covariance of each of the assets with $R_T$. The $\\beta$ values are then obtained by dividing the covariances with the variance of $R_T$. \n",
    "\n",
    "Details: \n",
    "\n",
    "The covariance of $R_i$ and $R_T$, $\\sigma_{iT} = w_i'\\Sigma w_T$ where $w_i$ is the (sometimes trivial) portfolio that creates return $R_i$. Then, calculate $\\beta_i = \\sigma_{iT}/\\sigma_{TT}$."
   ]
  },
  {
   "cell_type": "code",
   "execution_count": 6,
   "metadata": {},
   "outputs": [
    {
     "name": "stdout",
     "output_type": "stream",
     "text": [
      "\u001b[34m\u001b[1mβ of the 3 assets:\u001b[22m\u001b[39m\n",
      "A     1.259\n",
      "B     0.963\n",
      "C     0.444\n",
      "\n"
     ]
    }
   ],
   "source": [
    "n = length(μ)                     #no. assets\n",
    "\n",
    "β = fill(NaN,n)                   #n-vector\n",
    "for i = 1:n\n",
    "    #local wi                     #local/global is needed in script\n",
    "    wi     = zeros(n)\n",
    "    wi[i]  = 1                    #weight 1 on asset i\n",
    "    β[i]   = wi'Σ*wT/σT^2         #usual OLS coefficient: Cov(x,y)/Var(x)\n",
    "end\n",
    "\n",
    "printblue(\"β of the $n assets:\")\n",
    "printmat(β,rowNames=assetNames)"
   ]
  },
  {
   "cell_type": "markdown",
   "metadata": {},
   "source": [
    "## Trying CAPM on the Assets"
   ]
  },
  {
   "cell_type": "markdown",
   "metadata": {},
   "source": [
    "CAPMS says that\n",
    "\n",
    "$\\text{E}R_i  = R_f + \\beta_i(\\mu_T-R_f)$ or equivalently $\\text{E}R_i^e  = \\beta_i \\mu_T^e$\n",
    " \n",
    "This can be compared with the (actual) average returns. (If we have done the previous calculations correctly, then CAPM should hold for assets $A$,$B$ and $C$)."
   ]
  },
  {
   "cell_type": "code",
   "execution_count": 7,
   "metadata": {},
   "outputs": [
    {
     "name": "stdout",
     "output_type": "stream",
     "text": [
      "\u001b[34m\u001b[1mμ and ER as suggested by CAPM: \u001b[22m\u001b[39m\n",
      "     actual from CAPM\n",
      "A     0.115     0.115\n",
      "B     0.095     0.095\n",
      "C     0.060     0.060\n",
      "\n"
     ]
    }
   ],
   "source": [
    "ERi_CAPM = Rf .+ β*(μT-Rf)      #ERi_CAPM is a vector since β is a vector\n",
    "\n",
    "printblue(\"μ and ER as suggested by CAPM: \")\n",
    "printmat([μ ERi_CAPM],rowNames=assetNames,colNames=[\"actual\",\"from CAPM\"])"
   ]
  },
  {
   "cell_type": "code",
   "execution_count": 8,
   "metadata": {},
   "outputs": [
    {
     "data": {
      "image/png": "[encoded data removed]"
     },
     "metadata": {},
     "output_type": "display_data"
    }
   ],
   "source": [
    "p1 = scatter( β,ERi_CAPM*100,      #points on the security market line\n",
    "              xlim = (0,2),         \n",
    "              ylim = (0,15),\n",
    "              legend = false,\n",
    "              title = L\"\\beta \\mathrm{\\ vs \\ ER}\",\n",
    "              xlabel = L\"\\beta\",\n",
    "              ylabel = L\"$\\mathrm{E}R$, %\" )\n",
    "display(p1)"
   ]
  },
  {
   "cell_type": "markdown",
   "metadata": {},
   "source": [
    "# An Empirical Test of CAPM \n",
    "\n",
    "The next section performs an empirical test of CAPM. First, we load data. Then, we run linear regressions and test whether the intercepts are zero (the CAPM prediction) or not. (We test each asset separately.)"
   ]
  },
  {
   "cell_type": "markdown",
   "metadata": {},
   "source": [
    "## Loading Data"
   ]
  },
  {
   "cell_type": "code",
   "execution_count": 9,
   "metadata": {},
   "outputs": [
    {
     "data": {
      "text/plain": [
       "(388, 5)"
      ]
     },
     "execution_count": 9,
     "metadata": {},
     "output_type": "execute_result"
    }
   ],
   "source": [
    "x    = readdlm(\"Data/FFmFactorsPs.csv\",',',skipstart=1)\n",
    "Rme  = x[:,2]                #market excess return\n",
    "RSMB = x[:,3]                #small minus big firms\n",
    "RHML = x[:,4]                #high minus low book-to-market ratio\n",
    "Rf   = x[:,5]                #interest rate\n",
    "\n",
    "\n",
    "x  = readdlm(\"Data/FF25Ps.csv\",',') #no header line: x is matrix\n",
    "R  = x[:,2:end]                     #returns for 25 FF portfolios\n",
    "Re = R .- Rf                        #excess returns for the 25 FF portfolios\n",
    "Re = Re[:,[1;7;13;19;25]]           #use just 5 assets to make the printing easier \n",
    "\n",
    "(T,n) = size(Re)                    #no. obs and  no. test assets"
   ]
  },
  {
   "cell_type": "markdown",
   "metadata": {},
   "source": [
    "## OLS Estimation and Testing α = 0"
   ]
  },
  {
   "cell_type": "markdown",
   "metadata": {},
   "source": [
    "We now use the market return as a proxy for the tangency portfolio - and test if CAPM holds for the test assets.\n",
    "\n",
    "To do that, we estimate $(\\alpha_{i},b_{i})$ in the CAPM regression\n",
    "\n",
    "$R_{it}^{e}  =\\alpha_{i}+\\beta_{i}R_{mt}^{e}+\\varepsilon_{it}$\n",
    "\n",
    "and then test if $\\alpha_{i}=0$. This corresponds the CAPM prediction that $\\text{E}R_i^e  = \\beta_i \\mu_m^e$.\n",
    "\n",
    "\n",
    "### A Remark on the Code\n",
    "\n",
    "- The function `OlsGMFn` is included in the file `OlsGMFn.jl` (see the first cell of the notebook). It does OLS estimation and reports the point estimates, residuals and more. The variance-covariance matrix of the coefficients is based on the Gauss-Markov assumptions.\n",
    "- In the call on `printmat()`, `;colNames` (notice: semicolon) is the same as `,colNames=colNames`."
   ]
  },
  {
   "cell_type": "code",
   "execution_count": 10,
   "metadata": {},
   "outputs": [
    {
     "name": "stdout",
     "output_type": "stream",
     "text": [
      "\u001b[34m\u001b[1mOLS intercepts and t-stats:\u001b[22m\u001b[39m\n",
      "         asset 1   asset 2   asset 3   asset 4   asset 5\n",
      "α         -0.504     0.153     0.305     0.279     0.336\n",
      "t-stat    -1.656     1.031     2.471     2.163     2.073\n",
      "\n"
     ]
    }
   ],
   "source": [
    "x = [ones(T) Rme]                   #regressors\n",
    "\n",
    "(α,tstat) = (fill(NaN,n),fill(NaN,n))\n",
    "for i = 1:n                              #loop over the different test assets\n",
    "    #local b_i, residual, Covb           #local/global is needed in script\n",
    "    (b_i,_,_,Covb,) = OlsGMFn(Re[:,i],x)\n",
    "    α[i]            = b_i[1]                      #estimated α\n",
    "    tstat[i]        = (α[i]-0)/sqrt(Covb[1,1])    #tstat of H₀: true α=0\n",
    "end\n",
    "\n",
    "printblue(\"OLS intercepts and t-stats:\")\n",
    "colNames = [string(\"asset \",i) for i=1:n]\n",
    "rowNames = [\"α\",\"t-stat\"]\n",
    "printmat([α';tstat'];colNames,rowNames)"
   ]
  },
  {
   "cell_type": "code",
   "execution_count": null,
   "metadata": {},
   "outputs": [],
   "source": []
  }
 ],
 "metadata": {
  "@webio": {
   "lastCommId": null,
   "lastKernelId": null
  },
  "anaconda-cloud": {},
  "kernelspec": {
   "display_name": "Julia 1.7.3",
   "language": "julia",
   "name": "julia-1.7"
  },
  "language_info": {
   "file_extension": ".jl",
   "mimetype": "application/julia",
   "name": "julia",
   "version": "1.7.3"
  }
 },
 "nbformat": 4,
 "nbformat_minor": 4
}
