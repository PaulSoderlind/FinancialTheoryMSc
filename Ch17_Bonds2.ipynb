{
 "cells": [
  {
   "cell_type": "markdown",
   "metadata": {},
   "source": [
    "# Bonds 2\n",
    "\n",
    "This notebook discusses *duration hedging* as a way to immunize a bond portfolio."
   ]
  },
  {
   "cell_type": "markdown",
   "metadata": {},
   "source": [
    "## Load Packages and Extra Functions"
   ]
  },
  {
   "cell_type": "code",
   "execution_count": 1,
   "metadata": {},
   "outputs": [
    {
     "data": {
      "text/plain": [
       "printyellow (generic function with 1 method)"
      ]
     },
     "execution_count": 1,
     "metadata": {},
     "output_type": "execute_result"
    }
   ],
   "source": [
    "using Printf, Roots\n",
    "\n",
    "include(\"jlFiles/printmat.jl\")"
   ]
  },
  {
   "cell_type": "code",
   "execution_count": 2,
   "metadata": {},
   "outputs": [],
   "source": [
    "using Plots\n",
    "\n",
    "#pyplot(size=(600,400))\n",
    "gr(size=(480,320))\n",
    "default(fmt = :png)"
   ]
  },
  {
   "cell_type": "markdown",
   "metadata": {},
   "source": [
    "## From the Notebook on Bonds 1\n",
    "\n",
    "The file included below contains the function `BondPrice3()` which calculates the present value of a cash flow stream."
   ]
  },
  {
   "cell_type": "code",
   "execution_count": 3,
   "metadata": {},
   "outputs": [
    {
     "data": {
      "text/plain": [
       "BondPrice3"
      ]
     },
     "execution_count": 3,
     "metadata": {},
     "output_type": "execute_result"
    }
   ],
   "source": [
    "include(\"jlFiles/BondCalculations.jl\")"
   ]
  },
  {
   "cell_type": "markdown",
   "metadata": {},
   "source": [
    "# Value of a Bond Portfolio after a Sudden Interest Rate Change\n",
    "\n",
    "The calculations below assume that the yield curve is flat, but that it can shift up or down in parallel. This assumption is similar to the classical literature on duration hedging.\n",
    "\n",
    "The initial values are indicated by the subscript $_0$ and the values after the interest rate change by the subscript $_1$. It is assumed that the change is very sudden, so the time to the different cash flows is (virtually) the same before and after.\n",
    "\n",
    "The next cell sets up the cash flow for a bond portolio $L$ that pays 0.2 each year for the next 10 years. The value is calculated at an initial interest rate ($\\theta_0$) and at a new interest rate ($\\theta_1$)."
   ]
  },
  {
   "cell_type": "code",
   "execution_count": 4,
   "metadata": {
    "scrolled": true
   },
   "outputs": [
    {
     "name": "stdout",
     "output_type": "stream",
     "text": [
      "\u001b[34m\u001b[1mValue of bond portfolio at θ₀=0.05 and θ₁=0.03:\u001b[22m\u001b[39m\n",
      "PL₀ (at θ₀=0.05)          1.544\n",
      "PL₁ (at θ₁=0.03)          1.706\n",
      "ΔPL/PL₀                   0.105\n",
      "\n",
      "\u001b[31m\u001b[1mNotice that the bond is worth more at the lower interest rate\u001b[22m\u001b[39m\n"
     ]
    }
   ],
   "source": [
    "θ₀ = 0.05                   #initial interest rate\n",
    "θ₁ = 0.03                   #interest rate after sudden change\n",
    "\n",
    "cf = ones(10)*0.2            #cash flow of liability\n",
    "m  = 1:10                    #time periods of the cash flows\n",
    "\n",
    "PL₀ = BondPrice3(θ₀,cf,m)    #value of bond L at initial interest rate\n",
    "PL₁ = BondPrice3(θ₁,cf,m)    #and after sudden change in interest rate\n",
    "R   = (PL₁ - PL₀)/PL₀        #relative change of the value\n",
    "\n",
    "printblue(\"Value of bond portfolio at θ₀=$θ₀ and θ₁=$θ₁:\")\n",
    "xy = [PL₀, PL₁, R]\n",
    "printmat(xy,rowNames=[\"PL₀ (at θ₀=$θ₀)\";\"PL₁ (at θ₁=$θ₁)\";\"ΔPL/PL₀\"],width=15)\n",
    "\n",
    "printred(\"Notice that the bond is worth more at the lower interest rate\")"
   ]
  },
  {
   "cell_type": "markdown",
   "metadata": {},
   "source": [
    "# Macaulay's Duration\n",
    "\n",
    "A first-order Taylor approximation gives the (approximate) return\n",
    "\n",
    "$\\frac{\\Delta P}{P} = -D^M \\times \\frac{\\Delta \\theta}{1+\\theta}$, \n",
    "\n",
    "where $D^M$ is Macaulay's duration\n",
    "\n",
    "$D^M = \\sum_{k=1}^{K} m_{k}\\frac{cf_{k}}{\\left(  1+\\theta\\right)  ^{m_{k}}P}$"
   ]
  },
  {
   "cell_type": "code",
   "execution_count": 5,
   "metadata": {},
   "outputs": [
    {
     "data": {
      "text/plain": [
       "BondDuration"
      ]
     },
     "execution_count": 5,
     "metadata": {},
     "output_type": "execute_result"
    }
   ],
   "source": [
    "\"\"\"\n",
    "    BondDuration(P,cf,m,ytm)\n",
    "\n",
    "Calculate Macaulays (bond) duration measure.\n",
    "\n",
    "P:   scalar, bond price\n",
    "cf:  scalar or K vector of cash flows\n",
    "m:   K vector of times of cash flows\n",
    "ytm: scalar, yield to maturity\n",
    "\"\"\"\n",
    "function BondDuration(P,cf,m,ytm)\n",
    "    (length(cf) != length(m)) && error(\"BondPrice3: cf and m must have the same lengths\")\n",
    "    cdisc   = cf.*m./((1+ytm).^m)        #cf1/(1+y) + 2*cf2/(1+y)^2 + ...\n",
    "    Dmac    = sum(cdisc)/P               #Macaulays duration\n",
    "    return Dmac\n",
    "end"
   ]
  },
  {
   "cell_type": "code",
   "execution_count": 6,
   "metadata": {},
   "outputs": [
    {
     "name": "stdout",
     "output_type": "stream",
     "text": [
      "Macaulay's duration of the bond portfolio     5.099\n",
      "\n",
      "\u001b[34m\u001b[1mRelative price change (return): \u001b[22m\u001b[39m\n",
      "Exact                           0.105\n",
      "Approximate (from duration)     0.097\n",
      "\n"
     ]
    }
   ],
   "source": [
    "Dmac    = BondDuration(PL₀,cf,m,θ₀)\n",
    "printlnPs(\"Macaulay's duration of the bond portfolio\",Dmac)\n",
    "\n",
    "Δθ       = θ₁ - θ₀\n",
    "R_approx = -Dmac*Δθ/(1+θ₀)\n",
    "\n",
    "printblue(\"\\nRelative price change (return): \")\n",
    "printmat([R,R_approx],rowNames=[\"Exact\",\"Approximate (from duration)\"])"
   ]
  },
  {
   "cell_type": "markdown",
   "metadata": {},
   "source": [
    "# Hedging a Liability Stream\n",
    "\n",
    "Suppose we are short one bond portfolio $L$ (we have a liability) as discussed above, which is worth $P_L$. To hedge we buy $v$ units of bond (portfolio) $H$. The balance is put on a money market account $M$ to make the initial value of the portfolio zero ($V=0$)\n",
    "\n",
    "$V=vP_{H}+M-P_{L}$.\n",
    "\n",
    "Over a short time interval, the change in the overall portfolio value is\n",
    "\n",
    "$\\Delta V=v\\Delta P_{H}-\\Delta P_{L}$.\n",
    "\n",
    "In the cells below, we assume that the yield curve is flat and shifts in parallel. This means that the ytm of both $L$ and $H$ change from one common value ($\\theta_0$) to another common value ($\\theta_1$)."
   ]
  },
  {
   "cell_type": "markdown",
   "metadata": {},
   "source": [
    "## Duration Matching\n",
    "\n",
    "Choose a hedge bond with the *same duration* as the liability and invest same amount in each. Clearly, this gives $\\frac{\\Delta V}{P_{L}}\\approx 0$.\n",
    "\n",
    "The code below uses a zero coupon bond as bond $H$, but that is not important."
   ]
  },
  {
   "cell_type": "code",
   "execution_count": 7,
   "metadata": {},
   "outputs": [
    {
     "name": "stdout",
     "output_type": "stream",
     "text": [
      "\u001b[34m\u001b[1mHedge bond: a zero coupon bond with m=5.1 and face value of 1.\u001b[22m\u001b[39m\n",
      "\n",
      "\u001b[34m\u001b[1mRecall that the interest rates change from θ₀=0.05 to θ₁=0.03.\u001b[22m\u001b[39m\n",
      "\n",
      "\u001b[34m\u001b[1mResults of the calculations:\u001b[22m\u001b[39m\n",
      "PL₀                     1.544\n",
      "PH₀                     0.780\n",
      "v                       1.981\n",
      "v*PH₀/PL₀               1.000\n",
      "Duration(liability)     5.099\n",
      "Duration(hedge)         5.099\n",
      "Return                 -0.002\n",
      "\n",
      "\u001b[31m\u001b[1mNotice, the duration matching gives a return of -0.2%. Close to zero.\u001b[22m\u001b[39m\n"
     ]
    }
   ],
   "source": [
    "PH₀ = BondPrice3(θ₀,1,Dmac)      #value of hedge bond, here a zero coupon bond\n",
    "PH₁ = BondPrice3(θ₁,1,Dmac)\n",
    "v  = PL₀/PH₀                     #so v*PH₀ = PL₀\n",
    "\n",
    "ΔV = v*(PH₁-PH₀) - (PL₁-PL₀)     #value change of total portfolio\n",
    "R  = ΔV/PL₀                      #relative value change \n",
    "\n",
    "txt = \"\"\"Hedge bond: a zero coupon bond with m=$(round(Dmac,digits=2)) and face value of 1.\\n\n",
    "Recall that the interest rates change from θ₀=$θ₀ to θ₁=$θ₁.\\n\n",
    "Results of the calculations:\"\"\"\n",
    "printblue(txt)\n",
    "\n",
    "xy = [PL₀,PH₀,v,v*PH₀/PL₀,Dmac,Dmac,R]\n",
    "printmat(xy,rowNames=[\"PL₀\",\"PH₀\",\"v\",\"v*PH₀/PL₀\",\"Duration(liability)\",\"Duration(hedge)\",\"Return\"])\n",
    "\n",
    "printred(\"Notice, the duration matching gives a return of $(round(R*100,digits=1))%. Close to zero.\")"
   ]
  },
  {
   "cell_type": "markdown",
   "metadata": {},
   "source": [
    "## Naive Hedging\n",
    "\n",
    "The \"naive\" hedging invests the *same amount in the hedge bond* as the value of the liability, that is, $v P_{H}=P_{L}$ so $v=P_{L}/P_{H}$.\n",
    "\n",
    "The effectiveness of this approach depends on the interest rate sensitivities of $L$ and $H$. In particular, it can be shown that the relative value change of the overall portfolio is\n",
    "\n",
    "$\\frac{\\Delta V}{P_{L}}\\approx\\left(  D_{L}^{M}-D_{H}^{M}\\right)  \\times\n",
    "\\frac{\\Delta\\theta}{1+\\theta}$.\n",
    "\n",
    "If $D_{L}>D_{H}$, and $\\Delta\\theta<0$ (as in the example below), then we will lose money. \n",
    "\n",
    "In contrast, with  $D_{L}=D_{H}$, then we are doing duration matching (see above)."
   ]
  },
  {
   "cell_type": "code",
   "execution_count": 8,
   "metadata": {},
   "outputs": [
    {
     "name": "stdout",
     "output_type": "stream",
     "text": [
      "\u001b[34m\u001b[1mHedge bond: zero coupon bond with m=3 and face value of 1\u001b[22m\u001b[39m\n",
      "\n",
      "PL₀                1.544\n",
      "PH₀                0.864\n",
      "v                  1.788\n",
      "v*PH₀/PL₀          1.000\n",
      "Dur(liability)     5.099\n",
      "Dur(hedge)         3.000\n",
      "Return            -0.045\n",
      "\n",
      "\u001b[31m\u001b[1mThe naive hedge gives a return of -4.5%, which is a bad hedge\u001b[22m\u001b[39m\n"
     ]
    }
   ],
   "source": [
    "mH = 3                     #a mH-year zero coupon bond is used as hedge bond\n",
    "\n",
    "PH₀ = BondPrice3(θ₀,1,mH)\n",
    "PH₁ = BondPrice3(θ₁,1,mH)\n",
    "\n",
    "v = PL₀/PH₀                 #so v*PH₀ = PL₀\n",
    "\n",
    "ΔV = v*(PH₁-PH₀) - (PL₁-PL₀)\n",
    "R  = ΔV/PL₀                 #relative value change\n",
    "\n",
    "printblue(\"Hedge bond: zero coupon bond with m=$mH and face value of 1\\n\")\n",
    "xy = [PL₀,PH₀,v,v*PH₀/PL₀,Dmac,mH,R]\n",
    "printmat(xy,rowNames=[\"PL₀\",\"PH₀\",\"v\",\"v*PH₀/PL₀\",\"Dur(liability)\",\"Dur(hedge)\",\"Return\"])\n",
    "\n",
    "printred(\"The naive hedge gives a return of $(round(R*100,digits=1))%, which is a bad hedge\")"
   ]
  },
  {
   "cell_type": "markdown",
   "metadata": {},
   "source": [
    "## Illustrating the Problem with the Naive Hedging\n",
    "\n",
    "by plotting the value of the liability ($P_L$) and of the hedge bond position ($v P_H$) at different interest rates."
   ]
  },
  {
   "cell_type": "code",
   "execution_count": 9,
   "metadata": {},
   "outputs": [
    {
     "data": {
      "image/png": "[encoded data removed]"
     },
     "metadata": {},
     "output_type": "display_data"
    }
   ],
   "source": [
    "θ_range = 0:0.01:0.1        #possible ytm values\n",
    "\n",
    "#(PL,PH) = (fill(NaN,length(θ_range)),fill(NaN,length(θ_range)))\n",
    "#for i = 1:length(θ_range)\n",
    "#    PL[i] = BondPrice3(θ_range[i],cf,m)\n",
    "#    PH[i] = BondPrice3(θ_range[i],1,mH)\n",
    "#end\n",
    "PL = [BondPrice3(θ_range[i],cf,m) for i=1:length(θ_range)]  #an alternative to a loop\n",
    "PH = [BondPrice3(θ_range[i],1,mH) for i=1:length(θ_range)]\n",
    "\n",
    "txt = \"In our example, the interest rates \\nare $θ₀ (before) and $θ₁ (after)\"\n",
    "\n",
    "p1 = plot( θ_range,[PL v*PH],\n",
    "           linecolor = [:red :green],\n",
    "           linestyle = [:solid :dash],\n",
    "           label = [\"liability\" \"v * hedge bond price\"],\n",
    "           title = \"Naive hedging\",\n",
    "           xlabel = \"Interest rate\",\n",
    "           ylabel = \"Value of position\",\n",
    "           annotation = (0.005,1.4,text(txt,8,:left)) )\n",
    "display(p1)"
   ]
  },
  {
   "cell_type": "markdown",
   "metadata": {},
   "source": [
    "## Duration Hedging\n",
    "\n",
    "With $D_{L}^{M}\\neq D_{H}$, we could *adjust the hedge ratio* $v$ to compensate for the difference in interest rate sensitivity (duration). In particular, we could set \n",
    "\n",
    "$v =\\frac{D_{L}^{M}}{D_{H}^{M}}\\times\\frac{P_{L}}{P_{H}}$. \n",
    "\n",
    "The balance $(P_L-v P_H)$ is kept on a money market account ($M$).\n",
    "\n",
    "It can be shown that this gives an (approximate) hedge."
   ]
  },
  {
   "cell_type": "code",
   "execution_count": 10,
   "metadata": {},
   "outputs": [
    {
     "name": "stdout",
     "output_type": "stream",
     "text": [
      "\u001b[34m\u001b[1mHedge bond: zero coupon bond with m=3 and face value of 1\u001b[22m\u001b[39m\n",
      "\n",
      "PL₀                1.544\n",
      "PH₀                0.864\n",
      "v                  3.039\n",
      "v*PH₀/PL₀          1.700\n",
      "Dur(liability)     5.099\n",
      "Dur(hedge)         3.000\n",
      "M                 -1.081\n",
      "Return            -0.004\n",
      "\n",
      "\u001b[31m\u001b[1mNotice, the duration hedging gives a return of -0.4%. Close to zero.\u001b[22m\u001b[39m\n"
     ]
    }
   ],
   "source": [
    "PH₀ = BondPrice3(θ₀,1,mH)\n",
    "PH₁ = BondPrice3(θ₁,1,mH)\n",
    "v   = Dmac/mH * PL₀/PH₀\n",
    "M   = PL₀ - v*PH₀               #on money market account\n",
    "\n",
    "ΔV = v*(PH₁-PH₀) - (PL₁-PL₀)\n",
    "R  = ΔV/PL₀                     #relative value change\n",
    "\n",
    "printblue(\"Hedge bond: zero coupon bond with m=$mH and face value of 1\\n\")\n",
    "xy = [PL₀,PH₀,v,v*PH₀/PL₀,Dmac,mH,M,R]\n",
    "printmat(xy,rowNames=[\"PL₀\",\"PH₀\",\"v\",\"v*PH₀/PL₀\",\"Dur(liability)\",\"Dur(hedge)\",\"M\",\"Return\"])\n",
    "\n",
    "printred(\"Notice, the duration hedging gives a return of $(round(R*100,digits=1))%. Close to zero.\")"
   ]
  },
  {
   "cell_type": "markdown",
   "metadata": {},
   "source": [
    "## Convexity (extra)\n",
    "\n",
    "A second-order Taylor approximation gives that \n",
    "\n",
    "$\n",
    "\\frac{\\Delta P}{P}\\approx-D^{M}\\times\\frac{\\Delta\\theta}{1+\\theta}+\\frac{1}{2}C\\times(\\Delta\\theta)^{2}, \n",
    "$\n",
    "\n",
    "where \n",
    "$\n",
    "C = \\frac{1}{P} \\frac{d^{2}P}{d\\theta^{2}}\n",
    "$. \n",
    "\n",
    "The function below calculates $C$."
   ]
  },
  {
   "cell_type": "code",
   "execution_count": 11,
   "metadata": {},
   "outputs": [
    {
     "data": {
      "text/plain": [
       "BondConvexity (generic function with 1 method)"
      ]
     },
     "execution_count": 11,
     "metadata": {},
     "output_type": "execute_result"
    }
   ],
   "source": [
    "function BondConvexity(P,cf,m,ytm)\n",
    "    cdisc   = cf.*m.*(1.0.+m)./((1+ytm).^(m.+2)) \n",
    "    C       = sum(cdisc)/P\n",
    "    return C\n",
    "end"
   ]
  },
  {
   "cell_type": "code",
   "execution_count": 12,
   "metadata": {},
   "outputs": [
    {
     "name": "stdout",
     "output_type": "stream",
     "text": [
      "\u001b[34m\u001b[1mConvexity\u001b[22m\u001b[39m\n",
      "C             35.602\n",
      "Δθ            -0.020\n",
      "0.5*C*Δθ^2     0.007\n",
      "\n",
      "\u001b[31m\u001b[1mCompare the magnitude to ΔPH/PH: \u001b[22m\u001b[39m\u001b[31m\u001b[1m0.059\u001b[22m\u001b[39m\u001b[31m\u001b[1m. It seems convexity is not important in this case.\u001b[22m\u001b[39m\n"
     ]
    }
   ],
   "source": [
    "C = BondConvexity(PL₀,cf,m,θ₀)\n",
    "\n",
    "printblue(\"Convexity\")\n",
    "xy = [C;Δθ;0.5*C*Δθ^2]\n",
    "printmat(xy,rowNames=[\"C\";\"Δθ\";\"0.5*C*Δθ^2\"])\n",
    "\n",
    "printred(\"Compare the magnitude to ΔPH/PH: \",round((PH₁-PH₀)/PH₀,digits=3),\". It seems convexity is not important in this case.\")"
   ]
  },
  {
   "cell_type": "code",
   "execution_count": null,
   "metadata": {},
   "outputs": [],
   "source": []
  }
 ],
 "metadata": {
  "@webio": {
   "lastCommId": null,
   "lastKernelId": null
  },
  "anaconda-cloud": {},
  "kernelspec": {
   "display_name": "Julia 1.7.2",
   "language": "julia",
   "name": "julia-1.7"
  },
  "language_info": {
   "file_extension": ".jl",
   "mimetype": "application/julia",
   "name": "julia",
   "version": "1.7.2"
  }
 },
 "nbformat": 4,
 "nbformat_minor": 4
}
