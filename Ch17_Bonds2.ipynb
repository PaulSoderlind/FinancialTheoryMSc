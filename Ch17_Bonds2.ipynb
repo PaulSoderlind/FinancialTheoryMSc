{
 "cells": [
  {
   "cell_type": "markdown",
   "metadata": {},
   "source": [
    "# Bonds 2\n",
    "\n",
    "This notebook discusses duration hedging as a way to immunize a bond portfolio."
   ]
  },
  {
   "cell_type": "markdown",
   "metadata": {},
   "source": [
    "## Load Packages and Extra Functions"
   ]
  },
  {
   "cell_type": "code",
   "execution_count": 1,
   "metadata": {},
   "outputs": [
    {
     "data": {
      "text/plain": [
       "printwhere (generic function with 1 method)"
      ]
     },
     "execution_count": 1,
     "metadata": {},
     "output_type": "execute_result"
    }
   ],
   "source": [
    "using Dates, Roots\n",
    "\n",
    "include(\"jlFiles/printmat.jl\")"
   ]
  },
  {
   "cell_type": "code",
   "execution_count": 2,
   "metadata": {},
   "outputs": [],
   "source": [
    "using Plots\n",
    "\n",
    "#pyplot(size=(600,400))\n",
    "gr(size=(480,320))\n",
    "default(fmt = :svg)"
   ]
  },
  {
   "cell_type": "markdown",
   "metadata": {},
   "source": [
    "## From the Notebook on Bonds 1\n",
    "\n",
    "The file included below contains the function `BondPrice3()` which calculates the present value of a cash flow stream."
   ]
  },
  {
   "cell_type": "code",
   "execution_count": 3,
   "metadata": {},
   "outputs": [
    {
     "data": {
      "text/plain": [
       "BondPrice3"
      ]
     },
     "execution_count": 3,
     "metadata": {},
     "output_type": "execute_result"
    }
   ],
   "source": [
    "include(\"jlFiles/BondCalculations.jl\")"
   ]
  },
  {
   "cell_type": "markdown",
   "metadata": {},
   "source": [
    "# Value of a Liability after a Sudden Interest Rate Change\n",
    "\n",
    "The calculations below assume that the yield curve is flat, but that it can shift up or down in parallel. This assumption is similar to the classical literature on duration hedging.\n",
    "\n",
    "The initial values are indicated by the subscript $_0$ and the values after the interest rate change by the subscript $_1$. It is assumed that the change is very sudden, so the time to the different cash flows is (virtually) the same before and after.\n",
    "\n",
    "The next cell sets up the cash flow for a liability that pays 0.2 each year for the next 10 years. The value of the liability is calculated at an initial interest rate ($\\theta_0$) and at a new interest rate ($\\theta_1$)."
   ]
  },
  {
   "cell_type": "code",
   "execution_count": 4,
   "metadata": {
    "scrolled": true
   },
   "outputs": [
    {
     "name": "stdout",
     "output_type": "stream",
     "text": [
      "\u001b[34m\u001b[1mAs θ changes from θ₀=0.05 to θ₁=0.03:\u001b[22m\u001b[39m\n",
      "                    \n",
      "P₀             1.544\n",
      "P₁             1.706\n",
      "ΔP/P₀          0.105\n",
      "\n",
      "\u001b[31m\u001b[1mNotice that the liability is worth more at the lower interest rate\u001b[22m\u001b[39m\n"
     ]
    }
   ],
   "source": [
    "θ₀ = 0.05                   #initial interest rate\n",
    "θ₁ = 0.03                   #interest rate after sudden change\n",
    "\n",
    "cf = fill(0.2,10)           #cash flow of liability\n",
    "m  = 1:10                   #time periods of the cash flows\n",
    "\n",
    "P₀ = BondPrice3(θ₀,cf,m)\n",
    "P₁ = BondPrice3(θ₁,cf,m)\n",
    "R = (P₁ - P₀)/P₀\n",
    "\n",
    "printblue(\"As θ changes from θ₀=$θ₀ to θ₁=$θ₁:\")\n",
    "xy = [P₀, P₁, R]\n",
    "printTable(xy,[\" \"],[\"P₀\";\"P₁\";\"ΔP/P₀\"],width=15)\n",
    "\n",
    "printred(\"Notice that the liability is worth more at the lower interest rate\")"
   ]
  },
  {
   "cell_type": "markdown",
   "metadata": {},
   "source": [
    "# Macaulay's Duration\n",
    "\n",
    "A first-order Taylor approximation gives\n",
    "\n",
    "$\\frac{\\Delta P}{P} = -D^M \\times \\frac{\\Delta \\theta}{1+\\theta}$, \n",
    "\n",
    "where $D^M$ is Macaulay's duration\n",
    "\n",
    "$D^M = \\sum_{k=1}^{K} m_{k}\\frac{cf_{k}}{\\left(  1+\\theta\\right)  ^{m_{k}}P}$"
   ]
  },
  {
   "cell_type": "code",
   "execution_count": 5,
   "metadata": {},
   "outputs": [
    {
     "data": {
      "text/plain": [
       "BondDuration"
      ]
     },
     "execution_count": 5,
     "metadata": {},
     "output_type": "execute_result"
    }
   ],
   "source": [
    "\"\"\"\n",
    "    BondDuration(P,cf,m,ytm)\n",
    "\n",
    "Calculate Macaulays (bond) duration measure.\n",
    "\n",
    "P:   scalar, bond price\n",
    "cf:  scalar or K vector of cash flows\n",
    "m:   K vector of times of cash flows\n",
    "ytm: scalar, yield to maturity\n",
    "\"\"\"\n",
    "function BondDuration(P,cf,m,ytm)\n",
    "    cdisc   = cf.*m./((1+ytm).^m)        #c/(1+y) + 2c/(1+y)^2 + ...\n",
    "    Dmac    = sum(cdisc)/P               #Macaulays duration\n",
    "    return Dmac\n",
    "end"
   ]
  },
  {
   "cell_type": "code",
   "execution_count": 6,
   "metadata": {},
   "outputs": [
    {
     "name": "stdout",
     "output_type": "stream",
     "text": [
      "Macaulay's duration     5.099\n",
      "\n",
      "Exact and approximate relative price change: \n",
      "     0.105     0.097\n"
     ]
    }
   ],
   "source": [
    "Dmac    = BondDuration(P₀,cf,m,θ₀)\n",
    "printlnPs(\"Macaulay's duration\",Dmac)\n",
    "\n",
    "Δθ       = θ₁ - θ₀\n",
    "R_approx = -Dmac*Δθ/(1+θ₀)\n",
    "\n",
    "println(\"\\nExact and approximate relative price change: \")\n",
    "printlnPs(R,R_approx)"
   ]
  },
  {
   "cell_type": "markdown",
   "metadata": {},
   "source": [
    "# Hedging a Liability Stream\n",
    "\n",
    "Suppose we are short one bond $L$ (this is the liability), which is worth $P_L$. To hedge that we buy $v$ units of bond $H$. The balance is put on a money market account $M$ to make the initial value of the portfolio zero ($V=0$)\n",
    "\n",
    "$V=vP_{H}+M-P_{L}$.\n",
    "\n",
    "Over a short time interval, the change in the portfolio value is\n",
    "\n",
    "$\\Delta V=v\\Delta P_{H}-\\Delta P_{L}$.\n",
    "\n",
    "In the cells below, we assume that the yield curve is flat and shifts in parallel. This means that the ytm of both instruments change from one common value ($\\theta_0$) to another common value ($\\theta_1$)."
   ]
  },
  {
   "cell_type": "code",
   "execution_count": 7,
   "metadata": {},
   "outputs": [
    {
     "name": "stdout",
     "output_type": "stream",
     "text": [
      "\u001b[34m\u001b[1mValue of liability at different interest rates θ₀ and 0.03:\u001b[22m\u001b[39m\n",
      "             \n",
      "PL₀     1.544\n",
      "PL₁     1.706\n",
      "\n",
      "\u001b[34m\u001b[1mMacaulay's duration of the liability:\u001b[22m\u001b[39m\n",
      "     5.099\n"
     ]
    }
   ],
   "source": [
    "PL₀ = P₀        #just switching notation: this is the value of the liability\n",
    "PL₁ = P₁\n",
    "\n",
    "printblue(\"Value of liability at different interest rates θ₀ and $θ₁:\")\n",
    "printTable([PL₀,PL₁],[\"\"],[\"PL₀\",\"PL₁\"])\n",
    "\n",
    "printblue(\"Macaulay's duration of the liability:\")\n",
    "printlnPs(Dmac)"
   ]
  },
  {
   "cell_type": "markdown",
   "metadata": {},
   "source": [
    "## Duration Matching\n",
    "\n",
    "Choose a hedge bond with the *same duration* as the liability and invest equally much into each.\n",
    "\n",
    "Clearly, this gives $\\frac{\\Delta V}{P_{L}}\\approx 0$."
   ]
  },
  {
   "cell_type": "code",
   "execution_count": 8,
   "metadata": {},
   "outputs": [
    {
     "name": "stdout",
     "output_type": "stream",
     "text": [
      "\u001b[34m\u001b[1mHedge bond: a zero coupon bond with m=5.1 and face value of 1\u001b[22m\u001b[39m\n",
      "                        \n",
      "PL₀                1.544\n",
      "PH₀                0.780\n",
      "v                  1.981\n",
      "v*PH₀/PL₀          1.000\n",
      "Dur(liability)     5.099\n",
      "Dur(hedge)         5.099\n",
      "Return            -0.002\n",
      "\n",
      "\u001b[31m\u001b[1mNotice, the duration matching gives a return of -0.2%. Close to zero.\u001b[22m\u001b[39m\n"
     ]
    }
   ],
   "source": [
    "PH₀ = BondPrice3(θ₀,1,Dmac)\n",
    "PH₁ = BondPrice3(θ₁,1,Dmac)\n",
    "v  = PL₀/PH₀\n",
    "\n",
    "ΔV = v*(PH₁-PH₀) - (PL₁-PL₀)\n",
    "R  = ΔV/PL₀\n",
    "\n",
    "printblue(\"Hedge bond: a zero coupon bond with m=$(round(Dmac,digits=2)) and face value of 1\")\n",
    "xy = [PL₀,PH₀,v,v*PH₀/PL₀,Dmac,Dmac,R]\n",
    "printTable(xy,[\" \"],[\"PL₀\",\"PH₀\",\"v\",\"v*PH₀/PL₀\",\"Dur(liability)\",\"Dur(hedge)\",\"Return\"])\n",
    "\n",
    "printred(\"Notice, the duration matching gives a return of $(round(R*100,digits=1))%. Close to zero.\")"
   ]
  },
  {
   "cell_type": "markdown",
   "metadata": {},
   "source": [
    "## Naive Hedging\n",
    "\n",
    "The \"naive\" hedging invests the *same amount in the hedge bond* as the value of the liability, that is, $hP_{H}=P_{L}$ so $v=P_{L}/P_{H}$. This means that the money market account is not used ($M=0$).\n",
    "\n",
    "The effectiveness of this approach depends on the interest rate sensitivity of the two instruments. In particular, it can be shown that\n",
    "\n",
    "$\\frac{\\Delta V}{P_{L}}\\approx\\left(  D_{L}^{M}-D_{H}^{M}\\right)  \\times\n",
    "\\frac{\\Delta\\theta}{1+\\theta}$.\n",
    "\n",
    "If $D_{L}>D_{H}$, and $\\Delta\\theta<0$ (as in the example below), then we will lose money."
   ]
  },
  {
   "cell_type": "code",
   "execution_count": 9,
   "metadata": {},
   "outputs": [
    {
     "name": "stdout",
     "output_type": "stream",
     "text": [
      "\u001b[34m\u001b[1mHedge bond: zero coupon bond with m=3 and face value of 1\u001b[22m\u001b[39m\n",
      "                        \n",
      "PL₀                1.544\n",
      "PH₀                0.864\n",
      "v                  1.788\n",
      "v*PH₀/PL₀          1.000\n",
      "Dur(liability)     5.099\n",
      "Dur(hedge)         3.000\n",
      "Return            -0.045\n",
      "\n",
      "\u001b[31m\u001b[1mThe naive hedge gives a return of -4.5%, which is a bad hedge\u001b[22m\u001b[39m\n"
     ]
    }
   ],
   "source": [
    "mH = 3                     #mH year bill is used as hedge bond\n",
    "\n",
    "PH₀ = BondPrice3(θ₀,1,mH)\n",
    "PH₁ = BondPrice3(θ₁,1,mH)\n",
    "\n",
    "v = PL₀/PH₀\n",
    "\n",
    "ΔV = v*(PH₁-PH₀) - (PL₁-PL₀)\n",
    "R  = ΔV/PL₀\n",
    "\n",
    "printblue(\"Hedge bond: zero coupon bond with m=$mH and face value of 1\")\n",
    "xy = [PL₀,PH₀,v,v*PH₀/PL₀,Dmac,mH,R]\n",
    "printTable(xy,[\" \"],[\"PL₀\",\"PH₀\",\"v\",\"v*PH₀/PL₀\",\"Dur(liability)\",\"Dur(hedge)\",\"Return\"])\n",
    "\n",
    "printred(\"The naive hedge gives a return of $(round(R*100,digits=1))%, which is a bad hedge\")"
   ]
  },
  {
   "cell_type": "markdown",
   "metadata": {},
   "source": [
    "## Illustrating the Problem with the Naive Hedging\n",
    "\n",
    "by plotting the value of the liability ($P_L$) and of the hedge bond position ($hP_H$) at different interest rates."
   ]
  },
  {
   "cell_type": "code",
   "execution_count": 10,
   "metadata": {},
   "outputs": [
    {
     "data": {
      "image/svg+xml": [
       "<?xml version=\"1.0\" encoding=\"utf-8\"?>\n",
       "<svg xmlns=\"http://www.w3.org/2000/svg\" xmlns:xlink=\"http://www.w3.org/1999/xlink\" width=\"480\" height=\"320\" viewBox=\"0 0 1920 1280\">\n",
       "<defs>\n",
       "  <clipPath id=\"clip120\">\n",
       "    <rect x=\"0\" y=\"0\" width=\"1920\" height=\"1280\"/>\n",
       "  </clipPath>\n",
       "</defs>\n",
       "<path clip-path=\"url(#clip120)\" d=\"\n",
       "M0 1280 L1920 1280 L1920 0 L0 0  Z\n",
       "  \" fill=\"#ffffff\" fill-rule=\"evenodd\" fill-opacity=\"1\"/>\n",
       "<defs>\n",
       "  <clipPath id=\"clip121\">\n",
       "    <rect x=\"384\" y=\"0\" width=\"1345\" height=\"1280\"/>\n",
       "  </clipPath>\n",
       "</defs>\n",
       "<path clip-path=\"url(#clip120)\" d=\"\n",
       "M204.372 1106.38 L1872.76 1106.38 L1872.76 123.472 L204.372 123.472  Z\n",
       "  \" fill=\"#ffffff\" fill-rule=\"evenodd\" fill-opacity=\"1\"/>\n",
       "<defs>\n",
       "  <clipPath id=\"clip122\">\n",
       "    <rect x=\"204\" y=\"123\" width=\"1669\" height=\"984\"/>\n",
       "  </clipPath>\n",
       "</defs>\n",
       "<polyline clip-path=\"url(#clip122)\" style=\"stroke:#000000; stroke-width:2; stroke-opacity:0.1; fill:none\" points=\"\n",
       "  251.59,1106.38 251.59,123.472 \n",
       "  \"/>\n",
       "<polyline clip-path=\"url(#clip122)\" style=\"stroke:#000000; stroke-width:2; stroke-opacity:0.1; fill:none\" points=\"\n",
       "  645.077,1106.38 645.077,123.472 \n",
       "  \"/>\n",
       "<polyline clip-path=\"url(#clip122)\" style=\"stroke:#000000; stroke-width:2; stroke-opacity:0.1; fill:none\" points=\"\n",
       "  1038.56,1106.38 1038.56,123.472 \n",
       "  \"/>\n",
       "<polyline clip-path=\"url(#clip122)\" style=\"stroke:#000000; stroke-width:2; stroke-opacity:0.1; fill:none\" points=\"\n",
       "  1432.05,1106.38 1432.05,123.472 \n",
       "  \"/>\n",
       "<polyline clip-path=\"url(#clip122)\" style=\"stroke:#000000; stroke-width:2; stroke-opacity:0.1; fill:none\" points=\"\n",
       "  1825.54,1106.38 1825.54,123.472 \n",
       "  \"/>\n",
       "<polyline clip-path=\"url(#clip122)\" style=\"stroke:#000000; stroke-width:2; stroke-opacity:0.1; fill:none\" points=\"\n",
       "  204.372,872.821 1872.76,872.821 \n",
       "  \"/>\n",
       "<polyline clip-path=\"url(#clip122)\" style=\"stroke:#000000; stroke-width:2; stroke-opacity:0.1; fill:none\" points=\"\n",
       "  204.372,632.311 1872.76,632.311 \n",
       "  \"/>\n",
       "<polyline clip-path=\"url(#clip122)\" style=\"stroke:#000000; stroke-width:2; stroke-opacity:0.1; fill:none\" points=\"\n",
       "  204.372,391.801 1872.76,391.801 \n",
       "  \"/>\n",
       "<polyline clip-path=\"url(#clip122)\" style=\"stroke:#000000; stroke-width:2; stroke-opacity:0.1; fill:none\" points=\"\n",
       "  204.372,151.29 1872.76,151.29 \n",
       "  \"/>\n",
       "<polyline clip-path=\"url(#clip120)\" style=\"stroke:#000000; stroke-width:4; stroke-opacity:1; fill:none\" points=\"\n",
       "  204.372,1106.38 1872.76,1106.38 \n",
       "  \"/>\n",
       "<polyline clip-path=\"url(#clip120)\" style=\"stroke:#000000; stroke-width:4; stroke-opacity:1; fill:none\" points=\"\n",
       "  204.372,1106.38 204.372,123.472 \n",
       "  \"/>\n",
       "<polyline clip-path=\"url(#clip120)\" style=\"stroke:#000000; stroke-width:4; stroke-opacity:1; fill:none\" points=\"\n",
       "  251.59,1106.38 251.59,1094.58 \n",
       "  \"/>\n",
       "<polyline clip-path=\"url(#clip120)\" style=\"stroke:#000000; stroke-width:4; stroke-opacity:1; fill:none\" points=\"\n",
       "  645.077,1106.38 645.077,1094.58 \n",
       "  \"/>\n",
       "<polyline clip-path=\"url(#clip120)\" style=\"stroke:#000000; stroke-width:4; stroke-opacity:1; fill:none\" points=\"\n",
       "  1038.56,1106.38 1038.56,1094.58 \n",
       "  \"/>\n",
       "<polyline clip-path=\"url(#clip120)\" style=\"stroke:#000000; stroke-width:4; stroke-opacity:1; fill:none\" points=\"\n",
       "  1432.05,1106.38 1432.05,1094.58 \n",
       "  \"/>\n",
       "<polyline clip-path=\"url(#clip120)\" style=\"stroke:#000000; stroke-width:4; stroke-opacity:1; fill:none\" points=\"\n",
       "  1825.54,1106.38 1825.54,1094.58 \n",
       "  \"/>\n",
       "<polyline clip-path=\"url(#clip120)\" style=\"stroke:#000000; stroke-width:4; stroke-opacity:1; fill:none\" points=\"\n",
       "  204.372,872.821 224.392,872.821 \n",
       "  \"/>\n",
       "<polyline clip-path=\"url(#clip120)\" style=\"stroke:#000000; stroke-width:4; stroke-opacity:1; fill:none\" points=\"\n",
       "  204.372,632.311 224.392,632.311 \n",
       "  \"/>\n",
       "<polyline clip-path=\"url(#clip120)\" style=\"stroke:#000000; stroke-width:4; stroke-opacity:1; fill:none\" points=\"\n",
       "  204.372,391.801 224.392,391.801 \n",
       "  \"/>\n",
       "<polyline clip-path=\"url(#clip120)\" style=\"stroke:#000000; stroke-width:4; stroke-opacity:1; fill:none\" points=\"\n",
       "  204.372,151.29 224.392,151.29 \n",
       "  \"/>\n",
       "<path clip-path=\"url(#clip120)\" d=\"M 0 0 M206.093 1125.97 Q202.482 1125.97 200.653 1129.54 Q198.848 1133.08 198.848 1140.21 Q198.848 1147.31 200.653 1150.88 Q202.482 1154.42 206.093 1154.42 Q209.727 1154.42 211.533 1150.88 Q213.361 1147.31 213.361 1140.21 Q213.361 1133.08 211.533 1129.54 Q209.727 1125.97 206.093 1125.97 M206.093 1122.27 Q211.903 1122.27 214.959 1126.87 Q218.037 1131.46 218.037 1140.21 Q218.037 1148.93 214.959 1153.54 Q211.903 1158.12 206.093 1158.12 Q200.283 1158.12 197.204 1153.54 Q194.148 1148.93 194.148 1140.21 Q194.148 1131.46 197.204 1126.87 Q200.283 1122.27 206.093 1122.27 Z\" fill=\"#000000\" fill-rule=\"evenodd\" fill-opacity=\"1\" /><path clip-path=\"url(#clip120)\" d=\"M 0 0 M223.107 1151.57 L227.991 1151.57 L227.991 1157.45 L223.107 1157.45 L223.107 1151.57 Z\" fill=\"#000000\" fill-rule=\"evenodd\" fill-opacity=\"1\" /><path clip-path=\"url(#clip120)\" d=\"M 0 0 M243.06 1125.97 Q239.449 1125.97 237.62 1129.54 Q235.815 1133.08 235.815 1140.21 Q235.815 1147.31 237.62 1150.88 Q239.449 1154.42 243.06 1154.42 Q246.694 1154.42 248.5 1150.88 Q250.329 1147.31 250.329 1140.21 Q250.329 1133.08 248.5 1129.54 Q246.694 1125.97 243.06 1125.97 M243.06 1122.27 Q248.87 1122.27 251.926 1126.87 Q255.005 1131.46 255.005 1140.21 Q255.005 1148.93 251.926 1153.54 Q248.87 1158.12 243.06 1158.12 Q237.25 1158.12 234.171 1153.54 Q231.116 1148.93 231.116 1140.21 Q231.116 1131.46 234.171 1126.87 Q237.25 1122.27 243.06 1122.27 Z\" fill=\"#000000\" fill-rule=\"evenodd\" fill-opacity=\"1\" /><path clip-path=\"url(#clip120)\" d=\"M 0 0 M270.074 1125.97 Q266.463 1125.97 264.634 1129.54 Q262.829 1133.08 262.829 1140.21 Q262.829 1147.31 264.634 1150.88 Q266.463 1154.42 270.074 1154.42 Q273.708 1154.42 275.514 1150.88 Q277.342 1147.31 277.342 1140.21 Q277.342 1133.08 275.514 1129.54 Q273.708 1125.97 270.074 1125.97 M270.074 1122.27 Q275.884 1122.27 278.94 1126.87 Q282.018 1131.46 282.018 1140.21 Q282.018 1148.93 278.94 1153.54 Q275.884 1158.12 270.074 1158.12 Q264.264 1158.12 261.185 1153.54 Q258.13 1148.93 258.13 1140.21 Q258.13 1131.46 261.185 1126.87 Q264.264 1122.27 270.074 1122.27 Z\" fill=\"#000000\" fill-rule=\"evenodd\" fill-opacity=\"1\" /><path clip-path=\"url(#clip120)\" d=\"M 0 0 M297.088 1125.97 Q293.477 1125.97 291.648 1129.54 Q289.842 1133.08 289.842 1140.21 Q289.842 1147.31 291.648 1150.88 Q293.477 1154.42 297.088 1154.42 Q300.722 1154.42 302.528 1150.88 Q304.356 1147.31 304.356 1140.21 Q304.356 1133.08 302.528 1129.54 Q300.722 1125.97 297.088 1125.97 M297.088 1122.27 Q302.898 1122.27 305.953 1126.87 Q309.032 1131.46 309.032 1140.21 Q309.032 1148.93 305.953 1153.54 Q302.898 1158.12 297.088 1158.12 Q291.278 1158.12 288.199 1153.54 Q285.143 1148.93 285.143 1140.21 Q285.143 1131.46 288.199 1126.87 Q291.278 1122.27 297.088 1122.27 Z\" fill=\"#000000\" fill-rule=\"evenodd\" fill-opacity=\"1\" /><path clip-path=\"url(#clip120)\" d=\"M 0 0 M600.876 1125.97 Q597.265 1125.97 595.436 1129.54 Q593.631 1133.08 593.631 1140.21 Q593.631 1147.31 595.436 1150.88 Q597.265 1154.42 600.876 1154.42 Q604.51 1154.42 606.316 1150.88 Q608.144 1147.31 608.144 1140.21 Q608.144 1133.08 606.316 1129.54 Q604.51 1125.97 600.876 1125.97 M600.876 1122.27 Q606.686 1122.27 609.742 1126.87 Q612.82 1131.46 612.82 1140.21 Q612.82 1148.93 609.742 1153.54 Q606.686 1158.12 600.876 1158.12 Q595.066 1158.12 591.987 1153.54 Q588.932 1148.93 588.932 1140.21 Q588.932 1131.46 591.987 1126.87 Q595.066 1122.27 600.876 1122.27 Z\" fill=\"#000000\" fill-rule=\"evenodd\" fill-opacity=\"1\" /><path clip-path=\"url(#clip120)\" d=\"M 0 0 M617.89 1151.57 L622.774 1151.57 L622.774 1157.45 L617.89 1157.45 L617.89 1151.57 Z\" fill=\"#000000\" fill-rule=\"evenodd\" fill-opacity=\"1\" /><path clip-path=\"url(#clip120)\" d=\"M 0 0 M637.843 1125.97 Q634.232 1125.97 632.404 1129.54 Q630.598 1133.08 630.598 1140.21 Q630.598 1147.31 632.404 1150.88 Q634.232 1154.42 637.843 1154.42 Q641.478 1154.42 643.283 1150.88 Q645.112 1147.31 645.112 1140.21 Q645.112 1133.08 643.283 1129.54 Q641.478 1125.97 637.843 1125.97 M637.843 1122.27 Q643.653 1122.27 646.709 1126.87 Q649.788 1131.46 649.788 1140.21 Q649.788 1148.93 646.709 1153.54 Q643.653 1158.12 637.843 1158.12 Q632.033 1158.12 628.954 1153.54 Q625.899 1148.93 625.899 1140.21 Q625.899 1131.46 628.954 1126.87 Q632.033 1122.27 637.843 1122.27 Z\" fill=\"#000000\" fill-rule=\"evenodd\" fill-opacity=\"1\" /><path clip-path=\"url(#clip120)\" d=\"M 0 0 M658.885 1153.52 L675.204 1153.52 L675.204 1157.45 L653.26 1157.45 L653.26 1153.52 Q655.922 1150.76 660.505 1146.13 Q665.112 1141.48 666.292 1140.14 Q668.538 1137.61 669.417 1135.88 Q670.32 1134.12 670.32 1132.43 Q670.32 1129.67 668.376 1127.94 Q666.454 1126.2 663.352 1126.2 Q661.153 1126.2 658.7 1126.97 Q656.269 1127.73 653.491 1129.28 L653.491 1124.56 Q656.315 1123.42 658.769 1122.85 Q661.223 1122.27 663.26 1122.27 Q668.63 1122.27 671.825 1124.95 Q675.019 1127.64 675.019 1132.13 Q675.019 1134.26 674.209 1136.18 Q673.422 1138.08 671.315 1140.67 Q670.737 1141.34 667.635 1144.56 Q664.533 1147.75 658.885 1153.52 Z\" fill=\"#000000\" fill-rule=\"evenodd\" fill-opacity=\"1\" /><path clip-path=\"url(#clip120)\" d=\"M 0 0 M680.32 1122.89 L698.676 1122.89 L698.676 1126.83 L684.602 1126.83 L684.602 1135.3 Q685.621 1134.95 686.639 1134.79 Q687.658 1134.6 688.676 1134.6 Q694.463 1134.6 697.843 1137.78 Q701.223 1140.95 701.223 1146.36 Q701.223 1151.94 697.75 1155.04 Q694.278 1158.12 687.959 1158.12 Q685.783 1158.12 683.514 1157.75 Q681.269 1157.38 678.862 1156.64 L678.862 1151.94 Q680.945 1153.08 683.167 1153.63 Q685.389 1154.19 687.866 1154.19 Q691.871 1154.19 694.209 1152.08 Q696.547 1149.98 696.547 1146.36 Q696.547 1142.75 694.209 1140.65 Q691.871 1138.54 687.866 1138.54 Q685.991 1138.54 684.116 1138.96 Q682.264 1139.37 680.32 1140.25 L680.32 1122.89 Z\" fill=\"#000000\" fill-rule=\"evenodd\" fill-opacity=\"1\" /><path clip-path=\"url(#clip120)\" d=\"M 0 0 M993.564 1125.97 Q989.953 1125.97 988.124 1129.54 Q986.319 1133.08 986.319 1140.21 Q986.319 1147.31 988.124 1150.88 Q989.953 1154.42 993.564 1154.42 Q997.198 1154.42 999.004 1150.88 Q1000.83 1147.31 1000.83 1140.21 Q1000.83 1133.08 999.004 1129.54 Q997.198 1125.97 993.564 1125.97 M993.564 1122.27 Q999.374 1122.27 1002.43 1126.87 Q1005.51 1131.46 1005.51 1140.21 Q1005.51 1148.93 1002.43 1153.54 Q999.374 1158.12 993.564 1158.12 Q987.754 1158.12 984.675 1153.54 Q981.62 1148.93 981.62 1140.21 Q981.62 1131.46 984.675 1126.87 Q987.754 1122.27 993.564 1122.27 Z\" fill=\"#000000\" fill-rule=\"evenodd\" fill-opacity=\"1\" /><path clip-path=\"url(#clip120)\" d=\"M 0 0 M1010.58 1151.57 L1015.46 1151.57 L1015.46 1157.45 L1010.58 1157.45 L1010.58 1151.57 Z\" fill=\"#000000\" fill-rule=\"evenodd\" fill-opacity=\"1\" /><path clip-path=\"url(#clip120)\" d=\"M 0 0 M1030.53 1125.97 Q1026.92 1125.97 1025.09 1129.54 Q1023.29 1133.08 1023.29 1140.21 Q1023.29 1147.31 1025.09 1150.88 Q1026.92 1154.42 1030.53 1154.42 Q1034.17 1154.42 1035.97 1150.88 Q1037.8 1147.31 1037.8 1140.21 Q1037.8 1133.08 1035.97 1129.54 Q1034.17 1125.97 1030.53 1125.97 M1030.53 1122.27 Q1036.34 1122.27 1039.4 1126.87 Q1042.48 1131.46 1042.48 1140.21 Q1042.48 1148.93 1039.4 1153.54 Q1036.34 1158.12 1030.53 1158.12 Q1024.72 1158.12 1021.64 1153.54 Q1018.59 1148.93 1018.59 1140.21 Q1018.59 1131.46 1021.64 1126.87 Q1024.72 1122.27 1030.53 1122.27 Z\" fill=\"#000000\" fill-rule=\"evenodd\" fill-opacity=\"1\" /><path clip-path=\"url(#clip120)\" d=\"M 0 0 M1047.59 1122.89 L1065.95 1122.89 L1065.95 1126.83 L1051.87 1126.83 L1051.87 1135.3 Q1052.89 1134.95 1053.91 1134.79 Q1054.93 1134.6 1055.95 1134.6 Q1061.74 1134.6 1065.11 1137.78 Q1068.49 1140.95 1068.49 1146.36 Q1068.49 1151.94 1065.02 1155.04 Q1061.55 1158.12 1055.23 1158.12 Q1053.05 1158.12 1050.79 1157.75 Q1048.54 1157.38 1046.13 1156.64 L1046.13 1151.94 Q1048.22 1153.08 1050.44 1153.63 Q1052.66 1154.19 1055.14 1154.19 Q1059.14 1154.19 1061.48 1152.08 Q1063.82 1149.98 1063.82 1146.36 Q1063.82 1142.75 1061.48 1140.65 Q1059.14 1138.54 1055.14 1138.54 Q1053.26 1138.54 1051.39 1138.96 Q1049.54 1139.37 1047.59 1140.25 L1047.59 1122.89 Z\" fill=\"#000000\" fill-rule=\"evenodd\" fill-opacity=\"1\" /><path clip-path=\"url(#clip120)\" d=\"M 0 0 M1083.56 1125.97 Q1079.95 1125.97 1078.12 1129.54 Q1076.32 1133.08 1076.32 1140.21 Q1076.32 1147.31 1078.12 1150.88 Q1079.95 1154.42 1083.56 1154.42 Q1087.2 1154.42 1089 1150.88 Q1090.83 1147.31 1090.83 1140.21 Q1090.83 1133.08 1089 1129.54 Q1087.2 1125.97 1083.56 1125.97 M1083.56 1122.27 Q1089.37 1122.27 1092.43 1126.87 Q1095.51 1131.46 1095.51 1140.21 Q1095.51 1148.93 1092.43 1153.54 Q1089.37 1158.12 1083.56 1158.12 Q1077.75 1158.12 1074.67 1153.54 Q1071.62 1148.93 1071.62 1140.21 Q1071.62 1131.46 1074.67 1126.87 Q1077.75 1122.27 1083.56 1122.27 Z\" fill=\"#000000\" fill-rule=\"evenodd\" fill-opacity=\"1\" /><path clip-path=\"url(#clip120)\" d=\"M 0 0 M1387.5 1125.97 Q1383.89 1125.97 1382.06 1129.54 Q1380.26 1133.08 1380.26 1140.21 Q1380.26 1147.31 1382.06 1150.88 Q1383.89 1154.42 1387.5 1154.42 Q1391.14 1154.42 1392.94 1150.88 Q1394.77 1147.31 1394.77 1140.21 Q1394.77 1133.08 1392.94 1129.54 Q1391.14 1125.97 1387.5 1125.97 M1387.5 1122.27 Q1393.31 1122.27 1396.37 1126.87 Q1399.45 1131.46 1399.45 1140.21 Q1399.45 1148.93 1396.37 1153.54 Q1393.31 1158.12 1387.5 1158.12 Q1381.69 1158.12 1378.61 1153.54 Q1375.56 1148.93 1375.56 1140.21 Q1375.56 1131.46 1378.61 1126.87 Q1381.69 1122.27 1387.5 1122.27 Z\" fill=\"#000000\" fill-rule=\"evenodd\" fill-opacity=\"1\" /><path clip-path=\"url(#clip120)\" d=\"M 0 0 M1404.52 1151.57 L1409.4 1151.57 L1409.4 1157.45 L1404.52 1157.45 L1404.52 1151.57 Z\" fill=\"#000000\" fill-rule=\"evenodd\" fill-opacity=\"1\" /><path clip-path=\"url(#clip120)\" d=\"M 0 0 M1424.47 1125.97 Q1420.86 1125.97 1419.03 1129.54 Q1417.22 1133.08 1417.22 1140.21 Q1417.22 1147.31 1419.03 1150.88 Q1420.86 1154.42 1424.47 1154.42 Q1428.1 1154.42 1429.91 1150.88 Q1431.74 1147.31 1431.74 1140.21 Q1431.74 1133.08 1429.91 1129.54 Q1428.1 1125.97 1424.47 1125.97 M1424.47 1122.27 Q1430.28 1122.27 1433.34 1126.87 Q1436.41 1131.46 1436.41 1140.21 Q1436.41 1148.93 1433.34 1153.54 Q1430.28 1158.12 1424.47 1158.12 Q1418.66 1158.12 1415.58 1153.54 Q1412.53 1148.93 1412.53 1140.21 Q1412.53 1131.46 1415.58 1126.87 Q1418.66 1122.27 1424.47 1122.27 Z\" fill=\"#000000\" fill-rule=\"evenodd\" fill-opacity=\"1\" /><path clip-path=\"url(#clip120)\" d=\"M 0 0 M1440.3 1122.89 L1462.53 1122.89 L1462.53 1124.88 L1449.98 1157.45 L1445.09 1157.45 L1456.9 1126.83 L1440.3 1126.83 L1440.3 1122.89 Z\" fill=\"#000000\" fill-rule=\"evenodd\" fill-opacity=\"1\" /><path clip-path=\"url(#clip120)\" d=\"M 0 0 M1467.64 1122.89 L1486 1122.89 L1486 1126.83 L1471.92 1126.83 L1471.92 1135.3 Q1472.94 1134.95 1473.96 1134.79 Q1474.98 1134.6 1476 1134.6 Q1481.78 1134.6 1485.16 1137.78 Q1488.54 1140.95 1488.54 1146.36 Q1488.54 1151.94 1485.07 1155.04 Q1481.6 1158.12 1475.28 1158.12 Q1473.1 1158.12 1470.84 1157.75 Q1468.59 1157.38 1466.18 1156.64 L1466.18 1151.94 Q1468.27 1153.08 1470.49 1153.63 Q1472.71 1154.19 1475.19 1154.19 Q1479.19 1154.19 1481.53 1152.08 Q1483.87 1149.98 1483.87 1146.36 Q1483.87 1142.75 1481.53 1140.65 Q1479.19 1138.54 1475.19 1138.54 Q1473.31 1138.54 1471.44 1138.96 Q1469.59 1139.37 1467.64 1140.25 L1467.64 1122.89 Z\" fill=\"#000000\" fill-rule=\"evenodd\" fill-opacity=\"1\" /><path clip-path=\"url(#clip120)\" d=\"M 0 0 M1780.65 1125.97 Q1777.04 1125.97 1775.21 1129.54 Q1773.41 1133.08 1773.41 1140.21 Q1773.41 1147.31 1775.21 1150.88 Q1777.04 1154.42 1780.65 1154.42 Q1784.29 1154.42 1786.09 1150.88 Q1787.92 1147.31 1787.92 1140.21 Q1787.92 1133.08 1786.09 1129.54 Q1784.29 1125.97 1780.65 1125.97 M1780.65 1122.27 Q1786.46 1122.27 1789.52 1126.87 Q1792.6 1131.46 1792.6 1140.21 Q1792.6 1148.93 1789.52 1153.54 Q1786.46 1158.12 1780.65 1158.12 Q1774.84 1158.12 1771.76 1153.54 Q1768.71 1148.93 1768.71 1140.21 Q1768.71 1131.46 1771.76 1126.87 Q1774.84 1122.27 1780.65 1122.27 Z\" fill=\"#000000\" fill-rule=\"evenodd\" fill-opacity=\"1\" /><path clip-path=\"url(#clip120)\" d=\"M 0 0 M1797.67 1151.57 L1802.55 1151.57 L1802.55 1157.45 L1797.67 1157.45 L1797.67 1151.57 Z\" fill=\"#000000\" fill-rule=\"evenodd\" fill-opacity=\"1\" /><path clip-path=\"url(#clip120)\" d=\"M 0 0 M1808.43 1153.52 L1816.07 1153.52 L1816.07 1127.15 L1807.76 1128.82 L1807.76 1124.56 L1816.02 1122.89 L1820.7 1122.89 L1820.7 1153.52 L1828.34 1153.52 L1828.34 1157.45 L1808.43 1157.45 L1808.43 1153.52 Z\" fill=\"#000000\" fill-rule=\"evenodd\" fill-opacity=\"1\" /><path clip-path=\"url(#clip120)\" d=\"M 0 0 M1843.41 1125.97 Q1839.8 1125.97 1837.97 1129.54 Q1836.16 1133.08 1836.16 1140.21 Q1836.16 1147.31 1837.97 1150.88 Q1839.8 1154.42 1843.41 1154.42 Q1847.04 1154.42 1848.85 1150.88 Q1850.68 1147.31 1850.68 1140.21 Q1850.68 1133.08 1848.85 1129.54 Q1847.04 1125.97 1843.41 1125.97 M1843.41 1122.27 Q1849.22 1122.27 1852.27 1126.87 Q1855.35 1131.46 1855.35 1140.21 Q1855.35 1148.93 1852.27 1153.54 Q1849.22 1158.12 1843.41 1158.12 Q1837.6 1158.12 1834.52 1153.54 Q1831.46 1148.93 1831.46 1140.21 Q1831.46 1131.46 1834.52 1126.87 Q1837.6 1122.27 1843.41 1122.27 Z\" fill=\"#000000\" fill-rule=\"evenodd\" fill-opacity=\"1\" /><path clip-path=\"url(#clip120)\" d=\"M 0 0 M1870.42 1125.97 Q1866.81 1125.97 1864.98 1129.54 Q1863.18 1133.08 1863.18 1140.21 Q1863.18 1147.31 1864.98 1150.88 Q1866.81 1154.42 1870.42 1154.42 Q1874.06 1154.42 1875.86 1150.88 Q1877.69 1147.31 1877.69 1140.21 Q1877.69 1133.08 1875.86 1129.54 Q1874.06 1125.97 1870.42 1125.97 M1870.42 1122.27 Q1876.23 1122.27 1879.29 1126.87 Q1882.37 1131.46 1882.37 1140.21 Q1882.37 1148.93 1879.29 1153.54 Q1876.23 1158.12 1870.42 1158.12 Q1864.61 1158.12 1861.53 1153.54 Q1858.48 1148.93 1858.48 1140.21 Q1858.48 1131.46 1861.53 1126.87 Q1864.61 1122.27 1870.42 1122.27 Z\" fill=\"#000000\" fill-rule=\"evenodd\" fill-opacity=\"1\" /><path clip-path=\"url(#clip120)\" d=\"M 0 0 M127.811 886.166 L135.45 886.166 L135.45 859.8 L127.14 861.467 L127.14 857.208 L135.404 855.541 L140.08 855.541 L140.08 886.166 L147.718 886.166 L147.718 890.101 L127.811 890.101 L127.811 886.166 Z\" fill=\"#000000\" fill-rule=\"evenodd\" fill-opacity=\"1\" /><path clip-path=\"url(#clip120)\" d=\"M 0 0 M152.788 884.222 L157.672 884.222 L157.672 890.101 L152.788 890.101 L152.788 884.222 Z\" fill=\"#000000\" fill-rule=\"evenodd\" fill-opacity=\"1\" /><path clip-path=\"url(#clip120)\" d=\"M 0 0 M175.589 859.615 L163.783 878.064 L175.589 878.064 L175.589 859.615 M174.362 855.541 L180.241 855.541 L180.241 878.064 L185.172 878.064 L185.172 881.953 L180.241 881.953 L180.241 890.101 L175.589 890.101 L175.589 881.953 L159.987 881.953 L159.987 877.439 L174.362 855.541 Z\" fill=\"#000000\" fill-rule=\"evenodd\" fill-opacity=\"1\" /><path clip-path=\"url(#clip120)\" d=\"M 0 0 M128.135 645.656 L135.774 645.656 L135.774 619.29 L127.464 620.957 L127.464 616.698 L135.728 615.031 L140.404 615.031 L140.404 645.656 L148.042 645.656 L148.042 649.591 L128.135 649.591 L128.135 645.656 Z\" fill=\"#000000\" fill-rule=\"evenodd\" fill-opacity=\"1\" /><path clip-path=\"url(#clip120)\" d=\"M 0 0 M153.112 643.711 L157.996 643.711 L157.996 649.591 L153.112 649.591 L153.112 643.711 Z\" fill=\"#000000\" fill-rule=\"evenodd\" fill-opacity=\"1\" /><path clip-path=\"url(#clip120)\" d=\"M 0 0 M173.644 630.448 Q170.496 630.448 168.644 632.6 Q166.815 634.753 166.815 638.503 Q166.815 642.23 168.644 644.406 Q170.496 646.559 173.644 646.559 Q176.792 646.559 178.621 644.406 Q180.473 642.23 180.473 638.503 Q180.473 634.753 178.621 632.6 Q176.792 630.448 173.644 630.448 M182.927 615.795 L182.927 620.054 Q181.167 619.221 179.362 618.781 Q177.579 618.341 175.82 618.341 Q171.19 618.341 168.737 621.466 Q166.306 624.591 165.959 630.91 Q167.325 628.897 169.385 627.832 Q171.445 626.744 173.922 626.744 Q179.13 626.744 182.139 629.915 Q185.172 633.063 185.172 638.503 Q185.172 643.827 182.024 647.045 Q178.876 650.262 173.644 650.262 Q167.649 650.262 164.478 645.679 Q161.306 641.072 161.306 632.346 Q161.306 624.151 165.195 619.29 Q169.084 614.406 175.635 614.406 Q177.394 614.406 179.177 614.753 Q180.982 615.1 182.927 615.795 Z\" fill=\"#000000\" fill-rule=\"evenodd\" fill-opacity=\"1\" /><path clip-path=\"url(#clip120)\" d=\"M 0 0 M128.39 405.145 L136.029 405.145 L136.029 378.78 L127.718 380.446 L127.718 376.187 L135.982 374.521 L140.658 374.521 L140.658 405.145 L148.297 405.145 L148.297 409.081 L128.39 409.081 L128.39 405.145 Z\" fill=\"#000000\" fill-rule=\"evenodd\" fill-opacity=\"1\" /><path clip-path=\"url(#clip120)\" d=\"M 0 0 M153.366 403.201 L158.251 403.201 L158.251 409.081 L153.366 409.081 L153.366 403.201 Z\" fill=\"#000000\" fill-rule=\"evenodd\" fill-opacity=\"1\" /><path clip-path=\"url(#clip120)\" d=\"M 0 0 M173.32 392.669 Q169.987 392.669 168.065 394.451 Q166.167 396.233 166.167 399.358 Q166.167 402.483 168.065 404.266 Q169.987 406.048 173.32 406.048 Q176.653 406.048 178.575 404.266 Q180.496 402.46 180.496 399.358 Q180.496 396.233 178.575 394.451 Q176.677 392.669 173.32 392.669 M168.644 390.678 Q165.635 389.937 163.945 387.877 Q162.278 385.817 162.278 382.854 Q162.278 378.71 165.218 376.303 Q168.181 373.896 173.32 373.896 Q178.482 373.896 181.422 376.303 Q184.362 378.71 184.362 382.854 Q184.362 385.817 182.672 387.877 Q181.005 389.937 178.019 390.678 Q181.399 391.465 183.274 393.757 Q185.172 396.048 185.172 399.358 Q185.172 404.382 182.093 407.067 Q179.038 409.752 173.32 409.752 Q167.603 409.752 164.524 407.067 Q161.468 404.382 161.468 399.358 Q161.468 396.048 163.366 393.757 Q165.265 391.465 168.644 390.678 M166.931 383.294 Q166.931 385.979 168.598 387.483 Q170.288 388.988 173.32 388.988 Q176.329 388.988 178.019 387.483 Q179.732 385.979 179.732 383.294 Q179.732 380.609 178.019 379.104 Q176.329 377.599 173.32 377.599 Q170.288 377.599 168.598 379.104 Q166.931 380.609 166.931 383.294 Z\" fill=\"#000000\" fill-rule=\"evenodd\" fill-opacity=\"1\" /><path clip-path=\"url(#clip120)\" d=\"M 0 0 M131.885 164.635 L148.204 164.635 L148.204 168.57 L126.26 168.57 L126.26 164.635 Q128.922 161.88 133.505 157.251 Q138.112 152.598 139.292 151.256 Q141.538 148.732 142.417 146.996 Q143.32 145.237 143.32 143.547 Q143.32 140.793 141.376 139.057 Q139.455 137.32 136.353 137.32 Q134.154 137.32 131.7 138.084 Q129.269 138.848 126.492 140.399 L126.492 135.677 Q129.316 134.543 131.769 133.964 Q134.223 133.385 136.26 133.385 Q141.63 133.385 144.825 136.07 Q148.019 138.756 148.019 143.246 Q148.019 145.376 147.209 147.297 Q146.422 149.195 144.316 151.788 Q143.737 152.459 140.635 155.677 Q137.533 158.871 131.885 164.635 Z\" fill=\"#000000\" fill-rule=\"evenodd\" fill-opacity=\"1\" /><path clip-path=\"url(#clip120)\" d=\"M 0 0 M153.274 162.691 L158.158 162.691 L158.158 168.57 L153.274 168.57 L153.274 162.691 Z\" fill=\"#000000\" fill-rule=\"evenodd\" fill-opacity=\"1\" /><path clip-path=\"url(#clip120)\" d=\"M 0 0 M173.227 137.089 Q169.616 137.089 167.788 140.654 Q165.982 144.195 165.982 151.325 Q165.982 158.431 167.788 161.996 Q169.616 165.538 173.227 165.538 Q176.862 165.538 178.667 161.996 Q180.496 158.431 180.496 151.325 Q180.496 144.195 178.667 140.654 Q176.862 137.089 173.227 137.089 M173.227 133.385 Q179.038 133.385 182.093 137.992 Q185.172 142.575 185.172 151.325 Q185.172 160.052 182.093 164.658 Q179.038 169.242 173.227 169.242 Q167.417 169.242 164.339 164.658 Q161.283 160.052 161.283 151.325 Q161.283 142.575 164.339 137.992 Q167.417 133.385 173.227 133.385 Z\" fill=\"#000000\" fill-rule=\"evenodd\" fill-opacity=\"1\" /><path clip-path=\"url(#clip120)\" d=\"M 0 0 M782.405 12.096 L793.423 12.096 L820.24 62.6918 L820.24 12.096 L828.18 12.096 L828.18 72.576 L817.162 72.576 L790.345 21.9802 L790.345 72.576 L782.405 72.576 L782.405 12.096 Z\" fill=\"#000000\" fill-rule=\"evenodd\" fill-opacity=\"1\" /><path clip-path=\"url(#clip120)\" d=\"M 0 0 M856.618 49.7694 Q847.584 49.7694 844.1 51.8354 Q840.616 53.9013 840.616 58.8839 Q840.616 62.8538 843.209 65.2034 Q845.842 67.5124 850.339 67.5124 Q856.537 67.5124 860.263 63.1374 Q864.031 58.7219 864.031 51.4303 L864.031 49.7694 L856.618 49.7694 M871.484 46.6907 L871.484 72.576 L864.031 72.576 L864.031 65.6895 Q861.479 69.8214 857.671 71.8063 Q853.863 73.7508 848.354 73.7508 Q841.386 73.7508 837.254 69.8619 Q833.163 65.9325 833.163 59.3701 Q833.163 51.7138 838.267 47.825 Q843.412 43.9361 853.579 43.9361 L864.031 43.9361 L864.031 43.2069 Q864.031 38.0623 860.628 35.2672 Q857.266 32.4315 851.149 32.4315 Q847.26 32.4315 843.574 33.3632 Q839.887 34.295 836.485 36.1584 L836.485 29.2718 Q840.576 27.692 844.424 26.9223 Q848.273 26.1121 851.918 26.1121 Q861.762 26.1121 866.623 31.2163 Q871.484 36.3204 871.484 46.6907 Z\" fill=\"#000000\" fill-rule=\"evenodd\" fill-opacity=\"1\" /><path clip-path=\"url(#clip120)\" d=\"M 0 0 M879.303 27.2059 L886.756 27.2059 L886.756 72.576 L879.303 72.576 L879.303 27.2059 M879.303 9.54393 L886.756 9.54393 L886.756 18.9825 L879.303 18.9825 L879.303 9.54393 Z\" fill=\"#000000\" fill-rule=\"evenodd\" fill-opacity=\"1\" /><path clip-path=\"url(#clip120)\" d=\"M 0 0 M889.227 27.2059 L897.127 27.2059 L911.305 65.2844 L925.483 27.2059 L933.382 27.2059 L916.368 72.576 L906.241 72.576 L889.227 27.2059 Z\" fill=\"#000000\" fill-rule=\"evenodd\" fill-opacity=\"1\" /><path clip-path=\"url(#clip120)\" d=\"M 0 0 M980.008 48.0275 L980.008 51.6733 L945.737 51.6733 Q946.224 59.3701 950.355 63.421 Q954.528 67.4314 961.941 67.4314 Q966.235 67.4314 970.245 66.3781 Q974.296 65.3249 978.266 63.2184 L978.266 70.267 Q974.256 71.9684 970.043 72.8596 Q965.83 73.7508 961.495 73.7508 Q950.639 73.7508 944.279 67.4314 Q937.96 61.1119 937.96 50.3365 Q937.96 39.1965 943.955 32.6746 Q949.991 26.1121 960.199 26.1121 Q969.354 26.1121 974.661 32.0264 Q980.008 37.9003 980.008 48.0275 M972.554 45.84 Q972.473 39.7232 969.111 36.0774 Q965.789 32.4315 960.28 32.4315 Q954.042 32.4315 950.274 35.9558 Q946.548 39.4801 945.98 45.8805 L972.554 45.84 Z\" fill=\"#000000\" fill-rule=\"evenodd\" fill-opacity=\"1\" /><path clip-path=\"url(#clip120)\" d=\"M 0 0 M1051.91 45.1919 L1051.91 72.576 L1044.46 72.576 L1044.46 45.4349 Q1044.46 38.994 1041.95 35.7938 Q1039.43 32.5936 1034.41 32.5936 Q1028.38 32.5936 1024.89 36.4419 Q1021.41 40.2903 1021.41 46.9338 L1021.41 72.576 L1013.91 72.576 L1013.91 9.54393 L1021.41 9.54393 L1021.41 34.2544 Q1024.08 30.163 1027.69 28.1376 Q1031.33 26.1121 1036.07 26.1121 Q1043.89 26.1121 1047.9 30.9732 Q1051.91 35.7938 1051.91 45.1919 Z\" fill=\"#000000\" fill-rule=\"evenodd\" fill-opacity=\"1\" /><path clip-path=\"url(#clip120)\" d=\"M 0 0 M1098.54 48.0275 L1098.54 51.6733 L1064.27 51.6733 Q1064.75 59.3701 1068.88 63.421 Q1073.06 67.4314 1080.47 67.4314 Q1084.76 67.4314 1088.77 66.3781 Q1092.83 65.3249 1096.8 63.2184 L1096.8 70.267 Q1092.79 71.9684 1088.57 72.8596 Q1084.36 73.7508 1080.02 73.7508 Q1069.17 73.7508 1062.81 67.4314 Q1056.49 61.1119 1056.49 50.3365 Q1056.49 39.1965 1062.48 32.6746 Q1068.52 26.1121 1078.73 26.1121 Q1087.88 26.1121 1093.19 32.0264 Q1098.54 37.9003 1098.54 48.0275 M1091.08 45.84 Q1091 39.7232 1087.64 36.0774 Q1084.32 32.4315 1078.81 32.4315 Q1072.57 32.4315 1068.8 35.9558 Q1065.08 39.4801 1064.51 45.8805 L1091.08 45.84 Z\" fill=\"#000000\" fill-rule=\"evenodd\" fill-opacity=\"1\" /><path clip-path=\"url(#clip120)\" d=\"M 0 0 M1136.21 34.0924 L1136.21 9.54393 L1143.66 9.54393 L1143.66 72.576 L1136.21 72.576 L1136.21 65.7705 Q1133.86 69.8214 1130.26 71.8063 Q1126.69 73.7508 1121.67 73.7508 Q1113.44 73.7508 1108.26 67.1883 Q1103.12 60.6258 1103.12 49.9314 Q1103.12 39.2371 1108.26 32.6746 Q1113.44 26.1121 1121.67 26.1121 Q1126.69 26.1121 1130.26 28.0971 Q1133.86 30.0415 1136.21 34.0924 M1110.81 49.9314 Q1110.81 58.1548 1114.17 62.8538 Q1117.58 67.5124 1123.49 67.5124 Q1129.41 67.5124 1132.81 62.8538 Q1136.21 58.1548 1136.21 49.9314 Q1136.21 41.7081 1132.81 37.0496 Q1129.41 32.3505 1123.49 32.3505 Q1117.58 32.3505 1114.17 37.0496 Q1110.81 41.7081 1110.81 49.9314 Z\" fill=\"#000000\" fill-rule=\"evenodd\" fill-opacity=\"1\" /><path clip-path=\"url(#clip120)\" d=\"M 0 0 M1181.34 49.3643 Q1181.34 41.2625 1177.98 36.8065 Q1174.65 32.3505 1168.62 32.3505 Q1162.62 32.3505 1159.26 36.8065 Q1155.94 41.2625 1155.94 49.3643 Q1155.94 57.4256 1159.26 61.8816 Q1162.62 66.3376 1168.62 66.3376 Q1174.65 66.3376 1177.98 61.8816 Q1181.34 57.4256 1181.34 49.3643 M1188.79 66.9452 Q1188.79 78.5308 1183.65 84.1616 Q1178.5 89.8329 1167.89 89.8329 Q1163.96 89.8329 1160.48 89.2252 Q1156.99 88.6581 1153.71 87.4428 L1153.71 80.1917 Q1156.99 81.9741 1160.19 82.8248 Q1163.39 83.6755 1166.71 83.6755 Q1174.05 83.6755 1177.69 79.8271 Q1181.34 76.0193 1181.34 68.282 L1181.34 64.5957 Q1179.03 68.6061 1175.42 70.5911 Q1171.82 72.576 1166.8 72.576 Q1158.45 72.576 1153.35 66.2161 Q1148.24 59.8562 1148.24 49.3643 Q1148.24 38.832 1153.35 32.472 Q1158.45 26.1121 1166.8 26.1121 Q1171.82 26.1121 1175.42 28.0971 Q1179.03 30.082 1181.34 34.0924 L1181.34 27.2059 L1188.79 27.2059 L1188.79 66.9452 Z\" fill=\"#000000\" fill-rule=\"evenodd\" fill-opacity=\"1\" /><path clip-path=\"url(#clip120)\" d=\"M 0 0 M1196.61 27.2059 L1204.06 27.2059 L1204.06 72.576 L1196.61 72.576 L1196.61 27.2059 M1196.61 9.54393 L1204.06 9.54393 L1204.06 18.9825 L1196.61 18.9825 L1196.61 9.54393 Z\" fill=\"#000000\" fill-rule=\"evenodd\" fill-opacity=\"1\" /><path clip-path=\"url(#clip120)\" d=\"M 0 0 M1249.6 45.1919 L1249.6 72.576 L1242.14 72.576 L1242.14 45.4349 Q1242.14 38.994 1239.63 35.7938 Q1237.12 32.5936 1232.1 32.5936 Q1226.06 32.5936 1222.58 36.4419 Q1219.09 40.2903 1219.09 46.9338 L1219.09 72.576 L1211.6 72.576 L1211.6 27.2059 L1219.09 27.2059 L1219.09 34.2544 Q1221.77 30.163 1225.37 28.1376 Q1229.02 26.1121 1233.76 26.1121 Q1241.57 26.1121 1245.59 30.9732 Q1249.6 35.7938 1249.6 45.1919 Z\" fill=\"#000000\" fill-rule=\"evenodd\" fill-opacity=\"1\" /><path clip-path=\"url(#clip120)\" d=\"M 0 0 M1287.27 49.3643 Q1287.27 41.2625 1283.91 36.8065 Q1280.59 32.3505 1274.55 32.3505 Q1268.55 32.3505 1265.19 36.8065 Q1261.87 41.2625 1261.87 49.3643 Q1261.87 57.4256 1265.19 61.8816 Q1268.55 66.3376 1274.55 66.3376 Q1280.59 66.3376 1283.91 61.8816 Q1287.27 57.4256 1287.27 49.3643 M1294.72 66.9452 Q1294.72 78.5308 1289.58 84.1616 Q1284.43 89.8329 1273.82 89.8329 Q1269.89 89.8329 1266.41 89.2252 Q1262.92 88.6581 1259.64 87.4428 L1259.64 80.1917 Q1262.92 81.9741 1266.12 82.8248 Q1269.32 83.6755 1272.65 83.6755 Q1279.98 83.6755 1283.62 79.8271 Q1287.27 76.0193 1287.27 68.282 L1287.27 64.5957 Q1284.96 68.6061 1281.35 70.5911 Q1277.75 72.576 1272.73 72.576 Q1264.38 72.576 1259.28 66.2161 Q1254.17 59.8562 1254.17 49.3643 Q1254.17 38.832 1259.28 32.472 Q1264.38 26.1121 1272.73 26.1121 Q1277.75 26.1121 1281.35 28.0971 Q1284.96 30.082 1287.27 34.0924 L1287.27 27.2059 L1294.72 27.2059 L1294.72 66.9452 Z\" fill=\"#000000\" fill-rule=\"evenodd\" fill-opacity=\"1\" /><path clip-path=\"url(#clip120)\" d=\"M 0 0 M857.666 1186.92 L864.096 1186.92 L864.096 1234.44 L857.666 1234.44 L857.666 1186.92 Z\" fill=\"#000000\" fill-rule=\"evenodd\" fill-opacity=\"1\" /><path clip-path=\"url(#clip120)\" d=\"M 0 0 M899.871 1212.93 L899.871 1234.44 L894.015 1234.44 L894.015 1213.12 Q894.015 1208.06 892.041 1205.54 Q890.068 1203.03 886.121 1203.03 Q881.379 1203.03 878.641 1206.05 Q875.904 1209.08 875.904 1214.3 L875.904 1234.44 L870.016 1234.44 L870.016 1198.8 L875.904 1198.8 L875.904 1204.33 Q878.005 1201.12 880.838 1199.53 Q883.702 1197.94 887.426 1197.94 Q893.569 1197.94 896.72 1201.76 Q899.871 1205.54 899.871 1212.93 Z\" fill=\"#000000\" fill-rule=\"evenodd\" fill-opacity=\"1\" /><path clip-path=\"url(#clip120)\" d=\"M 0 0 M911.807 1188.67 L911.807 1198.8 L923.87 1198.8 L923.87 1203.35 L911.807 1203.35 L911.807 1222.7 Q911.807 1227.06 912.984 1228.3 Q914.194 1229.54 917.854 1229.54 L923.87 1229.54 L923.87 1234.44 L917.854 1234.44 Q911.075 1234.44 908.497 1231.93 Q905.918 1229.38 905.918 1222.7 L905.918 1203.35 L901.622 1203.35 L901.622 1198.8 L905.918 1198.8 L905.918 1188.67 L911.807 1188.67 Z\" fill=\"#000000\" fill-rule=\"evenodd\" fill-opacity=\"1\" /><path clip-path=\"url(#clip120)\" d=\"M 0 0 M960.504 1215.16 L960.504 1218.02 L933.577 1218.02 Q933.959 1224.07 937.206 1227.25 Q940.484 1230.4 946.309 1230.4 Q949.683 1230.4 952.834 1229.57 Q956.017 1228.75 959.136 1227.09 L959.136 1232.63 Q955.985 1233.97 952.675 1234.67 Q949.364 1235.37 945.959 1235.37 Q937.429 1235.37 932.432 1230.4 Q927.466 1225.44 927.466 1216.97 Q927.466 1208.22 932.177 1203.09 Q936.919 1197.94 944.94 1197.94 Q952.134 1197.94 956.303 1202.58 Q960.504 1207.2 960.504 1215.16 M954.648 1213.44 Q954.584 1208.63 951.943 1205.77 Q949.333 1202.9 945.004 1202.9 Q940.102 1202.9 937.142 1205.67 Q934.214 1208.44 933.768 1213.47 L954.648 1213.44 Z\" fill=\"#000000\" fill-rule=\"evenodd\" fill-opacity=\"1\" /><path clip-path=\"url(#clip120)\" d=\"M 0 0 M987.304 1204.27 Q986.317 1203.7 985.14 1203.44 Q983.994 1203.16 982.593 1203.16 Q977.628 1203.16 974.955 1206.4 Q972.313 1209.62 972.313 1215.67 L972.313 1234.44 L966.425 1234.44 L966.425 1198.8 L972.313 1198.8 L972.313 1204.33 Q974.159 1201.09 977.119 1199.53 Q980.079 1197.94 984.312 1197.94 Q984.917 1197.94 985.649 1198.03 Q986.381 1198.1 987.272 1198.25 L987.304 1204.27 Z\" fill=\"#000000\" fill-rule=\"evenodd\" fill-opacity=\"1\" /><path clip-path=\"url(#clip120)\" d=\"M 0 0 M1022.51 1215.16 L1022.51 1218.02 L995.579 1218.02 Q995.961 1224.07 999.208 1227.25 Q1002.49 1230.4 1008.31 1230.4 Q1011.68 1230.4 1014.84 1229.57 Q1018.02 1228.75 1021.14 1227.09 L1021.14 1232.63 Q1017.99 1233.97 1014.68 1234.67 Q1011.37 1235.37 1007.96 1235.37 Q999.431 1235.37 994.434 1230.4 Q989.468 1225.44 989.468 1216.97 Q989.468 1208.22 994.179 1203.09 Q998.921 1197.94 1006.94 1197.94 Q1014.14 1197.94 1018.31 1202.58 Q1022.51 1207.2 1022.51 1215.16 M1016.65 1213.44 Q1016.59 1208.63 1013.94 1205.77 Q1011.33 1202.9 1007.01 1202.9 Q1002.1 1202.9 999.144 1205.67 Q996.216 1208.44 995.77 1213.47 L1016.65 1213.44 Z\" fill=\"#000000\" fill-rule=\"evenodd\" fill-opacity=\"1\" /><path clip-path=\"url(#clip120)\" d=\"M 0 0 M1051.37 1199.85 L1051.37 1205.38 Q1048.89 1204.11 1046.22 1203.47 Q1043.55 1202.84 1040.68 1202.84 Q1036.32 1202.84 1034.12 1204.17 Q1031.96 1205.51 1031.96 1208.19 Q1031.96 1210.22 1033.52 1211.4 Q1035.08 1212.55 1039.79 1213.6 L1041.79 1214.04 Q1048.03 1215.38 1050.64 1217.83 Q1053.28 1220.25 1053.28 1224.61 Q1053.28 1229.57 1049.34 1232.47 Q1045.42 1235.37 1038.55 1235.37 Q1035.68 1235.37 1032.56 1234.79 Q1029.48 1234.25 1026.04 1233.14 L1026.04 1227.09 Q1029.29 1228.78 1032.44 1229.64 Q1035.59 1230.47 1038.68 1230.47 Q1042.81 1230.47 1045.04 1229.06 Q1047.27 1227.63 1047.27 1225.05 Q1047.27 1222.67 1045.65 1221.39 Q1044.05 1220.12 1038.61 1218.94 L1036.57 1218.47 Q1031.13 1217.32 1028.71 1214.96 Q1026.29 1212.58 1026.29 1208.44 Q1026.29 1203.41 1029.86 1200.67 Q1033.42 1197.94 1039.98 1197.94 Q1043.23 1197.94 1046.09 1198.41 Q1048.96 1198.89 1051.37 1199.85 Z\" fill=\"#000000\" fill-rule=\"evenodd\" fill-opacity=\"1\" /><path clip-path=\"url(#clip120)\" d=\"M 0 0 M1065.22 1188.67 L1065.22 1198.8 L1077.28 1198.8 L1077.28 1203.35 L1065.22 1203.35 L1065.22 1222.7 Q1065.22 1227.06 1066.4 1228.3 Q1067.61 1229.54 1071.27 1229.54 L1077.28 1229.54 L1077.28 1234.44 L1071.27 1234.44 Q1064.49 1234.44 1061.91 1231.93 Q1059.33 1229.38 1059.33 1222.7 L1059.33 1203.35 L1055.04 1203.35 L1055.04 1198.8 L1059.33 1198.8 L1059.33 1188.67 L1065.22 1188.67 Z\" fill=\"#000000\" fill-rule=\"evenodd\" fill-opacity=\"1\" /><path clip-path=\"url(#clip120)\" d=\"M 0 0 M1124.8 1204.27 Q1123.82 1203.7 1122.64 1203.44 Q1121.49 1203.16 1120.09 1203.16 Q1115.13 1203.16 1112.45 1206.4 Q1109.81 1209.62 1109.81 1215.67 L1109.81 1234.44 L1103.92 1234.44 L1103.92 1198.8 L1109.81 1198.8 L1109.81 1204.33 Q1111.66 1201.09 1114.62 1199.53 Q1117.58 1197.94 1121.81 1197.94 Q1122.42 1197.94 1123.15 1198.03 Q1123.88 1198.1 1124.77 1198.25 L1124.8 1204.27 Z\" fill=\"#000000\" fill-rule=\"evenodd\" fill-opacity=\"1\" /><path clip-path=\"url(#clip120)\" d=\"M 0 0 M1147.15 1216.52 Q1140.05 1216.52 1137.31 1218.15 Q1134.57 1219.77 1134.57 1223.69 Q1134.57 1226.8 1136.61 1228.65 Q1138.68 1230.47 1142.21 1230.47 Q1147.08 1230.47 1150.01 1227.03 Q1152.97 1223.56 1152.97 1217.83 L1152.97 1216.52 L1147.15 1216.52 M1158.83 1214.11 L1158.83 1234.44 L1152.97 1234.44 L1152.97 1229.03 Q1150.97 1232.28 1147.97 1233.84 Q1144.98 1235.37 1140.65 1235.37 Q1135.18 1235.37 1131.93 1232.31 Q1128.72 1229.22 1128.72 1224.07 Q1128.72 1218.05 1132.73 1215 Q1136.77 1211.94 1144.76 1211.94 L1152.97 1211.94 L1152.97 1211.37 Q1152.97 1207.33 1150.3 1205.13 Q1147.66 1202.9 1142.85 1202.9 Q1139.79 1202.9 1136.9 1203.63 Q1134 1204.37 1131.33 1205.83 L1131.33 1200.42 Q1134.54 1199.18 1137.57 1198.57 Q1140.59 1197.94 1143.45 1197.94 Q1151.19 1197.94 1155.01 1201.95 Q1158.83 1205.96 1158.83 1214.11 Z\" fill=\"#000000\" fill-rule=\"evenodd\" fill-opacity=\"1\" /><path clip-path=\"url(#clip120)\" d=\"M 0 0 M1170.76 1188.67 L1170.76 1198.8 L1182.83 1198.8 L1182.83 1203.35 L1170.76 1203.35 L1170.76 1222.7 Q1170.76 1227.06 1171.94 1228.3 Q1173.15 1229.54 1176.81 1229.54 L1182.83 1229.54 L1182.83 1234.44 L1176.81 1234.44 Q1170.03 1234.44 1167.45 1231.93 Q1164.88 1229.38 1164.88 1222.7 L1164.88 1203.35 L1160.58 1203.35 L1160.58 1198.8 L1164.88 1198.8 L1164.88 1188.67 L1170.76 1188.67 Z\" fill=\"#000000\" fill-rule=\"evenodd\" fill-opacity=\"1\" /><path clip-path=\"url(#clip120)\" d=\"M 0 0 M1219.46 1215.16 L1219.46 1218.02 L1192.53 1218.02 Q1192.92 1224.07 1196.16 1227.25 Q1199.44 1230.4 1205.27 1230.4 Q1208.64 1230.4 1211.79 1229.57 Q1214.97 1228.75 1218.09 1227.09 L1218.09 1232.63 Q1214.94 1233.97 1211.63 1234.67 Q1208.32 1235.37 1204.92 1235.37 Q1196.39 1235.37 1191.39 1230.4 Q1186.42 1225.44 1186.42 1216.97 Q1186.42 1208.22 1191.13 1203.09 Q1195.88 1197.94 1203.9 1197.94 Q1211.09 1197.94 1215.26 1202.58 Q1219.46 1207.2 1219.46 1215.16 M1213.6 1213.44 Q1213.54 1208.63 1210.9 1205.77 Q1208.29 1202.9 1203.96 1202.9 Q1199.06 1202.9 1196.1 1205.67 Q1193.17 1208.44 1192.73 1213.47 L1213.6 1213.44 Z\" fill=\"#000000\" fill-rule=\"evenodd\" fill-opacity=\"1\" /><path clip-path=\"url(#clip120)\" d=\"M 0 0 M92.8042 838.521 L45.2842 856.664 L45.2842 849.948 L85.2926 834.893 L45.2842 819.806 L45.2842 813.122 L92.8042 831.233 L92.8042 838.521 Z\" fill=\"#000000\" fill-rule=\"evenodd\" fill-opacity=\"1\" /><path clip-path=\"url(#clip120)\" d=\"M 0 0 M74.8847 795.839 Q74.8847 802.937 76.5079 805.674 Q78.1312 808.412 82.0461 808.412 Q85.1653 808.412 87.0114 806.375 Q88.8256 804.306 88.8256 800.773 Q88.8256 795.903 85.3881 792.975 Q81.9188 790.015 76.1897 790.015 L74.8847 790.015 L74.8847 795.839 M72.4657 784.158 L92.8042 784.158 L92.8042 790.015 L87.3933 790.015 Q90.6398 792.02 92.1994 795.012 Q93.7272 798.004 93.7272 802.332 Q93.7272 807.807 90.6716 811.053 Q87.5843 814.268 82.4281 814.268 Q76.4125 814.268 73.3569 810.258 Q70.3014 806.215 70.3014 798.227 L70.3014 790.015 L69.7285 790.015 Q65.6862 790.015 63.4901 792.688 Q61.2621 795.33 61.2621 800.136 Q61.2621 803.192 61.9941 806.088 Q62.7262 808.985 64.1903 811.658 L58.7795 811.658 Q57.5381 808.443 56.9334 805.42 Q56.2968 802.396 56.2968 799.531 Q56.2968 791.797 60.3072 787.978 Q64.3176 784.158 72.4657 784.158 Z\" fill=\"#000000\" fill-rule=\"evenodd\" fill-opacity=\"1\" /><path clip-path=\"url(#clip120)\" d=\"M 0 0 M43.279 778.015 L43.279 772.159 L92.8042 772.159 L92.8042 778.015 L43.279 778.015 Z\" fill=\"#000000\" fill-rule=\"evenodd\" fill-opacity=\"1\" /><path clip-path=\"url(#clip120)\" d=\"M 0 0 M78.7359 766.621 L57.1562 766.621 L57.1562 760.764 L78.5131 760.764 Q83.5739 760.764 86.1202 758.791 Q88.6346 756.818 88.6346 752.871 Q88.6346 748.128 85.6109 745.391 Q82.5872 742.622 77.3673 742.622 L57.1562 742.622 L57.1562 736.766 L92.8042 736.766 L92.8042 742.622 L87.3296 742.622 Q90.5762 744.755 92.1676 747.587 Q93.7272 750.388 93.7272 754.112 Q93.7272 760.255 89.9078 763.438 Q86.0883 766.621 78.7359 766.621 M56.2968 751.884 L56.2968 751.884 Z\" fill=\"#000000\" fill-rule=\"evenodd\" fill-opacity=\"1\" /><path clip-path=\"url(#clip120)\" d=\"M 0 0 M73.5161 700.131 L76.3806 700.131 L76.3806 727.058 Q82.4281 726.676 85.6109 723.429 Q88.7619 720.151 88.7619 714.326 Q88.7619 710.953 87.9344 707.802 Q87.1069 704.619 85.4518 701.5 L90.9899 701.5 Q92.3267 704.651 93.027 707.961 Q93.7272 711.271 93.7272 714.677 Q93.7272 723.207 88.7619 728.204 Q83.7967 733.169 75.3303 733.169 Q66.5774 733.169 61.4531 728.458 Q56.2968 723.716 56.2968 715.695 Q56.2968 708.502 60.9438 704.332 Q65.5589 700.131 73.5161 700.131 M71.7973 705.987 Q66.9912 706.051 64.1266 708.693 Q61.2621 711.303 61.2621 715.631 Q61.2621 720.533 64.0312 723.493 Q66.8002 726.421 71.8292 726.867 L71.7973 705.987 Z\" fill=\"#000000\" fill-rule=\"evenodd\" fill-opacity=\"1\" /><path clip-path=\"url(#clip120)\" d=\"M 0 0 M61.2621 659.454 Q61.2621 664.165 64.9542 666.902 Q68.6145 669.639 75.012 669.639 Q81.4095 669.639 85.1017 666.934 Q88.7619 664.197 88.7619 659.454 Q88.7619 654.775 85.0698 652.038 Q81.3777 649.301 75.012 649.301 Q68.6781 649.301 64.986 652.038 Q61.2621 654.775 61.2621 659.454 M56.2968 659.454 Q56.2968 651.815 61.2621 647.455 Q66.2273 643.094 75.012 643.094 Q83.7649 643.094 88.7619 647.455 Q93.7272 651.815 93.7272 659.454 Q93.7272 667.125 88.7619 671.485 Q83.7649 675.814 75.012 675.814 Q66.2273 675.814 61.2621 671.485 Q56.2968 667.125 56.2968 659.454 Z\" fill=\"#000000\" fill-rule=\"evenodd\" fill-opacity=\"1\" /><path clip-path=\"url(#clip120)\" d=\"M 0 0 M43.279 618.905 L48.1487 618.905 L48.1487 624.506 Q48.1487 627.657 49.4219 628.899 Q50.695 630.108 54.0052 630.108 L57.1562 630.108 L57.1562 620.464 L61.7077 620.464 L61.7077 630.108 L92.8042 630.108 L92.8042 635.996 L61.7077 635.996 L61.7077 641.598 L57.1562 641.598 L57.1562 635.996 L54.6736 635.996 Q48.7216 635.996 46.0162 633.227 Q43.279 630.458 43.279 624.443 L43.279 618.905 Z\" fill=\"#000000\" fill-rule=\"evenodd\" fill-opacity=\"1\" /><path clip-path=\"url(#clip120)\" d=\"M 0 0 M87.457 586.376 L106.363 586.376 L106.363 592.264 L57.1562 592.264 L57.1562 586.376 L62.5671 586.376 Q59.3842 584.53 57.8564 581.729 Q56.2968 578.896 56.2968 574.981 Q56.2968 568.488 61.4531 564.446 Q66.6093 560.372 75.012 560.372 Q83.4147 560.372 88.571 564.446 Q93.7272 568.488 93.7272 574.981 Q93.7272 578.896 92.1994 581.729 Q90.6398 584.53 87.457 586.376 M75.012 566.451 Q68.5508 566.451 64.8905 569.125 Q61.1984 571.766 61.1984 576.413 Q61.1984 581.06 64.8905 583.734 Q68.5508 586.376 75.012 586.376 Q81.4732 586.376 85.1653 583.734 Q88.8256 581.06 88.8256 576.413 Q88.8256 571.766 85.1653 569.125 Q81.4732 566.451 75.012 566.451 Z\" fill=\"#000000\" fill-rule=\"evenodd\" fill-opacity=\"1\" /><path clip-path=\"url(#clip120)\" d=\"M 0 0 M61.2621 540.415 Q61.2621 545.126 64.9542 547.863 Q68.6145 550.601 75.012 550.601 Q81.4095 550.601 85.1017 547.895 Q88.7619 545.158 88.7619 540.415 Q88.7619 535.737 85.0698 532.999 Q81.3777 530.262 75.012 530.262 Q68.6781 530.262 64.986 532.999 Q61.2621 535.737 61.2621 540.415 M56.2968 540.415 Q56.2968 532.777 61.2621 528.416 Q66.2273 524.056 75.012 524.056 Q83.7649 524.056 88.7619 528.416 Q93.7272 532.777 93.7272 540.415 Q93.7272 548.086 88.7619 552.447 Q83.7649 556.775 75.012 556.775 Q66.2273 556.775 61.2621 552.447 Q56.2968 548.086 56.2968 540.415 Z\" fill=\"#000000\" fill-rule=\"evenodd\" fill-opacity=\"1\" /><path clip-path=\"url(#clip120)\" d=\"M 0 0 M58.2065 495.187 L63.7447 495.187 Q62.4716 497.67 61.835 500.343 Q61.1984 503.017 61.1984 505.881 Q61.1984 510.242 62.5352 512.438 Q63.872 514.602 66.5456 514.602 Q68.5826 514.602 69.7603 513.043 Q70.9061 511.483 71.9565 506.773 L72.4021 504.767 Q73.7389 498.529 76.1897 495.919 Q78.6086 493.277 82.9691 493.277 Q87.9344 493.277 90.8308 497.224 Q93.7272 501.139 93.7272 508.014 Q93.7272 510.879 93.1543 513.998 Q92.6132 517.085 91.4992 520.523 L85.4518 520.523 Q87.1387 517.276 87.998 514.125 Q88.8256 510.974 88.8256 507.887 Q88.8256 503.749 87.4251 501.521 Q85.9929 499.293 83.4147 499.293 Q81.0276 499.293 79.7545 500.916 Q78.4813 502.508 77.3037 507.95 L76.8262 509.987 Q75.6804 515.43 73.3251 517.849 Q70.938 520.268 66.8002 520.268 Q61.7713 520.268 59.0341 516.703 Q56.2968 513.138 56.2968 506.582 Q56.2968 503.335 56.7743 500.471 Q57.2517 497.606 58.2065 495.187 Z\" fill=\"#000000\" fill-rule=\"evenodd\" fill-opacity=\"1\" /><path clip-path=\"url(#clip120)\" d=\"M 0 0 M57.1562 487.134 L57.1562 481.278 L92.8042 481.278 L92.8042 487.134 L57.1562 487.134 M43.279 487.134 L43.279 481.278 L50.695 481.278 L50.695 487.134 L43.279 487.134 Z\" fill=\"#000000\" fill-rule=\"evenodd\" fill-opacity=\"1\" /><path clip-path=\"url(#clip120)\" d=\"M 0 0 M47.0347 469.342 L57.1562 469.342 L57.1562 457.279 L61.7077 457.279 L61.7077 469.342 L81.0594 469.342 Q85.4199 469.342 86.6613 468.165 Q87.9026 466.955 87.9026 463.295 L87.9026 457.279 L92.8042 457.279 L92.8042 463.295 Q92.8042 470.074 90.2897 472.652 Q87.7434 475.231 81.0594 475.231 L61.7077 475.231 L61.7077 479.527 L57.1562 479.527 L57.1562 475.231 L47.0347 475.231 L47.0347 469.342 Z\" fill=\"#000000\" fill-rule=\"evenodd\" fill-opacity=\"1\" /><path clip-path=\"url(#clip120)\" d=\"M 0 0 M57.1562 451.136 L57.1562 445.28 L92.8042 445.28 L92.8042 451.136 L57.1562 451.136 M43.279 451.136 L43.279 445.28 L50.695 445.28 L50.695 451.136 L43.279 451.136 Z\" fill=\"#000000\" fill-rule=\"evenodd\" fill-opacity=\"1\" /><path clip-path=\"url(#clip120)\" d=\"M 0 0 M61.2621 425.323 Q61.2621 430.034 64.9542 432.771 Q68.6145 435.509 75.012 435.509 Q81.4095 435.509 85.1017 432.803 Q88.7619 430.066 88.7619 425.323 Q88.7619 420.645 85.0698 417.907 Q81.3777 415.17 75.012 415.17 Q68.6781 415.17 64.986 417.907 Q61.2621 420.645 61.2621 425.323 M56.2968 425.323 Q56.2968 417.685 61.2621 413.324 Q66.2273 408.964 75.012 408.964 Q83.7649 408.964 88.7619 413.324 Q93.7272 417.685 93.7272 425.323 Q93.7272 432.994 88.7619 437.355 Q83.7649 441.683 75.012 441.683 Q66.2273 441.683 61.2621 437.355 Q56.2968 432.994 56.2968 425.323 Z\" fill=\"#000000\" fill-rule=\"evenodd\" fill-opacity=\"1\" /><path clip-path=\"url(#clip120)\" d=\"M 0 0 M71.2881 373.188 L92.8042 373.188 L92.8042 379.045 L71.479 379.045 Q66.4183 379.045 63.9038 381.018 Q61.3894 382.991 61.3894 386.938 Q61.3894 391.681 64.4131 394.418 Q67.4368 397.155 72.6567 397.155 L92.8042 397.155 L92.8042 403.043 L57.1562 403.043 L57.1562 397.155 L62.6944 397.155 Q59.4797 395.054 57.8883 392.222 Q56.2968 389.357 56.2968 385.633 Q56.2968 379.49 60.1163 376.339 Q63.9038 373.188 71.2881 373.188 Z\" fill=\"#000000\" fill-rule=\"evenodd\" fill-opacity=\"1\" /><polyline clip-path=\"url(#clip122)\" style=\"stroke:#ff0000; stroke-width:4; stroke-opacity:1; fill:none\" points=\"\n",
       "  251.59,151.29 408.985,278.447 566.38,395.989 723.774,504.792 881.169,605.639 1038.56,699.237 1195.96,786.217 1353.35,867.15 1510.75,942.55 1668.14,1012.88 \n",
       "  1825.54,1078.56 \n",
       "  \"/>\n",
       "<polyline clip-path=\"url(#clip122)\" style=\"stroke:#008000; stroke-width:4; stroke-opacity:1; fill:none\" stroke-dasharray=\"16, 10\" points=\"\n",
       "  251.59,406.502 408.985,469.73 566.38,530.503 723.774,588.938 881.169,645.148 1038.56,699.237 1195.96,751.303 1353.35,801.442 1510.75,849.74 1668.14,896.283 \n",
       "  1825.54,941.148 \n",
       "  \"/>\n",
       "<path clip-path=\"url(#clip120)\" d=\"\n",
       "M1181.89 337.676 L1817.14 337.676 L1817.14 156.236 L1181.89 156.236  Z\n",
       "  \" fill=\"#ffffff\" fill-rule=\"evenodd\" fill-opacity=\"1\"/>\n",
       "<polyline clip-path=\"url(#clip120)\" style=\"stroke:#000000; stroke-width:4; stroke-opacity:1; fill:none\" points=\"\n",
       "  1181.89,337.676 1817.14,337.676 1817.14,156.236 1181.89,156.236 1181.89,337.676 \n",
       "  \"/>\n",
       "<polyline clip-path=\"url(#clip120)\" style=\"stroke:#ff0000; stroke-width:4; stroke-opacity:1; fill:none\" points=\"\n",
       "  1200.42,216.716 1311.65,216.716 \n",
       "  \"/>\n",
       "<path clip-path=\"url(#clip120)\" d=\"M 0 0 M1330.19 197.977 L1334.45 197.977 L1334.45 233.996 L1330.19 233.996 L1330.19 197.977 Z\" fill=\"#000000\" fill-rule=\"evenodd\" fill-opacity=\"1\" /><path clip-path=\"url(#clip120)\" d=\"M 0 0 M1338.91 208.07 L1343.17 208.07 L1343.17 233.996 L1338.91 233.996 L1338.91 208.07 M1338.91 197.977 L1343.17 197.977 L1343.17 203.371 L1338.91 203.371 L1338.91 197.977 Z\" fill=\"#000000\" fill-rule=\"evenodd\" fill-opacity=\"1\" /><path clip-path=\"url(#clip120)\" d=\"M 0 0 M1359.42 220.963 Q1354.26 220.963 1352.27 222.144 Q1350.28 223.324 1350.28 226.172 Q1350.28 228.44 1351.76 229.783 Q1353.26 231.102 1355.83 231.102 Q1359.38 231.102 1361.51 228.602 Q1363.66 226.079 1363.66 221.912 L1363.66 220.963 L1359.42 220.963 M1367.92 219.204 L1367.92 233.996 L1363.66 233.996 L1363.66 230.061 Q1362.2 232.422 1360.02 233.556 Q1357.85 234.667 1354.7 234.667 Q1350.72 234.667 1348.36 232.445 Q1346.02 230.199 1346.02 226.449 Q1346.02 222.074 1348.94 219.852 Q1351.88 217.63 1357.69 217.63 L1363.66 217.63 L1363.66 217.213 Q1363.66 214.274 1361.71 212.676 Q1359.79 211.056 1356.3 211.056 Q1354.07 211.056 1351.97 211.588 Q1349.86 212.121 1347.92 213.186 L1347.92 209.25 Q1350.26 208.348 1352.45 207.908 Q1354.65 207.445 1356.74 207.445 Q1362.36 207.445 1365.14 210.362 Q1367.92 213.278 1367.92 219.204 Z\" fill=\"#000000\" fill-rule=\"evenodd\" fill-opacity=\"1\" /><path clip-path=\"url(#clip120)\" d=\"M 0 0 M1391 221.056 Q1391 216.357 1389.05 213.695 Q1387.13 211.01 1383.75 211.01 Q1380.37 211.01 1378.43 213.695 Q1376.51 216.357 1376.51 221.056 Q1376.51 225.755 1378.43 228.44 Q1380.37 231.102 1383.75 231.102 Q1387.13 231.102 1389.05 228.44 Q1391 225.755 1391 221.056 M1376.51 212.005 Q1377.85 209.69 1379.88 208.579 Q1381.95 207.445 1384.79 207.445 Q1389.51 207.445 1392.45 211.195 Q1395.42 214.945 1395.42 221.056 Q1395.42 227.167 1392.45 230.917 Q1389.51 234.667 1384.79 234.667 Q1381.95 234.667 1379.88 233.556 Q1377.85 232.422 1376.51 230.107 L1376.51 233.996 L1372.22 233.996 L1372.22 197.977 L1376.51 197.977 L1376.51 212.005 Z\" fill=\"#000000\" fill-rule=\"evenodd\" fill-opacity=\"1\" /><path clip-path=\"url(#clip120)\" d=\"M 0 0 M1399.88 208.07 L1404.14 208.07 L1404.14 233.996 L1399.88 233.996 L1399.88 208.07 M1399.88 197.977 L1404.14 197.977 L1404.14 203.371 L1399.88 203.371 L1399.88 197.977 Z\" fill=\"#000000\" fill-rule=\"evenodd\" fill-opacity=\"1\" /><path clip-path=\"url(#clip120)\" d=\"M 0 0 M1408.61 197.977 L1412.87 197.977 L1412.87 233.996 L1408.61 233.996 L1408.61 197.977 Z\" fill=\"#000000\" fill-rule=\"evenodd\" fill-opacity=\"1\" /><path clip-path=\"url(#clip120)\" d=\"M 0 0 M1417.34 208.07 L1421.6 208.07 L1421.6 233.996 L1417.34 233.996 L1417.34 208.07 M1417.34 197.977 L1421.6 197.977 L1421.6 203.371 L1417.34 203.371 L1417.34 197.977 Z\" fill=\"#000000\" fill-rule=\"evenodd\" fill-opacity=\"1\" /><path clip-path=\"url(#clip120)\" d=\"M 0 0 M1430.28 200.709 L1430.28 208.07 L1439.05 208.07 L1439.05 211.38 L1430.28 211.38 L1430.28 225.454 Q1430.28 228.625 1431.13 229.528 Q1432.01 230.431 1434.68 230.431 L1439.05 230.431 L1439.05 233.996 L1434.68 233.996 Q1429.75 233.996 1427.87 232.167 Q1426 230.315 1426 225.454 L1426 211.38 L1422.87 211.38 L1422.87 208.07 L1426 208.07 L1426 200.709 L1430.28 200.709 Z\" fill=\"#000000\" fill-rule=\"evenodd\" fill-opacity=\"1\" /><path clip-path=\"url(#clip120)\" d=\"M 0 0 M1454.31 236.403 Q1452.5 241.033 1450.79 242.445 Q1449.07 243.857 1446.2 243.857 L1442.8 243.857 L1442.8 240.292 L1445.3 240.292 Q1447.06 240.292 1448.03 239.459 Q1449 238.625 1450.19 235.523 L1450.95 233.579 L1440.46 208.07 L1444.98 208.07 L1453.08 228.348 L1461.18 208.07 L1465.69 208.07 L1454.31 236.403 Z\" fill=\"#000000\" fill-rule=\"evenodd\" fill-opacity=\"1\" /><polyline clip-path=\"url(#clip120)\" style=\"stroke:#008000; stroke-width:4; stroke-opacity:1; fill:none\" stroke-dasharray=\"16, 10\" points=\"\n",
       "  1200.42,277.196 1311.65,277.196 \n",
       "  \"/>\n",
       "<path clip-path=\"url(#clip120)\" d=\"M 0 0 M1330.19 268.55 L1334.7 268.55 L1342.8 290.309 L1350.9 268.55 L1355.42 268.55 L1345.7 294.476 L1339.91 294.476 L1330.19 268.55 Z\" fill=\"#000000\" fill-rule=\"evenodd\" fill-opacity=\"1\" /><path clip-path=\"url(#clip120)\" d=\"M 0 0 M1392.78 265.61 L1384.47 270.101 L1392.78 274.615 L1391.44 276.883 L1383.66 272.184 L1383.66 280.911 L1381.02 280.911 L1381.02 272.184 L1373.24 276.883 L1371.9 274.615 L1380.21 270.101 L1371.9 265.61 L1373.24 263.318 L1381.02 268.018 L1381.02 259.291 L1383.66 259.291 L1383.66 268.018 L1391.44 263.318 L1392.78 265.61 Z\" fill=\"#000000\" fill-rule=\"evenodd\" fill-opacity=\"1\" /><path clip-path=\"url(#clip120)\" d=\"M 0 0 M1433.87 278.828 L1433.87 294.476 L1429.61 294.476 L1429.61 278.967 Q1429.61 275.286 1428.17 273.457 Q1426.74 271.629 1423.87 271.629 Q1420.42 271.629 1418.43 273.828 Q1416.44 276.027 1416.44 279.823 L1416.44 294.476 L1412.15 294.476 L1412.15 258.457 L1416.44 258.457 L1416.44 272.578 Q1417.96 270.24 1420.02 269.082 Q1422.11 267.925 1424.82 267.925 Q1429.28 267.925 1431.57 270.703 Q1433.87 273.457 1433.87 278.828 Z\" fill=\"#000000\" fill-rule=\"evenodd\" fill-opacity=\"1\" /><path clip-path=\"url(#clip120)\" d=\"M 0 0 M1460.51 280.448 L1460.51 282.531 L1440.93 282.531 Q1441.2 286.929 1443.57 289.244 Q1445.95 291.536 1450.19 291.536 Q1452.64 291.536 1454.93 290.934 Q1457.25 290.332 1459.51 289.129 L1459.51 293.156 Q1457.22 294.128 1454.82 294.638 Q1452.41 295.147 1449.93 295.147 Q1443.73 295.147 1440.09 291.536 Q1436.48 287.925 1436.48 281.767 Q1436.48 275.402 1439.91 271.675 Q1443.36 267.925 1449.19 267.925 Q1454.42 267.925 1457.45 271.305 Q1460.51 274.661 1460.51 280.448 M1456.25 279.198 Q1456.2 275.703 1454.28 273.619 Q1452.38 271.536 1449.24 271.536 Q1445.67 271.536 1443.52 273.55 Q1441.39 275.564 1441.07 279.221 L1456.25 279.198 Z\" fill=\"#000000\" fill-rule=\"evenodd\" fill-opacity=\"1\" /><path clip-path=\"url(#clip120)\" d=\"M 0 0 M1482.04 272.485 L1482.04 258.457 L1486.3 258.457 L1486.3 294.476 L1482.04 294.476 L1482.04 290.587 Q1480.69 292.902 1478.63 294.036 Q1476.6 295.147 1473.73 295.147 Q1469.03 295.147 1466.06 291.397 Q1463.13 287.647 1463.13 281.536 Q1463.13 275.425 1466.06 271.675 Q1469.03 267.925 1473.73 267.925 Q1476.6 267.925 1478.63 269.059 Q1480.69 270.17 1482.04 272.485 M1467.52 281.536 Q1467.52 286.235 1469.44 288.92 Q1471.39 291.582 1474.77 291.582 Q1478.15 291.582 1480.09 288.92 Q1482.04 286.235 1482.04 281.536 Q1482.04 276.837 1480.09 274.175 Q1478.15 271.49 1474.77 271.49 Q1471.39 271.49 1469.44 274.175 Q1467.52 276.837 1467.52 281.536 Z\" fill=\"#000000\" fill-rule=\"evenodd\" fill-opacity=\"1\" /><path clip-path=\"url(#clip120)\" d=\"M 0 0 M1507.82 281.212 Q1507.82 276.582 1505.9 274.036 Q1504 271.49 1500.56 271.49 Q1497.13 271.49 1495.21 274.036 Q1493.31 276.582 1493.31 281.212 Q1493.31 285.818 1495.21 288.365 Q1497.13 290.911 1500.56 290.911 Q1504 290.911 1505.9 288.365 Q1507.82 285.818 1507.82 281.212 M1512.08 291.258 Q1512.08 297.878 1509.14 301.096 Q1506.2 304.337 1500.14 304.337 Q1497.89 304.337 1495.9 303.99 Q1493.91 303.665 1492.04 302.971 L1492.04 298.828 Q1493.91 299.846 1495.74 300.332 Q1497.57 300.818 1499.47 300.818 Q1503.66 300.818 1505.74 298.619 Q1507.82 296.443 1507.82 292.022 L1507.82 289.916 Q1506.5 292.207 1504.44 293.341 Q1502.38 294.476 1499.51 294.476 Q1494.75 294.476 1491.83 290.841 Q1488.91 287.207 1488.91 281.212 Q1488.91 275.193 1491.83 271.559 Q1494.75 267.925 1499.51 267.925 Q1502.38 267.925 1504.44 269.059 Q1506.5 270.193 1507.82 272.485 L1507.82 268.55 L1512.08 268.55 L1512.08 291.258 Z\" fill=\"#000000\" fill-rule=\"evenodd\" fill-opacity=\"1\" /><path clip-path=\"url(#clip120)\" d=\"M 0 0 M1538.73 280.448 L1538.73 282.531 L1519.14 282.531 Q1519.42 286.929 1521.78 289.244 Q1524.17 291.536 1528.4 291.536 Q1530.86 291.536 1533.15 290.934 Q1535.46 290.332 1537.73 289.129 L1537.73 293.156 Q1535.44 294.128 1533.03 294.638 Q1530.62 295.147 1528.15 295.147 Q1521.94 295.147 1518.31 291.536 Q1514.7 287.925 1514.7 281.767 Q1514.7 275.402 1518.12 271.675 Q1521.57 267.925 1527.41 267.925 Q1532.64 267.925 1535.67 271.305 Q1538.73 274.661 1538.73 280.448 M1534.47 279.198 Q1534.42 275.703 1532.5 273.619 Q1530.6 271.536 1527.45 271.536 Q1523.89 271.536 1521.74 273.55 Q1519.61 275.564 1519.28 279.221 L1534.47 279.198 Z\" fill=\"#000000\" fill-rule=\"evenodd\" fill-opacity=\"1\" /><path clip-path=\"url(#clip120)\" d=\"M 0 0 M1576.87 281.536 Q1576.87 276.837 1574.93 274.175 Q1573.01 271.49 1569.63 271.49 Q1566.25 271.49 1564.31 274.175 Q1562.38 276.837 1562.38 281.536 Q1562.38 286.235 1564.31 288.92 Q1566.25 291.582 1569.63 291.582 Q1573.01 291.582 1574.93 288.92 Q1576.87 286.235 1576.87 281.536 M1562.38 272.485 Q1563.73 270.17 1565.76 269.059 Q1567.82 267.925 1570.67 267.925 Q1575.39 267.925 1578.33 271.675 Q1581.3 275.425 1581.3 281.536 Q1581.3 287.647 1578.33 291.397 Q1575.39 295.147 1570.67 295.147 Q1567.82 295.147 1565.76 294.036 Q1563.73 292.902 1562.38 290.587 L1562.38 294.476 L1558.1 294.476 L1558.1 258.457 L1562.38 258.457 L1562.38 272.485 Z\" fill=\"#000000\" fill-rule=\"evenodd\" fill-opacity=\"1\" /><path clip-path=\"url(#clip120)\" d=\"M 0 0 M1595.81 271.536 Q1592.38 271.536 1590.39 274.221 Q1588.4 276.883 1588.4 281.536 Q1588.4 286.189 1590.37 288.874 Q1592.36 291.536 1595.81 291.536 Q1599.21 291.536 1601.2 288.851 Q1603.19 286.166 1603.19 281.536 Q1603.19 276.93 1601.2 274.244 Q1599.21 271.536 1595.81 271.536 M1595.81 267.925 Q1601.37 267.925 1604.54 271.536 Q1607.71 275.147 1607.71 281.536 Q1607.71 287.902 1604.54 291.536 Q1601.37 295.147 1595.81 295.147 Q1590.23 295.147 1587.06 291.536 Q1583.91 287.902 1583.91 281.536 Q1583.91 275.147 1587.06 271.536 Q1590.23 267.925 1595.81 267.925 Z\" fill=\"#000000\" fill-rule=\"evenodd\" fill-opacity=\"1\" /><path clip-path=\"url(#clip120)\" d=\"M 0 0 M1633.73 278.828 L1633.73 294.476 L1629.47 294.476 L1629.47 278.967 Q1629.47 275.286 1628.03 273.457 Q1626.6 271.629 1623.73 271.629 Q1620.28 271.629 1618.29 273.828 Q1616.3 276.027 1616.3 279.823 L1616.3 294.476 L1612.01 294.476 L1612.01 268.55 L1616.3 268.55 L1616.3 272.578 Q1617.82 270.24 1619.88 269.082 Q1621.97 267.925 1624.68 267.925 Q1629.14 267.925 1631.43 270.703 Q1633.73 273.457 1633.73 278.828 Z\" fill=\"#000000\" fill-rule=\"evenodd\" fill-opacity=\"1\" /><path clip-path=\"url(#clip120)\" d=\"M 0 0 M1655.25 272.485 L1655.25 258.457 L1659.51 258.457 L1659.51 294.476 L1655.25 294.476 L1655.25 290.587 Q1653.91 292.902 1651.85 294.036 Q1649.81 295.147 1646.94 295.147 Q1642.24 295.147 1639.28 291.397 Q1636.34 287.647 1636.34 281.536 Q1636.34 275.425 1639.28 271.675 Q1642.24 267.925 1646.94 267.925 Q1649.81 267.925 1651.85 269.059 Q1653.91 270.17 1655.25 272.485 M1640.74 281.536 Q1640.74 286.235 1642.66 288.92 Q1644.61 291.582 1647.99 291.582 Q1651.36 291.582 1653.31 288.92 Q1655.25 286.235 1655.25 281.536 Q1655.25 276.837 1653.31 274.175 Q1651.36 271.49 1647.99 271.49 Q1644.61 271.49 1642.66 274.175 Q1640.74 276.837 1640.74 281.536 Z\" fill=\"#000000\" fill-rule=\"evenodd\" fill-opacity=\"1\" /><path clip-path=\"url(#clip120)\" d=\"M 0 0 M1683.17 290.587 L1683.17 304.337 L1678.89 304.337 L1678.89 268.55 L1683.17 268.55 L1683.17 272.485 Q1684.51 270.17 1686.55 269.059 Q1688.61 267.925 1691.46 267.925 Q1696.18 267.925 1699.12 271.675 Q1702.08 275.425 1702.08 281.536 Q1702.08 287.647 1699.12 291.397 Q1696.18 295.147 1691.46 295.147 Q1688.61 295.147 1686.55 294.036 Q1684.51 292.902 1683.17 290.587 M1697.66 281.536 Q1697.66 276.837 1695.72 274.175 Q1693.8 271.49 1690.42 271.49 Q1687.04 271.49 1685.09 274.175 Q1683.17 276.837 1683.17 281.536 Q1683.17 286.235 1685.09 288.92 Q1687.04 291.582 1690.42 291.582 Q1693.8 291.582 1695.72 288.92 Q1697.66 286.235 1697.66 281.536 Z\" fill=\"#000000\" fill-rule=\"evenodd\" fill-opacity=\"1\" /><path clip-path=\"url(#clip120)\" d=\"M 0 0 M1721.57 272.531 Q1720.86 272.115 1720 271.93 Q1719.17 271.721 1718.15 271.721 Q1714.54 271.721 1712.59 274.082 Q1710.67 276.42 1710.67 280.818 L1710.67 294.476 L1706.39 294.476 L1706.39 268.55 L1710.67 268.55 L1710.67 272.578 Q1712.01 270.217 1714.17 269.082 Q1716.32 267.925 1719.4 267.925 Q1719.84 267.925 1720.37 267.994 Q1720.9 268.041 1721.55 268.156 L1721.57 272.531 Z\" fill=\"#000000\" fill-rule=\"evenodd\" fill-opacity=\"1\" /><path clip-path=\"url(#clip120)\" d=\"M 0 0 M1726.04 268.55 L1730.3 268.55 L1730.3 294.476 L1726.04 294.476 L1726.04 268.55 M1726.04 258.457 L1730.3 258.457 L1730.3 263.851 L1726.04 263.851 L1726.04 258.457 Z\" fill=\"#000000\" fill-rule=\"evenodd\" fill-opacity=\"1\" /><path clip-path=\"url(#clip120)\" d=\"M 0 0 M1753.42 269.545 L1753.42 273.527 Q1751.62 272.531 1749.79 272.045 Q1747.98 271.536 1746.13 271.536 Q1741.99 271.536 1739.7 274.175 Q1737.41 276.791 1737.41 281.536 Q1737.41 286.281 1739.7 288.92 Q1741.99 291.536 1746.13 291.536 Q1747.98 291.536 1749.79 291.05 Q1751.62 290.541 1753.42 289.545 L1753.42 293.48 Q1751.64 294.314 1749.72 294.73 Q1747.82 295.147 1745.67 295.147 Q1739.81 295.147 1736.36 291.466 Q1732.92 287.786 1732.92 281.536 Q1732.92 275.193 1736.39 271.559 Q1739.88 267.925 1745.95 267.925 Q1747.92 267.925 1749.79 268.342 Q1751.67 268.735 1753.42 269.545 Z\" fill=\"#000000\" fill-rule=\"evenodd\" fill-opacity=\"1\" /><path clip-path=\"url(#clip120)\" d=\"M 0 0 M1780.07 280.448 L1780.07 282.531 L1760.48 282.531 Q1760.76 286.929 1763.12 289.244 Q1765.51 291.536 1769.74 291.536 Q1772.2 291.536 1774.49 290.934 Q1776.8 290.332 1779.07 289.129 L1779.07 293.156 Q1776.78 294.128 1774.37 294.638 Q1771.97 295.147 1769.49 295.147 Q1763.29 295.147 1759.65 291.536 Q1756.04 287.925 1756.04 281.767 Q1756.04 275.402 1759.47 271.675 Q1762.92 267.925 1768.75 267.925 Q1773.98 267.925 1777.01 271.305 Q1780.07 274.661 1780.07 280.448 M1775.81 279.198 Q1775.76 275.703 1773.84 273.619 Q1771.94 271.536 1768.79 271.536 Q1765.23 271.536 1763.08 273.55 Q1760.95 275.564 1760.62 279.221 L1775.81 279.198 Z\" fill=\"#000000\" fill-rule=\"evenodd\" fill-opacity=\"1\" /><path clip-path=\"url(#clip120)\" d=\"M 0 0 M330.288 829.621 L334.964 829.621 L334.964 864.181 L330.288 864.181 L330.288 829.621 Z\" fill=\"#000000\" fill-rule=\"evenodd\" fill-opacity=\"1\" /><path clip-path=\"url(#clip120)\" d=\"M 0 0 M360.982 848.533 L360.982 864.181 L356.723 864.181 L356.723 848.672 Q356.723 844.992 355.288 843.163 Q353.852 841.334 350.982 841.334 Q347.533 841.334 345.542 843.533 Q343.551 845.732 343.551 849.529 L343.551 864.181 L339.269 864.181 L339.269 838.255 L343.551 838.255 L343.551 842.283 Q345.079 839.945 347.139 838.788 Q349.223 837.63 351.931 837.63 Q356.399 837.63 358.69 840.408 Q360.982 843.163 360.982 848.533 Z\" fill=\"#000000\" fill-rule=\"evenodd\" fill-opacity=\"1\" /><path clip-path=\"url(#clip120)\" d=\"M 0 0 M390.565 841.242 Q387.139 841.242 385.148 843.927 Q383.158 846.589 383.158 851.242 Q383.158 855.894 385.125 858.579 Q387.116 861.241 390.565 861.241 Q393.968 861.241 395.959 858.556 Q397.949 855.871 397.949 851.242 Q397.949 846.635 395.959 843.95 Q393.968 841.242 390.565 841.242 M390.565 837.63 Q396.121 837.63 399.292 841.242 Q402.463 844.853 402.463 851.242 Q402.463 857.607 399.292 861.241 Q396.121 864.853 390.565 864.853 Q384.986 864.853 381.815 861.241 Q378.667 857.607 378.667 851.242 Q378.667 844.853 381.815 841.242 Q384.986 837.63 390.565 837.63 Z\" fill=\"#000000\" fill-rule=\"evenodd\" fill-opacity=\"1\" /><path clip-path=\"url(#clip120)\" d=\"M 0 0 M406.491 853.95 L406.491 838.255 L410.75 838.255 L410.75 853.788 Q410.75 857.468 412.185 859.32 Q413.621 861.149 416.491 861.149 Q419.94 861.149 421.931 858.95 Q423.945 856.751 423.945 852.954 L423.945 838.255 L428.204 838.255 L428.204 864.181 L423.945 864.181 L423.945 860.2 Q422.394 862.561 420.333 863.718 Q418.296 864.853 415.588 864.853 Q411.121 864.853 408.806 862.075 Q406.491 859.297 406.491 853.95 M417.208 837.63 L417.208 837.63 Z\" fill=\"#000000\" fill-rule=\"evenodd\" fill-opacity=\"1\" /><path clip-path=\"url(#clip120)\" d=\"M 0 0 M447.694 842.237 Q446.977 841.82 446.12 841.635 Q445.287 841.427 444.269 841.427 Q440.657 841.427 438.713 843.788 Q436.792 846.126 436.792 850.524 L436.792 864.181 L432.509 864.181 L432.509 838.255 L436.792 838.255 L436.792 842.283 Q438.134 839.922 440.287 838.788 Q442.44 837.63 445.519 837.63 Q445.958 837.63 446.491 837.7 Q447.023 837.746 447.671 837.862 L447.694 842.237 Z\" fill=\"#000000\" fill-rule=\"evenodd\" fill-opacity=\"1\" /><path clip-path=\"url(#clip120)\" d=\"M 0 0 M489.407 850.154 L489.407 852.237 L469.824 852.237 Q470.102 856.635 472.463 858.95 Q474.847 861.241 479.083 861.241 Q481.537 861.241 483.828 860.64 Q486.143 860.038 488.412 858.834 L488.412 862.862 Q486.12 863.834 483.713 864.343 Q481.305 864.853 478.829 864.853 Q472.625 864.853 468.991 861.241 Q465.38 857.63 465.38 851.473 Q465.38 845.107 468.805 841.38 Q472.254 837.63 478.088 837.63 Q483.319 837.63 486.352 841.01 Q489.407 844.367 489.407 850.154 M485.148 848.904 Q485.102 845.408 483.18 843.325 Q481.282 841.242 478.134 841.242 Q474.569 841.242 472.417 843.255 Q470.287 845.269 469.963 848.927 L485.148 848.904 Z\" fill=\"#000000\" fill-rule=\"evenodd\" fill-opacity=\"1\" /><path clip-path=\"url(#clip120)\" d=\"M 0 0 M514.592 838.255 L505.217 850.871 L515.078 864.181 L510.055 864.181 L502.509 853.996 L494.963 864.181 L489.94 864.181 L500.009 850.617 L490.796 838.255 L495.819 838.255 L502.694 847.492 L509.569 838.255 L514.592 838.255 Z\" fill=\"#000000\" fill-rule=\"evenodd\" fill-opacity=\"1\" /><path clip-path=\"url(#clip120)\" d=\"M 0 0 M531.328 851.149 Q526.166 851.149 524.176 852.329 Q522.185 853.51 522.185 856.357 Q522.185 858.626 523.666 859.968 Q525.171 861.288 527.74 861.288 Q531.282 861.288 533.412 858.788 Q535.564 856.265 535.564 852.098 L535.564 851.149 L531.328 851.149 M539.824 849.39 L539.824 864.181 L535.564 864.181 L535.564 860.246 Q534.106 862.607 531.93 863.741 Q529.754 864.853 526.606 864.853 Q522.625 864.853 520.263 862.63 Q517.926 860.385 517.926 856.635 Q517.926 852.26 520.842 850.038 Q523.782 847.816 529.592 847.816 L535.564 847.816 L535.564 847.399 Q535.564 844.459 533.62 842.862 Q531.699 841.242 528.203 841.242 Q525.981 841.242 523.875 841.774 Q521.768 842.306 519.824 843.371 L519.824 839.436 Q522.162 838.533 524.361 838.093 Q526.56 837.63 528.643 837.63 Q534.268 837.63 537.046 840.547 Q539.824 843.464 539.824 849.39 Z\" fill=\"#000000\" fill-rule=\"evenodd\" fill-opacity=\"1\" /><path clip-path=\"url(#clip120)\" d=\"M 0 0 M564.476 843.232 Q566.073 840.362 568.296 838.996 Q570.518 837.63 573.527 837.63 Q577.578 837.63 579.777 840.478 Q581.976 843.302 581.976 848.533 L581.976 864.181 L577.694 864.181 L577.694 848.672 Q577.694 844.945 576.374 843.14 Q575.055 841.334 572.347 841.334 Q569.036 841.334 567.115 843.533 Q565.194 845.732 565.194 849.529 L565.194 864.181 L560.911 864.181 L560.911 848.672 Q560.911 844.922 559.592 843.14 Q558.273 841.334 555.518 841.334 Q552.254 841.334 550.333 843.556 Q548.411 845.755 548.411 849.529 L548.411 864.181 L544.129 864.181 L544.129 838.255 L548.411 838.255 L548.411 842.283 Q549.87 839.899 551.907 838.765 Q553.944 837.63 556.745 837.63 Q559.569 837.63 561.536 839.066 Q563.527 840.501 564.476 843.232 Z\" fill=\"#000000\" fill-rule=\"evenodd\" fill-opacity=\"1\" /><path clip-path=\"url(#clip120)\" d=\"M 0 0 M590.564 860.292 L590.564 874.042 L586.282 874.042 L586.282 838.255 L590.564 838.255 L590.564 842.191 Q591.907 839.876 593.944 838.765 Q596.004 837.63 598.851 837.63 Q603.573 837.63 606.513 841.38 Q609.476 845.13 609.476 851.242 Q609.476 857.353 606.513 861.103 Q603.573 864.853 598.851 864.853 Q596.004 864.853 593.944 863.741 Q591.907 862.607 590.564 860.292 M605.055 851.242 Q605.055 846.542 603.11 843.88 Q601.189 841.195 597.809 841.195 Q594.43 841.195 592.485 843.88 Q590.564 846.542 590.564 851.242 Q590.564 855.941 592.485 858.626 Q594.43 861.288 597.809 861.288 Q601.189 861.288 603.11 858.626 Q605.055 855.941 605.055 851.242 Z\" fill=\"#000000\" fill-rule=\"evenodd\" fill-opacity=\"1\" /><path clip-path=\"url(#clip120)\" d=\"M 0 0 M613.944 828.163 L618.203 828.163 L618.203 864.181 L613.944 864.181 L613.944 828.163 Z\" fill=\"#000000\" fill-rule=\"evenodd\" fill-opacity=\"1\" /><path clip-path=\"url(#clip120)\" d=\"M 0 0 M644.846 850.154 L644.846 852.237 L625.263 852.237 Q625.541 856.635 627.902 858.95 Q630.286 861.241 634.522 861.241 Q636.976 861.241 639.267 860.64 Q641.582 860.038 643.851 858.834 L643.851 862.862 Q641.559 863.834 639.152 864.343 Q636.744 864.853 634.268 864.853 Q628.064 864.853 624.43 861.241 Q620.819 857.63 620.819 851.473 Q620.819 845.107 624.244 841.38 Q627.693 837.63 633.527 837.63 Q638.758 837.63 641.791 841.01 Q644.846 844.367 644.846 850.154 M640.587 848.904 Q640.541 845.408 638.619 843.325 Q636.721 841.242 633.573 841.242 Q630.008 841.242 627.856 843.255 Q625.726 845.269 625.402 848.927 L640.587 848.904 Z\" fill=\"#000000\" fill-rule=\"evenodd\" fill-opacity=\"1\" /><path clip-path=\"url(#clip120)\" d=\"M 0 0 M650.402 858.302 L655.286 858.302 L655.286 862.283 L651.49 869.69 L648.504 869.69 L650.402 862.283 L650.402 858.302 Z\" fill=\"#000000\" fill-rule=\"evenodd\" fill-opacity=\"1\" /><path clip-path=\"url(#clip120)\" d=\"M 0 0 M679.036 830.894 L679.036 838.255 L687.809 838.255 L687.809 841.566 L679.036 841.566 L679.036 855.64 Q679.036 858.811 679.892 859.714 Q680.772 860.616 683.434 860.616 L687.809 860.616 L687.809 864.181 L683.434 864.181 Q678.503 864.181 676.628 862.353 Q674.753 860.501 674.753 855.64 L674.753 841.566 L671.628 841.566 L671.628 838.255 L674.753 838.255 L674.753 830.894 L679.036 830.894 Z\" fill=\"#000000\" fill-rule=\"evenodd\" fill-opacity=\"1\" /><path clip-path=\"url(#clip120)\" d=\"M 0 0 M713.827 848.533 L713.827 864.181 L709.568 864.181 L709.568 848.672 Q709.568 844.992 708.133 843.163 Q706.698 841.334 703.827 841.334 Q700.378 841.334 698.388 843.533 Q696.397 845.732 696.397 849.529 L696.397 864.181 L692.114 864.181 L692.114 828.163 L696.397 828.163 L696.397 842.283 Q697.925 839.945 699.985 838.788 Q702.068 837.63 704.776 837.63 Q709.244 837.63 711.536 840.408 Q713.827 843.163 713.827 848.533 Z\" fill=\"#000000\" fill-rule=\"evenodd\" fill-opacity=\"1\" /><path clip-path=\"url(#clip120)\" d=\"M 0 0 M740.471 850.154 L740.471 852.237 L720.887 852.237 Q721.165 856.635 723.526 858.95 Q725.911 861.241 730.147 861.241 Q732.6 861.241 734.892 860.64 Q737.207 860.038 739.475 858.834 L739.475 862.862 Q737.184 863.834 734.776 864.343 Q732.369 864.853 729.892 864.853 Q723.688 864.853 720.054 861.241 Q716.443 857.63 716.443 851.473 Q716.443 845.107 719.869 841.38 Q723.318 837.63 729.151 837.63 Q734.383 837.63 737.415 841.01 Q740.471 844.367 740.471 850.154 M736.211 848.904 Q736.165 845.408 734.244 843.325 Q732.346 841.242 729.198 841.242 Q725.633 841.242 723.48 843.255 Q721.35 845.269 721.026 848.927 L736.211 848.904 Z\" fill=\"#000000\" fill-rule=\"evenodd\" fill-opacity=\"1\" /><path clip-path=\"url(#clip120)\" d=\"M 0 0 M760.008 838.255 L764.267 838.255 L764.267 864.181 L760.008 864.181 L760.008 838.255 M760.008 828.163 L764.267 828.163 L764.267 833.556 L760.008 833.556 L760.008 828.163 Z\" fill=\"#000000\" fill-rule=\"evenodd\" fill-opacity=\"1\" /><path clip-path=\"url(#clip120)\" d=\"M 0 0 M790.285 848.533 L790.285 864.181 L786.026 864.181 L786.026 848.672 Q786.026 844.992 784.591 843.163 Q783.156 841.334 780.285 841.334 Q776.836 841.334 774.845 843.533 Q772.855 845.732 772.855 849.529 L772.855 864.181 L768.572 864.181 L768.572 838.255 L772.855 838.255 L772.855 842.283 Q774.382 839.945 776.443 838.788 Q778.526 837.63 781.234 837.63 Q785.702 837.63 787.994 840.408 Q790.285 843.163 790.285 848.533 Z\" fill=\"#000000\" fill-rule=\"evenodd\" fill-opacity=\"1\" /><path clip-path=\"url(#clip120)\" d=\"M 0 0 M798.966 830.894 L798.966 838.255 L807.739 838.255 L807.739 841.566 L798.966 841.566 L798.966 855.64 Q798.966 858.811 799.822 859.714 Q800.702 860.616 803.364 860.616 L807.739 860.616 L807.739 864.181 L803.364 864.181 Q798.433 864.181 796.558 862.353 Q794.683 860.501 794.683 855.64 L794.683 841.566 L791.558 841.566 L791.558 838.255 L794.683 838.255 L794.683 830.894 L798.966 830.894 Z\" fill=\"#000000\" fill-rule=\"evenodd\" fill-opacity=\"1\" /><path clip-path=\"url(#clip120)\" d=\"M 0 0 M834.382 850.154 L834.382 852.237 L814.799 852.237 Q815.077 856.635 817.438 858.95 Q819.822 861.241 824.058 861.241 Q826.512 861.241 828.804 860.64 Q831.118 860.038 833.387 858.834 L833.387 862.862 Q831.095 863.834 828.688 864.343 Q826.28 864.853 823.804 864.853 Q817.6 864.853 813.966 861.241 Q810.355 857.63 810.355 851.473 Q810.355 845.107 813.78 841.38 Q817.229 837.63 823.063 837.63 Q828.294 837.63 831.327 841.01 Q834.382 844.367 834.382 850.154 M830.123 848.904 Q830.077 845.408 828.155 843.325 Q826.257 841.242 823.109 841.242 Q819.544 841.242 817.392 843.255 Q815.262 845.269 814.938 848.927 L830.123 848.904 Z\" fill=\"#000000\" fill-rule=\"evenodd\" fill-opacity=\"1\" /><path clip-path=\"url(#clip120)\" d=\"M 0 0 M853.873 842.237 Q853.155 841.82 852.299 841.635 Q851.465 841.427 850.447 841.427 Q846.836 841.427 844.891 843.788 Q842.97 846.126 842.97 850.524 L842.97 864.181 L838.688 864.181 L838.688 838.255 L842.97 838.255 L842.97 842.283 Q844.313 839.922 846.465 838.788 Q848.618 837.63 851.697 837.63 Q852.137 837.63 852.669 837.7 Q853.202 837.746 853.85 837.862 L853.873 842.237 Z\" fill=\"#000000\" fill-rule=\"evenodd\" fill-opacity=\"1\" /><path clip-path=\"url(#clip120)\" d=\"M 0 0 M879.475 850.154 L879.475 852.237 L859.891 852.237 Q860.169 856.635 862.53 858.95 Q864.914 861.241 869.151 861.241 Q871.604 861.241 873.896 860.64 Q876.211 860.038 878.479 858.834 L878.479 862.862 Q876.188 863.834 873.78 864.343 Q871.373 864.853 868.896 864.853 Q862.692 864.853 859.058 861.241 Q855.447 857.63 855.447 851.473 Q855.447 845.107 858.873 841.38 Q862.322 837.63 868.155 837.63 Q873.387 837.63 876.419 841.01 Q879.475 844.367 879.475 850.154 M875.215 848.904 Q875.169 845.408 873.248 843.325 Q871.35 841.242 868.201 841.242 Q864.637 841.242 862.484 843.255 Q860.354 845.269 860.03 848.927 L875.215 848.904 Z\" fill=\"#000000\" fill-rule=\"evenodd\" fill-opacity=\"1\" /><path clip-path=\"url(#clip120)\" d=\"M 0 0 M900.47 839.019 L900.47 843.047 Q898.664 842.121 896.72 841.658 Q894.775 841.195 892.692 841.195 Q889.521 841.195 887.924 842.167 Q886.349 843.14 886.349 845.084 Q886.349 846.566 887.484 847.422 Q888.618 848.255 892.044 849.019 L893.502 849.343 Q898.039 850.316 899.937 852.098 Q901.859 853.857 901.859 857.029 Q901.859 860.64 898.988 862.746 Q896.141 864.853 891.141 864.853 Q889.058 864.853 886.789 864.436 Q884.544 864.042 882.044 863.232 L882.044 858.834 Q884.405 860.061 886.697 860.686 Q888.988 861.288 891.234 861.288 Q894.243 861.288 895.863 860.269 Q897.484 859.228 897.484 857.353 Q897.484 855.616 896.303 854.691 Q895.146 853.765 891.187 852.908 L889.706 852.561 Q885.748 851.728 883.988 850.015 Q882.229 848.279 882.229 845.269 Q882.229 841.612 884.822 839.621 Q887.414 837.63 892.183 837.63 Q894.544 837.63 896.627 837.978 Q898.711 838.325 900.47 839.019 Z\" fill=\"#000000\" fill-rule=\"evenodd\" fill-opacity=\"1\" /><path clip-path=\"url(#clip120)\" d=\"M 0 0 M910.539 830.894 L910.539 838.255 L919.312 838.255 L919.312 841.566 L910.539 841.566 L910.539 855.64 Q910.539 858.811 911.396 859.714 Q912.275 860.616 914.937 860.616 L919.312 860.616 L919.312 864.181 L914.937 864.181 Q910.007 864.181 908.132 862.353 Q906.257 860.501 906.257 855.64 L906.257 841.566 L903.132 841.566 L903.132 838.255 L906.257 838.255 L906.257 830.894 L910.539 830.894 Z\" fill=\"#000000\" fill-rule=\"evenodd\" fill-opacity=\"1\" /><path clip-path=\"url(#clip120)\" d=\"M 0 0 M953.872 842.237 Q953.155 841.82 952.298 841.635 Q951.465 841.427 950.446 841.427 Q946.835 841.427 944.891 843.788 Q942.97 846.126 942.97 850.524 L942.97 864.181 L938.687 864.181 L938.687 838.255 L942.97 838.255 L942.97 842.283 Q944.312 839.922 946.465 838.788 Q948.618 837.63 951.696 837.63 Q952.136 837.63 952.669 837.7 Q953.201 837.746 953.849 837.862 L953.872 842.237 Z\" fill=\"#000000\" fill-rule=\"evenodd\" fill-opacity=\"1\" /><path clip-path=\"url(#clip120)\" d=\"M 0 0 M970.122 851.149 Q964.96 851.149 962.969 852.329 Q960.979 853.51 960.979 856.357 Q960.979 858.626 962.46 859.968 Q963.965 861.288 966.534 861.288 Q970.076 861.288 972.206 858.788 Q974.358 856.265 974.358 852.098 L974.358 851.149 L970.122 851.149 M978.618 849.39 L978.618 864.181 L974.358 864.181 L974.358 860.246 Q972.9 862.607 970.724 863.741 Q968.548 864.853 965.4 864.853 Q961.419 864.853 959.057 862.63 Q956.719 860.385 956.719 856.635 Q956.719 852.26 959.636 850.038 Q962.576 847.816 968.386 847.816 L974.358 847.816 L974.358 847.399 Q974.358 844.459 972.414 842.862 Q970.493 841.242 966.997 841.242 Q964.775 841.242 962.669 841.774 Q960.562 842.306 958.618 843.371 L958.618 839.436 Q960.956 838.533 963.155 838.093 Q965.354 837.63 967.437 837.63 Q973.062 837.63 975.84 840.547 Q978.618 843.464 978.618 849.39 Z\" fill=\"#000000\" fill-rule=\"evenodd\" fill-opacity=\"1\" /><path clip-path=\"url(#clip120)\" d=\"M 0 0 M987.298 830.894 L987.298 838.255 L996.071 838.255 L996.071 841.566 L987.298 841.566 L987.298 855.64 Q987.298 858.811 988.154 859.714 Q989.034 860.616 991.696 860.616 L996.071 860.616 L996.071 864.181 L991.696 864.181 Q986.766 864.181 984.891 862.353 Q983.016 860.501 983.016 855.64 L983.016 841.566 L979.891 841.566 L979.891 838.255 L983.016 838.255 L983.016 830.894 L987.298 830.894 Z\" fill=\"#000000\" fill-rule=\"evenodd\" fill-opacity=\"1\" /><path clip-path=\"url(#clip120)\" d=\"M 0 0 M1022.71 850.154 L1022.71 852.237 L1003.13 852.237 Q1003.41 856.635 1005.77 858.95 Q1008.15 861.241 1012.39 861.241 Q1014.84 861.241 1017.14 860.64 Q1019.45 860.038 1021.72 858.834 L1021.72 862.862 Q1019.43 863.834 1017.02 864.343 Q1014.61 864.853 1012.14 864.853 Q1005.93 864.853 1002.3 861.241 Q998.687 857.63 998.687 851.473 Q998.687 845.107 1002.11 841.38 Q1005.56 837.63 1011.4 837.63 Q1016.63 837.63 1019.66 841.01 Q1022.71 844.367 1022.71 850.154 M1018.46 848.904 Q1018.41 845.408 1016.49 843.325 Q1014.59 841.242 1011.44 841.242 Q1007.88 841.242 1005.72 843.255 Q1003.59 845.269 1003.27 848.927 L1018.46 848.904 Z\" fill=\"#000000\" fill-rule=\"evenodd\" fill-opacity=\"1\" /><path clip-path=\"url(#clip120)\" d=\"M 0 0 M1043.71 839.019 L1043.71 843.047 Q1041.9 842.121 1039.96 841.658 Q1038.02 841.195 1035.93 841.195 Q1032.76 841.195 1031.16 842.167 Q1029.59 843.14 1029.59 845.084 Q1029.59 846.566 1030.72 847.422 Q1031.86 848.255 1035.28 849.019 L1036.74 849.343 Q1041.28 850.316 1043.18 852.098 Q1045.1 853.857 1045.1 857.029 Q1045.1 860.64 1042.23 862.746 Q1039.38 864.853 1034.38 864.853 Q1032.3 864.853 1030.03 864.436 Q1027.78 864.042 1025.28 863.232 L1025.28 858.834 Q1027.65 860.061 1029.94 860.686 Q1032.23 861.288 1034.47 861.288 Q1037.48 861.288 1039.1 860.269 Q1040.72 859.228 1040.72 857.353 Q1040.72 855.616 1039.54 854.691 Q1038.39 853.765 1034.43 852.908 L1032.95 852.561 Q1028.99 851.728 1027.23 850.015 Q1025.47 848.279 1025.47 845.269 Q1025.47 841.612 1028.06 839.621 Q1030.65 837.63 1035.42 837.63 Q1037.78 837.63 1039.87 837.978 Q1041.95 838.325 1043.71 839.019 Z\" fill=\"#000000\" fill-rule=\"evenodd\" fill-opacity=\"1\" /><path clip-path=\"url(#clip120)\" d=\"M 0 0 M343.69 902.989 Q338.528 902.989 336.538 904.169 Q334.547 905.35 334.547 908.197 Q334.547 910.466 336.028 911.808 Q337.533 913.128 340.102 913.128 Q343.644 913.128 345.774 910.628 Q347.926 908.105 347.926 903.938 L347.926 902.989 L343.69 902.989 M352.186 901.23 L352.186 916.021 L347.926 916.021 L347.926 912.086 Q346.468 914.447 344.292 915.581 Q342.116 916.693 338.968 916.693 Q334.987 916.693 332.626 914.47 Q330.288 912.225 330.288 908.475 Q330.288 904.1 333.204 901.878 Q336.144 899.656 341.954 899.656 L347.926 899.656 L347.926 899.239 Q347.926 896.299 345.982 894.702 Q344.061 893.082 340.565 893.082 Q338.343 893.082 336.237 893.614 Q334.13 894.146 332.186 895.211 L332.186 891.276 Q334.524 890.373 336.723 889.933 Q338.922 889.47 341.005 889.47 Q346.63 889.47 349.408 892.387 Q352.186 895.304 352.186 901.23 Z\" fill=\"#000000\" fill-rule=\"evenodd\" fill-opacity=\"1\" /><path clip-path=\"url(#clip120)\" d=\"M 0 0 M371.676 894.077 Q370.959 893.66 370.102 893.475 Q369.269 893.267 368.25 893.267 Q364.639 893.267 362.695 895.628 Q360.774 897.966 360.774 902.364 L360.774 916.021 L356.491 916.021 L356.491 890.095 L360.774 890.095 L360.774 894.123 Q362.116 891.762 364.269 890.628 Q366.422 889.47 369.5 889.47 Q369.94 889.47 370.473 889.54 Q371.005 889.586 371.653 889.702 L371.676 894.077 Z\" fill=\"#000000\" fill-rule=\"evenodd\" fill-opacity=\"1\" /><path clip-path=\"url(#clip120)\" d=\"M 0 0 M397.278 901.994 L397.278 904.077 L377.695 904.077 Q377.973 908.475 380.334 910.79 Q382.718 913.081 386.954 913.081 Q389.408 913.081 391.699 912.48 Q394.014 911.878 396.283 910.674 L396.283 914.702 Q393.991 915.674 391.584 916.183 Q389.176 916.693 386.699 916.693 Q380.496 916.693 376.861 913.081 Q373.25 909.47 373.25 903.313 Q373.25 896.947 376.676 893.22 Q380.125 889.47 385.959 889.47 Q391.19 889.47 394.222 892.85 Q397.278 896.207 397.278 901.994 M393.019 900.744 Q392.973 897.248 391.051 895.165 Q389.153 893.082 386.005 893.082 Q382.44 893.082 380.287 895.095 Q378.158 897.109 377.834 900.767 L393.019 900.744 Z\" fill=\"#000000\" fill-rule=\"evenodd\" fill-opacity=\"1\" /><path clip-path=\"url(#clip120)\" d=\"M 0 0 M427.417 884.54 Q423.806 884.54 421.977 888.105 Q420.171 891.646 420.171 898.776 Q420.171 905.882 421.977 909.447 Q423.806 912.989 427.417 912.989 Q431.051 912.989 432.857 909.447 Q434.685 905.882 434.685 898.776 Q434.685 891.646 432.857 888.105 Q431.051 884.54 427.417 884.54 M427.417 880.836 Q433.227 880.836 436.282 885.443 Q439.361 890.026 439.361 898.776 Q439.361 907.503 436.282 912.109 Q433.227 916.693 427.417 916.693 Q421.607 916.693 418.528 912.109 Q415.472 907.503 415.472 898.776 Q415.472 890.026 418.528 885.443 Q421.607 880.836 427.417 880.836 Z\" fill=\"#000000\" fill-rule=\"evenodd\" fill-opacity=\"1\" /><path clip-path=\"url(#clip120)\" d=\"M 0 0 M444.431 910.142 L449.315 910.142 L449.315 916.021 L444.431 916.021 L444.431 910.142 Z\" fill=\"#000000\" fill-rule=\"evenodd\" fill-opacity=\"1\" /><path clip-path=\"url(#clip120)\" d=\"M 0 0 M464.384 884.54 Q460.773 884.54 458.944 888.105 Q457.139 891.646 457.139 898.776 Q457.139 905.882 458.944 909.447 Q460.773 912.989 464.384 912.989 Q468.018 912.989 469.824 909.447 Q471.653 905.882 471.653 898.776 Q471.653 891.646 469.824 888.105 Q468.018 884.54 464.384 884.54 M464.384 880.836 Q470.194 880.836 473.25 885.443 Q476.329 890.026 476.329 898.776 Q476.329 907.503 473.25 912.109 Q470.194 916.693 464.384 916.693 Q458.574 916.693 455.495 912.109 Q452.44 907.503 452.44 898.776 Q452.44 890.026 455.495 885.443 Q458.574 880.836 464.384 880.836 Z\" fill=\"#000000\" fill-rule=\"evenodd\" fill-opacity=\"1\" /><path clip-path=\"url(#clip120)\" d=\"M 0 0 M481.444 881.461 L499.801 881.461 L499.801 885.396 L485.727 885.396 L485.727 893.869 Q486.745 893.521 487.764 893.359 Q488.782 893.174 489.801 893.174 Q495.588 893.174 498.967 896.345 Q502.347 899.517 502.347 904.933 Q502.347 910.512 498.875 913.614 Q495.403 916.693 489.083 916.693 Q486.907 916.693 484.639 916.322 Q482.393 915.952 479.986 915.211 L479.986 910.512 Q482.069 911.646 484.291 912.202 Q486.514 912.757 488.991 912.757 Q492.995 912.757 495.333 910.651 Q497.671 908.544 497.671 904.933 Q497.671 901.322 495.333 899.216 Q492.995 897.109 488.991 897.109 Q487.116 897.109 485.241 897.526 Q483.389 897.943 481.444 898.822 L481.444 881.461 Z\" fill=\"#000000\" fill-rule=\"evenodd\" fill-opacity=\"1\" /><path clip-path=\"url(#clip120)\" d=\"M 0 0 M532.115 880.049 Q529.013 885.373 527.509 890.582 Q526.004 895.79 526.004 901.137 Q526.004 906.484 527.509 911.739 Q529.037 916.97 532.115 922.271 L528.412 922.271 Q524.939 916.831 523.203 911.577 Q521.49 906.322 521.49 901.137 Q521.49 895.975 523.203 890.744 Q524.916 885.512 528.412 880.049 L532.115 880.049 Z\" fill=\"#000000\" fill-rule=\"evenodd\" fill-opacity=\"1\" /><path clip-path=\"url(#clip120)\" d=\"M 0 0 M555.194 903.082 Q555.194 898.382 553.249 895.72 Q551.328 893.035 547.949 893.035 Q544.569 893.035 542.624 895.72 Q540.703 898.382 540.703 903.082 Q540.703 907.781 542.624 910.466 Q544.569 913.128 547.949 913.128 Q551.328 913.128 553.249 910.466 Q555.194 907.781 555.194 903.082 M540.703 894.031 Q542.046 891.716 544.083 890.605 Q546.143 889.47 548.99 889.47 Q553.712 889.47 556.652 893.22 Q559.615 896.97 559.615 903.082 Q559.615 909.193 556.652 912.943 Q553.712 916.693 548.99 916.693 Q546.143 916.693 544.083 915.581 Q542.046 914.447 540.703 912.132 L540.703 916.021 L536.421 916.021 L536.421 880.003 L540.703 880.003 L540.703 894.031 Z\" fill=\"#000000\" fill-rule=\"evenodd\" fill-opacity=\"1\" /><path clip-path=\"url(#clip120)\" d=\"M 0 0 M586.259 901.994 L586.259 904.077 L566.675 904.077 Q566.953 908.475 569.314 910.79 Q571.698 913.081 575.934 913.081 Q578.388 913.081 580.68 912.48 Q582.995 911.878 585.263 910.674 L585.263 914.702 Q582.971 915.674 580.564 916.183 Q578.157 916.693 575.68 916.693 Q569.476 916.693 565.842 913.081 Q562.231 909.47 562.231 903.313 Q562.231 896.947 565.657 893.22 Q569.106 889.47 574.939 889.47 Q580.171 889.47 583.203 892.85 Q586.259 896.207 586.259 901.994 M581.999 900.744 Q581.953 897.248 580.032 895.165 Q578.134 893.082 574.985 893.082 Q571.421 893.082 569.268 895.095 Q567.138 897.109 566.814 900.767 L581.999 900.744 Z\" fill=\"#000000\" fill-rule=\"evenodd\" fill-opacity=\"1\" /><path clip-path=\"url(#clip120)\" d=\"M 0 0 M603.851 880.003 L603.851 883.545 L599.777 883.545 Q597.485 883.545 596.583 884.47 Q595.703 885.396 595.703 887.804 L595.703 890.095 L602.717 890.095 L602.717 893.406 L595.703 893.406 L595.703 916.021 L591.421 916.021 L591.421 893.406 L587.346 893.406 L587.346 890.095 L591.421 890.095 L591.421 888.29 Q591.421 883.961 593.434 881.994 Q595.448 880.003 599.823 880.003 L603.851 880.003 Z\" fill=\"#000000\" fill-rule=\"evenodd\" fill-opacity=\"1\" /><path clip-path=\"url(#clip120)\" d=\"M 0 0 M618.365 893.082 Q614.939 893.082 612.948 895.767 Q610.957 898.429 610.957 903.082 Q610.957 907.734 612.925 910.419 Q614.916 913.081 618.365 913.081 Q621.768 913.081 623.758 910.396 Q625.749 907.711 625.749 903.082 Q625.749 898.475 623.758 895.79 Q621.768 893.082 618.365 893.082 M618.365 889.47 Q623.92 889.47 627.092 893.082 Q630.263 896.693 630.263 903.082 Q630.263 909.447 627.092 913.081 Q623.92 916.693 618.365 916.693 Q612.786 916.693 609.615 913.081 Q606.467 909.447 606.467 903.082 Q606.467 896.693 609.615 893.082 Q612.786 889.47 618.365 889.47 Z\" fill=\"#000000\" fill-rule=\"evenodd\" fill-opacity=\"1\" /><path clip-path=\"url(#clip120)\" d=\"M 0 0 M649.754 894.077 Q649.036 893.66 648.179 893.475 Q647.346 893.267 646.328 893.267 Q642.717 893.267 640.772 895.628 Q638.851 897.966 638.851 902.364 L638.851 916.021 L634.568 916.021 L634.568 890.095 L638.851 890.095 L638.851 894.123 Q640.193 891.762 642.346 890.628 Q644.499 889.47 647.578 889.47 Q648.017 889.47 648.55 889.54 Q649.082 889.586 649.73 889.702 L649.754 894.077 Z\" fill=\"#000000\" fill-rule=\"evenodd\" fill-opacity=\"1\" /><path clip-path=\"url(#clip120)\" d=\"M 0 0 M675.355 901.994 L675.355 904.077 L655.772 904.077 Q656.05 908.475 658.411 910.79 Q660.795 913.081 665.031 913.081 Q667.485 913.081 669.777 912.48 Q672.091 911.878 674.36 910.674 L674.36 914.702 Q672.068 915.674 669.661 916.183 Q667.253 916.693 664.777 916.693 Q658.573 916.693 654.939 913.081 Q651.328 909.47 651.328 903.313 Q651.328 896.947 654.754 893.22 Q658.203 889.47 664.036 889.47 Q669.267 889.47 672.3 892.85 Q675.355 896.207 675.355 901.994 M671.096 900.744 Q671.05 897.248 669.128 895.165 Q667.23 893.082 664.082 893.082 Q660.517 893.082 658.365 895.095 Q656.235 897.109 655.911 900.767 L671.096 900.744 Z\" fill=\"#000000\" fill-rule=\"evenodd\" fill-opacity=\"1\" /><path clip-path=\"url(#clip120)\" d=\"M 0 0 M679.152 880.049 L682.855 880.049 Q686.327 885.512 688.04 890.744 Q689.776 895.975 689.776 901.137 Q689.776 906.322 688.04 911.577 Q686.327 916.831 682.855 922.271 L679.152 922.271 Q682.23 916.97 683.735 911.739 Q685.263 906.484 685.263 901.137 Q685.263 895.79 683.735 890.582 Q682.23 885.373 679.152 880.049 Z\" fill=\"#000000\" fill-rule=\"evenodd\" fill-opacity=\"1\" /><path clip-path=\"url(#clip120)\" d=\"M 0 0 M721.096 902.989 Q715.934 902.989 713.943 904.169 Q711.952 905.35 711.952 908.197 Q711.952 910.466 713.434 911.808 Q714.938 913.128 717.508 913.128 Q721.049 913.128 723.179 910.628 Q725.332 908.105 725.332 903.938 L725.332 902.989 L721.096 902.989 M729.591 901.23 L729.591 916.021 L725.332 916.021 L725.332 912.086 Q723.874 914.447 721.698 915.581 Q719.522 916.693 716.374 916.693 Q712.392 916.693 710.031 914.47 Q707.693 912.225 707.693 908.475 Q707.693 904.1 710.61 901.878 Q713.549 899.656 719.36 899.656 L725.332 899.656 L725.332 899.239 Q725.332 896.299 723.387 894.702 Q721.466 893.082 717.971 893.082 Q715.749 893.082 713.642 893.614 Q711.536 894.146 709.591 895.211 L709.591 891.276 Q711.929 890.373 714.128 889.933 Q716.327 889.47 718.411 889.47 Q724.036 889.47 726.813 892.387 Q729.591 895.304 729.591 901.23 Z\" fill=\"#000000\" fill-rule=\"evenodd\" fill-opacity=\"1\" /><path clip-path=\"url(#clip120)\" d=\"M 0 0 M755.609 900.373 L755.609 916.021 L751.35 916.021 L751.35 900.512 Q751.35 896.832 749.915 895.003 Q748.48 893.174 745.61 893.174 Q742.16 893.174 740.17 895.373 Q738.179 897.572 738.179 901.369 L738.179 916.021 L733.897 916.021 L733.897 890.095 L738.179 890.095 L738.179 894.123 Q739.707 891.785 741.767 890.628 Q743.85 889.47 746.559 889.47 Q751.026 889.47 753.318 892.248 Q755.609 895.003 755.609 900.373 Z\" fill=\"#000000\" fill-rule=\"evenodd\" fill-opacity=\"1\" /><path clip-path=\"url(#clip120)\" d=\"M 0 0 M777.137 894.031 L777.137 880.003 L781.396 880.003 L781.396 916.021 L777.137 916.021 L777.137 912.132 Q775.795 914.447 773.734 915.581 Q771.697 916.693 768.827 916.693 Q764.128 916.693 761.165 912.943 Q758.225 909.193 758.225 903.082 Q758.225 896.97 761.165 893.22 Q764.128 889.47 768.827 889.47 Q771.697 889.47 773.734 890.605 Q775.795 891.716 777.137 894.031 M762.623 903.082 Q762.623 907.781 764.545 910.466 Q766.489 913.128 769.869 913.128 Q773.248 913.128 775.193 910.466 Q777.137 907.781 777.137 903.082 Q777.137 898.382 775.193 895.72 Q773.248 893.035 769.869 893.035 Q766.489 893.035 764.545 895.72 Q762.623 898.382 762.623 903.082 Z\" fill=\"#000000\" fill-rule=\"evenodd\" fill-opacity=\"1\" /><path clip-path=\"url(#clip120)\" d=\"M 0 0 M811.535 884.54 Q807.924 884.54 806.095 888.105 Q804.29 891.646 804.29 898.776 Q804.29 905.882 806.095 909.447 Q807.924 912.989 811.535 912.989 Q815.169 912.989 816.975 909.447 Q818.804 905.882 818.804 898.776 Q818.804 891.646 816.975 888.105 Q815.169 884.54 811.535 884.54 M811.535 880.836 Q817.345 880.836 820.401 885.443 Q823.479 890.026 823.479 898.776 Q823.479 907.503 820.401 912.109 Q817.345 916.693 811.535 916.693 Q805.725 916.693 802.646 912.109 Q799.591 907.503 799.591 898.776 Q799.591 890.026 802.646 885.443 Q805.725 880.836 811.535 880.836 Z\" fill=\"#000000\" fill-rule=\"evenodd\" fill-opacity=\"1\" /><path clip-path=\"url(#clip120)\" d=\"M 0 0 M828.549 910.142 L833.433 910.142 L833.433 916.021 L828.549 916.021 L828.549 910.142 Z\" fill=\"#000000\" fill-rule=\"evenodd\" fill-opacity=\"1\" /><path clip-path=\"url(#clip120)\" d=\"M 0 0 M848.502 884.54 Q844.891 884.54 843.063 888.105 Q841.257 891.646 841.257 898.776 Q841.257 905.882 843.063 909.447 Q844.891 912.989 848.502 912.989 Q852.137 912.989 853.942 909.447 Q855.771 905.882 855.771 898.776 Q855.771 891.646 853.942 888.105 Q852.137 884.54 848.502 884.54 M848.502 880.836 Q854.313 880.836 857.368 885.443 Q860.447 890.026 860.447 898.776 Q860.447 907.503 857.368 912.109 Q854.313 916.693 848.502 916.693 Q842.692 916.693 839.614 912.109 Q836.558 907.503 836.558 898.776 Q836.558 890.026 839.614 885.443 Q842.692 880.836 848.502 880.836 Z\" fill=\"#000000\" fill-rule=\"evenodd\" fill-opacity=\"1\" /><path clip-path=\"url(#clip120)\" d=\"M 0 0 M879.683 897.387 Q883.039 898.105 884.914 900.373 Q886.812 902.642 886.812 905.975 Q886.812 911.091 883.294 913.892 Q879.775 916.693 873.294 916.693 Q871.118 916.693 868.803 916.253 Q866.512 915.836 864.058 914.98 L864.058 910.466 Q866.002 911.6 868.317 912.179 Q870.632 912.757 873.155 912.757 Q877.553 912.757 879.845 911.021 Q882.16 909.285 882.16 905.975 Q882.16 902.919 880.007 901.207 Q877.877 899.47 874.058 899.47 L870.03 899.47 L870.03 895.628 L874.243 895.628 Q877.692 895.628 879.521 894.262 Q881.35 892.873 881.35 890.281 Q881.35 887.619 879.451 886.207 Q877.576 884.771 874.058 884.771 Q872.137 884.771 869.938 885.188 Q867.738 885.605 865.1 886.484 L865.1 882.318 Q867.762 881.577 870.076 881.207 Q872.414 880.836 874.475 880.836 Q879.799 880.836 882.9 883.267 Q886.002 885.674 886.002 889.795 Q886.002 892.665 884.359 894.656 Q882.715 896.623 879.683 897.387 Z\" fill=\"#000000\" fill-rule=\"evenodd\" fill-opacity=\"1\" /><path clip-path=\"url(#clip120)\" d=\"M 0 0 M916.581 880.049 Q913.479 885.373 911.974 890.582 Q910.47 895.79 910.47 901.137 Q910.47 906.484 911.974 911.739 Q913.502 916.97 916.581 922.271 L912.877 922.271 Q909.405 916.831 907.669 911.577 Q905.956 906.322 905.956 901.137 Q905.956 895.975 907.669 890.744 Q909.382 885.512 912.877 880.049 L916.581 880.049 Z\" fill=\"#000000\" fill-rule=\"evenodd\" fill-opacity=\"1\" /><path clip-path=\"url(#clip120)\" d=\"M 0 0 M932.831 902.989 Q927.669 902.989 925.678 904.169 Q923.687 905.35 923.687 908.197 Q923.687 910.466 925.169 911.808 Q926.673 913.128 929.243 913.128 Q932.784 913.128 934.914 910.628 Q937.067 908.105 937.067 903.938 L937.067 902.989 L932.831 902.989 M941.326 901.23 L941.326 916.021 L937.067 916.021 L937.067 912.086 Q935.608 914.447 933.433 915.581 Q931.257 916.693 928.109 916.693 Q924.127 916.693 921.766 914.47 Q919.428 912.225 919.428 908.475 Q919.428 904.1 922.345 901.878 Q925.284 899.656 931.095 899.656 L937.067 899.656 L937.067 899.239 Q937.067 896.299 935.122 894.702 Q933.201 893.082 929.706 893.082 Q927.484 893.082 925.377 893.614 Q923.271 894.146 921.326 895.211 L921.326 891.276 Q923.664 890.373 925.863 889.933 Q928.062 889.47 930.146 889.47 Q935.771 889.47 938.548 892.387 Q941.326 895.304 941.326 901.23 Z\" fill=\"#000000\" fill-rule=\"evenodd\" fill-opacity=\"1\" /><path clip-path=\"url(#clip120)\" d=\"M 0 0 M958.919 880.003 L958.919 883.545 L954.844 883.545 Q952.553 883.545 951.65 884.47 Q950.77 885.396 950.77 887.804 L950.77 890.095 L957.784 890.095 L957.784 893.406 L950.77 893.406 L950.77 916.021 L946.488 916.021 L946.488 893.406 L942.414 893.406 L942.414 890.095 L946.488 890.095 L946.488 888.29 Q946.488 883.961 948.502 881.994 Q950.516 880.003 954.891 880.003 L958.919 880.003 Z\" fill=\"#000000\" fill-rule=\"evenodd\" fill-opacity=\"1\" /><path clip-path=\"url(#clip120)\" d=\"M 0 0 M966.766 882.734 L966.766 890.095 L975.539 890.095 L975.539 893.406 L966.766 893.406 L966.766 907.48 Q966.766 910.651 967.622 911.554 Q968.502 912.456 971.164 912.456 L975.539 912.456 L975.539 916.021 L971.164 916.021 Q966.233 916.021 964.358 914.193 Q962.483 912.341 962.483 907.48 L962.483 893.406 L959.358 893.406 L959.358 890.095 L962.483 890.095 L962.483 882.734 L966.766 882.734 Z\" fill=\"#000000\" fill-rule=\"evenodd\" fill-opacity=\"1\" /><path clip-path=\"url(#clip120)\" d=\"M 0 0 M1002.18 901.994 L1002.18 904.077 L982.599 904.077 Q982.877 908.475 985.238 910.79 Q987.622 913.081 991.858 913.081 Q994.312 913.081 996.604 912.48 Q998.918 911.878 1001.19 910.674 L1001.19 914.702 Q998.895 915.674 996.488 916.183 Q994.08 916.693 991.604 916.693 Q985.4 916.693 981.766 913.081 Q978.155 909.47 978.155 903.313 Q978.155 896.947 981.58 893.22 Q985.03 889.47 990.863 889.47 Q996.094 889.47 999.127 892.85 Q1002.18 896.207 1002.18 901.994 M997.923 900.744 Q997.877 897.248 995.955 895.165 Q994.057 893.082 990.909 893.082 Q987.344 893.082 985.192 895.095 Q983.062 897.109 982.738 900.767 L997.923 900.744 Z\" fill=\"#000000\" fill-rule=\"evenodd\" fill-opacity=\"1\" /><path clip-path=\"url(#clip120)\" d=\"M 0 0 M1021.67 894.077 Q1020.96 893.66 1020.1 893.475 Q1019.27 893.267 1018.25 893.267 Q1014.64 893.267 1012.69 895.628 Q1010.77 897.966 1010.77 902.364 L1010.77 916.021 L1006.49 916.021 L1006.49 890.095 L1010.77 890.095 L1010.77 894.123 Q1012.11 891.762 1014.27 890.628 Q1016.42 889.47 1019.5 889.47 Q1019.94 889.47 1020.47 889.54 Q1021 889.586 1021.65 889.702 L1021.67 894.077 Z\" fill=\"#000000\" fill-rule=\"evenodd\" fill-opacity=\"1\" /><path clip-path=\"url(#clip120)\" d=\"M 0 0 M1025.47 880.049 L1029.17 880.049 Q1032.65 885.512 1034.36 890.744 Q1036.09 895.975 1036.09 901.137 Q1036.09 906.322 1034.36 911.577 Q1032.65 916.831 1029.17 922.271 L1025.47 922.271 Q1028.55 916.97 1030.05 911.739 Q1031.58 906.484 1031.58 901.137 Q1031.58 895.79 1030.05 890.582 Q1028.55 885.373 1025.47 880.049 Z\" fill=\"#000000\" fill-rule=\"evenodd\" fill-opacity=\"1\" /></svg>\n"
      ]
     },
     "metadata": {},
     "output_type": "display_data"
    }
   ],
   "source": [
    "θ = 0:0.01:0.1        #possible ytm values\n",
    "\n",
    "(PL,PH) = (fill(NaN,length(θ)),fill(NaN,length(θ)))\n",
    "for i = 1:length(θ)\n",
    "    PL[i] = BondPrice3(θ[i],cf,m)\n",
    "    PH[i] = BondPrice3(θ[i],1,mH)\n",
    "end\n",
    "\n",
    "txt = \"In our example, the interest rates \\nare $θ₀ (before) and $θ₁ (after)\"\n",
    "\n",
    "p1 = plot( θ,[PL v*PH],\n",
    "           linecolor = [:red :green],\n",
    "           linestyle = [:solid :dash],\n",
    "           label = [\"liability\" \"v * hedge bond price\"],\n",
    "           title = \"Naive hedging\",\n",
    "           xlabel = \"Interest rate\",\n",
    "           ylabel = \"Value of position\",\n",
    "           annotation = (0.005,1.4,text(txt,8,:left)) )\n",
    "display(p1)"
   ]
  },
  {
   "cell_type": "markdown",
   "metadata": {},
   "source": [
    "## Duration Hedging\n",
    "\n",
    "When $D_{L}^{M}\\neq D_{H}$, we could *adjust the hedge ratio* $v$ to compensate for the difference in interest rate sensitivity (duration). In particular, we could set \n",
    "\n",
    "$v =\\frac{D_{L}^{M}}{D_{H}^{M}}\\times\\frac{P_{L}}{P_{H}}$. \n",
    "\n",
    "The balance $(P_L-hP_H)$ is kept on a money market account ($M$).\n",
    "\n",
    "It can be shown that this gives an (approximate) hedge."
   ]
  },
  {
   "cell_type": "code",
   "execution_count": 11,
   "metadata": {},
   "outputs": [
    {
     "name": "stdout",
     "output_type": "stream",
     "text": [
      "\u001b[34m\u001b[1mHedge bond: zero coupon bond with m=3 and face value of 1\u001b[22m\u001b[39m\n",
      "                        \n",
      "PL₀                1.544\n",
      "PH₀                0.864\n",
      "v                  3.039\n",
      "v*PH₀/PL₀          1.700\n",
      "Dur(liability)     5.099\n",
      "Dur(hedge)         3.000\n",
      "M                 -1.081\n",
      "Return            -0.004\n",
      "\n",
      "\u001b[31m\u001b[1mNotice, the duration hedging gives a return of -0.4%. Close to zero.\u001b[22m\u001b[39m\n"
     ]
    }
   ],
   "source": [
    "PH₀ = BondPrice3(θ₀,1,mH)\n",
    "PH₁ = BondPrice3(θ₁,1,mH)\n",
    "v = Dmac/mH * PL₀/PH₀\n",
    "M = PL₀ - v*PH₀               #on money market account\n",
    "\n",
    "ΔV = v*(PH₁-PH₀) - (PL₁-PL₀)\n",
    "R  = ΔV/PL₀\n",
    "\n",
    "printblue(\"Hedge bond: zero coupon bond with m=$mH and face value of 1\")\n",
    "xy = [PL₀,PH₀,v,v*PH₀/PL₀,Dmac,mH,M,R]\n",
    "printTable(xy,[\" \"],[\"PL₀\",\"PH₀\",\"v\",\"v*PH₀/PL₀\",\"Dur(liability)\",\"Dur(hedge)\",\"M\",\"Return\"])\n",
    "\n",
    "printred(\"Notice, the duration hedging gives a return of $(round(R*100,digits=1))%. Close to zero.\")"
   ]
  },
  {
   "cell_type": "markdown",
   "metadata": {},
   "source": [
    "## Convexity (extra)\n",
    "\n",
    "A second-order Taylor approximation gives that \n",
    "\n",
    "$\n",
    "\\frac{\\Delta P}{P}\\approx-D^{M}\\times\\frac{\\Delta\\theta}{1+\\theta}+\\frac{1}{2}C\\times(\\Delta\\theta)^{2}, \n",
    "$\n",
    "\n",
    "where \n",
    "$\n",
    "C = \\frac{1}{P} \\frac{d^{2}P}{d\\theta^{2}}\n",
    "$. \n",
    "\n",
    "The function below calculates $C$."
   ]
  },
  {
   "cell_type": "code",
   "execution_count": 12,
   "metadata": {},
   "outputs": [
    {
     "data": {
      "text/plain": [
       "BondConvexity (generic function with 1 method)"
      ]
     },
     "execution_count": 12,
     "metadata": {},
     "output_type": "execute_result"
    }
   ],
   "source": [
    "function BondConvexity(P,cf,m,ytm)\n",
    "    cdisc   = cf.*m.*(m.+1)./((1+ytm).^(m.+2)) \n",
    "    C       = sum(cdisc)/P\n",
    "    return C\n",
    "end"
   ]
  },
  {
   "cell_type": "code",
   "execution_count": 13,
   "metadata": {},
   "outputs": [
    {
     "name": "stdout",
     "output_type": "stream",
     "text": [
      "\u001b[34m\u001b[1mConvexity\u001b[22m\u001b[39m\n",
      "                    \n",
      "C             35.602\n",
      "Δθ            -0.020\n",
      "0.5*C*Δθ^2     0.007\n",
      "\n",
      "\u001b[31m\u001b[1mCompare the magnitude to ΔPH/PH: \u001b[22m\u001b[39m\u001b[31m\u001b[1m0.059\u001b[22m\u001b[39m\n"
     ]
    }
   ],
   "source": [
    "C = BondConvexity(P₀,cf,m,θ₀)\n",
    "\n",
    "printblue(\"Convexity\")\n",
    "xy = [C;Δθ;0.5*C*Δθ^2]\n",
    "printTable(xy,[\" \"],[\"C\";\"Δθ\";\"0.5*C*Δθ^2\"])\n",
    "\n",
    "printred(\"Compare the magnitude to ΔPH/PH: \",round((PH₁-PH₀)/PH₀,digits=3))"
   ]
  },
  {
   "cell_type": "code",
   "execution_count": null,
   "metadata": {},
   "outputs": [],
   "source": []
  }
 ],
 "metadata": {
  "@webio": {
   "lastCommId": null,
   "lastKernelId": null
  },
  "anaconda-cloud": {},
  "kernelspec": {
   "display_name": "Julia 1.5.0-rc2",
   "language": "julia",
   "name": "julia-1.5"
  },
  "language_info": {
   "file_extension": ".jl",
   "mimetype": "application/julia",
   "name": "julia",
   "version": "1.5.0"
  }
 },
 "nbformat": 4,
 "nbformat_minor": 1
}
