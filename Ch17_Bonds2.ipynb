{
 "cells": [
  {
   "cell_type": "markdown",
   "metadata": {},
   "source": [
    "# Bonds 2\n",
    "\n",
    "This notebook discusses duration hedging as a way to immunize a bond portfolio."
   ]
  },
  {
   "cell_type": "markdown",
   "metadata": {},
   "source": [
    "## Load Packages and Extra Functions"
   ]
  },
  {
   "cell_type": "code",
   "execution_count": 1,
   "metadata": {},
   "outputs": [
    {
     "data": {
      "text/plain": [
       "printyellow (generic function with 1 method)"
      ]
     },
     "execution_count": 1,
     "metadata": {},
     "output_type": "execute_result"
    }
   ],
   "source": [
    "using Printf, Roots\n",
    "\n",
    "include(\"jlFiles/printmat.jl\")"
   ]
  },
  {
   "cell_type": "code",
   "execution_count": 2,
   "metadata": {},
   "outputs": [],
   "source": [
    "using Plots\n",
    "\n",
    "#pyplot(size=(600,400))\n",
    "gr(size=(480,320))\n",
    "default(fmt = :svg)"
   ]
  },
  {
   "cell_type": "markdown",
   "metadata": {},
   "source": [
    "## From the Notebook on Bonds 1\n",
    "\n",
    "The file included below contains the function `BondPrice3()` which calculates the present value of a cash flow stream."
   ]
  },
  {
   "cell_type": "code",
   "execution_count": 3,
   "metadata": {},
   "outputs": [
    {
     "data": {
      "text/plain": [
       "BondPrice3"
      ]
     },
     "execution_count": 3,
     "metadata": {},
     "output_type": "execute_result"
    }
   ],
   "source": [
    "include(\"jlFiles/BondCalculations.jl\")"
   ]
  },
  {
   "cell_type": "markdown",
   "metadata": {},
   "source": [
    "# Value of a Liability after a Sudden Interest Rate Change\n",
    "\n",
    "The calculations below assume that the yield curve is flat, but that it can shift up or down in parallel. This assumption is similar to the classical literature on duration hedging.\n",
    "\n",
    "The initial values are indicated by the subscript $_0$ and the values after the interest rate change by the subscript $_1$. It is assumed that the change is very sudden, so the time to the different cash flows is (virtually) the same before and after.\n",
    "\n",
    "The next cell sets up the cash flow for a liability that pays 0.2 each year for the next 10 years. The value of the liability is calculated at an initial interest rate ($\\theta_0$) and at a new interest rate ($\\theta_1$)."
   ]
  },
  {
   "cell_type": "code",
   "execution_count": 4,
   "metadata": {
    "scrolled": true
   },
   "outputs": [
    {
     "name": "stdout",
     "output_type": "stream",
     "text": [
      "\u001b[34m\u001b[1mValue of liability at θ₀=0.05 and θ₁=0.03:\u001b[22m\u001b[39m\n",
      "PL₀ (at θ₀=0.05)          1.544\n",
      "PL₁ (at θ₁=0.03)          1.706\n",
      "ΔPL/PL₀                   0.105\n",
      "\n",
      "\u001b[31m\u001b[1mNotice that the liability is worth more at the lower interest rate\u001b[22m\u001b[39m\n"
     ]
    }
   ],
   "source": [
    "θ₀ = 0.05                   #initial interest rate\n",
    "θ₁ = 0.03                   #interest rate after sudden change\n",
    "\n",
    "cf = fill(0.2,10)            #cash flow of liability, same as ones(10)*0.2\n",
    "m  = 1:10                    #time periods of the cash flows\n",
    "\n",
    "PL₀ = BondPrice3(θ₀,cf,m)    #value of liability at θ₀\n",
    "PL₁ = BondPrice3(θ₁,cf,m)    #and after change to θ₁\n",
    "R   = (PL₁ - PL₀)/PL₀        #relative change of the liability value\n",
    "\n",
    "printblue(\"Value of liability at θ₀=$θ₀ and θ₁=$θ₁:\")\n",
    "xy = [PL₀, PL₁, R]\n",
    "printmat(xy,rowNames=[\"PL₀ (at θ₀=$θ₀)\";\"PL₁ (at θ₁=$θ₁)\";\"ΔPL/PL₀\"],width=15)\n",
    "\n",
    "printred(\"Notice that the liability is worth more at the lower interest rate\")"
   ]
  },
  {
   "cell_type": "markdown",
   "metadata": {},
   "source": [
    "# Macaulay's Duration\n",
    "\n",
    "A first-order Taylor approximation gives\n",
    "\n",
    "$\\frac{\\Delta P}{P} = -D^M \\times \\frac{\\Delta \\theta}{1+\\theta}$, \n",
    "\n",
    "where $D^M$ is Macaulay's duration\n",
    "\n",
    "$D^M = \\sum_{k=1}^{K} m_{k}\\frac{cf_{k}}{\\left(  1+\\theta\\right)  ^{m_{k}}P}$"
   ]
  },
  {
   "cell_type": "code",
   "execution_count": 5,
   "metadata": {},
   "outputs": [
    {
     "data": {
      "text/plain": [
       "BondDuration"
      ]
     },
     "execution_count": 5,
     "metadata": {},
     "output_type": "execute_result"
    }
   ],
   "source": [
    "\"\"\"\n",
    "    BondDuration(P,cf,m,ytm)\n",
    "\n",
    "Calculate Macaulays (bond) duration measure.\n",
    "\n",
    "P:   scalar, bond price\n",
    "cf:  scalar or K vector of cash flows\n",
    "m:   K vector of times of cash flows\n",
    "ytm: scalar, yield to maturity\n",
    "\"\"\"\n",
    "function BondDuration(P,cf,m,ytm)\n",
    "    cdisc   = cf.*m./((1+ytm).^m)        #c/(1+y) + 2c/(1+y)^2 + ...\n",
    "    Dmac    = sum(cdisc)/P               #Macaulays duration\n",
    "    return Dmac\n",
    "end"
   ]
  },
  {
   "cell_type": "code",
   "execution_count": 6,
   "metadata": {},
   "outputs": [
    {
     "name": "stdout",
     "output_type": "stream",
     "text": [
      "Macaulay's duration of the liability     5.099\n",
      "\n",
      "\u001b[34m\u001b[1mRelative price change: \u001b[22m\u001b[39m\n",
      "Exact                           0.105\n",
      "Approximate (from duration)     0.097\n",
      "\n"
     ]
    }
   ],
   "source": [
    "Dmac    = BondDuration(PL₀,cf,m,θ₀)\n",
    "printlnPs(\"Macaulay's duration of the liability\",Dmac)\n",
    "\n",
    "Δθ       = θ₁ - θ₀\n",
    "R_approx = -Dmac*Δθ/(1+θ₀)\n",
    "\n",
    "printblue(\"\\nRelative price change: \")\n",
    "printmat([R,R_approx],rowNames=[\"Exact\",\"Approximate (from duration)\"])"
   ]
  },
  {
   "cell_type": "markdown",
   "metadata": {},
   "source": [
    "# Hedging a Liability Stream\n",
    "\n",
    "Suppose we are short one bond $L$ (this is the liability), which is worth $P_L$. To hedge that we buy $v$ units of bond $H$. The balance is put on a money market account $M$ to make the initial value of the portfolio zero ($V=0$)\n",
    "\n",
    "$V=vP_{H}+M-P_{L}$.\n",
    "\n",
    "Over a short time interval, the change in the portfolio value is\n",
    "\n",
    "$\\Delta V=v\\Delta P_{H}-\\Delta P_{L}$.\n",
    "\n",
    "In the cells below, we assume that the yield curve is flat and shifts in parallel. This means that the ytm of both instruments change from one common value ($\\theta_0$) to another common value ($\\theta_1$)."
   ]
  },
  {
   "cell_type": "markdown",
   "metadata": {},
   "source": [
    "## Duration Matching\n",
    "\n",
    "Choose a hedge bond with the *same duration* as the liability and invest same amount in each.\n",
    "\n",
    "Clearly, this gives $\\frac{\\Delta V}{P_{L}}\\approx 0$."
   ]
  },
  {
   "cell_type": "code",
   "execution_count": 7,
   "metadata": {},
   "outputs": [
    {
     "name": "stdout",
     "output_type": "stream",
     "text": [
      "\u001b[34m\u001b[1mHedge bond: a zero coupon bond with m=5.1 and face value of 1.\u001b[22m\u001b[39m\n",
      "\n",
      "\u001b[34m\u001b[1mRecall that the interest rates change from θ₀=0.05 to θ₁=0.03.\u001b[22m\u001b[39m\n",
      "\n",
      "\u001b[34m\u001b[1mResults of the calculations:\u001b[22m\u001b[39m\n",
      "PL₀                     1.544\n",
      "PH₀                     0.780\n",
      "v                       1.981\n",
      "v*PH₀/PL₀               1.000\n",
      "Duration(liability)     5.099\n",
      "Duration(hedge)         5.099\n",
      "Return                 -0.002\n",
      "\n",
      "\u001b[31m\u001b[1mNotice, the duration matching gives a return of -0.2%. Close to zero.\u001b[22m\u001b[39m\n"
     ]
    }
   ],
   "source": [
    "PH₀ = BondPrice3(θ₀,1,Dmac)      #value of hedge bond\n",
    "PH₁ = BondPrice3(θ₁,1,Dmac)\n",
    "v  = PL₀/PH₀                     #so v*PH₀ = PL₀\n",
    "\n",
    "ΔV = v*(PH₁-PH₀) - (PL₁-PL₀)     #value change of total portfolio\n",
    "R  = ΔV/PL₀                      #relative value change \n",
    "\n",
    "txt = \"\"\"Hedge bond: a zero coupon bond with m=$(round(Dmac,digits=2)) and face value of 1.\\n\n",
    "Recall that the interest rates change from θ₀=$θ₀ to θ₁=$θ₁.\\n\n",
    "Results of the calculations:\"\"\"\n",
    "printblue(txt)\n",
    "\n",
    "xy = [PL₀,PH₀,v,v*PH₀/PL₀,Dmac,Dmac,R]\n",
    "printmat(xy,rowNames=[\"PL₀\",\"PH₀\",\"v\",\"v*PH₀/PL₀\",\"Duration(liability)\",\"Duration(hedge)\",\"Return\"])\n",
    "\n",
    "printred(\"Notice, the duration matching gives a return of $(round(R*100,digits=1))%. Close to zero.\")"
   ]
  },
  {
   "cell_type": "markdown",
   "metadata": {},
   "source": [
    "## Naive Hedging\n",
    "\n",
    "The \"naive\" hedging invests the *same amount in the hedge bond* as the value of the liability, that is, $hP_{H}=P_{L}$ so $v=P_{L}/P_{H}$.\n",
    "\n",
    "The effectiveness of this approach depends on the interest rate sensitivity of the two instruments. In particular, it can be shown that\n",
    "\n",
    "$\\frac{\\Delta V}{P_{L}}\\approx\\left(  D_{L}^{M}-D_{H}^{M}\\right)  \\times\n",
    "\\frac{\\Delta\\theta}{1+\\theta}$.\n",
    "\n",
    "If $D_{L}>D_{H}$, and $\\Delta\\theta<0$ (as in the example below), then we will lose money. \n",
    "\n",
    "In contrast, with  $D_{L}=D_{H}$, then we are doing duration matching (see above)."
   ]
  },
  {
   "cell_type": "code",
   "execution_count": 8,
   "metadata": {},
   "outputs": [
    {
     "name": "stdout",
     "output_type": "stream",
     "text": [
      "\u001b[34m\u001b[1mHedge bond: zero coupon bond with m=3 and face value of 1\u001b[22m\u001b[39m\n",
      "\n",
      "PL₀                1.544\n",
      "PH₀                0.864\n",
      "v                  1.788\n",
      "v*PH₀/PL₀          1.000\n",
      "Dur(liability)     5.099\n",
      "Dur(hedge)         3.000\n",
      "Return            -0.045\n",
      "\n",
      "\u001b[31m\u001b[1mThe naive hedge gives a return of -4.5%, which is a bad hedge\u001b[22m\u001b[39m\n"
     ]
    }
   ],
   "source": [
    "mH = 3                     #mH year bill is used as hedge bond\n",
    "\n",
    "PH₀ = BondPrice3(θ₀,1,mH)\n",
    "PH₁ = BondPrice3(θ₁,1,mH)\n",
    "\n",
    "v = PL₀/PH₀                 #so v*PH₀ = PL₀\n",
    "\n",
    "ΔV = v*(PH₁-PH₀) - (PL₁-PL₀)\n",
    "R  = ΔV/PL₀                 #relative value change\n",
    "\n",
    "printblue(\"Hedge bond: zero coupon bond with m=$mH and face value of 1\\n\")\n",
    "xy = [PL₀,PH₀,v,v*PH₀/PL₀,Dmac,mH,R]\n",
    "printmat(xy,rowNames=[\"PL₀\",\"PH₀\",\"v\",\"v*PH₀/PL₀\",\"Dur(liability)\",\"Dur(hedge)\",\"Return\"])\n",
    "\n",
    "printred(\"The naive hedge gives a return of $(round(R*100,digits=1))%, which is a bad hedge\")"
   ]
  },
  {
   "cell_type": "markdown",
   "metadata": {},
   "source": [
    "## Illustrating the Problem with the Naive Hedging\n",
    "\n",
    "by plotting the value of the liability ($P_L$) and of the hedge bond position ($hP_H$) at different interest rates."
   ]
  },
  {
   "cell_type": "code",
   "execution_count": 9,
   "metadata": {},
   "outputs": [
    {
     "data": {
      "image/svg+xml": [
       "<?xml version=\"1.0\" encoding=\"utf-8\"?>\n",
       "<svg xmlns=\"http://www.w3.org/2000/svg\" xmlns:xlink=\"http://www.w3.org/1999/xlink\" width=\"480\" height=\"320\" viewBox=\"0 0 1920 1280\">\n",
       "<defs>\n",
       "  <clipPath id=\"clip270\">\n",
       "    <rect x=\"0\" y=\"0\" width=\"1920\" height=\"1280\"/>\n",
       "  </clipPath>\n",
       "</defs>\n",
       "<path clip-path=\"url(#clip270)\" d=\"\n",
       "M0 1280 L1920 1280 L1920 0 L0 0  Z\n",
       "  \" fill=\"#ffffff\" fill-rule=\"evenodd\" fill-opacity=\"1\"/>\n",
       "<defs>\n",
       "  <clipPath id=\"clip271\">\n",
       "    <rect x=\"384\" y=\"0\" width=\"1345\" height=\"1280\"/>\n",
       "  </clipPath>\n",
       "</defs>\n",
       "<path clip-path=\"url(#clip270)\" d=\"\n",
       "M214.233 1106.38 L1872.76 1106.38 L1872.76 123.472 L214.233 123.472  Z\n",
       "  \" fill=\"#ffffff\" fill-rule=\"evenodd\" fill-opacity=\"1\"/>\n",
       "<defs>\n",
       "  <clipPath id=\"clip272\">\n",
       "    <rect x=\"214\" y=\"123\" width=\"1660\" height=\"984\"/>\n",
       "  </clipPath>\n",
       "</defs>\n",
       "<polyline clip-path=\"url(#clip272)\" style=\"stroke:#000000; stroke-linecap:butt; stroke-linejoin:round; stroke-width:2; stroke-opacity:0.1; fill:none\" points=\"\n",
       "  261.172,1106.38 261.172,123.472 \n",
       "  \"/>\n",
       "<polyline clip-path=\"url(#clip272)\" style=\"stroke:#000000; stroke-linecap:butt; stroke-linejoin:round; stroke-width:2; stroke-opacity:0.1; fill:none\" points=\"\n",
       "  652.333,1106.38 652.333,123.472 \n",
       "  \"/>\n",
       "<polyline clip-path=\"url(#clip272)\" style=\"stroke:#000000; stroke-linecap:butt; stroke-linejoin:round; stroke-width:2; stroke-opacity:0.1; fill:none\" points=\"\n",
       "  1043.49,1106.38 1043.49,123.472 \n",
       "  \"/>\n",
       "<polyline clip-path=\"url(#clip272)\" style=\"stroke:#000000; stroke-linecap:butt; stroke-linejoin:round; stroke-width:2; stroke-opacity:0.1; fill:none\" points=\"\n",
       "  1434.66,1106.38 1434.66,123.472 \n",
       "  \"/>\n",
       "<polyline clip-path=\"url(#clip272)\" style=\"stroke:#000000; stroke-linecap:butt; stroke-linejoin:round; stroke-width:2; stroke-opacity:0.1; fill:none\" points=\"\n",
       "  1825.82,1106.38 1825.82,123.472 \n",
       "  \"/>\n",
       "<polyline clip-path=\"url(#clip270)\" style=\"stroke:#000000; stroke-linecap:butt; stroke-linejoin:round; stroke-width:4; stroke-opacity:1; fill:none\" points=\"\n",
       "  214.233,1106.38 1872.76,1106.38 \n",
       "  \"/>\n",
       "<polyline clip-path=\"url(#clip270)\" style=\"stroke:#000000; stroke-linecap:butt; stroke-linejoin:round; stroke-width:4; stroke-opacity:1; fill:none\" points=\"\n",
       "  261.172,1106.38 261.172,1094.58 \n",
       "  \"/>\n",
       "<polyline clip-path=\"url(#clip270)\" style=\"stroke:#000000; stroke-linecap:butt; stroke-linejoin:round; stroke-width:4; stroke-opacity:1; fill:none\" points=\"\n",
       "  652.333,1106.38 652.333,1094.58 \n",
       "  \"/>\n",
       "<polyline clip-path=\"url(#clip270)\" style=\"stroke:#000000; stroke-linecap:butt; stroke-linejoin:round; stroke-width:4; stroke-opacity:1; fill:none\" points=\"\n",
       "  1043.49,1106.38 1043.49,1094.58 \n",
       "  \"/>\n",
       "<polyline clip-path=\"url(#clip270)\" style=\"stroke:#000000; stroke-linecap:butt; stroke-linejoin:round; stroke-width:4; stroke-opacity:1; fill:none\" points=\"\n",
       "  1434.66,1106.38 1434.66,1094.58 \n",
       "  \"/>\n",
       "<polyline clip-path=\"url(#clip270)\" style=\"stroke:#000000; stroke-linecap:butt; stroke-linejoin:round; stroke-width:4; stroke-opacity:1; fill:none\" points=\"\n",
       "  1825.82,1106.38 1825.82,1094.58 \n",
       "  \"/>\n",
       "<path clip-path=\"url(#clip270)\" d=\"M208.395 1131.73 Q204.784 1131.73 202.955 1135.3 Q201.149 1138.84 201.149 1145.97 Q201.149 1153.07 202.955 1156.64 Q204.784 1160.18 208.395 1160.18 Q212.029 1160.18 213.835 1156.64 Q215.663 1153.07 215.663 1145.97 Q215.663 1138.84 213.835 1135.3 Q212.029 1131.73 208.395 1131.73 M208.395 1128.03 Q214.205 1128.03 217.26 1132.63 Q220.339 1137.22 220.339 1145.97 Q220.339 1154.69 217.26 1159.3 Q214.205 1163.88 208.395 1163.88 Q202.585 1163.88 199.506 1159.3 Q196.45 1154.69 196.45 1145.97 Q196.45 1137.22 199.506 1132.63 Q202.585 1128.03 208.395 1128.03 Z\" fill=\"#000000\" fill-rule=\"evenodd\" fill-opacity=\"1\" /><path clip-path=\"url(#clip270)\" d=\"M228.557 1157.33 L233.441 1157.33 L233.441 1163.21 L228.557 1163.21 L228.557 1157.33 Z\" fill=\"#000000\" fill-rule=\"evenodd\" fill-opacity=\"1\" /><path clip-path=\"url(#clip270)\" d=\"M253.626 1131.73 Q250.015 1131.73 248.186 1135.3 Q246.381 1138.84 246.381 1145.97 Q246.381 1153.07 248.186 1156.64 Q250.015 1160.18 253.626 1160.18 Q257.26 1160.18 259.066 1156.64 Q260.894 1153.07 260.894 1145.97 Q260.894 1138.84 259.066 1135.3 Q257.26 1131.73 253.626 1131.73 M253.626 1128.03 Q259.436 1128.03 262.492 1132.63 Q265.57 1137.22 265.57 1145.97 Q265.57 1154.69 262.492 1159.3 Q259.436 1163.88 253.626 1163.88 Q247.816 1163.88 244.737 1159.3 Q241.682 1154.69 241.682 1145.97 Q241.682 1137.22 244.737 1132.63 Q247.816 1128.03 253.626 1128.03 Z\" fill=\"#000000\" fill-rule=\"evenodd\" fill-opacity=\"1\" /><path clip-path=\"url(#clip270)\" d=\"M283.788 1131.73 Q280.177 1131.73 278.348 1135.3 Q276.543 1138.84 276.543 1145.97 Q276.543 1153.07 278.348 1156.64 Q280.177 1160.18 283.788 1160.18 Q287.422 1160.18 289.228 1156.64 Q291.056 1153.07 291.056 1145.97 Q291.056 1138.84 289.228 1135.3 Q287.422 1131.73 283.788 1131.73 M283.788 1128.03 Q289.598 1128.03 292.654 1132.63 Q295.732 1137.22 295.732 1145.97 Q295.732 1154.69 292.654 1159.3 Q289.598 1163.88 283.788 1163.88 Q277.978 1163.88 274.899 1159.3 Q271.844 1154.69 271.844 1145.97 Q271.844 1137.22 274.899 1132.63 Q277.978 1128.03 283.788 1128.03 Z\" fill=\"#000000\" fill-rule=\"evenodd\" fill-opacity=\"1\" /><path clip-path=\"url(#clip270)\" d=\"M313.95 1131.73 Q310.339 1131.73 308.51 1135.3 Q306.704 1138.84 306.704 1145.97 Q306.704 1153.07 308.51 1156.64 Q310.339 1160.18 313.95 1160.18 Q317.584 1160.18 319.39 1156.64 Q321.218 1153.07 321.218 1145.97 Q321.218 1138.84 319.39 1135.3 Q317.584 1131.73 313.95 1131.73 M313.95 1128.03 Q319.76 1128.03 322.815 1132.63 Q325.894 1137.22 325.894 1145.97 Q325.894 1154.69 322.815 1159.3 Q319.76 1163.88 313.95 1163.88 Q308.14 1163.88 305.061 1159.3 Q302.005 1154.69 302.005 1145.97 Q302.005 1137.22 305.061 1132.63 Q308.14 1128.03 313.95 1128.03 Z\" fill=\"#000000\" fill-rule=\"evenodd\" fill-opacity=\"1\" /><path clip-path=\"url(#clip270)\" d=\"M600.054 1131.73 Q596.442 1131.73 594.614 1135.3 Q592.808 1138.84 592.808 1145.97 Q592.808 1153.07 594.614 1156.64 Q596.442 1160.18 600.054 1160.18 Q603.688 1160.18 605.493 1156.64 Q607.322 1153.07 607.322 1145.97 Q607.322 1138.84 605.493 1135.3 Q603.688 1131.73 600.054 1131.73 M600.054 1128.03 Q605.864 1128.03 608.919 1132.63 Q611.998 1137.22 611.998 1145.97 Q611.998 1154.69 608.919 1159.3 Q605.864 1163.88 600.054 1163.88 Q594.243 1163.88 591.165 1159.3 Q588.109 1154.69 588.109 1145.97 Q588.109 1137.22 591.165 1132.63 Q594.243 1128.03 600.054 1128.03 Z\" fill=\"#000000\" fill-rule=\"evenodd\" fill-opacity=\"1\" /><path clip-path=\"url(#clip270)\" d=\"M620.215 1157.33 L625.1 1157.33 L625.1 1163.21 L620.215 1163.21 L620.215 1157.33 Z\" fill=\"#000000\" fill-rule=\"evenodd\" fill-opacity=\"1\" /><path clip-path=\"url(#clip270)\" d=\"M645.285 1131.73 Q641.674 1131.73 639.845 1135.3 Q638.039 1138.84 638.039 1145.97 Q638.039 1153.07 639.845 1156.64 Q641.674 1160.18 645.285 1160.18 Q648.919 1160.18 650.725 1156.64 Q652.553 1153.07 652.553 1145.97 Q652.553 1138.84 650.725 1135.3 Q648.919 1131.73 645.285 1131.73 M645.285 1128.03 Q651.095 1128.03 654.15 1132.63 Q657.229 1137.22 657.229 1145.97 Q657.229 1154.69 654.15 1159.3 Q651.095 1163.88 645.285 1163.88 Q639.475 1163.88 636.396 1159.3 Q633.34 1154.69 633.34 1145.97 Q633.34 1137.22 636.396 1132.63 Q639.475 1128.03 645.285 1128.03 Z\" fill=\"#000000\" fill-rule=\"evenodd\" fill-opacity=\"1\" /><path clip-path=\"url(#clip270)\" d=\"M669.474 1159.28 L685.794 1159.28 L685.794 1163.21 L663.849 1163.21 L663.849 1159.28 Q666.512 1156.52 671.095 1151.89 Q675.701 1147.24 676.882 1145.9 Q679.127 1143.37 680.007 1141.64 Q680.91 1139.88 680.91 1138.19 Q680.91 1135.43 678.965 1133.7 Q677.044 1131.96 673.942 1131.96 Q671.743 1131.96 669.289 1132.73 Q666.859 1133.49 664.081 1135.04 L664.081 1130.32 Q666.905 1129.18 669.359 1128.61 Q671.812 1128.03 673.849 1128.03 Q679.22 1128.03 682.414 1130.71 Q685.609 1133.4 685.609 1137.89 Q685.609 1140.02 684.798 1141.94 Q684.011 1143.84 681.905 1146.43 Q681.326 1147.1 678.224 1150.32 Q675.123 1153.51 669.474 1159.28 Z\" fill=\"#000000\" fill-rule=\"evenodd\" fill-opacity=\"1\" /><path clip-path=\"url(#clip270)\" d=\"M695.655 1128.65 L714.011 1128.65 L714.011 1132.59 L699.937 1132.59 L699.937 1141.06 Q700.956 1140.71 701.974 1140.55 Q702.993 1140.36 704.011 1140.36 Q709.798 1140.36 713.178 1143.54 Q716.558 1146.71 716.558 1152.12 Q716.558 1157.7 713.085 1160.8 Q709.613 1163.88 703.294 1163.88 Q701.118 1163.88 698.849 1163.51 Q696.604 1163.14 694.197 1162.4 L694.197 1157.7 Q696.28 1158.84 698.502 1159.39 Q700.724 1159.95 703.201 1159.95 Q707.206 1159.95 709.544 1157.84 Q711.882 1155.74 711.882 1152.12 Q711.882 1148.51 709.544 1146.41 Q707.206 1144.3 703.201 1144.3 Q701.326 1144.3 699.451 1144.72 Q697.599 1145.13 695.655 1146.01 L695.655 1128.65 Z\" fill=\"#000000\" fill-rule=\"evenodd\" fill-opacity=\"1\" /><path clip-path=\"url(#clip270)\" d=\"M990.717 1131.73 Q987.106 1131.73 985.277 1135.3 Q983.472 1138.84 983.472 1145.97 Q983.472 1153.07 985.277 1156.64 Q987.106 1160.18 990.717 1160.18 Q994.351 1160.18 996.157 1156.64 Q997.985 1153.07 997.985 1145.97 Q997.985 1138.84 996.157 1135.3 Q994.351 1131.73 990.717 1131.73 M990.717 1128.03 Q996.527 1128.03 999.583 1132.63 Q1002.66 1137.22 1002.66 1145.97 Q1002.66 1154.69 999.583 1159.3 Q996.527 1163.88 990.717 1163.88 Q984.907 1163.88 981.828 1159.3 Q978.773 1154.69 978.773 1145.97 Q978.773 1137.22 981.828 1132.63 Q984.907 1128.03 990.717 1128.03 Z\" fill=\"#000000\" fill-rule=\"evenodd\" fill-opacity=\"1\" /><path clip-path=\"url(#clip270)\" d=\"M1010.88 1157.33 L1015.76 1157.33 L1015.76 1163.21 L1010.88 1163.21 L1010.88 1157.33 Z\" fill=\"#000000\" fill-rule=\"evenodd\" fill-opacity=\"1\" /><path clip-path=\"url(#clip270)\" d=\"M1035.95 1131.73 Q1032.34 1131.73 1030.51 1135.3 Q1028.7 1138.84 1028.7 1145.97 Q1028.7 1153.07 1030.51 1156.64 Q1032.34 1160.18 1035.95 1160.18 Q1039.58 1160.18 1041.39 1156.64 Q1043.22 1153.07 1043.22 1145.97 Q1043.22 1138.84 1041.39 1135.3 Q1039.58 1131.73 1035.95 1131.73 M1035.95 1128.03 Q1041.76 1128.03 1044.81 1132.63 Q1047.89 1137.22 1047.89 1145.97 Q1047.89 1154.69 1044.81 1159.3 Q1041.76 1163.88 1035.95 1163.88 Q1030.14 1163.88 1027.06 1159.3 Q1024 1154.69 1024 1145.97 Q1024 1137.22 1027.06 1132.63 Q1030.14 1128.03 1035.95 1128.03 Z\" fill=\"#000000\" fill-rule=\"evenodd\" fill-opacity=\"1\" /><path clip-path=\"url(#clip270)\" d=\"M1056.16 1128.65 L1074.51 1128.65 L1074.51 1132.59 L1060.44 1132.59 L1060.44 1141.06 Q1061.46 1140.71 1062.48 1140.55 Q1063.49 1140.36 1064.51 1140.36 Q1070.3 1140.36 1073.68 1143.54 Q1077.06 1146.71 1077.06 1152.12 Q1077.06 1157.7 1073.59 1160.8 Q1070.11 1163.88 1063.8 1163.88 Q1061.62 1163.88 1059.35 1163.51 Q1057.11 1163.14 1054.7 1162.4 L1054.7 1157.7 Q1056.78 1158.84 1059 1159.39 Q1061.23 1159.95 1063.7 1159.95 Q1067.71 1159.95 1070.05 1157.84 Q1072.38 1155.74 1072.38 1152.12 Q1072.38 1148.51 1070.05 1146.41 Q1067.71 1144.3 1063.7 1144.3 Q1061.83 1144.3 1059.95 1144.72 Q1058.1 1145.13 1056.16 1146.01 L1056.16 1128.65 Z\" fill=\"#000000\" fill-rule=\"evenodd\" fill-opacity=\"1\" /><path clip-path=\"url(#clip270)\" d=\"M1096.27 1131.73 Q1092.66 1131.73 1090.83 1135.3 Q1089.03 1138.84 1089.03 1145.97 Q1089.03 1153.07 1090.83 1156.64 Q1092.66 1160.18 1096.27 1160.18 Q1099.91 1160.18 1101.71 1156.64 Q1103.54 1153.07 1103.54 1145.97 Q1103.54 1138.84 1101.71 1135.3 Q1099.91 1131.73 1096.27 1131.73 M1096.27 1128.03 Q1102.08 1128.03 1105.14 1132.63 Q1108.22 1137.22 1108.22 1145.97 Q1108.22 1154.69 1105.14 1159.3 Q1102.08 1163.88 1096.27 1163.88 Q1090.46 1163.88 1087.38 1159.3 Q1084.33 1154.69 1084.33 1145.97 Q1084.33 1137.22 1087.38 1132.63 Q1090.46 1128.03 1096.27 1128.03 Z\" fill=\"#000000\" fill-rule=\"evenodd\" fill-opacity=\"1\" /><path clip-path=\"url(#clip270)\" d=\"M1382.38 1131.73 Q1378.76 1131.73 1376.94 1135.3 Q1375.13 1138.84 1375.13 1145.97 Q1375.13 1153.07 1376.94 1156.64 Q1378.76 1160.18 1382.38 1160.18 Q1386.01 1160.18 1387.82 1156.64 Q1389.64 1153.07 1389.64 1145.97 Q1389.64 1138.84 1387.82 1135.3 Q1386.01 1131.73 1382.38 1131.73 M1382.38 1128.03 Q1388.19 1128.03 1391.24 1132.63 Q1394.32 1137.22 1394.32 1145.97 Q1394.32 1154.69 1391.24 1159.3 Q1388.19 1163.88 1382.38 1163.88 Q1376.57 1163.88 1373.49 1159.3 Q1370.43 1154.69 1370.43 1145.97 Q1370.43 1137.22 1373.49 1132.63 Q1376.57 1128.03 1382.38 1128.03 Z\" fill=\"#000000\" fill-rule=\"evenodd\" fill-opacity=\"1\" /><path clip-path=\"url(#clip270)\" d=\"M1402.54 1157.33 L1407.42 1157.33 L1407.42 1163.21 L1402.54 1163.21 L1402.54 1157.33 Z\" fill=\"#000000\" fill-rule=\"evenodd\" fill-opacity=\"1\" /><path clip-path=\"url(#clip270)\" d=\"M1427.61 1131.73 Q1424 1131.73 1422.17 1135.3 Q1420.36 1138.84 1420.36 1145.97 Q1420.36 1153.07 1422.17 1156.64 Q1424 1160.18 1427.61 1160.18 Q1431.24 1160.18 1433.05 1156.64 Q1434.88 1153.07 1434.88 1145.97 Q1434.88 1138.84 1433.05 1135.3 Q1431.24 1131.73 1427.61 1131.73 M1427.61 1128.03 Q1433.42 1128.03 1436.47 1132.63 Q1439.55 1137.22 1439.55 1145.97 Q1439.55 1154.69 1436.47 1159.3 Q1433.42 1163.88 1427.61 1163.88 Q1421.8 1163.88 1418.72 1159.3 Q1415.66 1154.69 1415.66 1145.97 Q1415.66 1137.22 1418.72 1132.63 Q1421.8 1128.03 1427.61 1128.03 Z\" fill=\"#000000\" fill-rule=\"evenodd\" fill-opacity=\"1\" /><path clip-path=\"url(#clip270)\" d=\"M1446.59 1128.65 L1468.81 1128.65 L1468.81 1130.64 L1456.26 1163.21 L1451.38 1163.21 L1463.19 1132.59 L1446.59 1132.59 L1446.59 1128.65 Z\" fill=\"#000000\" fill-rule=\"evenodd\" fill-opacity=\"1\" /><path clip-path=\"url(#clip270)\" d=\"M1477.98 1128.65 L1496.33 1128.65 L1496.33 1132.59 L1482.26 1132.59 L1482.26 1141.06 Q1483.28 1140.71 1484.3 1140.55 Q1485.31 1140.36 1486.33 1140.36 Q1492.12 1140.36 1495.5 1143.54 Q1498.88 1146.71 1498.88 1152.12 Q1498.88 1157.7 1495.41 1160.8 Q1491.94 1163.88 1485.62 1163.88 Q1483.44 1163.88 1481.17 1163.51 Q1478.93 1163.14 1476.52 1162.4 L1476.52 1157.7 Q1478.6 1158.84 1480.82 1159.39 Q1483.05 1159.95 1485.52 1159.95 Q1489.53 1159.95 1491.87 1157.84 Q1494.2 1155.74 1494.2 1152.12 Q1494.2 1148.51 1491.87 1146.41 Q1489.53 1144.3 1485.52 1144.3 Q1483.65 1144.3 1481.77 1144.72 Q1479.92 1145.13 1477.98 1146.01 L1477.98 1128.65 Z\" fill=\"#000000\" fill-rule=\"evenodd\" fill-opacity=\"1\" /><path clip-path=\"url(#clip270)\" d=\"M1773.04 1131.73 Q1769.43 1131.73 1767.6 1135.3 Q1765.79 1138.84 1765.79 1145.97 Q1765.79 1153.07 1767.6 1156.64 Q1769.43 1160.18 1773.04 1160.18 Q1776.67 1160.18 1778.48 1156.64 Q1780.31 1153.07 1780.31 1145.97 Q1780.31 1138.84 1778.48 1135.3 Q1776.67 1131.73 1773.04 1131.73 M1773.04 1128.03 Q1778.85 1128.03 1781.9 1132.63 Q1784.98 1137.22 1784.98 1145.97 Q1784.98 1154.69 1781.9 1159.3 Q1778.85 1163.88 1773.04 1163.88 Q1767.23 1163.88 1764.15 1159.3 Q1761.09 1154.69 1761.09 1145.97 Q1761.09 1137.22 1764.15 1132.63 Q1767.23 1128.03 1773.04 1128.03 Z\" fill=\"#000000\" fill-rule=\"evenodd\" fill-opacity=\"1\" /><path clip-path=\"url(#clip270)\" d=\"M1793.2 1157.33 L1798.09 1157.33 L1798.09 1163.21 L1793.2 1163.21 L1793.2 1157.33 Z\" fill=\"#000000\" fill-rule=\"evenodd\" fill-opacity=\"1\" /><path clip-path=\"url(#clip270)\" d=\"M1809.08 1159.28 L1816.72 1159.28 L1816.72 1132.91 L1808.41 1134.58 L1808.41 1130.32 L1816.67 1128.65 L1821.35 1128.65 L1821.35 1159.28 L1828.99 1159.28 L1828.99 1163.21 L1809.08 1163.21 L1809.08 1159.28 Z\" fill=\"#000000\" fill-rule=\"evenodd\" fill-opacity=\"1\" /><path clip-path=\"url(#clip270)\" d=\"M1848.43 1131.73 Q1844.82 1131.73 1842.99 1135.3 Q1841.19 1138.84 1841.19 1145.97 Q1841.19 1153.07 1842.99 1156.64 Q1844.82 1160.18 1848.43 1160.18 Q1852.07 1160.18 1853.87 1156.64 Q1855.7 1153.07 1855.7 1145.97 Q1855.7 1138.84 1853.87 1135.3 Q1852.07 1131.73 1848.43 1131.73 M1848.43 1128.03 Q1854.24 1128.03 1857.3 1132.63 Q1860.38 1137.22 1860.38 1145.97 Q1860.38 1154.69 1857.3 1159.3 Q1854.24 1163.88 1848.43 1163.88 Q1842.62 1163.88 1839.54 1159.3 Q1836.49 1154.69 1836.49 1145.97 Q1836.49 1137.22 1839.54 1132.63 Q1842.62 1128.03 1848.43 1128.03 Z\" fill=\"#000000\" fill-rule=\"evenodd\" fill-opacity=\"1\" /><path clip-path=\"url(#clip270)\" d=\"M1878.59 1131.73 Q1874.98 1131.73 1873.15 1135.3 Q1871.35 1138.84 1871.35 1145.97 Q1871.35 1153.07 1873.15 1156.64 Q1874.98 1160.18 1878.59 1160.18 Q1882.23 1160.18 1884.03 1156.64 Q1885.86 1153.07 1885.86 1145.97 Q1885.86 1138.84 1884.03 1135.3 Q1882.23 1131.73 1878.59 1131.73 M1878.59 1128.03 Q1884.4 1128.03 1887.46 1132.63 Q1890.54 1137.22 1890.54 1145.97 Q1890.54 1154.69 1887.46 1159.3 Q1884.4 1163.88 1878.59 1163.88 Q1872.78 1163.88 1869.71 1159.3 Q1866.65 1154.69 1866.65 1145.97 Q1866.65 1137.22 1869.71 1132.63 Q1872.78 1128.03 1878.59 1128.03 Z\" fill=\"#000000\" fill-rule=\"evenodd\" fill-opacity=\"1\" /><path clip-path=\"url(#clip270)\" d=\"M846.269 1196.52 L852.698 1196.52 L852.698 1244.04 L846.269 1244.04 L846.269 1196.52 Z\" fill=\"#000000\" fill-rule=\"evenodd\" fill-opacity=\"1\" /><path clip-path=\"url(#clip270)\" d=\"M894.871 1222.53 L894.871 1244.04 L889.015 1244.04 L889.015 1222.72 Q889.015 1217.66 887.041 1215.14 Q885.068 1212.63 881.121 1212.63 Q876.379 1212.63 873.641 1215.65 Q870.904 1218.68 870.904 1223.9 L870.904 1244.04 L865.016 1244.04 L865.016 1208.4 L870.904 1208.4 L870.904 1213.93 Q873.005 1210.72 875.838 1209.13 Q878.702 1207.54 882.426 1207.54 Q888.569 1207.54 891.72 1211.36 Q894.871 1215.14 894.871 1222.53 Z\" fill=\"#000000\" fill-rule=\"evenodd\" fill-opacity=\"1\" /><path clip-path=\"url(#clip270)\" d=\"M912.345 1198.27 L912.345 1208.4 L924.408 1208.4 L924.408 1212.95 L912.345 1212.95 L912.345 1232.3 Q912.345 1236.66 913.523 1237.9 Q914.732 1239.14 918.392 1239.14 L924.408 1239.14 L924.408 1244.04 L918.392 1244.04 Q911.613 1244.04 909.035 1241.53 Q906.457 1238.98 906.457 1232.3 L906.457 1212.95 L902.16 1212.95 L902.16 1208.4 L906.457 1208.4 L906.457 1198.27 L912.345 1198.27 Z\" fill=\"#000000\" fill-rule=\"evenodd\" fill-opacity=\"1\" /><path clip-path=\"url(#clip270)\" d=\"M962.602 1224.76 L962.602 1227.62 L935.675 1227.62 Q936.057 1233.67 939.304 1236.85 Q942.582 1240 948.407 1240 Q951.781 1240 954.932 1239.17 Q958.114 1238.35 961.234 1236.69 L961.234 1242.23 Q958.083 1243.57 954.772 1244.27 Q951.462 1244.97 948.057 1244.97 Q939.527 1244.97 934.529 1240 Q929.564 1235.04 929.564 1226.57 Q929.564 1217.82 934.275 1212.69 Q939.017 1207.54 947.038 1207.54 Q954.231 1207.54 958.401 1212.18 Q962.602 1216.8 962.602 1224.76 M956.746 1223.04 Q956.682 1218.23 954.04 1215.37 Q951.43 1212.5 947.102 1212.5 Q942.2 1212.5 939.24 1215.27 Q936.312 1218.04 935.866 1223.07 L956.746 1223.04 Z\" fill=\"#000000\" fill-rule=\"evenodd\" fill-opacity=\"1\" /><path clip-path=\"url(#clip270)\" d=\"M992.871 1213.87 Q991.884 1213.3 990.707 1213.04 Q989.561 1212.76 988.161 1212.76 Q983.195 1212.76 980.522 1216 Q977.88 1219.22 977.88 1225.27 L977.88 1244.04 L971.992 1244.04 L971.992 1208.4 L977.88 1208.4 L977.88 1213.93 Q979.726 1210.69 982.686 1209.13 Q985.646 1207.54 989.879 1207.54 Q990.484 1207.54 991.216 1207.63 Q991.948 1207.7 992.839 1207.85 L992.871 1213.87 Z\" fill=\"#000000\" fill-rule=\"evenodd\" fill-opacity=\"1\" /><path clip-path=\"url(#clip270)\" d=\"M1028.07 1224.76 L1028.07 1227.62 L1001.15 1227.62 Q1001.53 1233.67 1004.78 1236.85 Q1008.05 1240 1013.88 1240 Q1017.25 1240 1020.4 1239.17 Q1023.59 1238.35 1026.7 1236.69 L1026.7 1242.23 Q1023.55 1243.57 1020.24 1244.27 Q1016.93 1244.97 1013.53 1244.97 Q1005 1244.97 1000 1240 Q995.035 1235.04 995.035 1226.57 Q995.035 1217.82 999.746 1212.69 Q1004.49 1207.54 1012.51 1207.54 Q1019.7 1207.54 1023.87 1212.18 Q1028.07 1216.8 1028.07 1224.76 M1022.22 1223.04 Q1022.15 1218.23 1019.51 1215.37 Q1016.9 1212.5 1012.57 1212.5 Q1007.67 1212.5 1004.71 1215.27 Q1001.78 1218.04 1001.34 1223.07 L1022.22 1223.04 Z\" fill=\"#000000\" fill-rule=\"evenodd\" fill-opacity=\"1\" /><path clip-path=\"url(#clip270)\" d=\"M1060.41 1209.45 L1060.41 1214.98 Q1057.93 1213.71 1055.26 1213.07 Q1052.58 1212.44 1049.72 1212.44 Q1045.36 1212.44 1043.16 1213.77 Q1041 1215.11 1041 1217.79 Q1041 1219.82 1042.56 1221 Q1044.12 1222.15 1048.83 1223.2 L1050.83 1223.64 Q1057.07 1224.98 1059.68 1227.43 Q1062.32 1229.85 1062.32 1234.21 Q1062.32 1239.17 1058.37 1242.07 Q1054.46 1244.97 1047.58 1244.97 Q1044.72 1244.97 1041.6 1244.39 Q1038.51 1243.85 1035.08 1242.74 L1035.08 1236.69 Q1038.32 1238.38 1041.47 1239.24 Q1044.62 1240.07 1047.71 1240.07 Q1051.85 1240.07 1054.08 1238.66 Q1056.31 1237.23 1056.31 1234.65 Q1056.31 1232.27 1054.68 1230.99 Q1053.09 1229.72 1047.65 1228.54 L1045.61 1228.07 Q1040.17 1226.92 1037.75 1224.56 Q1035.33 1222.18 1035.33 1218.04 Q1035.33 1213.01 1038.9 1210.27 Q1042.46 1207.54 1049.02 1207.54 Q1052.26 1207.54 1055.13 1208.01 Q1057.99 1208.49 1060.41 1209.45 Z\" fill=\"#000000\" fill-rule=\"evenodd\" fill-opacity=\"1\" /><path clip-path=\"url(#clip270)\" d=\"M1077.44 1198.27 L1077.44 1208.4 L1089.5 1208.4 L1089.5 1212.95 L1077.44 1212.95 L1077.44 1232.3 Q1077.44 1236.66 1078.62 1237.9 Q1079.83 1239.14 1083.49 1239.14 L1089.5 1239.14 L1089.5 1244.04 L1083.49 1244.04 Q1076.71 1244.04 1074.13 1241.53 Q1071.55 1238.98 1071.55 1232.3 L1071.55 1212.95 L1067.25 1212.95 L1067.25 1208.4 L1071.55 1208.4 L1071.55 1198.27 L1077.44 1198.27 Z\" fill=\"#000000\" fill-rule=\"evenodd\" fill-opacity=\"1\" /><path clip-path=\"url(#clip270)\" d=\"M1138.58 1213.87 Q1137.6 1213.3 1136.42 1213.04 Q1135.27 1212.76 1133.87 1212.76 Q1128.91 1212.76 1126.23 1216 Q1123.59 1219.22 1123.59 1225.27 L1123.59 1244.04 L1117.7 1244.04 L1117.7 1208.4 L1123.59 1208.4 L1123.59 1213.93 Q1125.44 1210.69 1128.4 1209.13 Q1131.36 1207.54 1135.59 1207.54 Q1136.2 1207.54 1136.93 1207.63 Q1137.66 1207.7 1138.55 1207.85 L1138.58 1213.87 Z\" fill=\"#000000\" fill-rule=\"evenodd\" fill-opacity=\"1\" /><path clip-path=\"url(#clip270)\" d=\"M1160.93 1226.12 Q1153.83 1226.12 1151.09 1227.75 Q1148.35 1229.37 1148.35 1233.29 Q1148.35 1236.4 1150.39 1238.25 Q1152.46 1240.07 1155.99 1240.07 Q1160.86 1240.07 1163.79 1236.63 Q1166.75 1233.16 1166.75 1227.43 L1166.75 1226.12 L1160.93 1226.12 M1172.61 1223.71 L1172.61 1244.04 L1166.75 1244.04 L1166.75 1238.63 Q1164.75 1241.88 1161.75 1243.44 Q1158.76 1244.97 1154.43 1244.97 Q1148.96 1244.97 1145.71 1241.91 Q1142.5 1238.82 1142.5 1233.67 Q1142.5 1227.65 1146.51 1224.6 Q1150.55 1221.54 1158.54 1221.54 L1166.75 1221.54 L1166.75 1220.97 Q1166.75 1216.93 1164.08 1214.73 Q1161.44 1212.5 1156.63 1212.5 Q1153.57 1212.5 1150.68 1213.23 Q1147.78 1213.97 1145.11 1215.43 L1145.11 1210.02 Q1148.32 1208.78 1151.35 1208.17 Q1154.37 1207.54 1157.23 1207.54 Q1164.97 1207.54 1168.79 1211.55 Q1172.61 1215.56 1172.61 1223.71 Z\" fill=\"#000000\" fill-rule=\"evenodd\" fill-opacity=\"1\" /><path clip-path=\"url(#clip270)\" d=\"M1190.46 1198.27 L1190.46 1208.4 L1202.53 1208.4 L1202.53 1212.95 L1190.46 1212.95 L1190.46 1232.3 Q1190.46 1236.66 1191.64 1237.9 Q1192.85 1239.14 1196.51 1239.14 L1202.53 1239.14 L1202.53 1244.04 L1196.51 1244.04 Q1189.73 1244.04 1187.15 1241.53 Q1184.57 1238.98 1184.57 1232.3 L1184.57 1212.95 L1180.28 1212.95 L1180.28 1208.4 L1184.57 1208.4 L1184.57 1198.27 L1190.46 1198.27 Z\" fill=\"#000000\" fill-rule=\"evenodd\" fill-opacity=\"1\" /><path clip-path=\"url(#clip270)\" d=\"M1240.72 1224.76 L1240.72 1227.62 L1213.79 1227.62 Q1214.17 1233.67 1217.42 1236.85 Q1220.7 1240 1226.52 1240 Q1229.9 1240 1233.05 1239.17 Q1236.23 1238.35 1239.35 1236.69 L1239.35 1242.23 Q1236.2 1243.57 1232.89 1244.27 Q1229.58 1244.97 1226.17 1244.97 Q1217.64 1244.97 1212.65 1240 Q1207.68 1235.04 1207.68 1226.57 Q1207.68 1217.82 1212.39 1212.69 Q1217.13 1207.54 1225.16 1207.54 Q1232.35 1207.54 1236.52 1212.18 Q1240.72 1216.8 1240.72 1224.76 M1234.86 1223.04 Q1234.8 1218.23 1232.16 1215.37 Q1229.55 1212.5 1225.22 1212.5 Q1220.32 1212.5 1217.36 1215.27 Q1214.43 1218.04 1213.98 1223.07 L1234.86 1223.04 Z\" fill=\"#000000\" fill-rule=\"evenodd\" fill-opacity=\"1\" /><polyline clip-path=\"url(#clip272)\" style=\"stroke:#000000; stroke-linecap:butt; stroke-linejoin:round; stroke-width:2; stroke-opacity:0.1; fill:none\" points=\"\n",
       "  214.233,872.821 1872.76,872.821 \n",
       "  \"/>\n",
       "<polyline clip-path=\"url(#clip272)\" style=\"stroke:#000000; stroke-linecap:butt; stroke-linejoin:round; stroke-width:2; stroke-opacity:0.1; fill:none\" points=\"\n",
       "  214.233,632.311 1872.76,632.311 \n",
       "  \"/>\n",
       "<polyline clip-path=\"url(#clip272)\" style=\"stroke:#000000; stroke-linecap:butt; stroke-linejoin:round; stroke-width:2; stroke-opacity:0.1; fill:none\" points=\"\n",
       "  214.233,391.801 1872.76,391.801 \n",
       "  \"/>\n",
       "<polyline clip-path=\"url(#clip272)\" style=\"stroke:#000000; stroke-linecap:butt; stroke-linejoin:round; stroke-width:2; stroke-opacity:0.1; fill:none\" points=\"\n",
       "  214.233,151.29 1872.76,151.29 \n",
       "  \"/>\n",
       "<polyline clip-path=\"url(#clip270)\" style=\"stroke:#000000; stroke-linecap:butt; stroke-linejoin:round; stroke-width:4; stroke-opacity:1; fill:none\" points=\"\n",
       "  214.233,1106.38 214.233,123.472 \n",
       "  \"/>\n",
       "<polyline clip-path=\"url(#clip270)\" style=\"stroke:#000000; stroke-linecap:butt; stroke-linejoin:round; stroke-width:4; stroke-opacity:1; fill:none\" points=\"\n",
       "  214.233,872.821 234.135,872.821 \n",
       "  \"/>\n",
       "<polyline clip-path=\"url(#clip270)\" style=\"stroke:#000000; stroke-linecap:butt; stroke-linejoin:round; stroke-width:4; stroke-opacity:1; fill:none\" points=\"\n",
       "  214.233,632.311 234.135,632.311 \n",
       "  \"/>\n",
       "<polyline clip-path=\"url(#clip270)\" style=\"stroke:#000000; stroke-linecap:butt; stroke-linejoin:round; stroke-width:4; stroke-opacity:1; fill:none\" points=\"\n",
       "  214.233,391.801 234.135,391.801 \n",
       "  \"/>\n",
       "<polyline clip-path=\"url(#clip270)\" style=\"stroke:#000000; stroke-linecap:butt; stroke-linejoin:round; stroke-width:4; stroke-opacity:1; fill:none\" points=\"\n",
       "  214.233,151.29 234.135,151.29 \n",
       "  \"/>\n",
       "<path clip-path=\"url(#clip270)\" d=\"M118.581 886.166 L126.22 886.166 L126.22 859.8 L117.91 861.467 L117.91 857.208 L126.174 855.541 L130.85 855.541 L130.85 886.166 L138.489 886.166 L138.489 890.101 L118.581 890.101 L118.581 886.166 Z\" fill=\"#000000\" fill-rule=\"evenodd\" fill-opacity=\"1\" /><path clip-path=\"url(#clip270)\" d=\"M147.933 884.222 L152.817 884.222 L152.817 890.101 L147.933 890.101 L147.933 884.222 Z\" fill=\"#000000\" fill-rule=\"evenodd\" fill-opacity=\"1\" /><path clip-path=\"url(#clip270)\" d=\"M175.85 859.615 L164.044 878.064 L175.85 878.064 L175.85 859.615 M174.623 855.541 L180.502 855.541 L180.502 878.064 L185.433 878.064 L185.433 881.953 L180.502 881.953 L180.502 890.101 L175.85 890.101 L175.85 881.953 L160.248 881.953 L160.248 877.439 L174.623 855.541 Z\" fill=\"#000000\" fill-rule=\"evenodd\" fill-opacity=\"1\" /><path clip-path=\"url(#clip270)\" d=\"M118.906 645.656 L126.544 645.656 L126.544 619.29 L118.234 620.957 L118.234 616.698 L126.498 615.031 L131.174 615.031 L131.174 645.656 L138.813 645.656 L138.813 649.591 L118.906 649.591 L118.906 645.656 Z\" fill=\"#000000\" fill-rule=\"evenodd\" fill-opacity=\"1\" /><path clip-path=\"url(#clip270)\" d=\"M148.257 643.711 L153.141 643.711 L153.141 649.591 L148.257 649.591 L148.257 643.711 Z\" fill=\"#000000\" fill-rule=\"evenodd\" fill-opacity=\"1\" /><path clip-path=\"url(#clip270)\" d=\"M173.905 630.448 Q170.757 630.448 168.905 632.6 Q167.077 634.753 167.077 638.503 Q167.077 642.23 168.905 644.406 Q170.757 646.559 173.905 646.559 Q177.053 646.559 178.882 644.406 Q180.734 642.23 180.734 638.503 Q180.734 634.753 178.882 632.6 Q177.053 630.448 173.905 630.448 M183.188 615.795 L183.188 620.054 Q181.428 619.221 179.623 618.781 Q177.84 618.341 176.081 618.341 Q171.452 618.341 168.998 621.466 Q166.567 624.591 166.22 630.91 Q167.586 628.897 169.646 627.832 Q171.706 626.744 174.183 626.744 Q179.391 626.744 182.401 629.915 Q185.433 633.063 185.433 638.503 Q185.433 643.827 182.285 647.045 Q179.137 650.262 173.905 650.262 Q167.91 650.262 164.739 645.679 Q161.567 641.072 161.567 632.346 Q161.567 624.151 165.456 619.29 Q169.345 614.406 175.896 614.406 Q177.655 614.406 179.438 614.753 Q181.243 615.1 183.188 615.795 Z\" fill=\"#000000\" fill-rule=\"evenodd\" fill-opacity=\"1\" /><path clip-path=\"url(#clip270)\" d=\"M119.16 405.145 L126.799 405.145 L126.799 378.78 L118.489 380.446 L118.489 376.187 L126.753 374.521 L131.429 374.521 L131.429 405.145 L139.067 405.145 L139.067 409.081 L119.16 409.081 L119.16 405.145 Z\" fill=\"#000000\" fill-rule=\"evenodd\" fill-opacity=\"1\" /><path clip-path=\"url(#clip270)\" d=\"M148.512 403.201 L153.396 403.201 L153.396 409.081 L148.512 409.081 L148.512 403.201 Z\" fill=\"#000000\" fill-rule=\"evenodd\" fill-opacity=\"1\" /><path clip-path=\"url(#clip270)\" d=\"M173.581 392.669 Q170.248 392.669 168.327 394.451 Q166.428 396.233 166.428 399.358 Q166.428 402.483 168.327 404.266 Q170.248 406.048 173.581 406.048 Q176.914 406.048 178.836 404.266 Q180.757 402.46 180.757 399.358 Q180.757 396.233 178.836 394.451 Q176.938 392.669 173.581 392.669 M168.905 390.678 Q165.896 389.937 164.206 387.877 Q162.54 385.817 162.54 382.854 Q162.54 378.71 165.479 376.303 Q168.442 373.896 173.581 373.896 Q178.743 373.896 181.683 376.303 Q184.623 378.71 184.623 382.854 Q184.623 385.817 182.933 387.877 Q181.266 389.937 178.28 390.678 Q181.66 391.465 183.535 393.757 Q185.433 396.048 185.433 399.358 Q185.433 404.382 182.354 407.067 Q179.299 409.752 173.581 409.752 Q167.864 409.752 164.785 407.067 Q161.729 404.382 161.729 399.358 Q161.729 396.048 163.627 393.757 Q165.526 391.465 168.905 390.678 M167.192 383.294 Q167.192 385.979 168.859 387.483 Q170.549 388.988 173.581 388.988 Q176.59 388.988 178.28 387.483 Q179.993 385.979 179.993 383.294 Q179.993 380.609 178.28 379.104 Q176.59 377.599 173.581 377.599 Q170.549 377.599 168.859 379.104 Q167.192 380.609 167.192 383.294 Z\" fill=\"#000000\" fill-rule=\"evenodd\" fill-opacity=\"1\" /><path clip-path=\"url(#clip270)\" d=\"M122.285 164.635 L138.604 164.635 L138.604 168.57 L116.66 168.57 L116.66 164.635 Q119.322 161.88 123.905 157.251 Q128.512 152.598 129.692 151.256 Q131.938 148.732 132.817 146.996 Q133.72 145.237 133.72 143.547 Q133.72 140.793 131.776 139.057 Q129.855 137.32 126.753 137.32 Q124.554 137.32 122.1 138.084 Q119.669 138.848 116.892 140.399 L116.892 135.677 Q119.716 134.543 122.169 133.964 Q124.623 133.385 126.66 133.385 Q132.03 133.385 135.225 136.07 Q138.419 138.756 138.419 143.246 Q138.419 145.376 137.609 147.297 Q136.822 149.195 134.716 151.788 Q134.137 152.459 131.035 155.677 Q127.933 158.871 122.285 164.635 Z\" fill=\"#000000\" fill-rule=\"evenodd\" fill-opacity=\"1\" /><path clip-path=\"url(#clip270)\" d=\"M148.419 162.691 L153.303 162.691 L153.303 168.57 L148.419 168.57 L148.419 162.691 Z\" fill=\"#000000\" fill-rule=\"evenodd\" fill-opacity=\"1\" /><path clip-path=\"url(#clip270)\" d=\"M173.489 137.089 Q169.877 137.089 168.049 140.654 Q166.243 144.195 166.243 151.325 Q166.243 158.431 168.049 161.996 Q169.877 165.538 173.489 165.538 Q177.123 165.538 178.928 161.996 Q180.757 158.431 180.757 151.325 Q180.757 144.195 178.928 140.654 Q177.123 137.089 173.489 137.089 M173.489 133.385 Q179.299 133.385 182.354 137.992 Q185.433 142.575 185.433 151.325 Q185.433 160.052 182.354 164.658 Q179.299 169.242 173.489 169.242 Q167.678 169.242 164.6 164.658 Q161.544 160.052 161.544 151.325 Q161.544 142.575 164.6 137.992 Q167.678 133.385 173.489 133.385 Z\" fill=\"#000000\" fill-rule=\"evenodd\" fill-opacity=\"1\" /><path clip-path=\"url(#clip270)\" d=\"M73.6042 864.494 L26.0842 882.636 L26.0842 875.92 L66.0926 860.865 L26.0842 845.778 L26.0842 839.094 L73.6042 857.205 L73.6042 864.494 Z\" fill=\"#000000\" fill-rule=\"evenodd\" fill-opacity=\"1\" /><path clip-path=\"url(#clip270)\" d=\"M55.6847 821.27 Q55.6847 828.368 57.3079 831.105 Q58.9312 833.843 62.8461 833.843 Q65.9653 833.843 67.8114 831.806 Q69.6256 829.737 69.6256 826.204 Q69.6256 821.334 66.1881 818.406 Q62.7188 815.446 56.9897 815.446 L55.6847 815.446 L55.6847 821.27 M53.2657 809.589 L73.6042 809.589 L73.6042 815.446 L68.1933 815.446 Q71.4398 817.451 72.9994 820.443 Q74.5272 823.435 74.5272 827.763 Q74.5272 833.238 71.4716 836.484 Q68.3843 839.699 63.2281 839.699 Q57.2125 839.699 54.1569 835.689 Q51.1014 831.646 51.1014 823.658 L51.1014 815.446 L50.5285 815.446 Q46.4862 815.446 44.2901 818.119 Q42.0621 820.761 42.0621 825.567 Q42.0621 828.623 42.7941 831.519 Q43.5262 834.416 44.9903 837.089 L39.5795 837.089 Q38.3381 833.874 37.7334 830.851 Q37.0968 827.827 37.0968 824.962 Q37.0968 817.228 41.1072 813.409 Q45.1176 809.589 53.2657 809.589 Z\" fill=\"#000000\" fill-rule=\"evenodd\" fill-opacity=\"1\" /><path clip-path=\"url(#clip270)\" d=\"M24.079 797.526 L24.079 791.67 L73.6042 791.67 L73.6042 797.526 L24.079 797.526 Z\" fill=\"#000000\" fill-rule=\"evenodd\" fill-opacity=\"1\" /><path clip-path=\"url(#clip270)\" d=\"M59.5359 780.021 L37.9562 780.021 L37.9562 774.164 L59.3131 774.164 Q64.3739 774.164 66.9202 772.191 Q69.4346 770.217 69.4346 766.271 Q69.4346 761.528 66.4109 758.791 Q63.3872 756.022 58.1673 756.022 L37.9562 756.022 L37.9562 750.165 L73.6042 750.165 L73.6042 756.022 L68.1296 756.022 Q71.3762 758.154 72.9676 760.987 Q74.5272 763.788 74.5272 767.512 Q74.5272 773.655 70.7078 776.838 Q66.8883 780.021 59.5359 780.021 M37.0968 765.284 L37.0968 765.284 Z\" fill=\"#000000\" fill-rule=\"evenodd\" fill-opacity=\"1\" /><path clip-path=\"url(#clip270)\" d=\"M54.3161 707.611 L57.1806 707.611 L57.1806 734.538 Q63.2281 734.156 66.4109 730.909 Q69.5619 727.631 69.5619 721.806 Q69.5619 718.432 68.7344 715.281 Q67.9069 712.098 66.2518 708.979 L71.7899 708.979 Q73.1267 712.13 73.827 715.44 Q74.5272 718.751 74.5272 722.156 Q74.5272 730.686 69.5619 735.683 Q64.5967 740.649 56.1303 740.649 Q47.3774 740.649 42.2531 735.938 Q37.0968 731.196 37.0968 723.175 Q37.0968 715.982 41.7438 711.812 Q46.3589 707.611 54.3161 707.611 M52.5973 713.467 Q47.7912 713.531 44.9266 716.173 Q42.0621 718.782 42.0621 723.111 Q42.0621 728.013 44.8312 730.973 Q47.6002 733.901 52.6292 734.347 L52.5973 713.467 Z\" fill=\"#000000\" fill-rule=\"evenodd\" fill-opacity=\"1\" /><path clip-path=\"url(#clip270)\" d=\"M42.0621 663.464 Q42.0621 668.175 45.7542 670.912 Q49.4145 673.65 55.812 673.65 Q62.2095 673.65 65.9017 670.944 Q69.5619 668.207 69.5619 663.464 Q69.5619 658.786 65.8698 656.048 Q62.1777 653.311 55.812 653.311 Q49.4781 653.311 45.786 656.048 Q42.0621 658.786 42.0621 663.464 M37.0968 663.464 Q37.0968 655.826 42.0621 651.465 Q47.0273 647.105 55.812 647.105 Q64.5649 647.105 69.5619 651.465 Q74.5272 655.826 74.5272 663.464 Q74.5272 671.135 69.5619 675.496 Q64.5649 679.824 55.812 679.824 Q47.0273 679.824 42.0621 675.496 Q37.0968 671.135 37.0968 663.464 Z\" fill=\"#000000\" fill-rule=\"evenodd\" fill-opacity=\"1\" /><path clip-path=\"url(#clip270)\" d=\"M24.079 619.35 L28.9487 619.35 L28.9487 624.952 Q28.9487 628.103 30.2219 629.344 Q31.495 630.554 34.8052 630.554 L37.9562 630.554 L37.9562 620.91 L42.5077 620.91 L42.5077 630.554 L73.6042 630.554 L73.6042 636.442 L42.5077 636.442 L42.5077 642.044 L37.9562 642.044 L37.9562 636.442 L35.4736 636.442 Q29.5216 636.442 26.8162 633.673 Q24.079 630.904 24.079 624.888 L24.079 619.35 Z\" fill=\"#000000\" fill-rule=\"evenodd\" fill-opacity=\"1\" /><path clip-path=\"url(#clip270)\" d=\"M68.257 588.063 L87.1631 588.063 L87.1631 593.951 L37.9562 593.951 L37.9562 588.063 L43.3671 588.063 Q40.1842 586.217 38.6564 583.416 Q37.0968 580.583 37.0968 576.668 Q37.0968 570.175 42.2531 566.133 Q47.4093 562.059 55.812 562.059 Q64.2147 562.059 69.371 566.133 Q74.5272 570.175 74.5272 576.668 Q74.5272 580.583 72.9994 583.416 Q71.4398 586.217 68.257 588.063 M55.812 568.138 Q49.3508 568.138 45.6905 570.812 Q41.9984 573.453 41.9984 578.1 Q41.9984 582.747 45.6905 585.421 Q49.3508 588.063 55.812 588.063 Q62.2732 588.063 65.9653 585.421 Q69.6256 582.747 69.6256 578.1 Q69.6256 573.453 65.9653 570.812 Q62.2732 568.138 55.812 568.138 Z\" fill=\"#000000\" fill-rule=\"evenodd\" fill-opacity=\"1\" /><path clip-path=\"url(#clip270)\" d=\"M42.0621 538.538 Q42.0621 543.248 45.7542 545.985 Q49.4145 548.723 55.812 548.723 Q62.2095 548.723 65.9017 546.017 Q69.5619 543.28 69.5619 538.538 Q69.5619 533.859 65.8698 531.121 Q62.1777 528.384 55.812 528.384 Q49.4781 528.384 45.786 531.121 Q42.0621 533.859 42.0621 538.538 M37.0968 538.538 Q37.0968 530.899 42.0621 526.538 Q47.0273 522.178 55.812 522.178 Q64.5649 522.178 69.5619 526.538 Q74.5272 530.899 74.5272 538.538 Q74.5272 546.208 69.5619 550.569 Q64.5649 554.897 55.812 554.897 Q47.0273 554.897 42.0621 550.569 Q37.0968 546.208 37.0968 538.538 Z\" fill=\"#000000\" fill-rule=\"evenodd\" fill-opacity=\"1\" /><path clip-path=\"url(#clip270)\" d=\"M39.0065 489.744 L44.5447 489.744 Q43.2716 492.227 42.635 494.901 Q41.9984 497.574 41.9984 500.439 Q41.9984 504.799 43.3352 506.995 Q44.672 509.16 47.3456 509.16 Q49.3826 509.16 50.5603 507.6 Q51.7061 506.041 52.7565 501.33 L53.2021 499.325 Q54.5389 493.086 56.9897 490.476 Q59.4086 487.835 63.7691 487.835 Q68.7344 487.835 71.6308 491.781 Q74.5272 495.696 74.5272 502.571 Q74.5272 505.436 73.9543 508.555 Q73.4132 511.642 72.2992 515.08 L66.2518 515.08 Q67.9387 511.833 68.798 508.682 Q69.6256 505.531 69.6256 502.444 Q69.6256 498.306 68.2251 496.078 Q66.7929 493.85 64.2147 493.85 Q61.8276 493.85 60.5545 495.473 Q59.2813 497.065 58.1037 502.508 L57.6262 504.545 Q56.4804 509.987 54.1251 512.406 Q51.738 514.825 47.6002 514.825 Q42.5713 514.825 39.8341 511.26 Q37.0968 507.696 37.0968 501.139 Q37.0968 497.892 37.5743 495.028 Q38.0517 492.163 39.0065 489.744 Z\" fill=\"#000000\" fill-rule=\"evenodd\" fill-opacity=\"1\" /><path clip-path=\"url(#clip270)\" d=\"M37.9562 478.509 L37.9562 472.652 L73.6042 472.652 L73.6042 478.509 L37.9562 478.509 M24.079 478.509 L24.079 472.652 L31.495 472.652 L31.495 478.509 L24.079 478.509 Z\" fill=\"#000000\" fill-rule=\"evenodd\" fill-opacity=\"1\" /><path clip-path=\"url(#clip270)\" d=\"M27.8347 454.606 L37.9562 454.606 L37.9562 442.543 L42.5077 442.543 L42.5077 454.606 L61.8594 454.606 Q66.2199 454.606 67.4613 453.428 Q68.7026 452.219 68.7026 448.558 L68.7026 442.543 L73.6042 442.543 L73.6042 448.558 Q73.6042 455.338 71.0897 457.916 Q68.5434 460.494 61.8594 460.494 L42.5077 460.494 L42.5077 464.791 L37.9562 464.791 L37.9562 460.494 L27.8347 460.494 L27.8347 454.606 Z\" fill=\"#000000\" fill-rule=\"evenodd\" fill-opacity=\"1\" /><path clip-path=\"url(#clip270)\" d=\"M37.9562 434.84 L37.9562 428.984 L73.6042 428.984 L73.6042 434.84 L37.9562 434.84 M24.079 434.84 L24.079 428.984 L31.495 428.984 L31.495 434.84 L24.079 434.84 Z\" fill=\"#000000\" fill-rule=\"evenodd\" fill-opacity=\"1\" /><path clip-path=\"url(#clip270)\" d=\"M42.0621 402.916 Q42.0621 407.627 45.7542 410.364 Q49.4145 413.101 55.812 413.101 Q62.2095 413.101 65.9017 410.396 Q69.5619 407.659 69.5619 402.916 Q69.5619 398.237 65.8698 395.5 Q62.1777 392.763 55.812 392.763 Q49.4781 392.763 45.786 395.5 Q42.0621 398.237 42.0621 402.916 M37.0968 402.916 Q37.0968 395.277 42.0621 390.917 Q47.0273 386.556 55.812 386.556 Q64.5649 386.556 69.5619 390.917 Q74.5272 395.277 74.5272 402.916 Q74.5272 410.587 69.5619 414.947 Q64.5649 419.276 55.812 419.276 Q47.0273 419.276 42.0621 414.947 Q37.0968 410.587 37.0968 402.916 Z\" fill=\"#000000\" fill-rule=\"evenodd\" fill-opacity=\"1\" /><path clip-path=\"url(#clip270)\" d=\"M52.0881 347.216 L73.6042 347.216 L73.6042 353.073 L52.279 353.073 Q47.2183 353.073 44.7038 355.046 Q42.1894 357.019 42.1894 360.966 Q42.1894 365.709 45.2131 368.446 Q48.2368 371.183 53.4567 371.183 L73.6042 371.183 L73.6042 377.071 L37.9562 377.071 L37.9562 371.183 L43.4944 371.183 Q40.2797 369.082 38.6883 366.25 Q37.0968 363.385 37.0968 359.661 Q37.0968 353.518 40.9163 350.367 Q44.7038 347.216 52.0881 347.216 Z\" fill=\"#000000\" fill-rule=\"evenodd\" fill-opacity=\"1\" /><path clip-path=\"url(#clip270)\" d=\"M751.485 12.096 L762.503 12.096 L789.32 62.6918 L789.32 12.096 L797.26 12.096 L797.26 72.576 L786.242 72.576 L759.425 21.9802 L759.425 72.576 L751.485 72.576 L751.485 12.096 Z\" fill=\"#000000\" fill-rule=\"evenodd\" fill-opacity=\"1\" /><path clip-path=\"url(#clip270)\" d=\"M833.84 49.7694 Q824.806 49.7694 821.323 51.8354 Q817.839 53.9013 817.839 58.8839 Q817.839 62.8538 820.431 65.2034 Q823.064 67.5124 827.561 67.5124 Q833.759 67.5124 837.486 63.1374 Q841.253 58.7219 841.253 51.4303 L841.253 49.7694 L833.84 49.7694 M848.707 46.6907 L848.707 72.576 L841.253 72.576 L841.253 65.6895 Q838.701 69.8214 834.893 71.8063 Q831.085 73.7508 825.576 73.7508 Q818.608 73.7508 814.477 69.8619 Q810.385 65.9325 810.385 59.3701 Q810.385 51.7138 815.489 47.825 Q820.634 43.9361 830.802 43.9361 L841.253 43.9361 L841.253 43.2069 Q841.253 38.0623 837.85 35.2672 Q834.488 32.4315 828.371 32.4315 Q824.482 32.4315 820.796 33.3632 Q817.11 34.295 813.707 36.1584 L813.707 29.2718 Q817.798 27.692 821.647 26.9223 Q825.495 26.1121 829.141 26.1121 Q838.985 26.1121 843.846 31.2163 Q848.707 36.3204 848.707 46.6907 Z\" fill=\"#000000\" fill-rule=\"evenodd\" fill-opacity=\"1\" /><path clip-path=\"url(#clip270)\" d=\"M864.06 27.2059 L871.513 27.2059 L871.513 72.576 L864.06 72.576 L864.06 27.2059 M864.06 9.54393 L871.513 9.54393 L871.513 18.9825 L864.06 18.9825 L864.06 9.54393 Z\" fill=\"#000000\" fill-rule=\"evenodd\" fill-opacity=\"1\" /><path clip-path=\"url(#clip270)\" d=\"M881.762 27.2059 L889.661 27.2059 L903.839 65.2844 L918.018 27.2059 L925.917 27.2059 L908.903 72.576 L898.776 72.576 L881.762 27.2059 Z\" fill=\"#000000\" fill-rule=\"evenodd\" fill-opacity=\"1\" /><path clip-path=\"url(#clip270)\" d=\"M975.014 48.0275 L975.014 51.6733 L940.743 51.6733 Q941.229 59.3701 945.361 63.421 Q949.534 67.4314 956.947 67.4314 Q961.241 67.4314 965.251 66.3781 Q969.302 65.3249 973.272 63.2184 L973.272 70.267 Q969.262 71.9684 965.049 72.8596 Q960.836 73.7508 956.501 73.7508 Q945.645 73.7508 939.285 67.4314 Q932.965 61.1119 932.965 50.3365 Q932.965 39.1965 938.961 32.6746 Q944.997 26.1121 955.205 26.1121 Q964.36 26.1121 969.667 32.0264 Q975.014 37.9003 975.014 48.0275 M967.56 45.84 Q967.479 39.7232 964.117 36.0774 Q960.795 32.4315 955.286 32.4315 Q949.048 32.4315 945.28 35.9558 Q941.553 39.4801 940.986 45.8805 L967.56 45.84 Z\" fill=\"#000000\" fill-rule=\"evenodd\" fill-opacity=\"1\" /><path clip-path=\"url(#clip270)\" d=\"M1051.33 45.1919 L1051.33 72.576 L1043.88 72.576 L1043.88 45.4349 Q1043.88 38.994 1041.37 35.7938 Q1038.86 32.5936 1033.83 32.5936 Q1027.8 32.5936 1024.31 36.4419 Q1020.83 40.2903 1020.83 46.9338 L1020.83 72.576 L1013.34 72.576 L1013.34 9.54393 L1020.83 9.54393 L1020.83 34.2544 Q1023.5 30.163 1027.11 28.1376 Q1030.75 26.1121 1035.49 26.1121 Q1043.31 26.1121 1047.32 30.9732 Q1051.33 35.7938 1051.33 45.1919 Z\" fill=\"#000000\" fill-rule=\"evenodd\" fill-opacity=\"1\" /><path clip-path=\"url(#clip270)\" d=\"M1105.01 48.0275 L1105.01 51.6733 L1070.74 51.6733 Q1071.22 59.3701 1075.35 63.421 Q1079.53 67.4314 1086.94 67.4314 Q1091.23 67.4314 1095.24 66.3781 Q1099.3 65.3249 1103.27 63.2184 L1103.27 70.267 Q1099.26 71.9684 1095.04 72.8596 Q1090.83 73.7508 1086.49 73.7508 Q1075.64 73.7508 1069.28 67.4314 Q1062.96 61.1119 1062.96 50.3365 Q1062.96 39.1965 1068.95 32.6746 Q1074.99 26.1121 1085.2 26.1121 Q1094.35 26.1121 1099.66 32.0264 Q1105.01 37.9003 1105.01 48.0275 M1097.55 45.84 Q1097.47 39.7232 1094.11 36.0774 Q1090.79 32.4315 1085.28 32.4315 Q1079.04 32.4315 1075.27 35.9558 Q1071.55 39.4801 1070.98 45.8805 L1097.55 45.84 Z\" fill=\"#000000\" fill-rule=\"evenodd\" fill-opacity=\"1\" /><path clip-path=\"url(#clip270)\" d=\"M1147.1 34.0924 L1147.1 9.54393 L1154.55 9.54393 L1154.55 72.576 L1147.1 72.576 L1147.1 65.7705 Q1144.75 69.8214 1141.14 71.8063 Q1137.58 73.7508 1132.55 73.7508 Q1124.33 73.7508 1119.15 67.1883 Q1114 60.6258 1114 49.9314 Q1114 39.2371 1119.15 32.6746 Q1124.33 26.1121 1132.55 26.1121 Q1137.58 26.1121 1141.14 28.0971 Q1144.75 30.0415 1147.1 34.0924 M1121.7 49.9314 Q1121.7 58.1548 1125.06 62.8538 Q1128.46 67.5124 1134.38 67.5124 Q1140.29 67.5124 1143.69 62.8538 Q1147.1 58.1548 1147.1 49.9314 Q1147.1 41.7081 1143.69 37.0496 Q1140.29 32.3505 1134.38 32.3505 Q1128.46 32.3505 1125.06 37.0496 Q1121.7 41.7081 1121.7 49.9314 Z\" fill=\"#000000\" fill-rule=\"evenodd\" fill-opacity=\"1\" /><path clip-path=\"url(#clip270)\" d=\"M1199.76 49.3643 Q1199.76 41.2625 1196.4 36.8065 Q1193.07 32.3505 1187.04 32.3505 Q1181.04 32.3505 1177.68 36.8065 Q1174.36 41.2625 1174.36 49.3643 Q1174.36 57.4256 1177.68 61.8816 Q1181.04 66.3376 1187.04 66.3376 Q1193.07 66.3376 1196.4 61.8816 Q1199.76 57.4256 1199.76 49.3643 M1207.21 66.9452 Q1207.21 78.5308 1202.07 84.1616 Q1196.92 89.8329 1186.31 89.8329 Q1182.38 89.8329 1178.9 89.2252 Q1175.41 88.6581 1172.13 87.4428 L1172.13 80.1917 Q1175.41 81.9741 1178.61 82.8248 Q1181.81 83.6755 1185.13 83.6755 Q1192.47 83.6755 1196.11 79.8271 Q1199.76 76.0193 1199.76 68.282 L1199.76 64.5957 Q1197.45 68.6061 1193.84 70.5911 Q1190.24 72.576 1185.22 72.576 Q1176.87 72.576 1171.77 66.2161 Q1166.66 59.8562 1166.66 49.3643 Q1166.66 38.832 1171.77 32.472 Q1176.87 26.1121 1185.22 26.1121 Q1190.24 26.1121 1193.84 28.0971 Q1197.45 30.082 1199.76 34.0924 L1199.76 27.2059 L1207.21 27.2059 L1207.21 66.9452 Z\" fill=\"#000000\" fill-rule=\"evenodd\" fill-opacity=\"1\" /><path clip-path=\"url(#clip270)\" d=\"M1222.56 27.2059 L1230.02 27.2059 L1230.02 72.576 L1222.56 72.576 L1222.56 27.2059 M1222.56 9.54393 L1230.02 9.54393 L1230.02 18.9825 L1222.56 18.9825 L1222.56 9.54393 Z\" fill=\"#000000\" fill-rule=\"evenodd\" fill-opacity=\"1\" /><path clip-path=\"url(#clip270)\" d=\"M1283.33 45.1919 L1283.33 72.576 L1275.87 72.576 L1275.87 45.4349 Q1275.87 38.994 1273.36 35.7938 Q1270.85 32.5936 1265.83 32.5936 Q1259.79 32.5936 1256.31 36.4419 Q1252.82 40.2903 1252.82 46.9338 L1252.82 72.576 L1245.33 72.576 L1245.33 27.2059 L1252.82 27.2059 L1252.82 34.2544 Q1255.5 30.163 1259.1 28.1376 Q1262.75 26.1121 1267.49 26.1121 Q1275.31 26.1121 1279.32 30.9732 Q1283.33 35.7938 1283.33 45.1919 Z\" fill=\"#000000\" fill-rule=\"evenodd\" fill-opacity=\"1\" /><path clip-path=\"url(#clip270)\" d=\"M1328.05 49.3643 Q1328.05 41.2625 1324.69 36.8065 Q1321.37 32.3505 1315.33 32.3505 Q1309.34 32.3505 1305.97 36.8065 Q1302.65 41.2625 1302.65 49.3643 Q1302.65 57.4256 1305.97 61.8816 Q1309.34 66.3376 1315.33 66.3376 Q1321.37 66.3376 1324.69 61.8816 Q1328.05 57.4256 1328.05 49.3643 M1335.5 66.9452 Q1335.5 78.5308 1330.36 84.1616 Q1325.21 89.8329 1314.6 89.8329 Q1310.67 89.8329 1307.19 89.2252 Q1303.7 88.6581 1300.42 87.4428 L1300.42 80.1917 Q1303.7 81.9741 1306.9 82.8248 Q1310.1 83.6755 1313.43 83.6755 Q1320.76 83.6755 1324.4 79.8271 Q1328.05 76.0193 1328.05 68.282 L1328.05 64.5957 Q1325.74 68.6061 1322.14 70.5911 Q1318.53 72.576 1313.51 72.576 Q1305.16 72.576 1300.06 66.2161 Q1294.95 59.8562 1294.95 49.3643 Q1294.95 38.832 1300.06 32.472 Q1305.16 26.1121 1313.51 26.1121 Q1318.53 26.1121 1322.14 28.0971 Q1325.74 30.082 1328.05 34.0924 L1328.05 27.2059 L1335.5 27.2059 L1335.5 66.9452 Z\" fill=\"#000000\" fill-rule=\"evenodd\" fill-opacity=\"1\" /><polyline clip-path=\"url(#clip272)\" style=\"stroke:#ff0000; stroke-linecap:butt; stroke-linejoin:round; stroke-width:4; stroke-opacity:1; fill:none\" points=\"\n",
       "  261.172,151.29 417.637,278.447 574.101,395.989 730.566,504.792 887.03,605.639 1043.49,699.237 1199.96,786.217 1356.42,867.15 1512.89,942.55 1669.35,1012.88 \n",
       "  1825.82,1078.56 \n",
       "  \"/>\n",
       "<polyline clip-path=\"url(#clip272)\" style=\"stroke:#008000; stroke-linecap:butt; stroke-linejoin:round; stroke-width:4; stroke-opacity:1; fill:none\" stroke-dasharray=\"16, 10\" points=\"\n",
       "  261.172,406.502 417.637,469.73 574.101,530.503 730.566,588.938 887.03,645.148 1043.49,699.237 1199.96,751.303 1356.42,801.442 1512.89,849.74 1669.35,896.283 \n",
       "  1825.82,941.148 \n",
       "  \"/>\n",
       "<path clip-path=\"url(#clip270)\" d=\"\n",
       "M1139.31 337.676 L1817.47 337.676 L1817.47 156.236 L1139.31 156.236  Z\n",
       "  \" fill=\"#ffffff\" fill-rule=\"evenodd\" fill-opacity=\"1\"/>\n",
       "<polyline clip-path=\"url(#clip270)\" style=\"stroke:#000000; stroke-linecap:butt; stroke-linejoin:round; stroke-width:4; stroke-opacity:1; fill:none\" points=\"\n",
       "  1139.31,337.676 1817.47,337.676 1817.47,156.236 1139.31,156.236 1139.31,337.676 \n",
       "  \"/>\n",
       "<polyline clip-path=\"url(#clip270)\" style=\"stroke:#ff0000; stroke-linecap:butt; stroke-linejoin:round; stroke-width:4; stroke-opacity:1; fill:none\" points=\"\n",
       "  1157.73,216.716 1268.3,216.716 \n",
       "  \"/>\n",
       "<path clip-path=\"url(#clip270)\" d=\"M1286.73 197.977 L1290.99 197.977 L1290.99 233.996 L1286.73 233.996 L1286.73 197.977 Z\" fill=\"#000000\" fill-rule=\"evenodd\" fill-opacity=\"1\" /><path clip-path=\"url(#clip270)\" d=\"M1299.9 208.07 L1304.16 208.07 L1304.16 233.996 L1299.9 233.996 L1299.9 208.07 M1299.9 197.977 L1304.16 197.977 L1304.16 203.371 L1299.9 203.371 L1299.9 197.977 Z\" fill=\"#000000\" fill-rule=\"evenodd\" fill-opacity=\"1\" /><path clip-path=\"url(#clip270)\" d=\"M1324.85 220.963 Q1319.69 220.963 1317.7 222.144 Q1315.71 223.324 1315.71 226.172 Q1315.71 228.44 1317.19 229.783 Q1318.7 231.102 1321.27 231.102 Q1324.81 231.102 1326.94 228.602 Q1329.09 226.079 1329.09 221.912 L1329.09 220.963 L1324.85 220.963 M1333.35 219.204 L1333.35 233.996 L1329.09 233.996 L1329.09 230.061 Q1327.63 232.422 1325.46 233.556 Q1323.28 234.667 1320.13 234.667 Q1316.15 234.667 1313.79 232.445 Q1311.45 230.199 1311.45 226.449 Q1311.45 222.074 1314.37 219.852 Q1317.31 217.63 1323.12 217.63 L1329.09 217.63 L1329.09 217.213 Q1329.09 214.274 1327.15 212.676 Q1325.22 211.056 1321.73 211.056 Q1319.51 211.056 1317.4 211.588 Q1315.29 212.121 1313.35 213.186 L1313.35 209.25 Q1315.69 208.348 1317.89 207.908 Q1320.09 207.445 1322.17 207.445 Q1327.79 207.445 1330.57 210.362 Q1333.35 213.278 1333.35 219.204 Z\" fill=\"#000000\" fill-rule=\"evenodd\" fill-opacity=\"1\" /><path clip-path=\"url(#clip270)\" d=\"M1360.73 221.056 Q1360.73 216.357 1358.79 213.695 Q1356.87 211.01 1353.49 211.01 Q1350.11 211.01 1348.16 213.695 Q1346.24 216.357 1346.24 221.056 Q1346.24 225.755 1348.16 228.44 Q1350.11 231.102 1353.49 231.102 Q1356.87 231.102 1358.79 228.44 Q1360.73 225.755 1360.73 221.056 M1346.24 212.005 Q1347.59 209.69 1349.62 208.579 Q1351.68 207.445 1354.53 207.445 Q1359.25 207.445 1362.19 211.195 Q1365.16 214.945 1365.16 221.056 Q1365.16 227.167 1362.19 230.917 Q1359.25 234.667 1354.53 234.667 Q1351.68 234.667 1349.62 233.556 Q1347.59 232.422 1346.24 230.107 L1346.24 233.996 L1341.96 233.996 L1341.96 197.977 L1346.24 197.977 L1346.24 212.005 Z\" fill=\"#000000\" fill-rule=\"evenodd\" fill-opacity=\"1\" /><path clip-path=\"url(#clip270)\" d=\"M1372.22 208.07 L1376.47 208.07 L1376.47 233.996 L1372.22 233.996 L1372.22 208.07 M1372.22 197.977 L1376.47 197.977 L1376.47 203.371 L1372.22 203.371 L1372.22 197.977 Z\" fill=\"#000000\" fill-rule=\"evenodd\" fill-opacity=\"1\" /><path clip-path=\"url(#clip270)\" d=\"M1385.39 197.977 L1389.65 197.977 L1389.65 233.996 L1385.39 233.996 L1385.39 197.977 Z\" fill=\"#000000\" fill-rule=\"evenodd\" fill-opacity=\"1\" /><path clip-path=\"url(#clip270)\" d=\"M1398.56 208.07 L1402.82 208.07 L1402.82 233.996 L1398.56 233.996 L1398.56 208.07 M1398.56 197.977 L1402.82 197.977 L1402.82 203.371 L1398.56 203.371 L1398.56 197.977 Z\" fill=\"#000000\" fill-rule=\"evenodd\" fill-opacity=\"1\" /><path clip-path=\"url(#clip270)\" d=\"M1415.94 200.709 L1415.94 208.07 L1424.71 208.07 L1424.71 211.38 L1415.94 211.38 L1415.94 225.454 Q1415.94 228.625 1416.8 229.528 Q1417.68 230.431 1420.34 230.431 L1424.71 230.431 L1424.71 233.996 L1420.34 233.996 Q1415.41 233.996 1413.53 232.167 Q1411.66 230.315 1411.66 225.454 L1411.66 211.38 L1408.53 211.38 L1408.53 208.07 L1411.66 208.07 L1411.66 200.709 L1415.94 200.709 Z\" fill=\"#000000\" fill-rule=\"evenodd\" fill-opacity=\"1\" /><path clip-path=\"url(#clip270)\" d=\"M1441.1 236.403 Q1439.3 241.033 1437.59 242.445 Q1435.87 243.857 1433 243.857 L1429.6 243.857 L1429.6 240.292 L1432.1 240.292 Q1433.86 240.292 1434.83 239.459 Q1435.8 238.625 1436.98 235.523 L1437.75 233.579 L1427.26 208.07 L1431.78 208.07 L1439.88 228.348 L1447.98 208.07 L1452.49 208.07 L1441.1 236.403 Z\" fill=\"#000000\" fill-rule=\"evenodd\" fill-opacity=\"1\" /><polyline clip-path=\"url(#clip270)\" style=\"stroke:#008000; stroke-linecap:butt; stroke-linejoin:round; stroke-width:4; stroke-opacity:1; fill:none\" stroke-dasharray=\"16, 10\" points=\"\n",
       "  1157.73,277.196 1268.3,277.196 \n",
       "  \"/>\n",
       "<path clip-path=\"url(#clip270)\" d=\"M1286.73 268.55 L1291.24 268.55 L1299.35 290.309 L1307.45 268.55 L1311.96 268.55 L1302.24 294.476 L1296.45 294.476 L1286.73 268.55 Z\" fill=\"#000000\" fill-rule=\"evenodd\" fill-opacity=\"1\" /><path clip-path=\"url(#clip270)\" d=\"M1350.73 265.61 L1342.42 270.101 L1350.73 274.615 L1349.39 276.883 L1341.61 272.184 L1341.61 280.911 L1338.97 280.911 L1338.97 272.184 L1331.2 276.883 L1329.85 274.615 L1338.16 270.101 L1329.85 265.61 L1331.2 263.318 L1338.97 268.018 L1338.97 259.291 L1341.61 259.291 L1341.61 268.018 L1349.39 263.318 L1350.73 265.61 Z\" fill=\"#000000\" fill-rule=\"evenodd\" fill-opacity=\"1\" /><path clip-path=\"url(#clip270)\" d=\"M1393.23 278.828 L1393.23 294.476 L1388.97 294.476 L1388.97 278.967 Q1388.97 275.286 1387.54 273.457 Q1386.1 271.629 1383.23 271.629 Q1379.78 271.629 1377.79 273.828 Q1375.8 276.027 1375.8 279.823 L1375.8 294.476 L1371.52 294.476 L1371.52 258.457 L1375.8 258.457 L1375.8 272.578 Q1377.33 270.24 1379.39 269.082 Q1381.47 267.925 1384.18 267.925 Q1388.65 267.925 1390.94 270.703 Q1393.23 273.457 1393.23 278.828 Z\" fill=\"#000000\" fill-rule=\"evenodd\" fill-opacity=\"1\" /><path clip-path=\"url(#clip270)\" d=\"M1423.9 280.448 L1423.9 282.531 L1404.32 282.531 Q1404.6 286.929 1406.96 289.244 Q1409.34 291.536 1413.58 291.536 Q1416.03 291.536 1418.33 290.934 Q1420.64 290.332 1422.91 289.129 L1422.91 293.156 Q1420.62 294.128 1418.21 294.638 Q1415.8 295.147 1413.33 295.147 Q1407.12 295.147 1403.49 291.536 Q1399.88 287.925 1399.88 281.767 Q1399.88 275.402 1403.3 271.675 Q1406.75 267.925 1412.59 267.925 Q1417.82 267.925 1420.85 271.305 Q1423.9 274.661 1423.9 280.448 M1419.65 279.198 Q1419.6 275.703 1417.68 273.619 Q1415.78 271.536 1412.63 271.536 Q1409.07 271.536 1406.91 273.55 Q1404.78 275.564 1404.46 279.221 L1419.65 279.198 Z\" fill=\"#000000\" fill-rule=\"evenodd\" fill-opacity=\"1\" /><path clip-path=\"url(#clip270)\" d=\"M1447.96 272.485 L1447.96 258.457 L1452.21 258.457 L1452.21 294.476 L1447.96 294.476 L1447.96 290.587 Q1446.61 292.902 1444.55 294.036 Q1442.52 295.147 1439.65 295.147 Q1434.95 295.147 1431.98 291.397 Q1429.04 287.647 1429.04 281.536 Q1429.04 275.425 1431.98 271.675 Q1434.95 267.925 1439.65 267.925 Q1442.52 267.925 1444.55 269.059 Q1446.61 270.17 1447.96 272.485 M1433.44 281.536 Q1433.44 286.235 1435.36 288.92 Q1437.31 291.582 1440.69 291.582 Q1444.07 291.582 1446.01 288.92 Q1447.96 286.235 1447.96 281.536 Q1447.96 276.837 1446.01 274.175 Q1444.07 271.49 1440.69 271.49 Q1437.31 271.49 1435.36 274.175 Q1433.44 276.837 1433.44 281.536 Z\" fill=\"#000000\" fill-rule=\"evenodd\" fill-opacity=\"1\" /><path clip-path=\"url(#clip270)\" d=\"M1478.05 281.212 Q1478.05 276.582 1476.13 274.036 Q1474.23 271.49 1470.78 271.49 Q1467.35 271.49 1465.43 274.036 Q1463.53 276.582 1463.53 281.212 Q1463.53 285.818 1465.43 288.365 Q1467.35 290.911 1470.78 290.911 Q1474.23 290.911 1476.13 288.365 Q1478.05 285.818 1478.05 281.212 M1482.31 291.258 Q1482.31 297.878 1479.37 301.096 Q1476.43 304.337 1470.36 304.337 Q1468.12 304.337 1466.13 303.99 Q1464.14 303.665 1462.26 302.971 L1462.26 298.828 Q1464.14 299.846 1465.96 300.332 Q1467.79 300.818 1469.69 300.818 Q1473.88 300.818 1475.96 298.619 Q1478.05 296.443 1478.05 292.022 L1478.05 289.916 Q1476.73 292.207 1474.67 293.341 Q1472.61 294.476 1469.74 294.476 Q1464.97 294.476 1462.05 290.841 Q1459.14 287.207 1459.14 281.212 Q1459.14 275.193 1462.05 271.559 Q1464.97 267.925 1469.74 267.925 Q1472.61 267.925 1474.67 269.059 Q1476.73 270.193 1478.05 272.485 L1478.05 268.55 L1482.31 268.55 L1482.31 291.258 Z\" fill=\"#000000\" fill-rule=\"evenodd\" fill-opacity=\"1\" /><path clip-path=\"url(#clip270)\" d=\"M1513.26 280.448 L1513.26 282.531 L1493.67 282.531 Q1493.95 286.929 1496.31 289.244 Q1498.7 291.536 1502.93 291.536 Q1505.39 291.536 1507.68 290.934 Q1509.99 290.332 1512.26 289.129 L1512.26 293.156 Q1509.97 294.128 1507.56 294.638 Q1505.15 295.147 1502.68 295.147 Q1496.47 295.147 1492.84 291.536 Q1489.23 287.925 1489.23 281.767 Q1489.23 275.402 1492.65 271.675 Q1496.1 267.925 1501.94 267.925 Q1507.17 267.925 1510.2 271.305 Q1513.26 274.661 1513.26 280.448 M1509 279.198 Q1508.95 275.703 1507.03 273.619 Q1505.13 271.536 1501.98 271.536 Q1498.42 271.536 1496.27 273.55 Q1494.14 275.564 1493.81 279.221 L1509 279.198 Z\" fill=\"#000000\" fill-rule=\"evenodd\" fill-opacity=\"1\" /><path clip-path=\"url(#clip270)\" d=\"M1553.93 281.536 Q1553.93 276.837 1551.98 274.175 Q1550.06 271.49 1546.68 271.49 Q1543.3 271.49 1541.36 274.175 Q1539.44 276.837 1539.44 281.536 Q1539.44 286.235 1541.36 288.92 Q1543.3 291.582 1546.68 291.582 Q1550.06 291.582 1551.98 288.92 Q1553.93 286.235 1553.93 281.536 M1539.44 272.485 Q1540.78 270.17 1542.82 269.059 Q1544.88 267.925 1547.72 267.925 Q1552.45 267.925 1555.39 271.675 Q1558.35 275.425 1558.35 281.536 Q1558.35 287.647 1555.39 291.397 Q1552.45 295.147 1547.72 295.147 Q1544.88 295.147 1542.82 294.036 Q1540.78 292.902 1539.44 290.587 L1539.44 294.476 L1535.15 294.476 L1535.15 258.457 L1539.44 258.457 L1539.44 272.485 Z\" fill=\"#000000\" fill-rule=\"evenodd\" fill-opacity=\"1\" /><path clip-path=\"url(#clip270)\" d=\"M1575.45 271.536 Q1572.03 271.536 1570.04 274.221 Q1568.05 276.883 1568.05 281.536 Q1568.05 286.189 1570.02 288.874 Q1572.01 291.536 1575.45 291.536 Q1578.86 291.536 1580.85 288.851 Q1582.84 286.166 1582.84 281.536 Q1582.84 276.93 1580.85 274.244 Q1578.86 271.536 1575.45 271.536 M1575.45 267.925 Q1581.01 267.925 1584.18 271.536 Q1587.35 275.147 1587.35 281.536 Q1587.35 287.902 1584.18 291.536 Q1581.01 295.147 1575.45 295.147 Q1569.88 295.147 1566.7 291.536 Q1563.56 287.902 1563.56 281.536 Q1563.56 275.147 1566.7 271.536 Q1569.88 267.925 1575.45 267.925 Z\" fill=\"#000000\" fill-rule=\"evenodd\" fill-opacity=\"1\" /><path clip-path=\"url(#clip270)\" d=\"M1615.96 278.828 L1615.96 294.476 L1611.7 294.476 L1611.7 278.967 Q1611.7 275.286 1610.27 273.457 Q1608.83 271.629 1605.96 271.629 Q1602.51 271.629 1600.52 273.828 Q1598.53 276.027 1598.53 279.823 L1598.53 294.476 L1594.25 294.476 L1594.25 268.55 L1598.53 268.55 L1598.53 272.578 Q1600.06 270.24 1602.12 269.082 Q1604.2 267.925 1606.91 267.925 Q1611.38 267.925 1613.67 270.703 Q1615.96 273.457 1615.96 278.828 Z\" fill=\"#000000\" fill-rule=\"evenodd\" fill-opacity=\"1\" /><path clip-path=\"url(#clip270)\" d=\"M1641.52 272.485 L1641.52 258.457 L1645.78 258.457 L1645.78 294.476 L1641.52 294.476 L1641.52 290.587 Q1640.18 292.902 1638.12 294.036 Q1636.08 295.147 1633.21 295.147 Q1628.51 295.147 1625.55 291.397 Q1622.61 287.647 1622.61 281.536 Q1622.61 275.425 1625.55 271.675 Q1628.51 267.925 1633.21 267.925 Q1636.08 267.925 1638.12 269.059 Q1640.18 270.17 1641.52 272.485 M1627.01 281.536 Q1627.01 286.235 1628.93 288.92 Q1630.87 291.582 1634.25 291.582 Q1637.63 291.582 1639.57 288.92 Q1641.52 286.235 1641.52 281.536 Q1641.52 276.837 1639.57 274.175 Q1637.63 271.49 1634.25 271.49 Q1630.87 271.49 1628.93 274.175 Q1627.01 276.837 1627.01 281.536 Z\" fill=\"#000000\" fill-rule=\"evenodd\" fill-opacity=\"1\" /><path clip-path=\"url(#clip270)\" d=\"M1673.74 290.587 L1673.74 304.337 L1669.46 304.337 L1669.46 268.55 L1673.74 268.55 L1673.74 272.485 Q1675.08 270.17 1677.12 269.059 Q1679.18 267.925 1682.03 267.925 Q1686.75 267.925 1689.69 271.675 Q1692.65 275.425 1692.65 281.536 Q1692.65 287.647 1689.69 291.397 Q1686.75 295.147 1682.03 295.147 Q1679.18 295.147 1677.12 294.036 Q1675.08 292.902 1673.74 290.587 M1688.23 281.536 Q1688.23 276.837 1686.29 274.175 Q1684.37 271.49 1680.99 271.49 Q1677.61 271.49 1675.66 274.175 Q1673.74 276.837 1673.74 281.536 Q1673.74 286.235 1675.66 288.92 Q1677.61 291.582 1680.99 291.582 Q1684.37 291.582 1686.29 288.92 Q1688.23 286.235 1688.23 281.536 Z\" fill=\"#000000\" fill-rule=\"evenodd\" fill-opacity=\"1\" /><path clip-path=\"url(#clip270)\" d=\"M1714.74 272.531 Q1714.02 272.115 1713.16 271.93 Q1712.33 271.721 1711.31 271.721 Q1707.7 271.721 1705.76 274.082 Q1703.83 276.42 1703.83 280.818 L1703.83 294.476 L1699.55 294.476 L1699.55 268.55 L1703.83 268.55 L1703.83 272.578 Q1705.18 270.217 1707.33 269.082 Q1709.48 267.925 1712.56 267.925 Q1713 267.925 1713.53 267.994 Q1714.07 268.041 1714.71 268.156 L1714.74 272.531 Z\" fill=\"#000000\" fill-rule=\"evenodd\" fill-opacity=\"1\" /><path clip-path=\"url(#clip270)\" d=\"M1719.2 268.55 L1723.46 268.55 L1723.46 294.476 L1719.2 294.476 L1719.2 268.55 M1719.2 258.457 L1723.46 258.457 L1723.46 263.851 L1719.2 263.851 L1719.2 258.457 Z\" fill=\"#000000\" fill-rule=\"evenodd\" fill-opacity=\"1\" /><path clip-path=\"url(#clip270)\" d=\"M1751.03 269.545 L1751.03 273.527 Q1749.23 272.531 1747.4 272.045 Q1745.59 271.536 1743.74 271.536 Q1739.6 271.536 1737.31 274.175 Q1735.01 276.791 1735.01 281.536 Q1735.01 286.281 1737.31 288.92 Q1739.6 291.536 1743.74 291.536 Q1745.59 291.536 1747.4 291.05 Q1749.23 290.541 1751.03 289.545 L1751.03 293.48 Q1749.25 294.314 1747.33 294.73 Q1745.43 295.147 1743.28 295.147 Q1737.42 295.147 1733.97 291.466 Q1730.52 287.786 1730.52 281.536 Q1730.52 275.193 1734 271.559 Q1737.49 267.925 1743.56 267.925 Q1745.52 267.925 1747.4 268.342 Q1749.27 268.735 1751.03 269.545 Z\" fill=\"#000000\" fill-rule=\"evenodd\" fill-opacity=\"1\" /><path clip-path=\"url(#clip270)\" d=\"M1780.62 280.448 L1780.62 282.531 L1761.03 282.531 Q1761.31 286.929 1763.67 289.244 Q1766.06 291.536 1770.29 291.536 Q1772.75 291.536 1775.04 290.934 Q1777.35 290.332 1779.62 289.129 L1779.62 293.156 Q1777.33 294.128 1774.92 294.638 Q1772.51 295.147 1770.04 295.147 Q1763.83 295.147 1760.2 291.536 Q1756.59 287.925 1756.59 281.767 Q1756.59 275.402 1760.01 271.675 Q1763.46 267.925 1769.3 267.925 Q1774.53 267.925 1777.56 271.305 Q1780.62 274.661 1780.62 280.448 M1776.36 279.198 Q1776.31 275.703 1774.39 273.619 Q1772.49 271.536 1769.34 271.536 Q1765.78 271.536 1763.63 273.55 Q1761.5 275.564 1761.17 279.221 L1776.36 279.198 Z\" fill=\"#000000\" fill-rule=\"evenodd\" fill-opacity=\"1\" /><path clip-path=\"url(#clip270)\" d=\"M339.404 829.621 L344.08 829.621 L344.08 864.181 L339.404 864.181 L339.404 829.621 Z\" fill=\"#000000\" fill-rule=\"evenodd\" fill-opacity=\"1\" /><path clip-path=\"url(#clip270)\" d=\"M374.752 848.533 L374.752 864.181 L370.492 864.181 L370.492 848.672 Q370.492 844.992 369.057 843.163 Q367.622 841.334 364.752 841.334 Q361.303 841.334 359.312 843.533 Q357.321 845.732 357.321 849.529 L357.321 864.181 L353.039 864.181 L353.039 838.255 L357.321 838.255 L357.321 842.283 Q358.849 839.945 360.909 838.788 Q362.992 837.63 365.701 837.63 Q370.168 837.63 372.46 840.408 Q374.752 843.163 374.752 848.533 Z\" fill=\"#000000\" fill-rule=\"evenodd\" fill-opacity=\"1\" /><path clip-path=\"url(#clip270)\" d=\"M408.362 841.242 Q404.937 841.242 402.946 843.927 Q400.955 846.589 400.955 851.242 Q400.955 855.894 402.923 858.579 Q404.913 861.241 408.362 861.241 Q411.765 861.241 413.756 858.556 Q415.747 855.871 415.747 851.242 Q415.747 846.635 413.756 843.95 Q411.765 841.242 408.362 841.242 M408.362 837.63 Q413.918 837.63 417.089 841.242 Q420.261 844.853 420.261 851.242 Q420.261 857.607 417.089 861.241 Q413.918 864.853 408.362 864.853 Q402.784 864.853 399.612 861.241 Q396.464 857.607 396.464 851.242 Q396.464 844.853 399.612 841.242 Q402.784 837.63 408.362 837.63 Z\" fill=\"#000000\" fill-rule=\"evenodd\" fill-opacity=\"1\" /><path clip-path=\"url(#clip270)\" d=\"M426.881 853.95 L426.881 838.255 L431.14 838.255 L431.14 853.788 Q431.14 857.468 432.575 859.32 Q434.01 861.149 436.881 861.149 Q440.33 861.149 442.321 858.95 Q444.334 856.751 444.334 852.954 L444.334 838.255 L448.594 838.255 L448.594 864.181 L444.334 864.181 L444.334 860.2 Q442.784 862.561 440.723 863.718 Q438.686 864.853 435.978 864.853 Q431.51 864.853 429.196 862.075 Q426.881 859.297 426.881 853.95 M437.598 837.63 L437.598 837.63 Z\" fill=\"#000000\" fill-rule=\"evenodd\" fill-opacity=\"1\" /><path clip-path=\"url(#clip270)\" d=\"M472.39 842.237 Q471.672 841.82 470.816 841.635 Q469.982 841.427 468.964 841.427 Q465.353 841.427 463.408 843.788 Q461.487 846.126 461.487 850.524 L461.487 864.181 L457.205 864.181 L457.205 838.255 L461.487 838.255 L461.487 842.283 Q462.83 839.922 464.983 838.788 Q467.135 837.63 470.214 837.63 Q470.654 837.63 471.186 837.7 Q471.719 837.746 472.367 837.862 L472.39 842.237 Z\" fill=\"#000000\" fill-rule=\"evenodd\" fill-opacity=\"1\" /><path clip-path=\"url(#clip270)\" d=\"M514.103 850.154 L514.103 852.237 L494.519 852.237 Q494.797 856.635 497.158 858.95 Q499.543 861.241 503.779 861.241 Q506.232 861.241 508.524 860.64 Q510.839 860.038 513.107 858.834 L513.107 862.862 Q510.816 863.834 508.408 864.343 Q506.001 864.853 503.524 864.853 Q497.32 864.853 493.686 861.241 Q490.075 857.63 490.075 851.473 Q490.075 845.107 493.501 841.38 Q496.95 837.63 502.783 837.63 Q508.015 837.63 511.047 841.01 Q514.103 844.367 514.103 850.154 M509.843 848.904 Q509.797 845.408 507.876 843.325 Q505.978 841.242 502.83 841.242 Q499.265 841.242 497.112 843.255 Q494.982 845.269 494.658 848.927 L509.843 848.904 Z\" fill=\"#000000\" fill-rule=\"evenodd\" fill-opacity=\"1\" /><path clip-path=\"url(#clip270)\" d=\"M541.811 838.255 L532.436 850.871 L542.297 864.181 L537.274 864.181 L529.728 853.996 L522.181 864.181 L517.158 864.181 L527.228 850.617 L518.015 838.255 L523.038 838.255 L529.913 847.492 L536.788 838.255 L541.811 838.255 Z\" fill=\"#000000\" fill-rule=\"evenodd\" fill-opacity=\"1\" /><path clip-path=\"url(#clip270)\" d=\"M560.098 851.149 Q554.936 851.149 552.945 852.329 Q550.954 853.51 550.954 856.357 Q550.954 858.626 552.436 859.968 Q553.94 861.288 556.51 861.288 Q560.051 861.288 562.181 858.788 Q564.334 856.265 564.334 852.098 L564.334 851.149 L560.098 851.149 M568.593 849.39 L568.593 864.181 L564.334 864.181 L564.334 860.246 Q562.876 862.607 560.7 863.741 Q558.524 864.853 555.376 864.853 Q551.394 864.853 549.033 862.63 Q546.695 860.385 546.695 856.635 Q546.695 852.26 549.612 850.038 Q552.551 847.816 558.362 847.816 L564.334 847.816 L564.334 847.399 Q564.334 844.459 562.389 842.862 Q560.468 841.242 556.973 841.242 Q554.751 841.242 552.644 841.774 Q550.538 842.306 548.593 843.371 L548.593 839.436 Q550.931 838.533 553.13 838.093 Q555.329 837.63 557.413 837.63 Q563.038 837.63 565.815 840.547 Q568.593 843.464 568.593 849.39 Z\" fill=\"#000000\" fill-rule=\"evenodd\" fill-opacity=\"1\" /><path clip-path=\"url(#clip270)\" d=\"M597.551 843.232 Q599.148 840.362 601.371 838.996 Q603.593 837.63 606.602 837.63 Q610.653 837.63 612.852 840.478 Q615.051 843.302 615.051 848.533 L615.051 864.181 L610.769 864.181 L610.769 848.672 Q610.769 844.945 609.449 843.14 Q608.13 841.334 605.422 841.334 Q602.111 841.334 600.19 843.533 Q598.269 845.732 598.269 849.529 L598.269 864.181 L593.986 864.181 L593.986 848.672 Q593.986 844.922 592.667 843.14 Q591.348 841.334 588.593 841.334 Q585.329 841.334 583.408 843.556 Q581.487 845.755 581.487 849.529 L581.487 864.181 L577.204 864.181 L577.204 838.255 L581.487 838.255 L581.487 842.283 Q582.945 839.899 584.982 838.765 Q587.019 837.63 589.82 837.63 Q592.644 837.63 594.611 839.066 Q596.602 840.501 597.551 843.232 Z\" fill=\"#000000\" fill-rule=\"evenodd\" fill-opacity=\"1\" /><path clip-path=\"url(#clip270)\" d=\"M627.667 860.292 L627.667 874.042 L623.384 874.042 L623.384 838.255 L627.667 838.255 L627.667 842.191 Q629.009 839.876 631.046 838.765 Q633.107 837.63 635.954 837.63 Q640.676 837.63 643.616 841.38 Q646.579 845.13 646.579 851.242 Q646.579 857.353 643.616 861.103 Q640.676 864.853 635.954 864.853 Q633.107 864.853 631.046 863.741 Q629.009 862.607 627.667 860.292 M642.157 851.242 Q642.157 846.542 640.213 843.88 Q638.292 841.195 634.912 841.195 Q631.533 841.195 629.588 843.88 Q627.667 846.542 627.667 851.242 Q627.667 855.941 629.588 858.626 Q631.533 861.288 634.912 861.288 Q638.292 861.288 640.213 858.626 Q642.157 855.941 642.157 851.242 Z\" fill=\"#000000\" fill-rule=\"evenodd\" fill-opacity=\"1\" /><path clip-path=\"url(#clip270)\" d=\"M653.639 828.163 L657.898 828.163 L657.898 864.181 L653.639 864.181 L653.639 828.163 Z\" fill=\"#000000\" fill-rule=\"evenodd\" fill-opacity=\"1\" /><path clip-path=\"url(#clip270)\" d=\"M688.986 850.154 L688.986 852.237 L669.403 852.237 Q669.68 856.635 672.042 858.95 Q674.426 861.241 678.662 861.241 Q681.116 861.241 683.407 860.64 Q685.722 860.038 687.991 858.834 L687.991 862.862 Q685.699 863.834 683.292 864.343 Q680.884 864.853 678.407 864.853 Q672.204 864.853 668.569 861.241 Q664.958 857.63 664.958 851.473 Q664.958 845.107 668.384 841.38 Q671.833 837.63 677.667 837.63 Q682.898 837.63 685.93 841.01 Q688.986 844.367 688.986 850.154 M684.727 848.904 Q684.68 845.408 682.759 843.325 Q680.861 841.242 677.713 841.242 Q674.148 841.242 671.995 843.255 Q669.866 845.269 669.542 848.927 L684.727 848.904 Z\" fill=\"#000000\" fill-rule=\"evenodd\" fill-opacity=\"1\" /><path clip-path=\"url(#clip270)\" d=\"M697.065 858.302 L701.949 858.302 L701.949 862.283 L698.153 869.69 L695.166 869.69 L697.065 862.283 L697.065 858.302 Z\" fill=\"#000000\" fill-rule=\"evenodd\" fill-opacity=\"1\" /><path clip-path=\"url(#clip270)\" d=\"M730.328 830.894 L730.328 838.255 L739.101 838.255 L739.101 841.566 L730.328 841.566 L730.328 855.64 Q730.328 858.811 731.185 859.714 Q732.064 860.616 734.726 860.616 L739.101 860.616 L739.101 864.181 L734.726 864.181 Q729.796 864.181 727.921 862.353 Q726.046 860.501 726.046 855.64 L726.046 841.566 L722.921 841.566 L722.921 838.255 L726.046 838.255 L726.046 830.894 L730.328 830.894 Z\" fill=\"#000000\" fill-rule=\"evenodd\" fill-opacity=\"1\" /><path clip-path=\"url(#clip270)\" d=\"M766.254 848.533 L766.254 864.181 L761.995 864.181 L761.995 848.672 Q761.995 844.992 760.56 843.163 Q759.124 841.334 756.254 841.334 Q752.805 841.334 750.814 843.533 Q748.824 845.732 748.824 849.529 L748.824 864.181 L744.541 864.181 L744.541 828.163 L748.824 828.163 L748.824 842.283 Q750.351 839.945 752.412 838.788 Q754.495 837.63 757.203 837.63 Q761.671 837.63 763.962 840.408 Q766.254 843.163 766.254 848.533 Z\" fill=\"#000000\" fill-rule=\"evenodd\" fill-opacity=\"1\" /><path clip-path=\"url(#clip270)\" d=\"M796.925 850.154 L796.925 852.237 L777.342 852.237 Q777.62 856.635 779.981 858.95 Q782.365 861.241 786.601 861.241 Q789.055 861.241 791.347 860.64 Q793.661 860.038 795.93 858.834 L795.93 862.862 Q793.638 863.834 791.231 864.343 Q788.823 864.853 786.347 864.853 Q780.143 864.853 776.509 861.241 Q772.898 857.63 772.898 851.473 Q772.898 845.107 776.323 841.38 Q779.772 837.63 785.606 837.63 Q790.837 837.63 793.87 841.01 Q796.925 844.367 796.925 850.154 M792.666 848.904 Q792.62 845.408 790.698 843.325 Q788.8 841.242 785.652 841.242 Q782.087 841.242 779.935 843.255 Q777.805 845.269 777.481 848.927 L792.666 848.904 Z\" fill=\"#000000\" fill-rule=\"evenodd\" fill-opacity=\"1\" /><path clip-path=\"url(#clip270)\" d=\"M818.985 838.255 L823.244 838.255 L823.244 864.181 L818.985 864.181 L818.985 838.255 M818.985 828.163 L823.244 828.163 L823.244 833.556 L818.985 833.556 L818.985 828.163 Z\" fill=\"#000000\" fill-rule=\"evenodd\" fill-opacity=\"1\" /><path clip-path=\"url(#clip270)\" d=\"M853.707 848.533 L853.707 864.181 L849.448 864.181 L849.448 848.672 Q849.448 844.992 848.013 843.163 Q846.578 841.334 843.707 841.334 Q840.258 841.334 838.268 843.533 Q836.277 845.732 836.277 849.529 L836.277 864.181 L831.994 864.181 L831.994 838.255 L836.277 838.255 L836.277 842.283 Q837.805 839.945 839.865 838.788 Q841.948 837.63 844.656 837.63 Q849.124 837.63 851.416 840.408 Q853.707 843.163 853.707 848.533 Z\" fill=\"#000000\" fill-rule=\"evenodd\" fill-opacity=\"1\" /><path clip-path=\"url(#clip270)\" d=\"M866.416 830.894 L866.416 838.255 L875.189 838.255 L875.189 841.566 L866.416 841.566 L866.416 855.64 Q866.416 858.811 867.272 859.714 Q868.152 860.616 870.814 860.616 L875.189 860.616 L875.189 864.181 L870.814 864.181 Q865.883 864.181 864.008 862.353 Q862.133 860.501 862.133 855.64 L862.133 841.566 L859.008 841.566 L859.008 838.255 L862.133 838.255 L862.133 830.894 L866.416 830.894 Z\" fill=\"#000000\" fill-rule=\"evenodd\" fill-opacity=\"1\" /><path clip-path=\"url(#clip270)\" d=\"M902.966 850.154 L902.966 852.237 L883.383 852.237 Q883.661 856.635 886.022 858.95 Q888.406 861.241 892.642 861.241 Q895.096 861.241 897.388 860.64 Q899.702 860.038 901.971 858.834 L901.971 862.862 Q899.679 863.834 897.272 864.343 Q894.864 864.853 892.388 864.853 Q886.184 864.853 882.55 861.241 Q878.939 857.63 878.939 851.473 Q878.939 845.107 882.365 841.38 Q885.814 837.63 891.647 837.63 Q896.878 837.63 899.911 841.01 Q902.966 844.367 902.966 850.154 M898.707 848.904 Q898.661 845.408 896.739 843.325 Q894.841 841.242 891.693 841.242 Q888.128 841.242 885.976 843.255 Q883.846 845.269 883.522 848.927 L898.707 848.904 Z\" fill=\"#000000\" fill-rule=\"evenodd\" fill-opacity=\"1\" /><path clip-path=\"url(#clip270)\" d=\"M924.98 842.237 Q924.262 841.82 923.406 841.635 Q922.573 841.427 921.554 841.427 Q917.943 841.427 915.999 843.788 Q914.077 846.126 914.077 850.524 L914.077 864.181 L909.795 864.181 L909.795 838.255 L914.077 838.255 L914.077 842.283 Q915.42 839.922 917.573 838.788 Q919.725 837.63 922.804 837.63 Q923.244 837.63 923.776 837.7 Q924.309 837.746 924.957 837.862 L924.98 842.237 Z\" fill=\"#000000\" fill-rule=\"evenodd\" fill-opacity=\"1\" /><path clip-path=\"url(#clip270)\" d=\"M950.582 850.154 L950.582 852.237 L930.999 852.237 Q931.276 856.635 933.637 858.95 Q936.022 861.241 940.258 861.241 Q942.711 861.241 945.003 860.64 Q947.318 860.038 949.586 858.834 L949.586 862.862 Q947.295 863.834 944.887 864.343 Q942.48 864.853 940.003 864.853 Q933.799 864.853 930.165 861.241 Q926.554 857.63 926.554 851.473 Q926.554 845.107 929.98 841.38 Q933.429 837.63 939.262 837.63 Q944.494 837.63 947.526 841.01 Q950.582 844.367 950.582 850.154 M946.323 848.904 Q946.276 845.408 944.355 843.325 Q942.457 841.242 939.309 841.242 Q935.744 841.242 933.591 843.255 Q931.461 845.269 931.137 848.927 L946.323 848.904 Z\" fill=\"#000000\" fill-rule=\"evenodd\" fill-opacity=\"1\" /><path clip-path=\"url(#clip270)\" d=\"M974.1 839.019 L974.1 843.047 Q972.295 842.121 970.35 841.658 Q968.406 841.195 966.322 841.195 Q963.151 841.195 961.554 842.167 Q959.98 843.14 959.98 845.084 Q959.98 846.566 961.114 847.422 Q962.248 848.255 965.674 849.019 L967.133 849.343 Q971.67 850.316 973.568 852.098 Q975.489 853.857 975.489 857.029 Q975.489 860.64 972.619 862.746 Q969.771 864.853 964.772 864.853 Q962.688 864.853 960.42 864.436 Q958.174 864.042 955.674 863.232 L955.674 858.834 Q958.035 860.061 960.327 860.686 Q962.619 861.288 964.864 861.288 Q967.873 861.288 969.494 860.269 Q971.114 859.228 971.114 857.353 Q971.114 855.616 969.934 854.691 Q968.776 853.765 964.818 852.908 L963.336 852.561 Q959.378 851.728 957.619 850.015 Q955.86 848.279 955.86 845.269 Q955.86 841.612 958.452 839.621 Q961.045 837.63 965.813 837.63 Q968.174 837.63 970.258 837.978 Q972.341 838.325 974.1 839.019 Z\" fill=\"#000000\" fill-rule=\"evenodd\" fill-opacity=\"1\" /><path clip-path=\"url(#clip270)\" d=\"M986.484 830.894 L986.484 838.255 L995.257 838.255 L995.257 841.566 L986.484 841.566 L986.484 855.64 Q986.484 858.811 987.341 859.714 Q988.22 860.616 990.882 860.616 L995.257 860.616 L995.257 864.181 L990.882 864.181 Q985.952 864.181 984.077 862.353 Q982.202 860.501 982.202 855.64 L982.202 841.566 L979.077 841.566 L979.077 838.255 L982.202 838.255 L982.202 830.894 L986.484 830.894 Z\" fill=\"#000000\" fill-rule=\"evenodd\" fill-opacity=\"1\" /><path clip-path=\"url(#clip270)\" d=\"M1030.95 842.237 Q1030.23 841.82 1029.38 841.635 Q1028.54 841.427 1027.53 841.427 Q1023.91 841.427 1021.97 843.788 Q1020.05 846.126 1020.05 850.524 L1020.05 864.181 L1015.77 864.181 L1015.77 838.255 L1020.05 838.255 L1020.05 842.283 Q1021.39 839.922 1023.54 838.788 Q1025.7 837.63 1028.78 837.63 Q1029.22 837.63 1029.75 837.7 Q1030.28 837.746 1030.93 837.862 L1030.95 842.237 Z\" fill=\"#000000\" fill-rule=\"evenodd\" fill-opacity=\"1\" /><path clip-path=\"url(#clip270)\" d=\"M1047.2 851.149 Q1042.04 851.149 1040.05 852.329 Q1038.06 853.51 1038.06 856.357 Q1038.06 858.626 1039.54 859.968 Q1041.04 861.288 1043.61 861.288 Q1047.16 861.288 1049.28 858.788 Q1051.44 856.265 1051.44 852.098 L1051.44 851.149 L1047.2 851.149 M1055.7 849.39 L1055.7 864.181 L1051.44 864.181 L1051.44 860.246 Q1049.98 862.607 1047.8 863.741 Q1045.63 864.853 1042.48 864.853 Q1038.5 864.853 1036.14 862.63 Q1033.8 860.385 1033.8 856.635 Q1033.8 852.26 1036.72 850.038 Q1039.66 847.816 1045.47 847.816 L1051.44 847.816 L1051.44 847.399 Q1051.44 844.459 1049.49 842.862 Q1047.57 841.242 1044.08 841.242 Q1041.85 841.242 1039.75 841.774 Q1037.64 842.306 1035.7 843.371 L1035.7 839.436 Q1038.03 838.533 1040.23 838.093 Q1042.43 837.63 1044.52 837.63 Q1050.14 837.63 1052.92 840.547 Q1055.7 843.464 1055.7 849.39 Z\" fill=\"#000000\" fill-rule=\"evenodd\" fill-opacity=\"1\" /><path clip-path=\"url(#clip270)\" d=\"M1068.68 830.894 L1068.68 838.255 L1077.46 838.255 L1077.46 841.566 L1068.68 841.566 L1068.68 855.64 Q1068.68 858.811 1069.54 859.714 Q1070.42 860.616 1073.08 860.616 L1077.46 860.616 L1077.46 864.181 L1073.08 864.181 Q1068.15 864.181 1066.28 862.353 Q1064.4 860.501 1064.4 855.64 L1064.4 841.566 L1061.28 841.566 L1061.28 838.255 L1064.4 838.255 L1064.4 830.894 L1068.68 830.894 Z\" fill=\"#000000\" fill-rule=\"evenodd\" fill-opacity=\"1\" /><path clip-path=\"url(#clip270)\" d=\"M1105.23 850.154 L1105.23 852.237 L1085.65 852.237 Q1085.93 856.635 1088.29 858.95 Q1090.67 861.241 1094.91 861.241 Q1097.36 861.241 1099.66 860.64 Q1101.97 860.038 1104.24 858.834 L1104.24 862.862 Q1101.95 863.834 1099.54 864.343 Q1097.13 864.853 1094.66 864.853 Q1088.45 864.853 1084.82 861.241 Q1081.21 857.63 1081.21 851.473 Q1081.21 845.107 1084.63 841.38 Q1088.08 837.63 1093.91 837.63 Q1099.15 837.63 1102.18 841.01 Q1105.23 844.367 1105.23 850.154 M1100.97 848.904 Q1100.93 845.408 1099.01 843.325 Q1097.11 841.242 1093.96 841.242 Q1090.4 841.242 1088.24 843.255 Q1086.11 845.269 1085.79 848.927 L1100.97 848.904 Z\" fill=\"#000000\" fill-rule=\"evenodd\" fill-opacity=\"1\" /><path clip-path=\"url(#clip270)\" d=\"M1128.75 839.019 L1128.75 843.047 Q1126.95 842.121 1125 841.658 Q1123.06 841.195 1120.97 841.195 Q1117.8 841.195 1116.21 842.167 Q1114.63 843.14 1114.63 845.084 Q1114.63 846.566 1115.77 847.422 Q1116.9 848.255 1120.33 849.019 L1121.78 849.343 Q1126.32 850.316 1128.22 852.098 Q1130.14 853.857 1130.14 857.029 Q1130.14 860.64 1127.27 862.746 Q1124.42 864.853 1119.42 864.853 Q1117.34 864.853 1115.07 864.436 Q1112.83 864.042 1110.33 863.232 L1110.33 858.834 Q1112.69 860.061 1114.98 860.686 Q1117.27 861.288 1119.52 861.288 Q1122.53 861.288 1124.15 860.269 Q1125.77 859.228 1125.77 857.353 Q1125.77 855.616 1124.59 854.691 Q1123.43 853.765 1119.47 852.908 L1117.99 852.561 Q1114.03 851.728 1112.27 850.015 Q1110.51 848.279 1110.51 845.269 Q1110.51 841.612 1113.1 839.621 Q1115.7 837.63 1120.47 837.63 Q1122.83 837.63 1124.91 837.978 Q1126.99 838.325 1128.75 839.019 Z\" fill=\"#000000\" fill-rule=\"evenodd\" fill-opacity=\"1\" /><path clip-path=\"url(#clip270)\" d=\"M352.807 902.989 Q347.645 902.989 345.654 904.169 Q343.664 905.35 343.664 908.197 Q343.664 910.466 345.145 911.808 Q346.65 913.128 349.219 913.128 Q352.761 913.128 354.891 910.628 Q357.043 908.105 357.043 903.938 L357.043 902.989 L352.807 902.989 M361.303 901.23 L361.303 916.021 L357.043 916.021 L357.043 912.086 Q355.585 914.447 353.409 915.581 Q351.233 916.693 348.085 916.693 Q344.104 916.693 341.742 914.47 Q339.404 912.225 339.404 908.475 Q339.404 904.1 342.321 901.878 Q345.261 899.656 351.071 899.656 L357.043 899.656 L357.043 899.239 Q357.043 896.299 355.099 894.702 Q353.178 893.082 349.682 893.082 Q347.46 893.082 345.354 893.614 Q343.247 894.146 341.303 895.211 L341.303 891.276 Q343.641 890.373 345.84 889.933 Q348.039 889.47 350.122 889.47 Q355.747 889.47 358.525 892.387 Q361.303 895.304 361.303 901.23 Z\" fill=\"#000000\" fill-rule=\"evenodd\" fill-opacity=\"1\" /><path clip-path=\"url(#clip270)\" d=\"M385.099 894.077 Q384.381 893.66 383.525 893.475 Q382.691 893.267 381.673 893.267 Q378.062 893.267 376.117 895.628 Q374.196 897.966 374.196 902.364 L374.196 916.021 L369.914 916.021 L369.914 890.095 L374.196 890.095 L374.196 894.123 Q375.539 891.762 377.691 890.628 Q379.844 889.47 382.923 889.47 Q383.363 889.47 383.895 889.54 Q384.427 889.586 385.076 889.702 L385.099 894.077 Z\" fill=\"#000000\" fill-rule=\"evenodd\" fill-opacity=\"1\" /><path clip-path=\"url(#clip270)\" d=\"M410.7 901.994 L410.7 904.077 L391.117 904.077 Q391.395 908.475 393.756 910.79 Q396.14 913.081 400.376 913.081 Q402.83 913.081 405.122 912.48 Q407.437 911.878 409.705 910.674 L409.705 914.702 Q407.413 915.674 405.006 916.183 Q402.599 916.693 400.122 916.693 Q393.918 916.693 390.284 913.081 Q386.673 909.47 386.673 903.313 Q386.673 896.947 390.099 893.22 Q393.548 889.47 399.381 889.47 Q404.612 889.47 407.645 892.85 Q410.7 896.207 410.7 901.994 M406.441 900.744 Q406.395 897.248 404.474 895.165 Q402.575 893.082 399.427 893.082 Q395.863 893.082 393.71 895.095 Q391.58 897.109 391.256 900.767 L406.441 900.744 Z\" fill=\"#000000\" fill-rule=\"evenodd\" fill-opacity=\"1\" /><path clip-path=\"url(#clip270)\" d=\"M443.362 884.54 Q439.751 884.54 437.922 888.105 Q436.117 891.646 436.117 898.776 Q436.117 905.882 437.922 909.447 Q439.751 912.989 443.362 912.989 Q446.996 912.989 448.802 909.447 Q450.631 905.882 450.631 898.776 Q450.631 891.646 448.802 888.105 Q446.996 884.54 443.362 884.54 M443.362 880.836 Q449.172 880.836 452.228 885.443 Q455.307 890.026 455.307 898.776 Q455.307 907.503 452.228 912.109 Q449.172 916.693 443.362 916.693 Q437.552 916.693 434.473 912.109 Q431.418 907.503 431.418 898.776 Q431.418 890.026 434.473 885.443 Q437.552 880.836 443.362 880.836 Z\" fill=\"#000000\" fill-rule=\"evenodd\" fill-opacity=\"1\" /><path clip-path=\"url(#clip270)\" d=\"M463.524 910.142 L468.408 910.142 L468.408 916.021 L463.524 916.021 L463.524 910.142 Z\" fill=\"#000000\" fill-rule=\"evenodd\" fill-opacity=\"1\" /><path clip-path=\"url(#clip270)\" d=\"M488.593 884.54 Q484.982 884.54 483.154 888.105 Q481.348 891.646 481.348 898.776 Q481.348 905.882 483.154 909.447 Q484.982 912.989 488.593 912.989 Q492.228 912.989 494.033 909.447 Q495.862 905.882 495.862 898.776 Q495.862 891.646 494.033 888.105 Q492.228 884.54 488.593 884.54 M488.593 880.836 Q494.404 880.836 497.459 885.443 Q500.538 890.026 500.538 898.776 Q500.538 907.503 497.459 912.109 Q494.404 916.693 488.593 916.693 Q482.783 916.693 479.705 912.109 Q476.649 907.503 476.649 898.776 Q476.649 890.026 479.705 885.443 Q482.783 880.836 488.593 880.836 Z\" fill=\"#000000\" fill-rule=\"evenodd\" fill-opacity=\"1\" /><path clip-path=\"url(#clip270)\" d=\"M508.802 881.461 L527.158 881.461 L527.158 885.396 L513.084 885.396 L513.084 893.869 Q514.103 893.521 515.121 893.359 Q516.14 893.174 517.158 893.174 Q522.945 893.174 526.325 896.345 Q529.704 899.517 529.704 904.933 Q529.704 910.512 526.232 913.614 Q522.76 916.693 516.441 916.693 Q514.265 916.693 511.996 916.322 Q509.751 915.952 507.343 915.211 L507.343 910.512 Q509.427 911.646 511.649 912.202 Q513.871 912.757 516.348 912.757 Q520.353 912.757 522.691 910.651 Q525.028 908.544 525.028 904.933 Q525.028 901.322 522.691 899.216 Q520.353 897.109 516.348 897.109 Q514.473 897.109 512.598 897.526 Q510.746 897.943 508.802 898.822 L508.802 881.461 Z\" fill=\"#000000\" fill-rule=\"evenodd\" fill-opacity=\"1\" /><path clip-path=\"url(#clip270)\" d=\"M563.616 880.049 Q560.514 885.373 559.01 890.582 Q557.505 895.79 557.505 901.137 Q557.505 906.484 559.01 911.739 Q560.538 916.97 563.616 922.271 L559.913 922.271 Q556.44 916.831 554.704 911.577 Q552.991 906.322 552.991 901.137 Q552.991 895.975 554.704 890.744 Q556.417 885.512 559.913 880.049 L563.616 880.049 Z\" fill=\"#000000\" fill-rule=\"evenodd\" fill-opacity=\"1\" /><path clip-path=\"url(#clip270)\" d=\"M590.491 903.082 Q590.491 898.382 588.547 895.72 Q586.625 893.035 583.246 893.035 Q579.866 893.035 577.922 895.72 Q576 898.382 576 903.082 Q576 907.781 577.922 910.466 Q579.866 913.128 583.246 913.128 Q586.625 913.128 588.547 910.466 Q590.491 907.781 590.491 903.082 M576 894.031 Q577.343 891.716 579.38 890.605 Q581.44 889.47 584.287 889.47 Q589.01 889.47 591.949 893.22 Q594.912 896.97 594.912 903.082 Q594.912 909.193 591.949 912.943 Q589.01 916.693 584.287 916.693 Q581.44 916.693 579.38 915.581 Q577.343 914.447 576 912.132 L576 916.021 L571.718 916.021 L571.718 880.003 L576 880.003 L576 894.031 Z\" fill=\"#000000\" fill-rule=\"evenodd\" fill-opacity=\"1\" /><path clip-path=\"url(#clip270)\" d=\"M624.148 901.994 L624.148 904.077 L604.565 904.077 Q604.843 908.475 607.204 910.79 Q609.588 913.081 613.824 913.081 Q616.278 913.081 618.57 912.48 Q620.884 911.878 623.153 910.674 L623.153 914.702 Q620.861 915.674 618.454 916.183 Q616.047 916.693 613.57 916.693 Q607.366 916.693 603.732 913.081 Q600.121 909.47 600.121 903.313 Q600.121 896.947 603.547 893.22 Q606.996 889.47 612.829 889.47 Q618.06 889.47 621.093 892.85 Q624.148 896.207 624.148 901.994 M619.889 900.744 Q619.843 897.248 617.922 895.165 Q616.023 893.082 612.875 893.082 Q609.31 893.082 607.158 895.095 Q605.028 897.109 604.704 900.767 L619.889 900.744 Z\" fill=\"#000000\" fill-rule=\"evenodd\" fill-opacity=\"1\" /><path clip-path=\"url(#clip270)\" d=\"M644.264 880.003 L644.264 883.545 L640.19 883.545 Q637.898 883.545 636.995 884.47 Q636.116 885.396 636.116 887.804 L636.116 890.095 L643.13 890.095 L643.13 893.406 L636.116 893.406 L636.116 916.021 L631.833 916.021 L631.833 893.406 L627.759 893.406 L627.759 890.095 L631.833 890.095 L631.833 888.29 Q631.833 883.961 633.847 881.994 Q635.861 880.003 640.236 880.003 L644.264 880.003 Z\" fill=\"#000000\" fill-rule=\"evenodd\" fill-opacity=\"1\" /><path clip-path=\"url(#clip270)\" d=\"M657.875 893.082 Q654.449 893.082 652.458 895.767 Q650.468 898.429 650.468 903.082 Q650.468 907.734 652.435 910.419 Q654.426 913.081 657.875 913.081 Q661.278 913.081 663.268 910.396 Q665.259 907.711 665.259 903.082 Q665.259 898.475 663.268 895.79 Q661.278 893.082 657.875 893.082 M657.875 889.47 Q663.431 889.47 666.602 893.082 Q669.773 896.693 669.773 903.082 Q669.773 909.447 666.602 913.081 Q663.431 916.693 657.875 916.693 Q652.296 916.693 649.125 913.081 Q645.977 909.447 645.977 903.082 Q645.977 896.693 649.125 893.082 Q652.296 889.47 657.875 889.47 Z\" fill=\"#000000\" fill-rule=\"evenodd\" fill-opacity=\"1\" /><path clip-path=\"url(#clip270)\" d=\"M691.856 894.077 Q691.139 893.66 690.282 893.475 Q689.449 893.267 688.43 893.267 Q684.819 893.267 682.875 895.628 Q680.954 897.966 680.954 902.364 L680.954 916.021 L676.671 916.021 L676.671 890.095 L680.954 890.095 L680.954 894.123 Q682.296 891.762 684.449 890.628 Q686.602 889.47 689.68 889.47 Q690.12 889.47 690.653 889.54 Q691.185 889.586 691.833 889.702 L691.856 894.077 Z\" fill=\"#000000\" fill-rule=\"evenodd\" fill-opacity=\"1\" /><path clip-path=\"url(#clip270)\" d=\"M717.458 901.994 L717.458 904.077 L697.875 904.077 Q698.153 908.475 700.514 910.79 Q702.898 913.081 707.134 913.081 Q709.588 913.081 711.879 912.48 Q714.194 911.878 716.463 910.674 L716.463 914.702 Q714.171 915.674 711.764 916.183 Q709.356 916.693 706.879 916.693 Q700.676 916.693 697.041 913.081 Q693.43 909.47 693.43 903.313 Q693.43 896.947 696.856 893.22 Q700.305 889.47 706.139 889.47 Q711.37 889.47 714.402 892.85 Q717.458 896.207 717.458 901.994 M713.199 900.744 Q713.152 897.248 711.231 895.165 Q709.333 893.082 706.185 893.082 Q702.62 893.082 700.467 895.095 Q698.338 897.109 698.014 900.767 L713.199 900.744 Z\" fill=\"#000000\" fill-rule=\"evenodd\" fill-opacity=\"1\" /><path clip-path=\"url(#clip270)\" d=\"M723.777 880.049 L727.481 880.049 Q730.953 885.512 732.666 890.744 Q734.402 895.975 734.402 901.137 Q734.402 906.322 732.666 911.577 Q730.953 916.831 727.481 922.271 L723.777 922.271 Q726.856 916.97 728.361 911.739 Q729.889 906.484 729.889 901.137 Q729.889 895.79 728.361 890.582 Q726.856 885.373 723.777 880.049 Z\" fill=\"#000000\" fill-rule=\"evenodd\" fill-opacity=\"1\" /><path clip-path=\"url(#clip270)\" d=\"M769.796 902.989 Q764.634 902.989 762.643 904.169 Q760.652 905.35 760.652 908.197 Q760.652 910.466 762.134 911.808 Q763.638 913.128 766.208 913.128 Q769.749 913.128 771.879 910.628 Q774.032 908.105 774.032 903.938 L774.032 902.989 L769.796 902.989 M778.291 901.23 L778.291 916.021 L774.032 916.021 L774.032 912.086 Q772.573 914.447 770.398 915.581 Q768.222 916.693 765.073 916.693 Q761.092 916.693 758.731 914.47 Q756.393 912.225 756.393 908.475 Q756.393 904.1 759.31 901.878 Q762.249 899.656 768.06 899.656 L774.032 899.656 L774.032 899.239 Q774.032 896.299 772.087 894.702 Q770.166 893.082 766.671 893.082 Q764.449 893.082 762.342 893.614 Q760.236 894.146 758.291 895.211 L758.291 891.276 Q760.629 890.373 762.828 889.933 Q765.027 889.47 767.111 889.47 Q772.735 889.47 775.513 892.387 Q778.291 895.304 778.291 901.23 Z\" fill=\"#000000\" fill-rule=\"evenodd\" fill-opacity=\"1\" /><path clip-path=\"url(#clip270)\" d=\"M808.615 900.373 L808.615 916.021 L804.356 916.021 L804.356 900.512 Q804.356 896.832 802.921 895.003 Q801.485 893.174 798.615 893.174 Q795.166 893.174 793.175 895.373 Q791.184 897.572 791.184 901.369 L791.184 916.021 L786.902 916.021 L786.902 890.095 L791.184 890.095 L791.184 894.123 Q792.712 891.785 794.772 890.628 Q796.856 889.47 799.564 889.47 Q804.032 889.47 806.323 892.248 Q808.615 895.003 808.615 900.373 Z\" fill=\"#000000\" fill-rule=\"evenodd\" fill-opacity=\"1\" /><path clip-path=\"url(#clip270)\" d=\"M834.17 894.031 L834.17 880.003 L838.43 880.003 L838.43 916.021 L834.17 916.021 L834.17 912.132 Q832.828 914.447 830.768 915.581 Q828.731 916.693 825.86 916.693 Q821.161 916.693 818.198 912.943 Q815.258 909.193 815.258 903.082 Q815.258 896.97 818.198 893.22 Q821.161 889.47 825.86 889.47 Q828.731 889.47 830.768 890.605 Q832.828 891.716 834.17 894.031 M819.657 903.082 Q819.657 907.781 821.578 910.466 Q823.522 913.128 826.902 913.128 Q830.281 913.128 832.226 910.466 Q834.17 907.781 834.17 903.082 Q834.17 898.382 832.226 895.72 Q830.281 893.035 826.902 893.035 Q823.522 893.035 821.578 895.72 Q819.657 898.382 819.657 903.082 Z\" fill=\"#000000\" fill-rule=\"evenodd\" fill-opacity=\"1\" /><path clip-path=\"url(#clip270)\" d=\"M872.874 884.54 Q869.263 884.54 867.434 888.105 Q865.629 891.646 865.629 898.776 Q865.629 905.882 867.434 909.447 Q869.263 912.989 872.874 912.989 Q876.508 912.989 878.314 909.447 Q880.142 905.882 880.142 898.776 Q880.142 891.646 878.314 888.105 Q876.508 884.54 872.874 884.54 M872.874 880.836 Q878.684 880.836 881.74 885.443 Q884.818 890.026 884.818 898.776 Q884.818 907.503 881.74 912.109 Q878.684 916.693 872.874 916.693 Q867.064 916.693 863.985 912.109 Q860.929 907.503 860.929 898.776 Q860.929 890.026 863.985 885.443 Q867.064 880.836 872.874 880.836 Z\" fill=\"#000000\" fill-rule=\"evenodd\" fill-opacity=\"1\" /><path clip-path=\"url(#clip270)\" d=\"M893.036 910.142 L897.92 910.142 L897.92 916.021 L893.036 916.021 L893.036 910.142 Z\" fill=\"#000000\" fill-rule=\"evenodd\" fill-opacity=\"1\" /><path clip-path=\"url(#clip270)\" d=\"M918.105 884.54 Q914.494 884.54 912.665 888.105 Q910.86 891.646 910.86 898.776 Q910.86 905.882 912.665 909.447 Q914.494 912.989 918.105 912.989 Q921.739 912.989 923.545 909.447 Q925.374 905.882 925.374 898.776 Q925.374 891.646 923.545 888.105 Q921.739 884.54 918.105 884.54 M918.105 880.836 Q923.915 880.836 926.971 885.443 Q930.049 890.026 930.049 898.776 Q930.049 907.503 926.971 912.109 Q923.915 916.693 918.105 916.693 Q912.295 916.693 909.216 912.109 Q906.161 907.503 906.161 898.776 Q906.161 890.026 909.216 885.443 Q912.295 880.836 918.105 880.836 Z\" fill=\"#000000\" fill-rule=\"evenodd\" fill-opacity=\"1\" /><path clip-path=\"url(#clip270)\" d=\"M952.434 897.387 Q955.79 898.105 957.665 900.373 Q959.563 902.642 959.563 905.975 Q959.563 911.091 956.045 913.892 Q952.526 916.693 946.045 916.693 Q943.869 916.693 941.554 916.253 Q939.262 915.836 936.809 914.98 L936.809 910.466 Q938.753 911.6 941.068 912.179 Q943.383 912.757 945.906 912.757 Q950.304 912.757 952.596 911.021 Q954.91 909.285 954.91 905.975 Q954.91 902.919 952.758 901.207 Q950.628 899.47 946.809 899.47 L942.781 899.47 L942.781 895.628 L946.994 895.628 Q950.443 895.628 952.272 894.262 Q954.1 892.873 954.1 890.281 Q954.1 887.619 952.202 886.207 Q950.327 884.771 946.809 884.771 Q944.887 884.771 942.688 885.188 Q940.489 885.605 937.85 886.484 L937.85 882.318 Q940.512 881.577 942.827 881.207 Q945.165 880.836 947.225 880.836 Q952.549 880.836 955.651 883.267 Q958.753 885.674 958.753 889.795 Q958.753 892.665 957.11 894.656 Q955.466 896.623 952.434 897.387 Z\" fill=\"#000000\" fill-rule=\"evenodd\" fill-opacity=\"1\" /><path clip-path=\"url(#clip270)\" d=\"M993.128 880.049 Q990.026 885.373 988.521 890.582 Q987.017 895.79 987.017 901.137 Q987.017 906.484 988.521 911.739 Q990.049 916.97 993.128 922.271 L989.424 922.271 Q985.952 916.831 984.216 911.577 Q982.503 906.322 982.503 901.137 Q982.503 895.975 984.216 890.744 Q985.929 885.512 989.424 880.049 L993.128 880.049 Z\" fill=\"#000000\" fill-rule=\"evenodd\" fill-opacity=\"1\" /><path clip-path=\"url(#clip270)\" d=\"M1013.17 902.989 Q1008.01 902.989 1006.02 904.169 Q1004.03 905.35 1004.03 908.197 Q1004.03 910.466 1005.51 911.808 Q1007.02 913.128 1009.59 913.128 Q1013.13 913.128 1015.26 910.628 Q1017.41 908.105 1017.41 903.938 L1017.41 902.989 L1013.17 902.989 M1021.67 901.23 L1021.67 916.021 L1017.41 916.021 L1017.41 912.086 Q1015.95 914.447 1013.78 915.581 Q1011.6 916.693 1008.45 916.693 Q1004.47 916.693 1002.11 914.47 Q999.771 912.225 999.771 908.475 Q999.771 904.1 1002.69 901.878 Q1005.63 899.656 1011.44 899.656 L1017.41 899.656 L1017.41 899.239 Q1017.41 896.299 1015.47 894.702 Q1013.54 893.082 1010.05 893.082 Q1007.83 893.082 1005.72 893.614 Q1003.61 894.146 1001.67 895.211 L1001.67 891.276 Q1004.01 890.373 1006.21 889.933 Q1008.41 889.47 1010.49 889.47 Q1016.11 889.47 1018.89 892.387 Q1021.67 895.304 1021.67 901.23 Z\" fill=\"#000000\" fill-rule=\"evenodd\" fill-opacity=\"1\" /><path clip-path=\"url(#clip270)\" d=\"M1043.57 880.003 L1043.57 883.545 L1039.49 883.545 Q1037.2 883.545 1036.3 884.47 Q1035.42 885.396 1035.42 887.804 L1035.42 890.095 L1042.43 890.095 L1042.43 893.406 L1035.42 893.406 L1035.42 916.021 L1031.14 916.021 L1031.14 893.406 L1027.06 893.406 L1027.06 890.095 L1031.14 890.095 L1031.14 888.29 Q1031.14 883.961 1033.15 881.994 Q1035.16 880.003 1039.54 880.003 L1043.57 880.003 Z\" fill=\"#000000\" fill-rule=\"evenodd\" fill-opacity=\"1\" /><path clip-path=\"url(#clip270)\" d=\"M1050.51 882.734 L1050.51 890.095 L1059.28 890.095 L1059.28 893.406 L1050.51 893.406 L1050.51 907.48 Q1050.51 910.651 1051.37 911.554 Q1052.25 912.456 1054.91 912.456 L1059.28 912.456 L1059.28 916.021 L1054.91 916.021 Q1049.98 916.021 1048.1 914.193 Q1046.23 912.341 1046.23 907.48 L1046.23 893.406 L1043.1 893.406 L1043.1 890.095 L1046.23 890.095 L1046.23 882.734 L1050.51 882.734 Z\" fill=\"#000000\" fill-rule=\"evenodd\" fill-opacity=\"1\" /><path clip-path=\"url(#clip270)\" d=\"M1087.06 901.994 L1087.06 904.077 L1067.48 904.077 Q1067.76 908.475 1070.12 910.79 Q1072.5 913.081 1076.74 913.081 Q1079.19 913.081 1081.48 912.48 Q1083.8 911.878 1086.07 910.674 L1086.07 914.702 Q1083.78 915.674 1081.37 916.183 Q1078.96 916.693 1076.48 916.693 Q1070.28 916.693 1066.65 913.081 Q1063.03 909.47 1063.03 903.313 Q1063.03 896.947 1066.46 893.22 Q1069.91 889.47 1075.74 889.47 Q1080.97 889.47 1084.01 892.85 Q1087.06 896.207 1087.06 901.994 M1082.8 900.744 Q1082.76 897.248 1080.84 895.165 Q1078.94 893.082 1075.79 893.082 Q1072.22 893.082 1070.07 895.095 Q1067.94 897.109 1067.62 900.767 L1082.8 900.744 Z\" fill=\"#000000\" fill-rule=\"evenodd\" fill-opacity=\"1\" /><path clip-path=\"url(#clip270)\" d=\"M1109.08 894.077 Q1108.36 893.66 1107.5 893.475 Q1106.67 893.267 1105.65 893.267 Q1102.04 893.267 1100.09 895.628 Q1098.17 897.966 1098.17 902.364 L1098.17 916.021 L1093.89 916.021 L1093.89 890.095 L1098.17 890.095 L1098.17 894.123 Q1099.52 891.762 1101.67 890.628 Q1103.82 889.47 1106.9 889.47 Q1107.34 889.47 1107.87 889.54 Q1108.4 889.586 1109.05 889.702 L1109.08 894.077 Z\" fill=\"#000000\" fill-rule=\"evenodd\" fill-opacity=\"1\" /><path clip-path=\"url(#clip270)\" d=\"M1112.87 880.049 L1116.58 880.049 Q1120.05 885.512 1121.76 890.744 Q1123.5 895.975 1123.5 901.137 Q1123.5 906.322 1121.76 911.577 Q1120.05 916.831 1116.58 922.271 L1112.87 922.271 Q1115.95 916.97 1117.46 911.739 Q1118.98 906.484 1118.98 901.137 Q1118.98 895.79 1117.46 890.582 Q1115.95 885.373 1112.87 880.049 Z\" fill=\"#000000\" fill-rule=\"evenodd\" fill-opacity=\"1\" /></svg>\n"
      ]
     },
     "metadata": {},
     "output_type": "display_data"
    }
   ],
   "source": [
    "θ = 0:0.01:0.1        #possible ytm values\n",
    "\n",
    "(PL,PH) = (fill(NaN,length(θ)),fill(NaN,length(θ)))\n",
    "for i = 1:length(θ)\n",
    "    PL[i] = BondPrice3(θ[i],cf,m)\n",
    "    PH[i] = BondPrice3(θ[i],1,mH)\n",
    "end\n",
    "\n",
    "txt = \"In our example, the interest rates \\nare $θ₀ (before) and $θ₁ (after)\"\n",
    "\n",
    "p1 = plot( θ,[PL v*PH],\n",
    "           linecolor = [:red :green],\n",
    "           linestyle = [:solid :dash],\n",
    "           label = [\"liability\" \"v * hedge bond price\"],\n",
    "           title = \"Naive hedging\",\n",
    "           xlabel = \"Interest rate\",\n",
    "           ylabel = \"Value of position\",\n",
    "           annotation = (0.005,1.4,text(txt,8,:left)) )\n",
    "display(p1)"
   ]
  },
  {
   "cell_type": "markdown",
   "metadata": {},
   "source": [
    "## Duration Hedging\n",
    "\n",
    "When $D_{L}^{M}\\neq D_{H}$, we could *adjust the hedge ratio* $v$ to compensate for the difference in interest rate sensitivity (duration). In particular, we could set \n",
    "\n",
    "$v =\\frac{D_{L}^{M}}{D_{H}^{M}}\\times\\frac{P_{L}}{P_{H}}$. \n",
    "\n",
    "The balance $(P_L-hP_H)$ is kept on a money market account ($M$).\n",
    "\n",
    "It can be shown that this gives an (approximate) hedge."
   ]
  },
  {
   "cell_type": "code",
   "execution_count": 10,
   "metadata": {},
   "outputs": [
    {
     "name": "stdout",
     "output_type": "stream",
     "text": [
      "\u001b[34m\u001b[1mHedge bond: zero coupon bond with m=3 and face value of 1\u001b[22m\u001b[39m\n",
      "\n",
      "PL₀                1.544\n",
      "PH₀                0.864\n",
      "v                  3.039\n",
      "v*PH₀/PL₀          1.700\n",
      "Dur(liability)     5.099\n",
      "Dur(hedge)         3.000\n",
      "M                 -1.081\n",
      "Return            -0.004\n",
      "\n",
      "\u001b[31m\u001b[1mNotice, the duration hedging gives a return of -0.4%. Close to zero.\u001b[22m\u001b[39m\n"
     ]
    }
   ],
   "source": [
    "PH₀ = BondPrice3(θ₀,1,mH)\n",
    "PH₁ = BondPrice3(θ₁,1,mH)\n",
    "v   = Dmac/mH * PL₀/PH₀\n",
    "M   = PL₀ - v*PH₀               #on money market account\n",
    "\n",
    "ΔV = v*(PH₁-PH₀) - (PL₁-PL₀)\n",
    "R  = ΔV/PL₀                     #relative value change\n",
    "\n",
    "printblue(\"Hedge bond: zero coupon bond with m=$mH and face value of 1\\n\")\n",
    "xy = [PL₀,PH₀,v,v*PH₀/PL₀,Dmac,mH,M,R]\n",
    "printmat(xy,rowNames=[\"PL₀\",\"PH₀\",\"v\",\"v*PH₀/PL₀\",\"Dur(liability)\",\"Dur(hedge)\",\"M\",\"Return\"])\n",
    "\n",
    "printred(\"Notice, the duration hedging gives a return of $(round(R*100,digits=1))%. Close to zero.\")"
   ]
  },
  {
   "cell_type": "markdown",
   "metadata": {},
   "source": [
    "## Convexity (extra)\n",
    "\n",
    "A second-order Taylor approximation gives that \n",
    "\n",
    "$\n",
    "\\frac{\\Delta P}{P}\\approx-D^{M}\\times\\frac{\\Delta\\theta}{1+\\theta}+\\frac{1}{2}C\\times(\\Delta\\theta)^{2}, \n",
    "$\n",
    "\n",
    "where \n",
    "$\n",
    "C = \\frac{1}{P} \\frac{d^{2}P}{d\\theta^{2}}\n",
    "$. \n",
    "\n",
    "The function below calculates $C$."
   ]
  },
  {
   "cell_type": "code",
   "execution_count": 11,
   "metadata": {},
   "outputs": [
    {
     "data": {
      "text/plain": [
       "BondConvexity (generic function with 1 method)"
      ]
     },
     "execution_count": 11,
     "metadata": {},
     "output_type": "execute_result"
    }
   ],
   "source": [
    "function BondConvexity(P,cf,m,ytm)\n",
    "    cdisc   = cf.*m.*(1.0.+m)./((1+ytm).^(m.+2)) \n",
    "    C       = sum(cdisc)/P\n",
    "    return C\n",
    "end"
   ]
  },
  {
   "cell_type": "code",
   "execution_count": 12,
   "metadata": {},
   "outputs": [
    {
     "name": "stdout",
     "output_type": "stream",
     "text": [
      "\u001b[34m\u001b[1mConvexity\u001b[22m\u001b[39m\n",
      "C             35.602\n",
      "Δθ            -0.020\n",
      "0.5*C*Δθ^2     0.007\n",
      "\n",
      "\u001b[31m\u001b[1mCompare the magnitude to ΔPH/PH: \u001b[22m\u001b[39m\u001b[31m\u001b[1m0.059\u001b[22m\u001b[39m\u001b[31m\u001b[1m. It seems convexity is not important in this case.\u001b[22m\u001b[39m\n"
     ]
    }
   ],
   "source": [
    "C = BondConvexity(PL₀,cf,m,θ₀)\n",
    "\n",
    "printblue(\"Convexity\")\n",
    "xy = [C;Δθ;0.5*C*Δθ^2]\n",
    "printmat(xy,rowNames=[\"C\";\"Δθ\";\"0.5*C*Δθ^2\"])\n",
    "\n",
    "printred(\"Compare the magnitude to ΔPH/PH: \",round((PH₁-PH₀)/PH₀,digits=3),\". It seems convexity is not important in this case.\")"
   ]
  },
  {
   "cell_type": "code",
   "execution_count": null,
   "metadata": {},
   "outputs": [],
   "source": []
  }
 ],
 "metadata": {
  "@webio": {
   "lastCommId": null,
   "lastKernelId": null
  },
  "anaconda-cloud": {},
  "kernelspec": {
   "display_name": "Julia 1.6.1",
   "language": "julia",
   "name": "julia-1.6"
  },
  "language_info": {
   "file_extension": ".jl",
   "mimetype": "application/julia",
   "name": "julia",
   "version": "1.6.1"
  }
 },
 "nbformat": 4,
 "nbformat_minor": 1
}
