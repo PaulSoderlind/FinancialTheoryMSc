{
 "cells": [
  {
   "cell_type": "markdown",
   "metadata": {},
   "source": [
    "# Options 4: Hedging Options\n",
    "\n",
    "This notebook illustrates how to hedge an option by holding a position in the underlying asset (delta hedging)."
   ]
  },
  {
   "cell_type": "markdown",
   "metadata": {},
   "source": [
    "## Load Packages and Extra Functions"
   ]
  },
  {
   "cell_type": "code",
   "execution_count": 1,
   "metadata": {},
   "outputs": [
    {
     "data": {
      "text/plain": [
       "printyellow (generic function with 1 method)"
      ]
     },
     "execution_count": 1,
     "metadata": {},
     "output_type": "execute_result"
    }
   ],
   "source": [
    "using Printf, Distributions\n",
    "\n",
    "include(\"jlFiles/printmat.jl\")"
   ]
  },
  {
   "cell_type": "code",
   "execution_count": 2,
   "metadata": {},
   "outputs": [],
   "source": [
    "using Plots\n",
    "\n",
    "#pyplot(size=(600,400))\n",
    "gr(size=(480,320))\n",
    "default(fmt = :png)"
   ]
  },
  {
   "cell_type": "markdown",
   "metadata": {},
   "source": [
    "# A First-Order Approximation of the Option Price Change"
   ]
  },
  {
   "cell_type": "markdown",
   "metadata": {},
   "source": [
    "\"Delta hedging\" is based on the idea that we can approximate the change in the option price by \n",
    "\n",
    "$C_{t+h}-C_{t}\\approx \\Delta_t \\left(  S_{t+h}-S_{t}\\right)$,\n",
    "\n",
    "where $\\Delta_t$ is the derivative of the call option price wrt. the underlying asset price. (It does *not* indicate a first difference.)\n",
    "\n",
    "In the Black-Scholes model, the delta of a call option is\n",
    "\n",
    "$\\Delta=\\frac{\\partial C}{\\partial S}=e^{-\\delta m}\\Phi\\left(  d_{1}\\right),$ \n",
    "\n",
    "where $d_1$ is the usual term in Black-Scholes. \n",
    "\n",
    "Similarly, the delta of a put option is \n",
    "\n",
    "$\\frac{\\partial P}{\\partial S}=e^{-\\delta m}[\\Phi\\left(  d_{1}\\right)-1]$.\n",
    "\n",
    "The file included in the next cell contains the functions `Φ()` and `OptionBlackSPs()` from the chapter on the Black-Scholes model. \n",
    "\n",
    "The subsequent cell defines a function for the $\\Delta$ of the Black-Scholes model."
   ]
  },
  {
   "cell_type": "code",
   "execution_count": 3,
   "metadata": {},
   "outputs": [
    {
     "data": {
      "text/plain": [
       "OptionBlackSPs"
      ]
     },
     "execution_count": 3,
     "metadata": {},
     "output_type": "execute_result"
    }
   ],
   "source": [
    "include(\"jlFiles/OptionsCalculations.jl\")"
   ]
  },
  {
   "cell_type": "code",
   "execution_count": 4,
   "metadata": {},
   "outputs": [
    {
     "data": {
      "text/plain": [
       "OptionDelta"
      ]
     },
     "execution_count": 4,
     "metadata": {},
     "output_type": "execute_result"
    }
   ],
   "source": [
    "\"\"\"\n",
    "Calculate the Black-Scholes delta\n",
    "\"\"\"\n",
    "function OptionDelta(S,K,m,y,σ,δ=0;isPut=false)\n",
    "    d1 = ( log(S/K) + (y-δ+0.5*σ^2)*m ) / (σ*sqrt(m))\n",
    "    d2 = d1 - σ*sqrt(m)\n",
    "    if isPut\n",
    "        Δ = exp(-δ*m)*(Φ(d1)-1)\n",
    "    else\n",
    "        Δ = exp(-δ*m)*Φ(d1)\n",
    "    end\n",
    "    return Δ\n",
    "end"
   ]
  },
  {
   "cell_type": "code",
   "execution_count": 5,
   "metadata": {},
   "outputs": [
    {
     "name": "stdout",
     "output_type": "stream",
     "text": [
      "\u001b[34m\u001b[1mΔ:\u001b[22m\u001b[39m\n",
      "\n",
      "        call         put  difference\n",
      "       0.598      -0.402       1.000\n",
      "\n"
     ]
    }
   ],
   "source": [
    "(S,K,m,y,σ) = (42,42,0.5,0.05,0.2)\n",
    "\n",
    "Δ_c = OptionDelta(S,K,m,y,σ)               #call\n",
    "Δ_p = OptionDelta(S,K,m,y,σ,0;isPut=true)  #put\n",
    "\n",
    "printblue(\"Δ:\\n\")\n",
    "printmat([Δ_c Δ_p (Δ_c-Δ_p)],colNames=[\"call\",\"put\",\"difference\"],width=12)"
   ]
  },
  {
   "cell_type": "code",
   "execution_count": 6,
   "metadata": {},
   "outputs": [
    {
     "data": {
      "image/png": "[encoded data removed]"
     },
     "metadata": {},
     "output_type": "display_data"
    }
   ],
   "source": [
    "S_range     = 30:60          #different spot prices\n",
    "Δ_c_S_range = OptionDelta.(S_range,K,m,y,σ)\n",
    "\n",
    "p1 = plot( S_range,Δ_c_S_range,\n",
    "           linecolor = :red,\n",
    "           legend = false,\n",
    "           title = \"Black-Scholes call option delta\",\n",
    "           xlabel = \"current asset price\",\n",
    "           ylabel = \"Δ\" )\n",
    "display(p1)"
   ]
  },
  {
   "cell_type": "markdown",
   "metadata": {},
   "source": [
    "# Hedging an Option\n",
    "\n",
    "The example below shows how delta hedging works for a European call option when the price of the underlying asset changes (from 42 on day 0 to 43 on day 1). For simplicity, we assume that the Black-Scholes model is a good description of how the option price is set."
   ]
  },
  {
   "cell_type": "code",
   "execution_count": 7,
   "metadata": {},
   "outputs": [
    {
     "name": "stdout",
     "output_type": "stream",
     "text": [
      "S₀    42.000\n",
      "Δ₀     0.598\n",
      "C₀     2.893\n",
      "M₀   -22.212\n",
      "S₁    43.000\n",
      "C₁     3.509\n",
      "dC     0.616\n",
      "dV    -0.018\n",
      "\n",
      "\n",
      "\u001b[31m\u001b[1mV changes much less in value than the option (abs(dV) < abs(dC)): \u001b[22m\u001b[39m\n",
      "\u001b[31m\u001b[1mthe hedge helps\u001b[22m\u001b[39m\n"
     ]
    }
   ],
   "source": [
    "(S₀,S₁,K,m,y,σ) = (42,43,42,0.5,0.05,0.2)\n",
    "\n",
    "C₀ = OptionBlackSPs(S₀,K,m,y,σ)   #option price at S₀\n",
    "Δ₀ = OptionDelta(S₀,K,m,y,σ)      #Delta at S₀\n",
    "M₀ = C₀ - Δ₀*S₀                   #on money market account\n",
    "\n",
    "C₁ = OptionBlackSPs(S₁,K,m-1/252,y,σ)   #option price at S₁ (it's one day later) \n",
    "dC = C₁ - C₀                            #change of option value\n",
    "dV = Δ₀*(S₁-S₀) - (C₁-C₀)               #change of hedge portfolio value\n",
    "\n",
    "xy = [S₀,Δ₀,C₀,M₀,S₁,C₁,dC,dV]\n",
    "printmat(xy,rowNames=[\"S₀\",\"Δ₀\",\"C₀\",\"M₀\",\"S₁\",\"C₁\",\"dC\",\"dV\"])\n",
    "\n",
    "printred(\"\\nV changes much less in value than the option (abs(dV) < abs(dC)): \n",
    "the hedge helps\")"
   ]
  },
  {
   "cell_type": "markdown",
   "metadata": {},
   "source": [
    "## Hedging an Option Portfolio\n",
    "\n",
    "In this case, we have issued $nc$ call options and $np$ put options with strike $K$ and want to know how many units of the underlying asset that we need  in order to be hedged.\n",
    "\n",
    "The example uses `(nc,np) = (3,-2)`. Change to `(1,1.5)` to see what happens. (Maybe the hedge does not work so well in this case...although that is not evaluated here.)"
   ]
  },
  {
   "cell_type": "code",
   "execution_count": 8,
   "metadata": {},
   "outputs": [
    {
     "name": "stdout",
     "output_type": "stream",
     "text": [
      "Δ of call                 0.598\n",
      "Δ of put                 -0.402\n",
      "Δ of option portfolio     2.598\n",
      "\n",
      "\u001b[31m\u001b[1mWe need to buy 2.598 units of the underlying\u001b[22m\u001b[39m\n"
     ]
    }
   ],
   "source": [
    "(S₀,K,m,y,σ) = (42,42,0.5,0.05,0.2)\n",
    "\n",
    "(nc,np) = (3,-2)\n",
    "#(nc,np) = (1,1.5)\n",
    "\n",
    "Δ_call = OptionDelta.(S₀,K,m,y,σ)               #Delta of call option\n",
    "Δ_put  = OptionDelta.(S₀,K,m,y,σ,0;isPut=true)  #Delta of put option\n",
    "Δ      = nc*Δ_call + np*Δ_put\n",
    "\n",
    "xy = [Δ_call,Δ_put,Δ]\n",
    "printmat(xy,rowNames=[\"Δ of call\",\"Δ of put\",\"Δ of option portfolio\"])\n",
    "\n",
    "printred(\"We need to buy $(round(Δ,digits=3)) units of the underlying\")"
   ]
  },
  {
   "cell_type": "code",
   "execution_count": null,
   "metadata": {},
   "outputs": [],
   "source": []
  }
 ],
 "metadata": {
  "@webio": {
   "lastCommId": null,
   "lastKernelId": null
  },
  "anaconda-cloud": {},
  "kernelspec": {
   "display_name": "Julia 1.8.0",
   "language": "julia",
   "name": "julia-1.8"
  },
  "language_info": {
   "file_extension": ".jl",
   "mimetype": "application/julia",
   "name": "julia",
   "version": "1.8.0"
  }
 },
 "nbformat": 4,
 "nbformat_minor": 4
}
