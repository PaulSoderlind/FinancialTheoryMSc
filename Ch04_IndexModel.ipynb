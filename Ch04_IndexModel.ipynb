{
 "cells": [
  {
   "cell_type": "markdown",
   "metadata": {},
   "source": [
    "# Index Models\n",
    "\n",
    "This notebook estimates (single and multi-) index models. It also evaluates how good these models are at capturing the covariances of different assets."
   ]
  },
  {
   "cell_type": "markdown",
   "metadata": {},
   "source": [
    "## Load Packages and Extra Functions"
   ]
  },
  {
   "cell_type": "code",
   "execution_count": 1,
   "metadata": {},
   "outputs": [
    {
     "data": {
      "text/plain": [
       "OlsGMFn"
      ]
     },
     "execution_count": 1,
     "metadata": {},
     "output_type": "execute_result"
    }
   ],
   "source": [
    "using Dates, LinearAlgebra, Statistics, DelimitedFiles\n",
    "\n",
    "include(\"jlFiles/printmat.jl\")\n",
    "include(\"jlFiles/OlsGMFn.jl\")           #function for OLS"
   ]
  },
  {
   "cell_type": "markdown",
   "metadata": {},
   "source": [
    "# The Theory: A Covariance Matrix from Betas"
   ]
  },
  {
   "cell_type": "markdown",
   "metadata": {},
   "source": [
    "The single index model implies that the covariance of assets $i$ and $j$ is\n",
    "\n",
    "$\\sigma_{ij} = \\beta_i \\beta_j \\text{Var}(R_{mt}) + \\text{Cov}(\\varepsilon_{it},\\varepsilon_{jt}),$\n",
    "but where $\\text{Cov}(\\varepsilon_{it},\\varepsilon_{jt}) = 0 \\ \\text{ if } \\ i \\neq j$\n",
    "\n",
    "The betas are typically estimated by a linear regression (OLS)\n",
    "\n",
    "$R_{it} = \\alpha_i + \\beta_i R_{mt} + \\varepsilon_{it}$\n",
    "\n",
    "The function defined below handle this case as well as the more general case (discussed further below) with more right hand side variables (indices/factors),"
   ]
  },
  {
   "cell_type": "code",
   "execution_count": 2,
   "metadata": {},
   "outputs": [
    {
     "name": "stdout",
     "output_type": "stream",
     "text": [
      "\u001b[34m\u001b[1mβ:\u001b[22m\u001b[39m\n",
      "     0.900     1.100\n",
      "\n",
      "\u001b[34m\u001b[1mVarRm*100^2:\u001b[22m\u001b[39m\n",
      "   225.000\n",
      "\n",
      "\u001b[34m\u001b[1mVar(residuals)*100^2:\u001b[22m\u001b[39m\n",
      "   100.000    25.000\n",
      "\n"
     ]
    }
   ],
   "source": [
    "β      = [0.9 1.1]            #βs of the two assets, row vector\n",
    "VarRes = ([10 5]/100).^2      #var(ϵ) for the two assets, row vector\n",
    "VarRm  = 0.15^2               #var(market return)\n",
    "\n",
    "printblue(\"β:\")\n",
    "printmat(β)\n",
    "printblue(\"VarRm*100^2:\")\n",
    "printmat(VarRm*100^2)\n",
    "printblue(\"Var(residuals)*100^2:\")\n",
    "printmat(VarRes*100^2)"
   ]
  },
  {
   "cell_type": "code",
   "execution_count": 3,
   "metadata": {},
   "outputs": [
    {
     "name": "stdout",
     "output_type": "stream",
     "text": [
      "\u001b[34m\u001b[1mCovariance matrix*100^2 calculated from betas:\u001b[22m\u001b[39m\n",
      "   282.250   222.750\n",
      "   222.750   297.250\n",
      "\n"
     ]
    }
   ],
   "source": [
    "\"\"\"\n",
    "    CovFromIndexModel(b,VarRes,Ω)\n",
    "\n",
    "Calculate covariance matrix from a multi-factor model.\n",
    "\n",
    "Cov(Ri,Rj) = bᵢ'*Ω*bⱼ, where Ω is the Cov(indices) and bᵢ is the vector of regression\n",
    "coefficients when regressing Ri on a constant and the indices (and bⱼ is for asset j).\n",
    "\"\"\"\n",
    "function CovFromIndexModel(b,VarRes,Ω)    #coefs for regression i is in b[:,i]\n",
    "    n    = length(VarRes)\n",
    "    CovR = fill(NaN,(n,n))\n",
    "    for i = 1:n, j = 1:n         #loop over both i and j\n",
    "        if i == j\n",
    "            CovR[i,i] = b[:,i]'Ω*b[:,i] + VarRes[i]\n",
    "        else\n",
    "            CovR[i,j] = b[:,i]'Ω*b[:,j]\n",
    "        end\n",
    "    end\n",
    "    return CovR\n",
    "end\n",
    "\n",
    "CovR = CovFromIndexModel(β,VarRes,VarRm)    #notice: use β' to get 1xn matrix\n",
    "printblue(\"Covariance matrix*100^2 calculated from betas:\")\n",
    "printmat(CovR*100^2)"
   ]
  },
  {
   "cell_type": "markdown",
   "metadata": {},
   "source": [
    "# Estimating a Single-Index Model on Data"
   ]
  },
  {
   "cell_type": "markdown",
   "metadata": {},
   "source": [
    "The next section applies the single index model on 5 of the (25) FF portfolios."
   ]
  },
  {
   "cell_type": "markdown",
   "metadata": {},
   "source": [
    "## Loading Data"
   ]
  },
  {
   "cell_type": "code",
   "execution_count": 4,
   "metadata": {},
   "outputs": [
    {
     "data": {
      "text/plain": [
       "(388, 5)"
      ]
     },
     "execution_count": 4,
     "metadata": {},
     "output_type": "execute_result"
    }
   ],
   "source": [
    "x    = readdlm(\"Data/FFmFactorsPs.csv\",',',skipstart=1)\n",
    "Rme  = x[:,2]                #market excess return\n",
    "RSMB = x[:,3]                #small minus big firms\n",
    "RHML = x[:,4]                #high minus low book-to-market ratio\n",
    "Rf   = x[:,5]                #interest rate\n",
    "\n",
    "\n",
    "x  = readdlm(\"Data/FF25Ps.csv\",',') #no header line: x is matrix\n",
    "R  = x[:,2:end]                     #returns for 25 FF portfolios\n",
    "Re = R .- Rf                        #excess returns for the 25 FF portfolios\n",
    "Re = Re[:,[1,7,13,19,25]]           #use just 5 assets to make the printing easier \n",
    "\n",
    "(T,n) = size(Re)                    #no. obs and  no. test assets"
   ]
  },
  {
   "cell_type": "markdown",
   "metadata": {},
   "source": [
    "## Regressions"
   ]
  },
  {
   "cell_type": "code",
   "execution_count": 5,
   "metadata": {},
   "outputs": [
    {
     "name": "stdout",
     "output_type": "stream",
     "text": [
      "\u001b[34m\u001b[1mβ for 5 assets, from OLS of Re on constant and Rme:\u001b[22m\u001b[39m\n",
      "           asset 1   asset 2   asset 3   asset 4   asset 5\n",
      "β on Rme     1.341     1.169     0.994     0.943     0.849\n",
      "\n"
     ]
    }
   ],
   "source": [
    "x          = [ones(T) Rme]                   #regressors\n",
    "(β,VarRes) = (fill(NaN,1,n),fill(NaN,n))\n",
    "for i = 1:n\n",
    "    #local b_i, ϵ_i                      #only needed in script\n",
    "    (b_i,ϵ_i,_) = OlsGMFn(Re[:,i],x)     #OLS\n",
    "    β[1,i]      = b_i[2]                 #2nd coef is for Rme\n",
    "    VarRes[i]   = var(ϵ_i)\n",
    "end\n",
    "\n",
    "colNames = [string(\"asset \",i) for i=1:n]\n",
    "printblue(\"β for $n assets, from OLS of Re on constant and Rme:\")\n",
    "printTable(β,colNames,[\"β on Rme\"],)"
   ]
  },
  {
   "cell_type": "markdown",
   "metadata": {},
   "source": [
    "## Using OLS Estimates to Calculate the Covariance Matrix"
   ]
  },
  {
   "cell_type": "code",
   "execution_count": 6,
   "metadata": {},
   "outputs": [
    {
     "name": "stdout",
     "output_type": "stream",
     "text": [
      "\u001b[34m\u001b[1mCovariance matrix calculated from betas:\u001b[22m\u001b[39m\n",
      "    73.475    33.232    28.269    26.797    24.146\n",
      "    33.232    37.371    24.644    23.361    21.049\n",
      "    28.269    24.644    26.796    19.872    17.906\n",
      "    26.797    23.361    19.872    25.200    16.973\n",
      "    24.146    21.049    17.906    16.973    25.335\n",
      "\n",
      "\u001b[34m\u001b[1mCovariance matrix calculated from data:\u001b[22m\u001b[39m\n",
      "    73.475    43.024    29.472    25.013    20.188\n",
      "    43.024    37.371    29.072    25.136    21.407\n",
      "    29.472    29.072    26.796    23.632    20.981\n",
      "    25.013    25.136    23.632    25.200    21.533\n",
      "    20.188    21.407    20.981    21.533    25.335\n",
      "\n",
      "\u001b[34m\u001b[1mDifference between the two:\u001b[22m\u001b[39m\n",
      "     0.000    -9.791    -1.202     1.784     3.958\n",
      "    -9.791    -0.000    -4.428    -1.775    -0.357\n",
      "    -1.202    -4.428     0.000    -3.760    -3.075\n",
      "     1.784    -1.775    -3.760     0.000    -4.560\n",
      "     3.958    -0.357    -3.075    -4.560     0.000\n",
      "\n"
     ]
    }
   ],
   "source": [
    "VarRm = var(Rme)\n",
    "CovR  = CovFromIndexModel(β,VarRes,VarRm)\n",
    "\n",
    "printblue(\"Covariance matrix calculated from betas:\")\n",
    "printmat(CovR)\n",
    "\n",
    "printblue(\"Covariance matrix calculated from data:\")\n",
    "printmat(cov(Re))\n",
    "\n",
    "printblue(\"Difference between the two:\")\n",
    "printmat(CovR-cov(Re))"
   ]
  },
  {
   "cell_type": "markdown",
   "metadata": {},
   "source": [
    "# A Multi-Index Model"
   ]
  },
  {
   "cell_type": "markdown",
   "metadata": {},
   "source": [
    "A multi-index model is based on \n",
    "\n",
    "$R_{it} =a_{i}+b_{i}^{\\prime}I_{t}+\\varepsilon_{it}$,\n",
    "\n",
    "where $b_{i}$ is a $K\\times 1$ vector of slope coefficients.\n",
    "\n",
    "If $\\Omega$ is the covariance matrix of the indices $I_t$, then the covariance of\n",
    "assets $i$ and $j$ is\n",
    "\n",
    "$\\sigma_{ij}=b_{i}^{\\prime}\\Omega b_{j}  + \\text{Cov}(\\varepsilon_{it},\\varepsilon_{jt}),$\n",
    "but where $\\text{Cov}(\\varepsilon_{it},\\varepsilon_{jt}) = 0 \\ \\text{ if } \\ i \\neq j$"
   ]
  },
  {
   "cell_type": "code",
   "execution_count": 7,
   "metadata": {},
   "outputs": [
    {
     "name": "stdout",
     "output_type": "stream",
     "text": [
      "\u001b[34m\u001b[1mOLS slope coefficients:\u001b[22m\u001b[39m\n",
      "            asset 1   asset 2   asset 3   asset 4   asset 5\n",
      "β on Rme      1.070     1.080     1.035     1.056     1.041\n",
      "β on RSMB     1.264     0.768     0.437     0.153    -0.088\n",
      "β on RHML    -0.278     0.160     0.487     0.603     0.770\n",
      "\n"
     ]
    }
   ],
   "source": [
    "x          = [ones(T) Rme RSMB RHML]               #regressors\n",
    "K          = size(x,2) - 1 \n",
    "(b,VarRes) = (fill(NaN,(K,n)),fill(NaN,n))         #b is Kxn\n",
    "for i = 1:n\n",
    "    #local b_i,ϵ_i                       #only needed in script\n",
    "    (b_i,ϵ_i,_) = OlsGMFn(Re[:,i],x)     #OLS\n",
    "    b[:,i]      = b_i[2:end]\n",
    "    VarRes[i]   = var(ϵ_i)\n",
    "end\n",
    "\n",
    "printblue(\"OLS slope coefficients:\")\n",
    "printTable(b,colNames,[\"β on Rme\", \"β on RSMB\", \"β on RHML\"])"
   ]
  },
  {
   "cell_type": "code",
   "execution_count": 8,
   "metadata": {},
   "outputs": [
    {
     "name": "stdout",
     "output_type": "stream",
     "text": [
      "\u001b[34m\u001b[1mCovariance matrix calculated from betas:\u001b[22m\u001b[39m\n",
      "    73.475    41.847    31.050    25.449    18.940\n",
      "    41.847    37.371    27.384    24.141    20.145\n",
      "    31.050    27.384    26.796    22.239    20.109\n",
      "    25.449    24.141    22.239    25.200    20.717\n",
      "    18.940    20.145    20.109    20.717    25.335\n",
      "\n",
      "\u001b[34m\u001b[1mCovariance matrix calculated from data:\u001b[22m\u001b[39m\n",
      "    73.475    43.024    29.472    25.013    20.188\n",
      "    43.024    37.371    29.072    25.136    21.407\n",
      "    29.472    29.072    26.796    23.632    20.981\n",
      "    25.013    25.136    23.632    25.200    21.533\n",
      "    20.188    21.407    20.981    21.533    25.335\n",
      "\n",
      "\u001b[34m\u001b[1mDifference between the two:\u001b[22m\u001b[39m\n",
      "    -0.000    -1.176     1.578     0.436    -1.248\n",
      "    -1.176    -0.000    -1.688    -0.995    -1.261\n",
      "     1.578    -1.688     0.000    -1.393    -0.873\n",
      "     0.436    -0.995    -1.393     0.000    -0.816\n",
      "    -1.248    -1.261    -0.873    -0.816     0.000\n",
      "\n",
      "\u001b[31m\u001b[1mIs the multi-index model better than the single-index model?\u001b[22m\u001b[39m\n"
     ]
    }
   ],
   "source": [
    "Ω = cov(x[:,2:end])      #covariance matrix of the (non-constant) factors\n",
    "\n",
    "CovR = CovFromIndexModel(b,VarRes,Ω)\n",
    "\n",
    "printblue(\"Covariance matrix calculated from betas:\")\n",
    "printmat(CovR)\n",
    "\n",
    "printblue(\"Covariance matrix calculated from data:\")\n",
    "printmat(cov(Re))\n",
    "\n",
    "printblue(\"Difference between the two:\")\n",
    "printmat(CovR-cov(Re))\n",
    "\n",
    "printred(\"Is the multi-index model better than the single-index model?\")"
   ]
  },
  {
   "cell_type": "code",
   "execution_count": null,
   "metadata": {},
   "outputs": [],
   "source": []
  }
 ],
 "metadata": {
  "@webio": {
   "lastCommId": null,
   "lastKernelId": null
  },
  "anaconda-cloud": {},
  "kernelspec": {
   "display_name": "Julia 1.5.3",
   "language": "julia",
   "name": "julia-1.5"
  },
  "language_info": {
   "file_extension": ".jl",
   "mimetype": "application/julia",
   "name": "julia",
   "version": "1.5.3"
  }
 },
 "nbformat": 4,
 "nbformat_minor": 1
}
